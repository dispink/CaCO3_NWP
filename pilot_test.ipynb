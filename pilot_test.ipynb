{
 "cells": [
  {
   "cell_type": "code",
   "execution_count": 2,
   "source": [
    "import numpy as np \n",
    "import pandas as pd\n",
    "import glob\n",
    "import matplotlib as mpl\n",
    "import matplotlib.pyplot as plt\n",
    "\n",
    "#plt.style.use('ggplot')\n",
    "plt.style.use('seaborn-colorblind')\n",
    "plt.style.use('dark_background')\n",
    "#mpl.rcParams['xtick.labelsize'] = 8\n",
    "\n",
    "plt.rcParams['axes.facecolor'] = '333333'\n",
    "plt.rcParams['figure.dpi'] = 300\n",
    "plt.rcParams['savefig.dpi'] = 300\n",
    "plt.rcParams['savefig.bbox'] = 'tight'\n",
    "plt.rcParams[\"savefig.facecolor\"] = '333333'\n",
    "\n",
    "%matplotlib inline\n",
    "\n",
    "import datetime\n",
    "date = datetime.datetime.now().strftime('%Y%m%d')"
   ],
   "outputs": [],
   "metadata": {}
  },
  {
   "cell_type": "markdown",
   "source": [
    "# Read and build spectral dataset"
   ],
   "metadata": {}
  },
  {
   "cell_type": "code",
   "execution_count": 2,
   "source": [
    "spe_dir = glob.glob('data/SO264-15-2/Run 1 at  10kV/*.spe')"
   ],
   "outputs": [],
   "metadata": {}
  },
  {
   "cell_type": "code",
   "execution_count": 3,
   "source": [
    "spe_all = []\n",
    "depth_all = []\n",
    "cps_all = []\n",
    "file_name = []\n",
    "\n",
    "for spe in spe_dir:\n",
    "    start_depth = int(spe.split()[3].split('_')[-1])\n",
    "    file_name.append(spe.split('/')[-1])\n",
    "    with open(spe, 'r') as f:\n",
    "        content = []\n",
    "        lines = f.readlines()\n",
    "        for line in lines[49:]:\n",
    "            content = np.hstack((content, line.split()))\n",
    "\n",
    "        spe_all.append(content.astype(int))\n",
    "        # the depth read from the xrf depth is in mm, but the composite depth is in cm\n",
    "        # also I check the depth is always starts from 0.0 and in 10.0 mm resulotion\n",
    "        # so I use this trick to make it to cm  e.g. '1000.0\\n'\n",
    "        depth_all.append(int(lines[13][:-4]) + start_depth)\n",
    "        cps_all.append(int(lines[28]))"
   ],
   "outputs": [],
   "metadata": {}
  },
  {
   "cell_type": "code",
   "execution_count": 4,
   "source": [
    "# just to check if all depth can be store in integer\n",
    "np.where((np.array(depth_all).round() == depth_all) == False)\n",
    "# the answer is positive so I use a trick to store them in integer to save space"
   ],
   "outputs": [
    {
     "output_type": "execute_result",
     "data": {
      "text/plain": [
       "(array([], dtype=int64),)"
      ]
     },
     "metadata": {},
     "execution_count": 4
    }
   ],
   "metadata": {}
  },
  {
   "cell_type": "code",
   "execution_count": 5,
   "source": [
    "data_df = pd.DataFrame(spe_all)\n",
    "data_df['composite_depth_cm'] = depth_all\n",
    "data_df['cps'] = cps_all\n",
    "data_df['file_name'] = file_name\n",
    "data_df.head()"
   ],
   "outputs": [
    {
     "output_type": "execute_result",
     "data": {
      "text/plain": [
       "   0  1  2  3  4  5  6  7  8  9  ...  2041  2042  2043  2044  2045  2046  \\\n",
       "0  0  0  0  0  0  0  0  0  0  0  ...     0     0     0     0     0     0   \n",
       "1  0  0  0  0  0  0  0  0  0  0  ...     0     0     0     0     0     0   \n",
       "2  0  0  0  0  0  0  0  0  0  0  ...     0     0     0     0     0     0   \n",
       "3  0  0  0  0  0  0  0  0  0  0  ...     0     0     0     0     0     0   \n",
       "4  0  0  0  0  0  0  0  0  0  0  ...     0     0     0     0     0     0   \n",
       "\n",
       "   2047  composite_depth_cm     cps  \\\n",
       "0     0                 888  169212   \n",
       "1     0                1437   56052   \n",
       "2     0                  27  106123   \n",
       "3     0                 982  147405   \n",
       "4     0                1106  216119   \n",
       "\n",
       "                                           file_name  \n",
       "0  SO264-15-2_0848  400.0mm  10s  10kV 150uA No-F...  \n",
       "1  SO264-15-2_1348  890.0mm  10s  10kV 150uA No-F...  \n",
       "2  SO264-15-2_0000  270.0mm  10s  10kV 150uA No-F...  \n",
       "3  SO264-15-2_0948  340.0mm  10s  10kV 150uA No-F...  \n",
       "4  SO264-15-2_1048  580.0mm  10s  10kV 150uA No-F...  \n",
       "\n",
       "[5 rows x 2051 columns]"
      ],
      "text/html": [
       "<div>\n",
       "<style scoped>\n",
       "    .dataframe tbody tr th:only-of-type {\n",
       "        vertical-align: middle;\n",
       "    }\n",
       "\n",
       "    .dataframe tbody tr th {\n",
       "        vertical-align: top;\n",
       "    }\n",
       "\n",
       "    .dataframe thead th {\n",
       "        text-align: right;\n",
       "    }\n",
       "</style>\n",
       "<table border=\"1\" class=\"dataframe\">\n",
       "  <thead>\n",
       "    <tr style=\"text-align: right;\">\n",
       "      <th></th>\n",
       "      <th>0</th>\n",
       "      <th>1</th>\n",
       "      <th>2</th>\n",
       "      <th>3</th>\n",
       "      <th>4</th>\n",
       "      <th>5</th>\n",
       "      <th>6</th>\n",
       "      <th>7</th>\n",
       "      <th>8</th>\n",
       "      <th>9</th>\n",
       "      <th>...</th>\n",
       "      <th>2041</th>\n",
       "      <th>2042</th>\n",
       "      <th>2043</th>\n",
       "      <th>2044</th>\n",
       "      <th>2045</th>\n",
       "      <th>2046</th>\n",
       "      <th>2047</th>\n",
       "      <th>composite_depth_cm</th>\n",
       "      <th>cps</th>\n",
       "      <th>file_name</th>\n",
       "    </tr>\n",
       "  </thead>\n",
       "  <tbody>\n",
       "    <tr>\n",
       "      <th>0</th>\n",
       "      <td>0</td>\n",
       "      <td>0</td>\n",
       "      <td>0</td>\n",
       "      <td>0</td>\n",
       "      <td>0</td>\n",
       "      <td>0</td>\n",
       "      <td>0</td>\n",
       "      <td>0</td>\n",
       "      <td>0</td>\n",
       "      <td>0</td>\n",
       "      <td>...</td>\n",
       "      <td>0</td>\n",
       "      <td>0</td>\n",
       "      <td>0</td>\n",
       "      <td>0</td>\n",
       "      <td>0</td>\n",
       "      <td>0</td>\n",
       "      <td>0</td>\n",
       "      <td>888</td>\n",
       "      <td>169212</td>\n",
       "      <td>SO264-15-2_0848  400.0mm  10s  10kV 150uA No-F...</td>\n",
       "    </tr>\n",
       "    <tr>\n",
       "      <th>1</th>\n",
       "      <td>0</td>\n",
       "      <td>0</td>\n",
       "      <td>0</td>\n",
       "      <td>0</td>\n",
       "      <td>0</td>\n",
       "      <td>0</td>\n",
       "      <td>0</td>\n",
       "      <td>0</td>\n",
       "      <td>0</td>\n",
       "      <td>0</td>\n",
       "      <td>...</td>\n",
       "      <td>0</td>\n",
       "      <td>0</td>\n",
       "      <td>0</td>\n",
       "      <td>0</td>\n",
       "      <td>0</td>\n",
       "      <td>0</td>\n",
       "      <td>0</td>\n",
       "      <td>1437</td>\n",
       "      <td>56052</td>\n",
       "      <td>SO264-15-2_1348  890.0mm  10s  10kV 150uA No-F...</td>\n",
       "    </tr>\n",
       "    <tr>\n",
       "      <th>2</th>\n",
       "      <td>0</td>\n",
       "      <td>0</td>\n",
       "      <td>0</td>\n",
       "      <td>0</td>\n",
       "      <td>0</td>\n",
       "      <td>0</td>\n",
       "      <td>0</td>\n",
       "      <td>0</td>\n",
       "      <td>0</td>\n",
       "      <td>0</td>\n",
       "      <td>...</td>\n",
       "      <td>0</td>\n",
       "      <td>0</td>\n",
       "      <td>0</td>\n",
       "      <td>0</td>\n",
       "      <td>0</td>\n",
       "      <td>0</td>\n",
       "      <td>0</td>\n",
       "      <td>27</td>\n",
       "      <td>106123</td>\n",
       "      <td>SO264-15-2_0000  270.0mm  10s  10kV 150uA No-F...</td>\n",
       "    </tr>\n",
       "    <tr>\n",
       "      <th>3</th>\n",
       "      <td>0</td>\n",
       "      <td>0</td>\n",
       "      <td>0</td>\n",
       "      <td>0</td>\n",
       "      <td>0</td>\n",
       "      <td>0</td>\n",
       "      <td>0</td>\n",
       "      <td>0</td>\n",
       "      <td>0</td>\n",
       "      <td>0</td>\n",
       "      <td>...</td>\n",
       "      <td>0</td>\n",
       "      <td>0</td>\n",
       "      <td>0</td>\n",
       "      <td>0</td>\n",
       "      <td>0</td>\n",
       "      <td>0</td>\n",
       "      <td>0</td>\n",
       "      <td>982</td>\n",
       "      <td>147405</td>\n",
       "      <td>SO264-15-2_0948  340.0mm  10s  10kV 150uA No-F...</td>\n",
       "    </tr>\n",
       "    <tr>\n",
       "      <th>4</th>\n",
       "      <td>0</td>\n",
       "      <td>0</td>\n",
       "      <td>0</td>\n",
       "      <td>0</td>\n",
       "      <td>0</td>\n",
       "      <td>0</td>\n",
       "      <td>0</td>\n",
       "      <td>0</td>\n",
       "      <td>0</td>\n",
       "      <td>0</td>\n",
       "      <td>...</td>\n",
       "      <td>0</td>\n",
       "      <td>0</td>\n",
       "      <td>0</td>\n",
       "      <td>0</td>\n",
       "      <td>0</td>\n",
       "      <td>0</td>\n",
       "      <td>0</td>\n",
       "      <td>1106</td>\n",
       "      <td>216119</td>\n",
       "      <td>SO264-15-2_1048  580.0mm  10s  10kV 150uA No-F...</td>\n",
       "    </tr>\n",
       "  </tbody>\n",
       "</table>\n",
       "<p>5 rows × 2051 columns</p>\n",
       "</div>"
      ]
     },
     "metadata": {},
     "execution_count": 5
    }
   ],
   "metadata": {}
  },
  {
   "cell_type": "code",
   "execution_count": 6,
   "source": [
    "data_df.shape"
   ],
   "outputs": [
    {
     "output_type": "execute_result",
     "data": {
      "text/plain": [
       "(1442, 2051)"
      ]
     },
     "metadata": {},
     "execution_count": 6
    }
   ],
   "metadata": {}
  },
  {
   "cell_type": "markdown",
   "source": [
    "## Check duplicates"
   ],
   "metadata": {}
  },
  {
   "cell_type": "code",
   "execution_count": 7,
   "source": [
    "data_df.loc[data_df.composite_depth_cm.duplicated(keep = False), ['file_name', 'composite_depth_cm']].to_csv('results/duplicates.csv')"
   ],
   "outputs": [],
   "metadata": {}
  },
  {
   "cell_type": "code",
   "execution_count": 8,
   "source": [
    "data_df.loc[data_df.composite_depth_cm.duplicated(), ['file_name', 'composite_depth_cm']]"
   ],
   "outputs": [
    {
     "output_type": "execute_result",
     "data": {
      "text/plain": [
       "                                              file_name  composite_depth_cm\n",
       "193   SO264-15-2_048   20.0mm  10s  10kV 150uA No-Fi...                  50\n",
       "363   SO264-15-2_048  330.0mm  10s  10kV 150uA No-Fi...                  81\n",
       "372   SO264-15-2_0048  100.0mm  10s  10kV 150uA No-F...                  58\n",
       "373   SO264-15-2_0048   60.0mm  10s  10kV 150uA No-F...                  54\n",
       "396   SO264-15-2_048  220.0mm  10s  10kV 150uA No-Fi...                  70\n",
       "...                                                 ...                 ...\n",
       "1401  SO264-15-2_0048  200.0mm  10s  10kV 150uA No-F...                  68\n",
       "1409  SO264-15-2_048  210.0mm  10s  10kV 150uA No-Fi...                  69\n",
       "1425  SO264-15-2_0048   50.0mm  10s  10kV 150uA No-F...                  53\n",
       "1426  SO264-15-2_0048  130.0mm  10s  10kV 150uA No-F...                  61\n",
       "1440  SO264-15-2_048  300.0mm  10s  10kV 150uA No-Fi...                  78\n",
       "\n",
       "[102 rows x 2 columns]"
      ],
      "text/html": [
       "<div>\n",
       "<style scoped>\n",
       "    .dataframe tbody tr th:only-of-type {\n",
       "        vertical-align: middle;\n",
       "    }\n",
       "\n",
       "    .dataframe tbody tr th {\n",
       "        vertical-align: top;\n",
       "    }\n",
       "\n",
       "    .dataframe thead th {\n",
       "        text-align: right;\n",
       "    }\n",
       "</style>\n",
       "<table border=\"1\" class=\"dataframe\">\n",
       "  <thead>\n",
       "    <tr style=\"text-align: right;\">\n",
       "      <th></th>\n",
       "      <th>file_name</th>\n",
       "      <th>composite_depth_cm</th>\n",
       "    </tr>\n",
       "  </thead>\n",
       "  <tbody>\n",
       "    <tr>\n",
       "      <th>193</th>\n",
       "      <td>SO264-15-2_048   20.0mm  10s  10kV 150uA No-Fi...</td>\n",
       "      <td>50</td>\n",
       "    </tr>\n",
       "    <tr>\n",
       "      <th>363</th>\n",
       "      <td>SO264-15-2_048  330.0mm  10s  10kV 150uA No-Fi...</td>\n",
       "      <td>81</td>\n",
       "    </tr>\n",
       "    <tr>\n",
       "      <th>372</th>\n",
       "      <td>SO264-15-2_0048  100.0mm  10s  10kV 150uA No-F...</td>\n",
       "      <td>58</td>\n",
       "    </tr>\n",
       "    <tr>\n",
       "      <th>373</th>\n",
       "      <td>SO264-15-2_0048   60.0mm  10s  10kV 150uA No-F...</td>\n",
       "      <td>54</td>\n",
       "    </tr>\n",
       "    <tr>\n",
       "      <th>396</th>\n",
       "      <td>SO264-15-2_048  220.0mm  10s  10kV 150uA No-Fi...</td>\n",
       "      <td>70</td>\n",
       "    </tr>\n",
       "    <tr>\n",
       "      <th>...</th>\n",
       "      <td>...</td>\n",
       "      <td>...</td>\n",
       "    </tr>\n",
       "    <tr>\n",
       "      <th>1401</th>\n",
       "      <td>SO264-15-2_0048  200.0mm  10s  10kV 150uA No-F...</td>\n",
       "      <td>68</td>\n",
       "    </tr>\n",
       "    <tr>\n",
       "      <th>1409</th>\n",
       "      <td>SO264-15-2_048  210.0mm  10s  10kV 150uA No-Fi...</td>\n",
       "      <td>69</td>\n",
       "    </tr>\n",
       "    <tr>\n",
       "      <th>1425</th>\n",
       "      <td>SO264-15-2_0048   50.0mm  10s  10kV 150uA No-F...</td>\n",
       "      <td>53</td>\n",
       "    </tr>\n",
       "    <tr>\n",
       "      <th>1426</th>\n",
       "      <td>SO264-15-2_0048  130.0mm  10s  10kV 150uA No-F...</td>\n",
       "      <td>61</td>\n",
       "    </tr>\n",
       "    <tr>\n",
       "      <th>1440</th>\n",
       "      <td>SO264-15-2_048  300.0mm  10s  10kV 150uA No-Fi...</td>\n",
       "      <td>78</td>\n",
       "    </tr>\n",
       "  </tbody>\n",
       "</table>\n",
       "<p>102 rows × 2 columns</p>\n",
       "</div>"
      ]
     },
     "metadata": {},
     "execution_count": 8
    }
   ],
   "metadata": {}
  },
  {
   "cell_type": "code",
   "execution_count": 9,
   "source": [
    "data_df.loc[data_df.composite_depth_cm == 50, ['file_name', 'composite_depth_cm']]"
   ],
   "outputs": [
    {
     "output_type": "execute_result",
     "data": {
      "text/plain": [
       "                                             file_name  composite_depth_cm\n",
       "118  SO264-15-2_0000  500.0mm  10s  10kV 150uA No-F...                  50\n",
       "193  SO264-15-2_048   20.0mm  10s  10kV 150uA No-Fi...                  50\n",
       "692  SO264-15-2_0048   20.0mm  10s  10kV 150uA No-F...                  50"
      ],
      "text/html": [
       "<div>\n",
       "<style scoped>\n",
       "    .dataframe tbody tr th:only-of-type {\n",
       "        vertical-align: middle;\n",
       "    }\n",
       "\n",
       "    .dataframe tbody tr th {\n",
       "        vertical-align: top;\n",
       "    }\n",
       "\n",
       "    .dataframe thead th {\n",
       "        text-align: right;\n",
       "    }\n",
       "</style>\n",
       "<table border=\"1\" class=\"dataframe\">\n",
       "  <thead>\n",
       "    <tr style=\"text-align: right;\">\n",
       "      <th></th>\n",
       "      <th>file_name</th>\n",
       "      <th>composite_depth_cm</th>\n",
       "    </tr>\n",
       "  </thead>\n",
       "  <tbody>\n",
       "    <tr>\n",
       "      <th>118</th>\n",
       "      <td>SO264-15-2_0000  500.0mm  10s  10kV 150uA No-F...</td>\n",
       "      <td>50</td>\n",
       "    </tr>\n",
       "    <tr>\n",
       "      <th>193</th>\n",
       "      <td>SO264-15-2_048   20.0mm  10s  10kV 150uA No-Fi...</td>\n",
       "      <td>50</td>\n",
       "    </tr>\n",
       "    <tr>\n",
       "      <th>692</th>\n",
       "      <td>SO264-15-2_0048   20.0mm  10s  10kV 150uA No-F...</td>\n",
       "      <td>50</td>\n",
       "    </tr>\n",
       "  </tbody>\n",
       "</table>\n",
       "</div>"
      ]
     },
     "metadata": {},
     "execution_count": 9
    }
   ],
   "metadata": {}
  },
  {
   "cell_type": "markdown",
   "source": [
    "It does have duplicates...I reckon it's caused by a mess duplicate scanning. I only preserve the first one (0048) because its naming is matched to others."
   ],
   "metadata": {}
  },
  {
   "cell_type": "code",
   "execution_count": 10,
   "source": [
    "clean_df = data_df[~data_df.composite_depth_cm.duplicated()]\n",
    "clean_df.shape"
   ],
   "outputs": [
    {
     "output_type": "execute_result",
     "data": {
      "text/plain": [
       "(1340, 2051)"
      ]
     },
     "metadata": {},
     "execution_count": 10
    }
   ],
   "metadata": {}
  },
  {
   "cell_type": "markdown",
   "source": [
    "## Export data"
   ],
   "metadata": {}
  },
  {
   "cell_type": "code",
   "execution_count": 11,
   "source": [
    "clean_df.to_csv('data/spe_SO264-15-2.csv')"
   ],
   "outputs": [],
   "metadata": {}
  },
  {
   "cell_type": "markdown",
   "source": [
    "# Merge with the bulk measurement by depth"
   ],
   "metadata": {}
  },
  {
   "cell_type": "code",
   "execution_count": 13,
   "source": [
    "#clean_df = pd.read_csv('data/spe_SO264-15-2.csv', index_col=0)\n",
    "print(clean_df.shape)\n",
    "print(clean_df.head())\n",
    "bulk_df = pd.read_excel('data/Bulk chem/SO264-15-2_bulk.xlsx', sheet_name = 'Sheet2')\n",
    "bulk_df.columns = ['mid_depth_cm', 'toc_percent', 'tc_percent', 'caco3_percent']\n",
    "print(bulk_df.shape)\n",
    "print(bulk_df.head())"
   ],
   "outputs": [
    {
     "output_type": "stream",
     "name": "stdout",
     "text": [
      "(1340, 2051)\n",
      "   0  1  2  3  4  5  6  7  8  9  ...  2041  2042  2043  2044  2045  2046  \\\n",
      "0  0  0  0  0  0  0  0  0  0  0  ...     0     0     0     0     0     0   \n",
      "1  0  0  0  0  0  0  0  0  0  0  ...     0     0     0     0     0     0   \n",
      "2  0  0  0  0  0  0  0  0  0  0  ...     0     0     0     0     0     0   \n",
      "3  0  0  0  0  0  0  0  0  0  0  ...     0     0     0     0     0     0   \n",
      "4  0  0  0  0  0  0  0  0  0  0  ...     0     0     0     0     0     0   \n",
      "\n",
      "   2047  composite_depth_cm     cps  \\\n",
      "0     0                 888  169212   \n",
      "1     0                1437   56052   \n",
      "2     0                  27  106123   \n",
      "3     0                 982  147405   \n",
      "4     0                1106  216119   \n",
      "\n",
      "                                           file_name  \n",
      "0  SO264-15-2_0848  400.0mm  10s  10kV 150uA No-F...  \n",
      "1  SO264-15-2_1348  890.0mm  10s  10kV 150uA No-F...  \n",
      "2  SO264-15-2_0000  270.0mm  10s  10kV 150uA No-F...  \n",
      "3  SO264-15-2_0948  340.0mm  10s  10kV 150uA No-F...  \n",
      "4  SO264-15-2_1048  580.0mm  10s  10kV 150uA No-F...  \n",
      "\n",
      "[5 rows x 2051 columns]\n",
      "(40, 4)\n",
      "   mid_depth_cm  toc_percent  tc_percent  caco3_percent\n",
      "0          10.5     0.181999    8.000254      65.149516\n",
      "1          20.5     0.298746    6.007120      47.567882\n",
      "2          46.5     0.288175    6.747430      53.824967\n",
      "3          68.5     0.299631    6.199101      49.160281\n",
      "4          88.5     0.240458    7.642422      61.680569\n"
     ]
    }
   ],
   "metadata": {}
  },
  {
   "cell_type": "code",
   "execution_count": 14,
   "source": [
    "# just check\n",
    "bulk_df[bulk_df.mid_depth_cm.duplicated()]"
   ],
   "outputs": [
    {
     "output_type": "execute_result",
     "data": {
      "text/plain": [
       "Empty DataFrame\n",
       "Columns: [mid_depth_cm, toc_percent, tc_percent, caco3_percent]\n",
       "Index: []"
      ],
      "text/html": [
       "<div>\n",
       "<style scoped>\n",
       "    .dataframe tbody tr th:only-of-type {\n",
       "        vertical-align: middle;\n",
       "    }\n",
       "\n",
       "    .dataframe tbody tr th {\n",
       "        vertical-align: top;\n",
       "    }\n",
       "\n",
       "    .dataframe thead th {\n",
       "        text-align: right;\n",
       "    }\n",
       "</style>\n",
       "<table border=\"1\" class=\"dataframe\">\n",
       "  <thead>\n",
       "    <tr style=\"text-align: right;\">\n",
       "      <th></th>\n",
       "      <th>mid_depth_cm</th>\n",
       "      <th>toc_percent</th>\n",
       "      <th>tc_percent</th>\n",
       "      <th>caco3_percent</th>\n",
       "    </tr>\n",
       "  </thead>\n",
       "  <tbody>\n",
       "  </tbody>\n",
       "</table>\n",
       "</div>"
      ]
     },
     "metadata": {},
     "execution_count": 14
    }
   ],
   "metadata": {}
  },
  {
   "cell_type": "code",
   "execution_count": 15,
   "source": [
    "mask_c = (clean_df.columns != 'file_name') & (clean_df.columns != 'composite_depth_cm')\n",
    "merge_df = pd.DataFrame()\n",
    "\n",
    "for row in bulk_df.iterrows():\n",
    "    mid = row[1][0]\n",
    "    mask_i = (clean_df.composite_depth_cm >= int(mid)) & (clean_df.composite_depth_cm <= int(mid)+1)\n",
    "    merge_df = pd.concat(\n",
    "        [merge_df, clean_df.loc[mask_i, mask_c].apply(np.mean, axis = 0).append(row[1])],\n",
    "        axis = 1\n",
    "    )\n",
    "    \n",
    "merge_df = merge_df.T.reset_index(drop = True)"
   ],
   "outputs": [],
   "metadata": {}
  },
  {
   "cell_type": "code",
   "execution_count": 16,
   "source": [
    "merge_df.shape"
   ],
   "outputs": [
    {
     "output_type": "execute_result",
     "data": {
      "text/plain": [
       "(40, 2053)"
      ]
     },
     "metadata": {},
     "execution_count": 16
    }
   ],
   "metadata": {}
  },
  {
   "cell_type": "code",
   "execution_count": 17,
   "source": [
    "merge_df.head()"
   ],
   "outputs": [
    {
     "output_type": "execute_result",
     "data": {
      "text/plain": [
       "     0    1    2    3    4    5    6    7    8    9  ...  2043  2044  2045  \\\n",
       "0  0.0  0.0  0.0  0.0  0.0  0.0  0.0  0.0  0.0  0.0  ...   0.0   0.0   0.0   \n",
       "1  0.0  0.0  0.0  0.0  0.0  0.0  0.0  0.0  0.0  0.0  ...   0.0   0.0   0.0   \n",
       "2  0.0  0.0  0.0  0.0  0.0  0.0  0.0  0.0  0.0  0.0  ...   0.0   0.0   0.0   \n",
       "3  0.0  0.0  0.0  0.0  0.0  0.0  0.0  0.0  0.0  0.0  ...   0.0   0.0   0.0   \n",
       "4  0.0  0.0  0.0  0.0  0.0  0.0  0.0  0.0  0.0  0.0  ...   0.0   0.0   0.0   \n",
       "\n",
       "   2046  2047       cps  mid_depth_cm  toc_percent  tc_percent  caco3_percent  \n",
       "0   0.0   0.0  153268.5          10.5     0.181999    8.000254      65.149516  \n",
       "1   0.0   0.0  122791.5          20.5     0.298746    6.007120      47.567882  \n",
       "2   0.0   0.0  133795.0          46.5     0.288175    6.747430      53.824967  \n",
       "3   0.0   0.0  152620.5          68.5     0.299631    6.199101      49.160281  \n",
       "4   0.0   0.0  160492.0          88.5     0.240458    7.642422      61.680569  \n",
       "\n",
       "[5 rows x 2053 columns]"
      ],
      "text/html": [
       "<div>\n",
       "<style scoped>\n",
       "    .dataframe tbody tr th:only-of-type {\n",
       "        vertical-align: middle;\n",
       "    }\n",
       "\n",
       "    .dataframe tbody tr th {\n",
       "        vertical-align: top;\n",
       "    }\n",
       "\n",
       "    .dataframe thead th {\n",
       "        text-align: right;\n",
       "    }\n",
       "</style>\n",
       "<table border=\"1\" class=\"dataframe\">\n",
       "  <thead>\n",
       "    <tr style=\"text-align: right;\">\n",
       "      <th></th>\n",
       "      <th>0</th>\n",
       "      <th>1</th>\n",
       "      <th>2</th>\n",
       "      <th>3</th>\n",
       "      <th>4</th>\n",
       "      <th>5</th>\n",
       "      <th>6</th>\n",
       "      <th>7</th>\n",
       "      <th>8</th>\n",
       "      <th>9</th>\n",
       "      <th>...</th>\n",
       "      <th>2043</th>\n",
       "      <th>2044</th>\n",
       "      <th>2045</th>\n",
       "      <th>2046</th>\n",
       "      <th>2047</th>\n",
       "      <th>cps</th>\n",
       "      <th>mid_depth_cm</th>\n",
       "      <th>toc_percent</th>\n",
       "      <th>tc_percent</th>\n",
       "      <th>caco3_percent</th>\n",
       "    </tr>\n",
       "  </thead>\n",
       "  <tbody>\n",
       "    <tr>\n",
       "      <th>0</th>\n",
       "      <td>0.0</td>\n",
       "      <td>0.0</td>\n",
       "      <td>0.0</td>\n",
       "      <td>0.0</td>\n",
       "      <td>0.0</td>\n",
       "      <td>0.0</td>\n",
       "      <td>0.0</td>\n",
       "      <td>0.0</td>\n",
       "      <td>0.0</td>\n",
       "      <td>0.0</td>\n",
       "      <td>...</td>\n",
       "      <td>0.0</td>\n",
       "      <td>0.0</td>\n",
       "      <td>0.0</td>\n",
       "      <td>0.0</td>\n",
       "      <td>0.0</td>\n",
       "      <td>153268.5</td>\n",
       "      <td>10.5</td>\n",
       "      <td>0.181999</td>\n",
       "      <td>8.000254</td>\n",
       "      <td>65.149516</td>\n",
       "    </tr>\n",
       "    <tr>\n",
       "      <th>1</th>\n",
       "      <td>0.0</td>\n",
       "      <td>0.0</td>\n",
       "      <td>0.0</td>\n",
       "      <td>0.0</td>\n",
       "      <td>0.0</td>\n",
       "      <td>0.0</td>\n",
       "      <td>0.0</td>\n",
       "      <td>0.0</td>\n",
       "      <td>0.0</td>\n",
       "      <td>0.0</td>\n",
       "      <td>...</td>\n",
       "      <td>0.0</td>\n",
       "      <td>0.0</td>\n",
       "      <td>0.0</td>\n",
       "      <td>0.0</td>\n",
       "      <td>0.0</td>\n",
       "      <td>122791.5</td>\n",
       "      <td>20.5</td>\n",
       "      <td>0.298746</td>\n",
       "      <td>6.007120</td>\n",
       "      <td>47.567882</td>\n",
       "    </tr>\n",
       "    <tr>\n",
       "      <th>2</th>\n",
       "      <td>0.0</td>\n",
       "      <td>0.0</td>\n",
       "      <td>0.0</td>\n",
       "      <td>0.0</td>\n",
       "      <td>0.0</td>\n",
       "      <td>0.0</td>\n",
       "      <td>0.0</td>\n",
       "      <td>0.0</td>\n",
       "      <td>0.0</td>\n",
       "      <td>0.0</td>\n",
       "      <td>...</td>\n",
       "      <td>0.0</td>\n",
       "      <td>0.0</td>\n",
       "      <td>0.0</td>\n",
       "      <td>0.0</td>\n",
       "      <td>0.0</td>\n",
       "      <td>133795.0</td>\n",
       "      <td>46.5</td>\n",
       "      <td>0.288175</td>\n",
       "      <td>6.747430</td>\n",
       "      <td>53.824967</td>\n",
       "    </tr>\n",
       "    <tr>\n",
       "      <th>3</th>\n",
       "      <td>0.0</td>\n",
       "      <td>0.0</td>\n",
       "      <td>0.0</td>\n",
       "      <td>0.0</td>\n",
       "      <td>0.0</td>\n",
       "      <td>0.0</td>\n",
       "      <td>0.0</td>\n",
       "      <td>0.0</td>\n",
       "      <td>0.0</td>\n",
       "      <td>0.0</td>\n",
       "      <td>...</td>\n",
       "      <td>0.0</td>\n",
       "      <td>0.0</td>\n",
       "      <td>0.0</td>\n",
       "      <td>0.0</td>\n",
       "      <td>0.0</td>\n",
       "      <td>152620.5</td>\n",
       "      <td>68.5</td>\n",
       "      <td>0.299631</td>\n",
       "      <td>6.199101</td>\n",
       "      <td>49.160281</td>\n",
       "    </tr>\n",
       "    <tr>\n",
       "      <th>4</th>\n",
       "      <td>0.0</td>\n",
       "      <td>0.0</td>\n",
       "      <td>0.0</td>\n",
       "      <td>0.0</td>\n",
       "      <td>0.0</td>\n",
       "      <td>0.0</td>\n",
       "      <td>0.0</td>\n",
       "      <td>0.0</td>\n",
       "      <td>0.0</td>\n",
       "      <td>0.0</td>\n",
       "      <td>...</td>\n",
       "      <td>0.0</td>\n",
       "      <td>0.0</td>\n",
       "      <td>0.0</td>\n",
       "      <td>0.0</td>\n",
       "      <td>0.0</td>\n",
       "      <td>160492.0</td>\n",
       "      <td>88.5</td>\n",
       "      <td>0.240458</td>\n",
       "      <td>7.642422</td>\n",
       "      <td>61.680569</td>\n",
       "    </tr>\n",
       "  </tbody>\n",
       "</table>\n",
       "<p>5 rows × 2053 columns</p>\n",
       "</div>"
      ]
     },
     "metadata": {},
     "execution_count": 17
    }
   ],
   "metadata": {}
  },
  {
   "cell_type": "code",
   "execution_count": 22,
   "source": [
    "merge_df.isna().any(axis=1)"
   ],
   "outputs": [
    {
     "output_type": "execute_result",
     "data": {
      "text/plain": [
       "0     False\n",
       "1     False\n",
       "2     False\n",
       "3     False\n",
       "4     False\n",
       "5     False\n",
       "6     False\n",
       "7     False\n",
       "8     False\n",
       "9     False\n",
       "10    False\n",
       "11    False\n",
       "12    False\n",
       "13    False\n",
       "14    False\n",
       "15    False\n",
       "16    False\n",
       "17    False\n",
       "18    False\n",
       "19    False\n",
       "20    False\n",
       "21     True\n",
       "22     True\n",
       "23    False\n",
       "24    False\n",
       "25    False\n",
       "26    False\n",
       "27    False\n",
       "28    False\n",
       "29    False\n",
       "30    False\n",
       "31    False\n",
       "32    False\n",
       "33    False\n",
       "34    False\n",
       "35    False\n",
       "36    False\n",
       "37    False\n",
       "38    False\n",
       "39    False\n",
       "dtype: bool"
      ]
     },
     "metadata": {},
     "execution_count": 22
    }
   ],
   "metadata": {}
  },
  {
   "cell_type": "code",
   "execution_count": 23,
   "source": [
    "bulk_df.isna().any(axis=1)"
   ],
   "outputs": [
    {
     "output_type": "execute_result",
     "data": {
      "text/plain": [
       "0     False\n",
       "1     False\n",
       "2     False\n",
       "3     False\n",
       "4     False\n",
       "5     False\n",
       "6     False\n",
       "7     False\n",
       "8     False\n",
       "9     False\n",
       "10    False\n",
       "11    False\n",
       "12    False\n",
       "13    False\n",
       "14    False\n",
       "15    False\n",
       "16    False\n",
       "17    False\n",
       "18    False\n",
       "19    False\n",
       "20    False\n",
       "21    False\n",
       "22    False\n",
       "23    False\n",
       "24    False\n",
       "25    False\n",
       "26    False\n",
       "27    False\n",
       "28    False\n",
       "29    False\n",
       "30    False\n",
       "31    False\n",
       "32    False\n",
       "33    False\n",
       "34    False\n",
       "35    False\n",
       "36    False\n",
       "37    False\n",
       "38    False\n",
       "39    False\n",
       "dtype: bool"
      ]
     },
     "metadata": {},
     "execution_count": 23
    }
   ],
   "metadata": {}
  },
  {
   "cell_type": "code",
   "execution_count": 24,
   "source": [
    "merge_df.iloc[21:23, :]"
   ],
   "outputs": [
    {
     "output_type": "execute_result",
     "data": {
      "text/plain": [
       "     0   1   2   3   4   5   6   7   8   9  ...  2043  2044  2045  2046  2047  \\\n",
       "21 NaN NaN NaN NaN NaN NaN NaN NaN NaN NaN  ...   NaN   NaN   NaN   NaN   NaN   \n",
       "22 NaN NaN NaN NaN NaN NaN NaN NaN NaN NaN  ...   NaN   NaN   NaN   NaN   NaN   \n",
       "\n",
       "    cps  mid_depth_cm  toc_percent  tc_percent  caco3_percent  \n",
       "21  NaN         780.5     0.123676    8.799115      72.292438  \n",
       "22  NaN         800.5     0.098591   10.975090      90.633864  \n",
       "\n",
       "[2 rows x 2053 columns]"
      ],
      "text/html": [
       "<div>\n",
       "<style scoped>\n",
       "    .dataframe tbody tr th:only-of-type {\n",
       "        vertical-align: middle;\n",
       "    }\n",
       "\n",
       "    .dataframe tbody tr th {\n",
       "        vertical-align: top;\n",
       "    }\n",
       "\n",
       "    .dataframe thead th {\n",
       "        text-align: right;\n",
       "    }\n",
       "</style>\n",
       "<table border=\"1\" class=\"dataframe\">\n",
       "  <thead>\n",
       "    <tr style=\"text-align: right;\">\n",
       "      <th></th>\n",
       "      <th>0</th>\n",
       "      <th>1</th>\n",
       "      <th>2</th>\n",
       "      <th>3</th>\n",
       "      <th>4</th>\n",
       "      <th>5</th>\n",
       "      <th>6</th>\n",
       "      <th>7</th>\n",
       "      <th>8</th>\n",
       "      <th>9</th>\n",
       "      <th>...</th>\n",
       "      <th>2043</th>\n",
       "      <th>2044</th>\n",
       "      <th>2045</th>\n",
       "      <th>2046</th>\n",
       "      <th>2047</th>\n",
       "      <th>cps</th>\n",
       "      <th>mid_depth_cm</th>\n",
       "      <th>toc_percent</th>\n",
       "      <th>tc_percent</th>\n",
       "      <th>caco3_percent</th>\n",
       "    </tr>\n",
       "  </thead>\n",
       "  <tbody>\n",
       "    <tr>\n",
       "      <th>21</th>\n",
       "      <td>NaN</td>\n",
       "      <td>NaN</td>\n",
       "      <td>NaN</td>\n",
       "      <td>NaN</td>\n",
       "      <td>NaN</td>\n",
       "      <td>NaN</td>\n",
       "      <td>NaN</td>\n",
       "      <td>NaN</td>\n",
       "      <td>NaN</td>\n",
       "      <td>NaN</td>\n",
       "      <td>...</td>\n",
       "      <td>NaN</td>\n",
       "      <td>NaN</td>\n",
       "      <td>NaN</td>\n",
       "      <td>NaN</td>\n",
       "      <td>NaN</td>\n",
       "      <td>NaN</td>\n",
       "      <td>780.5</td>\n",
       "      <td>0.123676</td>\n",
       "      <td>8.799115</td>\n",
       "      <td>72.292438</td>\n",
       "    </tr>\n",
       "    <tr>\n",
       "      <th>22</th>\n",
       "      <td>NaN</td>\n",
       "      <td>NaN</td>\n",
       "      <td>NaN</td>\n",
       "      <td>NaN</td>\n",
       "      <td>NaN</td>\n",
       "      <td>NaN</td>\n",
       "      <td>NaN</td>\n",
       "      <td>NaN</td>\n",
       "      <td>NaN</td>\n",
       "      <td>NaN</td>\n",
       "      <td>...</td>\n",
       "      <td>NaN</td>\n",
       "      <td>NaN</td>\n",
       "      <td>NaN</td>\n",
       "      <td>NaN</td>\n",
       "      <td>NaN</td>\n",
       "      <td>NaN</td>\n",
       "      <td>800.5</td>\n",
       "      <td>0.098591</td>\n",
       "      <td>10.975090</td>\n",
       "      <td>90.633864</td>\n",
       "    </tr>\n",
       "  </tbody>\n",
       "</table>\n",
       "<p>2 rows × 2053 columns</p>\n",
       "</div>"
      ]
     },
     "metadata": {},
     "execution_count": 24
    }
   ],
   "metadata": {}
  },
  {
   "cell_type": "code",
   "execution_count": 25,
   "source": [
    "clean_df[(clean_df.composite_depth_cm >= 750) & (clean_df.composite_depth_cm <= 840)]"
   ],
   "outputs": [
    {
     "output_type": "execute_result",
     "data": {
      "text/plain": [
       "Empty DataFrame\n",
       "Columns: [0, 1, 2, 3, 4, 5, 6, 7, 8, 9, 10, 11, 12, 13, 14, 15, 16, 17, 18, 19, 20, 21, 22, 23, 24, 25, 26, 27, 28, 29, 30, 31, 32, 33, 34, 35, 36, 37, 38, 39, 40, 41, 42, 43, 44, 45, 46, 47, 48, 49, 50, 51, 52, 53, 54, 55, 56, 57, 58, 59, 60, 61, 62, 63, 64, 65, 66, 67, 68, 69, 70, 71, 72, 73, 74, 75, 76, 77, 78, 79, 80, 81, 82, 83, 84, 85, 86, 87, 88, 89, 90, 91, 92, 93, 94, 95, 96, 97, 98, 99, ...]\n",
       "Index: []\n",
       "\n",
       "[0 rows x 2051 columns]"
      ],
      "text/html": [
       "<div>\n",
       "<style scoped>\n",
       "    .dataframe tbody tr th:only-of-type {\n",
       "        vertical-align: middle;\n",
       "    }\n",
       "\n",
       "    .dataframe tbody tr th {\n",
       "        vertical-align: top;\n",
       "    }\n",
       "\n",
       "    .dataframe thead th {\n",
       "        text-align: right;\n",
       "    }\n",
       "</style>\n",
       "<table border=\"1\" class=\"dataframe\">\n",
       "  <thead>\n",
       "    <tr style=\"text-align: right;\">\n",
       "      <th></th>\n",
       "      <th>0</th>\n",
       "      <th>1</th>\n",
       "      <th>2</th>\n",
       "      <th>3</th>\n",
       "      <th>4</th>\n",
       "      <th>5</th>\n",
       "      <th>6</th>\n",
       "      <th>7</th>\n",
       "      <th>8</th>\n",
       "      <th>9</th>\n",
       "      <th>...</th>\n",
       "      <th>2041</th>\n",
       "      <th>2042</th>\n",
       "      <th>2043</th>\n",
       "      <th>2044</th>\n",
       "      <th>2045</th>\n",
       "      <th>2046</th>\n",
       "      <th>2047</th>\n",
       "      <th>composite_depth_cm</th>\n",
       "      <th>cps</th>\n",
       "      <th>file_name</th>\n",
       "    </tr>\n",
       "  </thead>\n",
       "  <tbody>\n",
       "  </tbody>\n",
       "</table>\n",
       "<p>0 rows × 2051 columns</p>\n",
       "</div>"
      ]
     },
     "metadata": {},
     "execution_count": 25
    }
   ],
   "metadata": {}
  },
  {
   "cell_type": "markdown",
   "source": [
    "It means avvatech doesn't have XRF data in these two depths..."
   ],
   "metadata": {}
  },
  {
   "cell_type": "code",
   "execution_count": 26,
   "source": [
    "merge_df = merge_df.dropna()\n",
    "merge_df.shape"
   ],
   "outputs": [
    {
     "output_type": "execute_result",
     "data": {
      "text/plain": [
       "(38, 2053)"
      ]
     },
     "metadata": {},
     "execution_count": 26
    }
   ],
   "metadata": {}
  },
  {
   "cell_type": "markdown",
   "source": [
    "## Export data"
   ],
   "metadata": {}
  },
  {
   "cell_type": "code",
   "execution_count": 27,
   "source": [
    "merge_df.to_csv('data/spe+bulk_SO264-15-2.csv')"
   ],
   "outputs": [],
   "metadata": {}
  },
  {
   "cell_type": "markdown",
   "source": [
    "# Run regressions\n",
    "1. ridged linear regression\n",
    "2. kernel SVM(PCA or NMF)"
   ],
   "metadata": {}
  },
  {
   "cell_type": "code",
   "execution_count": 2,
   "source": [
    "merge_df = pd.read_csv('data/spe+bulk_SO264-15-2.csv', index_col=0)\n",
    "X = merge_df.iloc[:, : -5].values\n",
    "X = X / X.sum(axis = 1, keepdims = True)"
   ],
   "outputs": [],
   "metadata": {}
  },
  {
   "cell_type": "markdown",
   "source": [
    "## CaCO3\n",
    "First we use PCA to guess how many components there might be. And quickly try out the combination of algorithms."
   ],
   "metadata": {}
  },
  {
   "cell_type": "code",
   "execution_count": 3,
   "source": [
    "y = merge_df.caco3_percent.values"
   ],
   "outputs": [],
   "metadata": {}
  },
  {
   "cell_type": "code",
   "execution_count": 4,
   "source": [
    "%%time\n",
    "from sklearn.pipeline import make_pipeline\n",
    "from sklearn.preprocessing import StandardScaler\n",
    "from sklearn.decomposition import PCA\n",
    "\n",
    "pca = make_pipeline(StandardScaler(), PCA())\n",
    "pca.fit(X)"
   ],
   "outputs": [
    {
     "output_type": "stream",
     "name": "stdout",
     "text": [
      "CPU times: user 2.05 s, sys: 883 ms, total: 2.93 s\n",
      "Wall time: 4.91 s\n"
     ]
    },
    {
     "output_type": "execute_result",
     "data": {
      "text/plain": [
       "Pipeline(steps=[('standardscaler', StandardScaler()), ('pca', PCA())])"
      ]
     },
     "metadata": {},
     "execution_count": 4
    }
   ],
   "metadata": {}
  },
  {
   "cell_type": "code",
   "execution_count": 5,
   "source": [
    "len(pca.named_steps['pca'].explained_variance_ratio_)"
   ],
   "outputs": [
    {
     "output_type": "execute_result",
     "data": {
      "text/plain": [
       "38"
      ]
     },
     "metadata": {},
     "execution_count": 5
    }
   ],
   "metadata": {}
  },
  {
   "cell_type": "code",
   "execution_count": 6,
   "source": [
    "fig, ax = plt.subplots(1, 1, figsize=(3.54, 3))\n",
    "ax.bar([_ for _ in range(1, 31)], pca.named_steps['pca'].explained_variance_ratio_[:30]*100)\n",
    "ax.set_xlabel('PCs')\n",
    "ax.set_ylabel('Explained variance (%)')\n",
    "fig.savefig('results/screeplot_SO264-15-2.png')"
   ],
   "outputs": [
    {
     "output_type": "display_data",
     "data": {
      "text/plain": [
       "<Figure size 254.88x216 with 1 Axes>"
      ],
      "image/png": "[encoded data removed]"
     },
     "metadata": {
      "needs_background": "dark"
     }
    }
   ],
   "metadata": {}
  },
  {
   "cell_type": "markdown",
   "source": [
    "Based on the elbow concept, I choose 3 to 5 as the possible component amount."
   ],
   "metadata": {}
  },
  {
   "cell_type": "code",
   "execution_count": 7,
   "source": [
    "%%time\n",
    "from sklearn.preprocessing import StandardScaler\n",
    "from sklearn.decomposition import PCA\n",
    "from sklearn.linear_model import Ridge\n",
    "from sklearn.model_selection import train_test_split\n",
    "from sklearn.pipeline import make_pipeline\n",
    "\n",
    "X_train, X_test, y_train, y_test = train_test_split(X, y, random_state = 0)\n",
    "ridge = make_pipeline(StandardScaler(), PCA(whiten = True), Ridge())\n",
    "ridge.fit(X_train, y_train)\n",
    "\n",
    "print('Training set score: {:.2f}'.format(ridge.score(X_train, y_train)))\n",
    "print('Test set score: {:.2f}'.format(ridge.score(X_test, y_test)))"
   ],
   "outputs": [
    {
     "output_type": "stream",
     "name": "stdout",
     "text": [
      "Training set score: 1.00\n",
      "Test set score: 0.91\n",
      "CPU times: user 3.17 s, sys: 180 ms, total: 3.35 s\n",
      "Wall time: 233 ms\n"
     ]
    }
   ],
   "metadata": {}
  },
  {
   "cell_type": "code",
   "execution_count": 8,
   "source": [
    "%%time\n",
    "from sklearn.preprocessing import StandardScaler\n",
    "from sklearn.decomposition import PCA\n",
    "from sklearn.pipeline import make_pipeline\n",
    "from sklearn.svm import SVR\n",
    "\n",
    "svr = make_pipeline(StandardScaler(), PCA(whiten = True), SVR())\n",
    "svr.fit(X_train, y_train)\n",
    "\n",
    "print('Training set score: {:.2f}'.format(svr.score(X_train, y_train)))\n",
    "print('Test set score: {:.2f}'.format(svr.score(X_test, y_test)))"
   ],
   "outputs": [
    {
     "output_type": "stream",
     "name": "stdout",
     "text": [
      "Training set score: -0.07\n",
      "Test set score: -0.44\n",
      "CPU times: user 2.08 s, sys: 57.1 ms, total: 2.14 s\n",
      "Wall time: 133 ms\n"
     ]
    }
   ],
   "metadata": {}
  },
  {
   "cell_type": "code",
   "execution_count": 9,
   "source": [
    "%%time\n",
    "from sklearn.decomposition import NMF\n",
    "from sklearn.pipeline import make_pipeline\n",
    "from sklearn.svm import SVR\n",
    "\n",
    "\n",
    "svr = make_pipeline(NMF(n_components = 5, random_state = 24, max_iter=2000), SVR())\n",
    "svr.fit(X_train, y_train)\n",
    "\n",
    "print('Training set score: {:.2f}'.format(svr.score(X_train, y_train)))\n",
    "print('Test set score: {:.2f}'.format(svr.score(X_test, y_test)))"
   ],
   "outputs": [
    {
     "output_type": "stream",
     "name": "stdout",
     "text": [
      "Training set score: 0.20\n",
      "Test set score: 0.06\n",
      "CPU times: user 10.6 s, sys: 274 ms, total: 10.9 s\n",
      "Wall time: 364 ms\n"
     ]
    }
   ],
   "metadata": {}
  },
  {
   "cell_type": "markdown",
   "source": [
    "### GridsearchCV\n",
    "After playing arounf the algorithms, the proper grid search plan is set and carried out."
   ],
   "metadata": {}
  },
  {
   "cell_type": "markdown",
   "source": [
    "#### Base algorithm\n",
    "We use Ridge regrssion as a base algoritm to learn the PCA transformed data. This is the first scenario in the paper. The grid search work is written in grid_pilot_ridge.py and submitted to the cluster for computation (submit_pilot.sh). The job log is slurm-43510.txt and the result is breifly visualized below. The best validation score is 0.847."
   ],
   "metadata": {}
  },
  {
   "cell_type": "code",
   "execution_count": 5,
   "source": [
    "grid = pd.read_csv('results/pilot_grid_pca+ridge_20210318.csv', index_col=0)\n",
    "grid"
   ],
   "outputs": [
    {
     "output_type": "execute_result",
     "data": {
      "text/plain": [
       "   mean_fit_time  std_fit_time  mean_score_time  std_score_time  \\\n",
       "0       0.079200      0.034740         0.000910        0.000130   \n",
       "1       0.065391      0.020007         0.000799        0.000078   \n",
       "2       0.067571      0.017403         0.000633        0.000126   \n",
       "3       0.069164      0.021839         0.000779        0.000047   \n",
       "4       0.091120      0.014649         0.000750        0.000112   \n",
       "5       0.076243      0.010206         0.000710        0.000146   \n",
       "6       0.081457      0.012736         0.000726        0.000159   \n",
       "7       0.078384      0.020666         0.000726        0.000139   \n",
       "8       0.082084      0.015253         0.000729        0.000152   \n",
       "9       0.085717      0.012883         0.000752        0.000112   \n",
       "\n",
       "   param_ridge__alpha                    params  split0_test_score  \\\n",
       "0        1.000000e-08   {'ridge__alpha': 1e-08}           0.653012   \n",
       "1        1.000000e-07   {'ridge__alpha': 1e-07}           0.651461   \n",
       "2        1.000000e-06   {'ridge__alpha': 1e-06}           0.652085   \n",
       "3        1.000000e-05   {'ridge__alpha': 1e-05}           0.651141   \n",
       "4        1.000000e-04  {'ridge__alpha': 0.0001}           0.652435   \n",
       "5        1.000000e-03   {'ridge__alpha': 0.001}           0.652786   \n",
       "6        1.000000e-02    {'ridge__alpha': 0.01}           0.650690   \n",
       "7        1.000000e-01     {'ridge__alpha': 0.1}           0.654098   \n",
       "8        1.000000e+00     {'ridge__alpha': 1.0}           0.662129   \n",
       "9        1.000000e+01    {'ridge__alpha': 10.0}           0.673413   \n",
       "\n",
       "   split1_test_score  split2_test_score  split3_test_score  split4_test_score  \\\n",
       "0           0.893556           0.965726           0.818403           0.900590   \n",
       "1           0.894568           0.964922           0.816179           0.901296   \n",
       "2           0.894230           0.965247           0.815666           0.900597   \n",
       "3           0.892188           0.965602           0.816161           0.900774   \n",
       "4           0.893552           0.964931           0.822206           0.901032   \n",
       "5           0.893689           0.965211           0.818434           0.900652   \n",
       "6           0.893906           0.965210           0.814792           0.900244   \n",
       "7           0.892375           0.964609           0.811845           0.900253   \n",
       "8           0.893486           0.960310           0.766838           0.895690   \n",
       "9           0.789195           0.848166           0.213349           0.809629   \n",
       "\n",
       "   mean_test_score  std_test_score  rank_test_score  \n",
       "0         0.846258        0.107314                2  \n",
       "1         0.845685        0.107975                4  \n",
       "2         0.845565        0.107749                5  \n",
       "3         0.845173        0.107977                6  \n",
       "4         0.846831        0.107205                1  \n",
       "5         0.846155        0.107297                3  \n",
       "6         0.844969        0.108225                7  \n",
       "7         0.844636        0.106907                8  \n",
       "8         0.835690        0.107084                9  \n",
       "9         0.666750        0.234066               10  "
      ],
      "text/html": [
       "<div>\n",
       "<style scoped>\n",
       "    .dataframe tbody tr th:only-of-type {\n",
       "        vertical-align: middle;\n",
       "    }\n",
       "\n",
       "    .dataframe tbody tr th {\n",
       "        vertical-align: top;\n",
       "    }\n",
       "\n",
       "    .dataframe thead th {\n",
       "        text-align: right;\n",
       "    }\n",
       "</style>\n",
       "<table border=\"1\" class=\"dataframe\">\n",
       "  <thead>\n",
       "    <tr style=\"text-align: right;\">\n",
       "      <th></th>\n",
       "      <th>mean_fit_time</th>\n",
       "      <th>std_fit_time</th>\n",
       "      <th>mean_score_time</th>\n",
       "      <th>std_score_time</th>\n",
       "      <th>param_ridge__alpha</th>\n",
       "      <th>params</th>\n",
       "      <th>split0_test_score</th>\n",
       "      <th>split1_test_score</th>\n",
       "      <th>split2_test_score</th>\n",
       "      <th>split3_test_score</th>\n",
       "      <th>split4_test_score</th>\n",
       "      <th>mean_test_score</th>\n",
       "      <th>std_test_score</th>\n",
       "      <th>rank_test_score</th>\n",
       "    </tr>\n",
       "  </thead>\n",
       "  <tbody>\n",
       "    <tr>\n",
       "      <th>0</th>\n",
       "      <td>0.079200</td>\n",
       "      <td>0.034740</td>\n",
       "      <td>0.000910</td>\n",
       "      <td>0.000130</td>\n",
       "      <td>1.000000e-08</td>\n",
       "      <td>{'ridge__alpha': 1e-08}</td>\n",
       "      <td>0.653012</td>\n",
       "      <td>0.893556</td>\n",
       "      <td>0.965726</td>\n",
       "      <td>0.818403</td>\n",
       "      <td>0.900590</td>\n",
       "      <td>0.846258</td>\n",
       "      <td>0.107314</td>\n",
       "      <td>2</td>\n",
       "    </tr>\n",
       "    <tr>\n",
       "      <th>1</th>\n",
       "      <td>0.065391</td>\n",
       "      <td>0.020007</td>\n",
       "      <td>0.000799</td>\n",
       "      <td>0.000078</td>\n",
       "      <td>1.000000e-07</td>\n",
       "      <td>{'ridge__alpha': 1e-07}</td>\n",
       "      <td>0.651461</td>\n",
       "      <td>0.894568</td>\n",
       "      <td>0.964922</td>\n",
       "      <td>0.816179</td>\n",
       "      <td>0.901296</td>\n",
       "      <td>0.845685</td>\n",
       "      <td>0.107975</td>\n",
       "      <td>4</td>\n",
       "    </tr>\n",
       "    <tr>\n",
       "      <th>2</th>\n",
       "      <td>0.067571</td>\n",
       "      <td>0.017403</td>\n",
       "      <td>0.000633</td>\n",
       "      <td>0.000126</td>\n",
       "      <td>1.000000e-06</td>\n",
       "      <td>{'ridge__alpha': 1e-06}</td>\n",
       "      <td>0.652085</td>\n",
       "      <td>0.894230</td>\n",
       "      <td>0.965247</td>\n",
       "      <td>0.815666</td>\n",
       "      <td>0.900597</td>\n",
       "      <td>0.845565</td>\n",
       "      <td>0.107749</td>\n",
       "      <td>5</td>\n",
       "    </tr>\n",
       "    <tr>\n",
       "      <th>3</th>\n",
       "      <td>0.069164</td>\n",
       "      <td>0.021839</td>\n",
       "      <td>0.000779</td>\n",
       "      <td>0.000047</td>\n",
       "      <td>1.000000e-05</td>\n",
       "      <td>{'ridge__alpha': 1e-05}</td>\n",
       "      <td>0.651141</td>\n",
       "      <td>0.892188</td>\n",
       "      <td>0.965602</td>\n",
       "      <td>0.816161</td>\n",
       "      <td>0.900774</td>\n",
       "      <td>0.845173</td>\n",
       "      <td>0.107977</td>\n",
       "      <td>6</td>\n",
       "    </tr>\n",
       "    <tr>\n",
       "      <th>4</th>\n",
       "      <td>0.091120</td>\n",
       "      <td>0.014649</td>\n",
       "      <td>0.000750</td>\n",
       "      <td>0.000112</td>\n",
       "      <td>1.000000e-04</td>\n",
       "      <td>{'ridge__alpha': 0.0001}</td>\n",
       "      <td>0.652435</td>\n",
       "      <td>0.893552</td>\n",
       "      <td>0.964931</td>\n",
       "      <td>0.822206</td>\n",
       "      <td>0.901032</td>\n",
       "      <td>0.846831</td>\n",
       "      <td>0.107205</td>\n",
       "      <td>1</td>\n",
       "    </tr>\n",
       "    <tr>\n",
       "      <th>5</th>\n",
       "      <td>0.076243</td>\n",
       "      <td>0.010206</td>\n",
       "      <td>0.000710</td>\n",
       "      <td>0.000146</td>\n",
       "      <td>1.000000e-03</td>\n",
       "      <td>{'ridge__alpha': 0.001}</td>\n",
       "      <td>0.652786</td>\n",
       "      <td>0.893689</td>\n",
       "      <td>0.965211</td>\n",
       "      <td>0.818434</td>\n",
       "      <td>0.900652</td>\n",
       "      <td>0.846155</td>\n",
       "      <td>0.107297</td>\n",
       "      <td>3</td>\n",
       "    </tr>\n",
       "    <tr>\n",
       "      <th>6</th>\n",
       "      <td>0.081457</td>\n",
       "      <td>0.012736</td>\n",
       "      <td>0.000726</td>\n",
       "      <td>0.000159</td>\n",
       "      <td>1.000000e-02</td>\n",
       "      <td>{'ridge__alpha': 0.01}</td>\n",
       "      <td>0.650690</td>\n",
       "      <td>0.893906</td>\n",
       "      <td>0.965210</td>\n",
       "      <td>0.814792</td>\n",
       "      <td>0.900244</td>\n",
       "      <td>0.844969</td>\n",
       "      <td>0.108225</td>\n",
       "      <td>7</td>\n",
       "    </tr>\n",
       "    <tr>\n",
       "      <th>7</th>\n",
       "      <td>0.078384</td>\n",
       "      <td>0.020666</td>\n",
       "      <td>0.000726</td>\n",
       "      <td>0.000139</td>\n",
       "      <td>1.000000e-01</td>\n",
       "      <td>{'ridge__alpha': 0.1}</td>\n",
       "      <td>0.654098</td>\n",
       "      <td>0.892375</td>\n",
       "      <td>0.964609</td>\n",
       "      <td>0.811845</td>\n",
       "      <td>0.900253</td>\n",
       "      <td>0.844636</td>\n",
       "      <td>0.106907</td>\n",
       "      <td>8</td>\n",
       "    </tr>\n",
       "    <tr>\n",
       "      <th>8</th>\n",
       "      <td>0.082084</td>\n",
       "      <td>0.015253</td>\n",
       "      <td>0.000729</td>\n",
       "      <td>0.000152</td>\n",
       "      <td>1.000000e+00</td>\n",
       "      <td>{'ridge__alpha': 1.0}</td>\n",
       "      <td>0.662129</td>\n",
       "      <td>0.893486</td>\n",
       "      <td>0.960310</td>\n",
       "      <td>0.766838</td>\n",
       "      <td>0.895690</td>\n",
       "      <td>0.835690</td>\n",
       "      <td>0.107084</td>\n",
       "      <td>9</td>\n",
       "    </tr>\n",
       "    <tr>\n",
       "      <th>9</th>\n",
       "      <td>0.085717</td>\n",
       "      <td>0.012883</td>\n",
       "      <td>0.000752</td>\n",
       "      <td>0.000112</td>\n",
       "      <td>1.000000e+01</td>\n",
       "      <td>{'ridge__alpha': 10.0}</td>\n",
       "      <td>0.673413</td>\n",
       "      <td>0.789195</td>\n",
       "      <td>0.848166</td>\n",
       "      <td>0.213349</td>\n",
       "      <td>0.809629</td>\n",
       "      <td>0.666750</td>\n",
       "      <td>0.234066</td>\n",
       "      <td>10</td>\n",
       "    </tr>\n",
       "  </tbody>\n",
       "</table>\n",
       "</div>"
      ]
     },
     "metadata": {},
     "execution_count": 5
    }
   ],
   "metadata": {}
  },
  {
   "cell_type": "code",
   "execution_count": 6,
   "source": [
    "plt.plot(grid['param_ridge__alpha'], grid['mean_test_score'], marker = 'o')\n",
    "plt.xscale('log')\n",
    "plt.xlabel('alpha')\n",
    "plt.ylabel('mean test score')"
   ],
   "outputs": [
    {
     "output_type": "execute_result",
     "data": {
      "text/plain": [
       "Text(0, 0.5, 'mean test score')"
      ]
     },
     "metadata": {},
     "execution_count": 6
    },
    {
     "output_type": "display_data",
     "data": {
      "text/plain": [
       "<Figure size 432x288 with 1 Axes>"
      ],
      "image/png": "[encoded data removed]"
     },
     "metadata": {
      "needs_background": "dark"
     }
    }
   ],
   "metadata": {}
  },
  {
   "cell_type": "markdown",
   "source": [
    "#### SVR\n",
    "There are two scenarios for the application of SVR. One is using PCA while the other one is using NMF as data representation. The script is grid_pilot_svr.py, which is submitted by submit_pilot.sh. The job log is slurm-43509.txt. The result is exported as pilot_grid_svr_20210318.csv. The best validation score is 0.905, which provided by the one using NMF."
   ],
   "metadata": {}
  },
  {
   "cell_type": "markdown",
   "source": [
    "### Short summary\n",
    "It seems the ridge can provide reasonable prediction already. The combination of NMF and SVR produce the best prediction in cross-validation. The n_components is decided by the explaied variance of PCA. "
   ],
   "metadata": {}
  },
  {
   "cell_type": "markdown",
   "source": [
    "# Notes\n",
    "Below are the actual-continued pilot workflow but not necessary fits to our paper's flow."
   ],
   "metadata": {}
  },
  {
   "cell_type": "markdown",
   "source": [
    "## TOC"
   ],
   "metadata": {}
  },
  {
   "cell_type": "code",
   "execution_count": 149,
   "source": [
    "y = merge_df.toc_percent.values"
   ],
   "outputs": [],
   "metadata": {}
  },
  {
   "cell_type": "markdown",
   "source": [
    "## GridsearchCV"
   ],
   "metadata": {}
  },
  {
   "cell_type": "code",
   "execution_count": 134,
   "source": [
    "%%time\n",
    "from sklearn.model_selection import GridSearchCV\n",
    "from sklearn.preprocessing import StandardScaler\n",
    "from sklearn.decomposition import PCA\n",
    "from sklearn.linear_model import Ridge\n",
    "from sklearn.pipeline import make_pipeline\n",
    "\n",
    "ridge = make_pipeline(StandardScaler(), PCA(whiten = True), Ridge())\n",
    "params = {'ridge__alpha': np.logspace(-3, 3, 7)}\n",
    "grid = GridSearchCV(ridge, param_grid = params, cv = 5, n_jobs = -1)\n",
    "\n",
    "grid.fit(X, y)\n",
    "\n",
    "print('The best cv score: {:.2f}'.format(grid.best_score_))\n",
    "print('The best parameter: {}'.format(grid.best_params_))\n",
    "print(grid.best_estimator_)"
   ],
   "outputs": [
    {
     "output_type": "stream",
     "name": "stdout",
     "text": [
      "The best cv score: 0.02\n",
      "The best parameter: {'ridge__alpha': 0.001}\n",
      "Pipeline(memory=None,\n",
      "         steps=[('standardscaler',\n",
      "                 StandardScaler(copy=True, with_mean=True, with_std=True)),\n",
      "                ('pca',\n",
      "                 PCA(copy=True, iterated_power='auto', n_components=None,\n",
      "                     random_state=None, svd_solver='auto', tol=0.0,\n",
      "                     whiten=True)),\n",
      "                ('ridge',\n",
      "                 Ridge(alpha=0.001, copy_X=True, fit_intercept=True,\n",
      "                       max_iter=None, normalize=False, random_state=None,\n",
      "                       solver='auto', tol=0.001))],\n",
      "         verbose=False)\n",
      "CPU times: user 196 ms, sys: 67.6 ms, total: 263 ms\n",
      "Wall time: 1.84 s\n"
     ]
    }
   ],
   "metadata": {}
  },
  {
   "cell_type": "markdown",
   "source": [
    "### Transform y by TransformedTargetRegressor"
   ],
   "metadata": {}
  },
  {
   "cell_type": "code",
   "execution_count": 151,
   "source": [
    "%%time\n",
    "from sklearn.compose import TransformedTargetRegressor\n",
    "transformer = StandardScaler()\n",
    "regressor = make_pipeline(StandardScaler(), PCA(whiten = True), Ridge())\n",
    "regr = TransformedTargetRegressor(regressor=regressor,\n",
    "                                 transformer=transformer)\n",
    "params = {'regressor__ridge__alpha': np.logspace(-3, 3, 7)}\n",
    "grid = GridSearchCV(regr, param_grid = params, cv = 5, n_jobs = -1)\n",
    "\n",
    "grid.fit(X, y)\n",
    "\n",
    "print('The best cv score: {:.2f}'.format(grid.best_score_))\n",
    "print('The best parameter: {}'.format(grid.best_params_))\n",
    "print(grid.best_estimator_)"
   ],
   "outputs": [
    {
     "output_type": "stream",
     "name": "stdout",
     "text": [
      "The best cv score: 0.02\n",
      "The best parameter: {'regressor__ridge__alpha': 0.001}\n",
      "TransformedTargetRegressor(check_inverse=True, func=None, inverse_func=None,\n",
      "                           regressor=Pipeline(memory=None,\n",
      "                                              steps=[('standardscaler',\n",
      "                                                      StandardScaler(copy=True,\n",
      "                                                                     with_mean=True,\n",
      "                                                                     with_std=True)),\n",
      "                                                     ('pca',\n",
      "                                                      PCA(copy=True,\n",
      "                                                          iterated_power='auto',\n",
      "                                                          n_components=None,\n",
      "                                                          random_state=None,\n",
      "                                                          svd_solver='auto',\n",
      "                                                          tol=0.0,\n",
      "                                                          whiten=True)),\n",
      "                                                     ('ridge',\n",
      "                                                      Ridge(alpha=0.001,\n",
      "                                                            copy_X=True,\n",
      "                                                            fit_intercept=True,\n",
      "                                                            max_iter=None,\n",
      "                                                            normalize=False,\n",
      "                                                            random_state=None,\n",
      "                                                            solver='auto',\n",
      "                                                            tol=0.001))],\n",
      "                                              verbose=False),\n",
      "                           transformer=StandardScaler(copy=True, with_mean=True,\n",
      "                                                      with_std=True))\n",
      "CPU times: user 185 ms, sys: 17.2 ms, total: 202 ms\n",
      "Wall time: 422 ms\n"
     ]
    }
   ],
   "metadata": {}
  },
  {
   "cell_type": "code",
   "execution_count": 152,
   "source": [
    "%%time\n",
    "from sklearn.model_selection import GridSearchCV\n",
    "from sklearn.preprocessing import StandardScaler\n",
    "from sklearn.decomposition import PCA\n",
    "from sklearn.svm import SVR\n",
    "from sklearn.pipeline import make_pipeline\n",
    "from sklearn.compose import TransformedTargetRegressor\n",
    "\n",
    "pipe = make_pipeline(StandardScaler(), PCA(n_components = 5, whiten = True), SVR())\n",
    "regr = TransformedTargetRegressor(regressor = pipe,\n",
    "                                 transformer = StandardScaler())\n",
    "params = {\n",
    "    'regressor__svr__C': np.logspace(-3, 3, 7),\n",
    "    'regressor__svr__gamma': np.logspace(-3, 3, 7)\n",
    "}\n",
    "\n",
    "grid = GridSearchCV(regr, param_grid = params, cv = 5, n_jobs = -1)\n",
    "\n",
    "grid.fit(X, y)\n",
    "\n",
    "print('The best cv score: {:.2f}'.format(grid.best_score_))\n",
    "print('The best parameter: {}'.format(grid.best_params_))\n",
    "print(grid.best_estimator_)"
   ],
   "outputs": [
    {
     "output_type": "stream",
     "name": "stdout",
     "text": [
      "The best cv score: 0.08\n",
      "The best parameter: {'regressor__svr__C': 100.0, 'regressor__svr__gamma': 0.001}\n",
      "TransformedTargetRegressor(check_inverse=True, func=None, inverse_func=None,\n",
      "                           regressor=Pipeline(memory=None,\n",
      "                                              steps=[('standardscaler',\n",
      "                                                      StandardScaler(copy=True,\n",
      "                                                                     with_mean=True,\n",
      "                                                                     with_std=True)),\n",
      "                                                     ('pca',\n",
      "                                                      PCA(copy=True,\n",
      "                                                          iterated_power='auto',\n",
      "                                                          n_components=5,\n",
      "                                                          random_state=None,\n",
      "                                                          svd_solver='auto',\n",
      "                                                          tol=0.0,\n",
      "                                                          whiten=True)),\n",
      "                                                     ('svr',\n",
      "                                                      SVR(C=100.0,\n",
      "                                                          cache_size=200,\n",
      "                                                          coef0=0.0, degree=3,\n",
      "                                                          epsilon=0.1,\n",
      "                                                          gamma=0.001,\n",
      "                                                          kernel='rbf',\n",
      "                                                          max_iter=-1,\n",
      "                                                          shrinking=True,\n",
      "                                                          tol=0.001,\n",
      "                                                          verbose=False))],\n",
      "                                              verbose=False),\n",
      "                           transformer=StandardScaler(copy=True, with_mean=True,\n",
      "                                                      with_std=True))\n",
      "CPU times: user 765 ms, sys: 36.6 ms, total: 802 ms\n",
      "Wall time: 1.78 s\n"
     ]
    }
   ],
   "metadata": {}
  },
  {
   "cell_type": "code",
   "execution_count": 155,
   "source": [
    "%%time\n",
    "from sklearn.model_selection import GridSearchCV\n",
    "from sklearn.decomposition import NMF\n",
    "from sklearn.svm import SVR\n",
    "from sklearn.pipeline import make_pipeline\n",
    "from sklearn.compose import TransformedTargetRegressor\n",
    "\n",
    "pipe = make_pipeline(NMF(n_components = 5, random_state = 24), SVR())\n",
    "regr = TransformedTargetRegressor(regressor = pipe, transformer = StandardScaler())\n",
    "params = {\n",
    "    'regressor__svr__C': np.logspace(0, 7, 8),\n",
    "    'regressor__svr__gamma': np.logspace(-8, 1, 10)\n",
    "}\n",
    "grid = GridSearchCV(regr, param_grid = params, cv = 5, n_jobs = -1)\n",
    "\n",
    "grid.fit(X, y)\n",
    "\n",
    "print('The best cv score: {:.2f}'.format(grid.best_score_))\n",
    "print('The best parameter: {}'.format(grid.best_params_))\n",
    "print(grid.best_estimator_)"
   ],
   "outputs": [
    {
     "output_type": "stream",
     "name": "stdout",
     "text": [
      "The best cv score: 0.05\n",
      "The best parameter: {'regressor__svr__C': 1000.0, 'regressor__svr__gamma': 1e-08}\n",
      "TransformedTargetRegressor(check_inverse=True, func=None, inverse_func=None,\n",
      "                           regressor=Pipeline(memory=None,\n",
      "                                              steps=[('nmf',\n",
      "                                                      NMF(alpha=0.0,\n",
      "                                                          beta_loss='frobenius',\n",
      "                                                          init=None,\n",
      "                                                          l1_ratio=0.0,\n",
      "                                                          max_iter=200,\n",
      "                                                          n_components=5,\n",
      "                                                          random_state=24,\n",
      "                                                          shuffle=False,\n",
      "                                                          solver='cd',\n",
      "                                                          tol=0.0001,\n",
      "                                                          verbose=0)),\n",
      "                                                     ('svr',\n",
      "                                                      SVR(C=1000.0,\n",
      "                                                          cache_size=200,\n",
      "                                                          coef0=0.0, degree=3,\n",
      "                                                          epsilon=0.1,\n",
      "                                                          gamma=1e-08,\n",
      "                                                          kernel='rbf',\n",
      "                                                          max_iter=-1,\n",
      "                                                          shrinking=True,\n",
      "                                                          tol=0.001,\n",
      "                                                          verbose=False))],\n",
      "                                              verbose=False),\n",
      "                           transformer=StandardScaler(copy=True, with_mean=True,\n",
      "                                                      with_std=True))\n",
      "CPU times: user 1.61 s, sys: 86.9 ms, total: 1.7 s\n",
      "Wall time: 20.6 s\n"
     ]
    }
   ],
   "metadata": {}
  },
  {
   "cell_type": "code",
   "execution_count": 159,
   "source": [
    "result_df = pd.DataFrame(grid.cv_results_)\n",
    "result_df = result_df[result_df.mean_test_score > -1].reset_index(drop = True)"
   ],
   "outputs": [],
   "metadata": {}
  },
  {
   "cell_type": "code",
   "execution_count": 160,
   "source": [
    "from mpl_toolkits.mplot3d import Axes3D\n",
    "from matplotlib import cm\n",
    "\n",
    "fig = plt.figure(figsize = (7,5))\n",
    "ax = fig.gca(projection='3d')\n",
    "xx = result_df.param_regressor__svr__gamma.astype(float)\n",
    "yy = result_df.param_regressor__svr__C.astype(float)\n",
    "zz = result_df.mean_test_score.astype(float)\n",
    "max_index = np.argmax(zz)\n",
    "\n",
    "surf = ax.plot_trisurf(np.log10(xx), np.log10(yy), zz, cmap=cm.Greens, linewidth=0.1)\n",
    "ax.scatter3D(np.log10(xx), np.log10(yy), zz, c = 'orange', s = 5)\n",
    "# mark the best score\n",
    "ax.scatter3D(np.log10(xx), np.log10(yy), zz, c = 'w', s = 5, alpha = 1)\n",
    "text = '$\\gamma :{:.2e}, C:{:.2e}$,\\nscore:{:.2f}'.format(xx[max_index], yy[max_index], zz[max_index])\n",
    "ax.text(np.log10(xx[max_index]), np.log10(yy[max_index]), \n",
    "        zz[max_index],text,\n",
    "        fontsize=12)\n",
    "\n",
    "ax.set_xlabel('$log(\\gamma)$')\n",
    "ax.set_ylabel('log(C)')\n",
    "ax.set_zlabel('mean test score')\n",
    "fig.colorbar(surf, shrink=0.5, aspect=5)\n",
    "fig.savefig('toc_nmr+svr_toc_grid_scores_3D.png')"
   ],
   "outputs": [
    {
     "output_type": "display_data",
     "data": {
      "text/plain": [
       "<Figure size 504x360 with 2 Axes>"
      ],
      "image/png": "[encoded data removed]"
     },
     "metadata": {
      "needs_background": "light"
     }
    }
   ],
   "metadata": {}
  },
  {
   "cell_type": "markdown",
   "source": [
    "### Manualy transform y"
   ],
   "metadata": {}
  },
  {
   "cell_type": "code",
   "execution_count": 164,
   "source": [
    "%%time\n",
    "from sklearn.preprocessing import StandardScaler\n",
    "from sklearn.decomposition import PCA\n",
    "from sklearn.linear_model import Ridge\n",
    "from sklearn.model_selection import train_test_split\n",
    "from sklearn.pipeline import make_pipeline\n",
    "\n",
    "X_train, X_test, y_train, y_test = train_test_split(X, y, random_state = 0)\n",
    "scaler = StandardScaler()\n",
    "y_train_s = scaler.fit_transform(y_train.reshape(-1,1))\n",
    "y_test_s = scaler.transform(y_test.reshape(-1,1))\n",
    "ridge = make_pipeline(StandardScaler(), PCA(whiten = True), Ridge())\n",
    "ridge.fit(X_train, y_train_s)\n",
    "\n",
    "print('Training set score: {:.2f}'.format(ridge.score(X_train, y_train_s)))\n",
    "print('Test set score: {:.2f}'.format(ridge.score(X_test, y_test_s)))"
   ],
   "outputs": [
    {
     "output_type": "stream",
     "name": "stdout",
     "text": [
      "Training set score: 1.00\n",
      "Test set score: 0.37\n",
      "CPU times: user 21.2 ms, sys: 3.84 ms, total: 25 ms\n",
      "Wall time: 17.8 ms\n"
     ]
    }
   ],
   "metadata": {}
  },
  {
   "cell_type": "markdown",
   "source": [
    "## TC"
   ],
   "metadata": {}
  },
  {
   "cell_type": "code",
   "execution_count": 125,
   "source": [
    "y = merge_df.tc_percent.values"
   ],
   "outputs": [],
   "metadata": {}
  },
  {
   "cell_type": "markdown",
   "source": [
    "## GridsearchCV"
   ],
   "metadata": {}
  },
  {
   "cell_type": "code",
   "execution_count": 23,
   "source": [
    "%%time\n",
    "from sklearn.model_selection import GridSearchCV\n",
    "from sklearn.preprocessing import StandardScaler\n",
    "from sklearn.decomposition import PCA\n",
    "from sklearn.linear_model import Ridge\n",
    "from sklearn.pipeline import make_pipeline\n",
    "\n",
    "ridge = make_pipeline(StandardScaler(), PCA(whiten = True), Ridge())\n",
    "params = {'ridge__alpha': np.logspace(-3, 3, 7)}\n",
    "grid = GridSearchCV(ridge, param_grid = params, cv = 5, n_jobs = -1)\n",
    "\n",
    "grid.fit(X, y)\n",
    "\n",
    "print('The best cv score: {:.2f}'.format(grid.best_score_))\n",
    "print('The best parameter: {}'.format(grid.best_params_))\n",
    "print(grid.best_estimator_)"
   ],
   "outputs": [
    {
     "output_type": "stream",
     "name": "stdout",
     "text": [
      "The best cv score: 0.87\n",
      "The best parameter: {'ridge__alpha': 0.001}\n",
      "Pipeline(memory=None,\n",
      "         steps=[('standardscaler',\n",
      "                 StandardScaler(copy=True, with_mean=True, with_std=True)),\n",
      "                ('pca',\n",
      "                 PCA(copy=True, iterated_power='auto', n_components=None,\n",
      "                     random_state=None, svd_solver='auto', tol=0.0,\n",
      "                     whiten=True)),\n",
      "                ('ridge',\n",
      "                 Ridge(alpha=0.001, copy_X=True, fit_intercept=True,\n",
      "                       max_iter=None, normalize=False, random_state=None,\n",
      "                       solver='auto', tol=0.001))],\n",
      "         verbose=False)\n",
      "CPU times: user 139 ms, sys: 15 ms, total: 154 ms\n",
      "Wall time: 324 ms\n"
     ]
    }
   ],
   "metadata": {}
  },
  {
   "cell_type": "code",
   "execution_count": 24,
   "source": [
    "%%time\n",
    "from sklearn.model_selection import GridSearchCV\n",
    "from sklearn.preprocessing import StandardScaler\n",
    "from sklearn.decomposition import PCA\n",
    "from sklearn.svm import SVR\n",
    "from sklearn.pipeline import make_pipeline\n",
    "\n",
    "pipe = make_pipeline(StandardScaler(), PCA(n_components = 5, whiten = True), SVR())\n",
    "params = {\n",
    "    'svr__C': np.logspace(-3, 3, 7),\n",
    "    'svr__gamma': np.logspace(-3, 3, 7)\n",
    "}\n",
    "grid = GridSearchCV(pipe, param_grid = params, cv = 5, n_jobs = -1)\n",
    "\n",
    "grid.fit(X, y)\n",
    "\n",
    "print('The best cv score: {:.2f}'.format(grid.best_score_))\n",
    "print('The best parameter: {}'.format(grid.best_params_))\n",
    "print(grid.best_estimator_)"
   ],
   "outputs": [
    {
     "output_type": "stream",
     "name": "stdout",
     "text": [
      "The best cv score: 0.88\n",
      "The best parameter: {'svr__C': 100.0, 'svr__gamma': 0.01}\n",
      "Pipeline(memory=None,\n",
      "         steps=[('standardscaler',\n",
      "                 StandardScaler(copy=True, with_mean=True, with_std=True)),\n",
      "                ('pca',\n",
      "                 PCA(copy=True, iterated_power='auto', n_components=5,\n",
      "                     random_state=None, svd_solver='auto', tol=0.0,\n",
      "                     whiten=True)),\n",
      "                ('svr',\n",
      "                 SVR(C=100.0, cache_size=200, coef0=0.0, degree=3, epsilon=0.1,\n",
      "                     gamma=0.01, kernel='rbf', max_iter=-1, shrinking=True,\n",
      "                     tol=0.001, verbose=False))],\n",
      "         verbose=False)\n",
      "CPU times: user 642 ms, sys: 44.9 ms, total: 687 ms\n",
      "Wall time: 1.9 s\n"
     ]
    }
   ],
   "metadata": {}
  },
  {
   "cell_type": "code",
   "execution_count": 126,
   "source": [
    "%%time\n",
    "from sklearn.model_selection import GridSearchCV\n",
    "from sklearn.decomposition import NMF\n",
    "from sklearn.svm import SVR\n",
    "from sklearn.pipeline import make_pipeline\n",
    "\n",
    "pipe = make_pipeline(NMF(n_components = 5, random_state = 24), SVR())\n",
    "params = {\n",
    "    'svr__C': np.logspace(0, 7, 8),\n",
    "    'svr__gamma': np.logspace(-8, 1, 10)\n",
    "}\n",
    "grid = GridSearchCV(pipe, param_grid = params, cv = 5, n_jobs = -1)\n",
    "\n",
    "grid.fit(X, y)\n",
    "\n",
    "print('The best cv score: {:.2f}'.format(grid.best_score_))\n",
    "print('The best parameter: {}'.format(grid.best_params_))\n",
    "print(grid.best_estimator_)"
   ],
   "outputs": [
    {
     "output_type": "stream",
     "name": "stdout",
     "text": [
      "The best cv score: 0.91\n",
      "The best parameter: {'svr__C': 10000.0, 'svr__gamma': 1e-06}\n",
      "Pipeline(memory=None,\n",
      "         steps=[('nmf',\n",
      "                 NMF(alpha=0.0, beta_loss='frobenius', init=None, l1_ratio=0.0,\n",
      "                     max_iter=200, n_components=5, random_state=24,\n",
      "                     shuffle=False, solver='cd', tol=0.0001, verbose=0)),\n",
      "                ('svr',\n",
      "                 SVR(C=10000.0, cache_size=200, coef0=0.0, degree=3,\n",
      "                     epsilon=0.1, gamma=1e-06, kernel='rbf', max_iter=-1,\n",
      "                     shrinking=True, tol=0.001, verbose=False))],\n",
      "         verbose=False)\n",
      "CPU times: user 1.44 s, sys: 91.7 ms, total: 1.53 s\n",
      "Wall time: 25.7 s\n"
     ]
    }
   ],
   "metadata": {}
  },
  {
   "cell_type": "code",
   "execution_count": 131,
   "source": [
    "result_df = pd.DataFrame(grid.cv_results_)\n",
    "result_df = result_df[result_df.mean_test_score > -1].reset_index(drop = True)"
   ],
   "outputs": [],
   "metadata": {}
  },
  {
   "cell_type": "code",
   "execution_count": 132,
   "source": [
    "from mpl_toolkits.mplot3d import Axes3D\n",
    "from matplotlib import cm\n",
    "\n",
    "fig = plt.figure(figsize = (7,5))\n",
    "ax = fig.gca(projection='3d')\n",
    "xx = result_df.param_svr__gamma.astype(float)\n",
    "yy = result_df.param_svr__C.astype(float)\n",
    "zz = result_df.mean_test_score.astype(float)\n",
    "max_index = np.argmax(zz)\n",
    "\n",
    "surf = ax.plot_trisurf(np.log10(xx), np.log10(yy), zz, cmap=cm.Greens, linewidth=0.1)\n",
    "ax.scatter3D(np.log10(xx), np.log10(yy), zz, c = 'orange', s = 5)\n",
    "# mark the best score\n",
    "ax.scatter3D(np.log10(xx), np.log10(yy), zz, c = 'w', s = 5, alpha = 1)\n",
    "text = '$\\gamma :{:.2e}, C:{:.2e}$,\\nscore:{:.2f}'.format(xx[max_index], yy[max_index], zz[max_index])\n",
    "ax.text(np.log10(xx[max_index]), np.log10(yy[max_index]), \n",
    "        zz[max_index],text,\n",
    "        fontsize=12)\n",
    "\n",
    "ax.set_xlabel('$log(\\gamma)$')\n",
    "ax.set_ylabel('log(C)')\n",
    "ax.set_zlabel('mean test score')\n",
    "fig.colorbar(surf, shrink=0.5, aspect=5)\n",
    "fig.savefig('tc_nmr+svr_toc_grid_scores_3D.png')"
   ],
   "outputs": [
    {
     "output_type": "display_data",
     "data": {
      "text/plain": [
       "<Figure size 504x360 with 2 Axes>"
      ],
      "image/png": "[encoded data removed]"
     },
     "metadata": {
      "needs_background": "light"
     }
    }
   ],
   "metadata": {}
  },
  {
   "cell_type": "markdown",
   "source": [
    "# Visualize the prediction accuracy\n",
    "$CaCO_{3}$ and TC<br>\n",
    "The best model of NMF+SVR."
   ],
   "metadata": {}
  },
  {
   "cell_type": "code",
   "execution_count": 3,
   "source": [
    "y_ca = merge_df.caco3_percent.values\n",
    "y_tc = merge_df.tc_percent.values\n",
    "#y_toc = merge_df.toc_percent.values"
   ],
   "outputs": [],
   "metadata": {}
  },
  {
   "cell_type": "code",
   "execution_count": 5,
   "source": [
    "from sklearn.decomposition import NMF\n",
    "from sklearn.svm import SVR\n",
    "from sklearn.pipeline import make_pipeline\n",
    "\n",
    "ca_svr = make_pipeline(NMF(n_components = 5, random_state = 24), SVR(C = 1000000, gamma = 1e-07))\n",
    "ca_svr.fit(X,y_ca)\n",
    "tc_svr = make_pipeline(NMF(n_components = 5, random_state = 24), SVR(C = 10000, gamma = 1e-06))\n",
    "tc_svr.fit(X,y_tc)\n",
    "\n",
    "# The score of cross-validation is more robust than this score. \n",
    "# This one is just to see how the fitting goes.\n",
    "print('The score of the CaCO3: {:.2f}'.format(ca_svr.score(X, y_ca)))\n",
    "print('The score of the TC: {:.2f}'.format(tc_svr.score(X, y_tc)))"
   ],
   "outputs": [
    {
     "output_type": "stream",
     "name": "stdout",
     "text": [
      "The score of the CaCO3: 0.95\n",
      "The score of the TC: 0.96\n"
     ]
    }
   ],
   "metadata": {}
  },
  {
   "cell_type": "code",
   "execution_count": 21,
   "source": [
    "y_p = [ca_svr.predict(X), tc_svr.predict(X)]\n",
    "scores = [0.92, 0.91] # this is from the cross-validation results above\n",
    "\n",
    "fig, axes = plt.subplots(1, 2, figsize = (7, 5))\n",
    "\n",
    "for ax, y, prediction, title, score in zip(axes, [y_ca, y_tc], y_p, [r'$CaCO_{3}$ (%)', 'TC (%)'], scores):\n",
    "    ax.scatter(y, prediction)\n",
    "    ax.set_xlabel('True value')\n",
    "    ax.set_title(title)\n",
    "    ax.text(0.04, 0.92, 'N=38\\n5 folds cross-validation score:\\n{}={}'.format(r'$R^{2}$', score), \n",
    "            horizontalalignment='left', verticalalignment='center', transform=ax.transAxes)\n",
    "axes[0].set_ylabel('Prediction')\n",
    "fig.tight_layout()\n",
    "fig.savefig('truevalue_prediction.png')"
   ],
   "outputs": [
    {
     "output_type": "display_data",
     "data": {
      "text/plain": [
       "<Figure size 504x360 with 2 Axes>"
      ],
      "image/png": "[encoded data removed]"
     },
     "metadata": {
      "needs_background": "light"
     }
    }
   ],
   "metadata": {}
  },
  {
   "cell_type": "markdown",
   "source": [
    "# Summary\n",
    "After larger scale of grid search on the CaCO3 data, the combination of NMF+SVR actually can provide better performance, 0.92. Therefore, I use the combination of NMF+SVR for gridsearch on TOC and TC. TC provide similarily good performance, 0.91, while TOC is so bad. I can produce the TC and CaCO3 profiles of these two cores in the resolution of XRF when JC wishs.\n",
    "\n",
    "TOC-problem<br>\n",
    "Even with the help of transforming y (TOC) by StandardScaler(), the performance is only improved from negative to 0.05. But, I'm not sure if the way of using TransformedTargetRegressor() is right. I'll mannualy do the grid search if JC is interested in that."
   ],
   "metadata": {}
  },
  {
   "cell_type": "markdown",
   "source": [
    "# Produce TC and $CaCO_{3}$ profiles"
   ],
   "metadata": {}
  },
  {
   "cell_type": "markdown",
   "source": [
    "# Read and build spectral dataset of core SO264-14-1\n",
    "For the core SO264-15-2, I just need to read the dataset I prepared already."
   ],
   "metadata": {}
  },
  {
   "cell_type": "code",
   "execution_count": 201,
   "source": [
    "spe_dir = glob.glob('SO264-14-1/Run 1 at  10kV/*.spe')\n",
    "spe_all = []\n",
    "depth_all = []\n",
    "cps_all = []\n",
    "file_name = []\n",
    "\n",
    "for spe in spe_dir:\n",
    "    start_depth = int(spe.split()[3].split('_')[-1])\n",
    "    file_name.append(spe.split('/')[-1])\n",
    "    with open(spe, 'r') as f:\n",
    "        content = []\n",
    "        lines = f.readlines()\n",
    "        for line in lines[49:]:\n",
    "            content = np.hstack((content, line.split()))\n",
    "\n",
    "        spe_all.append(content.astype(int))\n",
    "        # the depth read from the xrf depth is in mm, but the composite depth is in cm\n",
    "        # also I check the depth is always starts from 0.0 and in 10.0 mm resulotion\n",
    "        # so I use this trick to make it to cm  e.g. '1000.0\\n'\n",
    "        depth_all.append(int(lines[13][:-4]) + start_depth)\n",
    "        cps_all.append(int(lines[28]))"
   ],
   "outputs": [],
   "metadata": {}
  },
  {
   "cell_type": "code",
   "execution_count": 203,
   "source": [
    "data_df = pd.DataFrame(spe_all)\n",
    "data_df['composite_depth_cm'] = depth_all\n",
    "data_df['cps'] = cps_all\n",
    "data_df['file_name'] = file_name"
   ],
   "outputs": [],
   "metadata": {}
  },
  {
   "cell_type": "code",
   "execution_count": 204,
   "source": [
    "data_df.head()"
   ],
   "outputs": [
    {
     "output_type": "execute_result",
     "data": {
      "text/plain": [
       "   0  1  2  3  4  5  6  7  8  9  ...  2041  2042  2043  2044  2045  2046  \\\n",
       "0  0  0  0  0  0  0  0  0  0  0  ...     0     0     0     0     0     0   \n",
       "1  0  0  0  0  0  0  0  0  0  0  ...     0     0     0     0     0     0   \n",
       "2  0  0  0  0  0  0  0  0  0  0  ...     0     0     0     0     0     0   \n",
       "3  0  0  0  0  0  0  0  0  0  0  ...     0     0     0     0     0     0   \n",
       "4  0  0  0  0  0  0  0  0  0  0  ...     0     0     0     0     0     0   \n",
       "\n",
       "   2047  composite_depth_cm     cps  \\\n",
       "0     0                1708  218346   \n",
       "1     0                1703  213920   \n",
       "2     0                1072  161034   \n",
       "3     0                1075  196662   \n",
       "4     0                 792  172075   \n",
       "\n",
       "                                           file_name  \n",
       "0  SO264-14-1_1641  670.0mm  10s  10kV 150uA No-F...  \n",
       "1  SO264-14-1_1641  620.0mm  10s  10kV 150uA No-F...  \n",
       "2  SO264-14-1_1041  310.0mm  10s  10kV 150uA No-F...  \n",
       "3  SO264-14-1_1041  340.0mm  10s  10kV 150uA No-F...  \n",
       "4  SO264-14-1_0741  510.0mm  10s  10kV 150uA No-F...  \n",
       "\n",
       "[5 rows x 2051 columns]"
      ],
      "text/html": [
       "<div>\n",
       "<style scoped>\n",
       "    .dataframe tbody tr th:only-of-type {\n",
       "        vertical-align: middle;\n",
       "    }\n",
       "\n",
       "    .dataframe tbody tr th {\n",
       "        vertical-align: top;\n",
       "    }\n",
       "\n",
       "    .dataframe thead th {\n",
       "        text-align: right;\n",
       "    }\n",
       "</style>\n",
       "<table border=\"1\" class=\"dataframe\">\n",
       "  <thead>\n",
       "    <tr style=\"text-align: right;\">\n",
       "      <th></th>\n",
       "      <th>0</th>\n",
       "      <th>1</th>\n",
       "      <th>2</th>\n",
       "      <th>3</th>\n",
       "      <th>4</th>\n",
       "      <th>5</th>\n",
       "      <th>6</th>\n",
       "      <th>7</th>\n",
       "      <th>8</th>\n",
       "      <th>9</th>\n",
       "      <th>...</th>\n",
       "      <th>2041</th>\n",
       "      <th>2042</th>\n",
       "      <th>2043</th>\n",
       "      <th>2044</th>\n",
       "      <th>2045</th>\n",
       "      <th>2046</th>\n",
       "      <th>2047</th>\n",
       "      <th>composite_depth_cm</th>\n",
       "      <th>cps</th>\n",
       "      <th>file_name</th>\n",
       "    </tr>\n",
       "  </thead>\n",
       "  <tbody>\n",
       "    <tr>\n",
       "      <th>0</th>\n",
       "      <td>0</td>\n",
       "      <td>0</td>\n",
       "      <td>0</td>\n",
       "      <td>0</td>\n",
       "      <td>0</td>\n",
       "      <td>0</td>\n",
       "      <td>0</td>\n",
       "      <td>0</td>\n",
       "      <td>0</td>\n",
       "      <td>0</td>\n",
       "      <td>...</td>\n",
       "      <td>0</td>\n",
       "      <td>0</td>\n",
       "      <td>0</td>\n",
       "      <td>0</td>\n",
       "      <td>0</td>\n",
       "      <td>0</td>\n",
       "      <td>0</td>\n",
       "      <td>1708</td>\n",
       "      <td>218346</td>\n",
       "      <td>SO264-14-1_1641  670.0mm  10s  10kV 150uA No-F...</td>\n",
       "    </tr>\n",
       "    <tr>\n",
       "      <th>1</th>\n",
       "      <td>0</td>\n",
       "      <td>0</td>\n",
       "      <td>0</td>\n",
       "      <td>0</td>\n",
       "      <td>0</td>\n",
       "      <td>0</td>\n",
       "      <td>0</td>\n",
       "      <td>0</td>\n",
       "      <td>0</td>\n",
       "      <td>0</td>\n",
       "      <td>...</td>\n",
       "      <td>0</td>\n",
       "      <td>0</td>\n",
       "      <td>0</td>\n",
       "      <td>0</td>\n",
       "      <td>0</td>\n",
       "      <td>0</td>\n",
       "      <td>0</td>\n",
       "      <td>1703</td>\n",
       "      <td>213920</td>\n",
       "      <td>SO264-14-1_1641  620.0mm  10s  10kV 150uA No-F...</td>\n",
       "    </tr>\n",
       "    <tr>\n",
       "      <th>2</th>\n",
       "      <td>0</td>\n",
       "      <td>0</td>\n",
       "      <td>0</td>\n",
       "      <td>0</td>\n",
       "      <td>0</td>\n",
       "      <td>0</td>\n",
       "      <td>0</td>\n",
       "      <td>0</td>\n",
       "      <td>0</td>\n",
       "      <td>0</td>\n",
       "      <td>...</td>\n",
       "      <td>0</td>\n",
       "      <td>0</td>\n",
       "      <td>0</td>\n",
       "      <td>0</td>\n",
       "      <td>0</td>\n",
       "      <td>0</td>\n",
       "      <td>0</td>\n",
       "      <td>1072</td>\n",
       "      <td>161034</td>\n",
       "      <td>SO264-14-1_1041  310.0mm  10s  10kV 150uA No-F...</td>\n",
       "    </tr>\n",
       "    <tr>\n",
       "      <th>3</th>\n",
       "      <td>0</td>\n",
       "      <td>0</td>\n",
       "      <td>0</td>\n",
       "      <td>0</td>\n",
       "      <td>0</td>\n",
       "      <td>0</td>\n",
       "      <td>0</td>\n",
       "      <td>0</td>\n",
       "      <td>0</td>\n",
       "      <td>0</td>\n",
       "      <td>...</td>\n",
       "      <td>0</td>\n",
       "      <td>0</td>\n",
       "      <td>0</td>\n",
       "      <td>0</td>\n",
       "      <td>0</td>\n",
       "      <td>0</td>\n",
       "      <td>0</td>\n",
       "      <td>1075</td>\n",
       "      <td>196662</td>\n",
       "      <td>SO264-14-1_1041  340.0mm  10s  10kV 150uA No-F...</td>\n",
       "    </tr>\n",
       "    <tr>\n",
       "      <th>4</th>\n",
       "      <td>0</td>\n",
       "      <td>0</td>\n",
       "      <td>0</td>\n",
       "      <td>0</td>\n",
       "      <td>0</td>\n",
       "      <td>0</td>\n",
       "      <td>0</td>\n",
       "      <td>0</td>\n",
       "      <td>0</td>\n",
       "      <td>0</td>\n",
       "      <td>...</td>\n",
       "      <td>0</td>\n",
       "      <td>0</td>\n",
       "      <td>0</td>\n",
       "      <td>0</td>\n",
       "      <td>0</td>\n",
       "      <td>0</td>\n",
       "      <td>0</td>\n",
       "      <td>792</td>\n",
       "      <td>172075</td>\n",
       "      <td>SO264-14-1_0741  510.0mm  10s  10kV 150uA No-F...</td>\n",
       "    </tr>\n",
       "  </tbody>\n",
       "</table>\n",
       "<p>5 rows × 2051 columns</p>\n",
       "</div>"
      ]
     },
     "metadata": {},
     "execution_count": 204
    }
   ],
   "metadata": {}
  },
  {
   "cell_type": "code",
   "execution_count": 205,
   "source": [
    "data_df.shape"
   ],
   "outputs": [
    {
     "output_type": "execute_result",
     "data": {
      "text/plain": [
       "(1828, 2051)"
      ]
     },
     "metadata": {},
     "execution_count": 205
    }
   ],
   "metadata": {}
  },
  {
   "cell_type": "markdown",
   "source": [
    "## Check duplicates"
   ],
   "metadata": {}
  },
  {
   "cell_type": "code",
   "execution_count": 206,
   "source": [
    "data_df.loc[data_df.composite_depth_cm.duplicated(keep = False), ['file_name', 'composite_depth_cm']]#.to_csv('duplicates.csv')"
   ],
   "outputs": [
    {
     "output_type": "execute_result",
     "data": {
      "text/plain": [
       "                                              file_name  composite_depth_cm\n",
       "1051  SO264-14-1_0000  420.0mm  10s  10kV 150uA No-F...                  42\n",
       "1530  SO264-14-1_0041   10.0mm  10s  10kV 150uA No-F...                  42"
      ],
      "text/html": [
       "<div>\n",
       "<style scoped>\n",
       "    .dataframe tbody tr th:only-of-type {\n",
       "        vertical-align: middle;\n",
       "    }\n",
       "\n",
       "    .dataframe tbody tr th {\n",
       "        vertical-align: top;\n",
       "    }\n",
       "\n",
       "    .dataframe thead th {\n",
       "        text-align: right;\n",
       "    }\n",
       "</style>\n",
       "<table border=\"1\" class=\"dataframe\">\n",
       "  <thead>\n",
       "    <tr style=\"text-align: right;\">\n",
       "      <th></th>\n",
       "      <th>file_name</th>\n",
       "      <th>composite_depth_cm</th>\n",
       "    </tr>\n",
       "  </thead>\n",
       "  <tbody>\n",
       "    <tr>\n",
       "      <th>1051</th>\n",
       "      <td>SO264-14-1_0000  420.0mm  10s  10kV 150uA No-F...</td>\n",
       "      <td>42</td>\n",
       "    </tr>\n",
       "    <tr>\n",
       "      <th>1530</th>\n",
       "      <td>SO264-14-1_0041   10.0mm  10s  10kV 150uA No-F...</td>\n",
       "      <td>42</td>\n",
       "    </tr>\n",
       "  </tbody>\n",
       "</table>\n",
       "</div>"
      ]
     },
     "metadata": {},
     "execution_count": 206
    }
   ],
   "metadata": {}
  },
  {
   "cell_type": "markdown",
   "source": [
    "Only one pair of duplicate so I simply keep the first one."
   ],
   "metadata": {}
  },
  {
   "cell_type": "code",
   "execution_count": 207,
   "source": [
    "clean_df = data_df[~data_df.composite_depth_cm.duplicated()]\n",
    "clean_df.shape"
   ],
   "outputs": [
    {
     "output_type": "execute_result",
     "data": {
      "text/plain": [
       "(1827, 2051)"
      ]
     },
     "metadata": {},
     "execution_count": 207
    }
   ],
   "metadata": {}
  },
  {
   "cell_type": "markdown",
   "source": [
    "## Expot data"
   ],
   "metadata": {}
  },
  {
   "cell_type": "code",
   "execution_count": 208,
   "source": [
    "clean_df.to_csv('clean_spe_SO264-14-1.csv', index = False)"
   ],
   "outputs": [],
   "metadata": {}
  },
  {
   "cell_type": "markdown",
   "source": [
    "## Combile two cores' data"
   ],
   "metadata": {}
  },
  {
   "cell_type": "code",
   "execution_count": 219,
   "source": [
    "core_152_df = pd.read_csv('clean_spe_SO264-15-2.csv')\n",
    "core_141_df = pd.read_csv('clean_spe_SO264-14-1.csv')\n",
    "clean_df = pd.concat([core_152_df, core_141_df], axis = 0)\n",
    "print(core_152_df.shape)\n",
    "print(core_141_df.shape)\n",
    "print(clean_df.shape)"
   ],
   "outputs": [
    {
     "output_type": "stream",
     "name": "stdout",
     "text": [
      "(1340, 2051)\n",
      "(1827, 2051)\n",
      "(3167, 2051)\n"
     ]
    }
   ],
   "metadata": {}
  },
  {
   "cell_type": "markdown",
   "source": [
    "## Predict them!"
   ],
   "metadata": {}
  },
  {
   "cell_type": "code",
   "execution_count": 220,
   "source": [
    "mask_c = (clean_df.columns != 'file_name') & (clean_df.columns != 'composite_depth_cm')\n",
    "X = clean_df.loc[:, mask_c].values\n",
    "\n",
    "prediction_df = clean_df.loc[:, ~mask_c].copy()\n",
    "prediction_df['caco3_percent'] = ca_svr.predict(X)\n",
    "prediction_df['tc_percent'] = tc_svr.predict(X)"
   ],
   "outputs": [],
   "metadata": {}
  },
  {
   "cell_type": "code",
   "execution_count": 221,
   "source": [
    "prediction_df.head()"
   ],
   "outputs": [
    {
     "output_type": "execute_result",
     "data": {
      "text/plain": [
       "   composite_depth_cm                                          file_name  \\\n",
       "0                1082  SO264-15-2_1048  340.0mm  10s  10kV 150uA No-F...   \n",
       "1                1079  SO264-15-2_1048  310.0mm  10s  10kV 150uA No-F...   \n",
       "2                1404  SO264-15-2_1348  560.0mm  10s  10kV 150uA No-F...   \n",
       "3                 350  SO264-15-2_0348   20.0mm  10s  10kV 150uA No-F...   \n",
       "4                  41  SO264-15-2_0000  410.0mm  10s  10kV 150uA No-F...   \n",
       "\n",
       "   caco3_percent  tc_percent  \n",
       "0      73.851006    8.960110  \n",
       "1      77.408529    9.328562  \n",
       "2      46.358370    5.824017  \n",
       "3      53.129747    6.639450  \n",
       "4      46.268140    5.822396  "
      ],
      "text/html": [
       "<div>\n",
       "<style scoped>\n",
       "    .dataframe tbody tr th:only-of-type {\n",
       "        vertical-align: middle;\n",
       "    }\n",
       "\n",
       "    .dataframe tbody tr th {\n",
       "        vertical-align: top;\n",
       "    }\n",
       "\n",
       "    .dataframe thead th {\n",
       "        text-align: right;\n",
       "    }\n",
       "</style>\n",
       "<table border=\"1\" class=\"dataframe\">\n",
       "  <thead>\n",
       "    <tr style=\"text-align: right;\">\n",
       "      <th></th>\n",
       "      <th>composite_depth_cm</th>\n",
       "      <th>file_name</th>\n",
       "      <th>caco3_percent</th>\n",
       "      <th>tc_percent</th>\n",
       "    </tr>\n",
       "  </thead>\n",
       "  <tbody>\n",
       "    <tr>\n",
       "      <th>0</th>\n",
       "      <td>1082</td>\n",
       "      <td>SO264-15-2_1048  340.0mm  10s  10kV 150uA No-F...</td>\n",
       "      <td>73.851006</td>\n",
       "      <td>8.960110</td>\n",
       "    </tr>\n",
       "    <tr>\n",
       "      <th>1</th>\n",
       "      <td>1079</td>\n",
       "      <td>SO264-15-2_1048  310.0mm  10s  10kV 150uA No-F...</td>\n",
       "      <td>77.408529</td>\n",
       "      <td>9.328562</td>\n",
       "    </tr>\n",
       "    <tr>\n",
       "      <th>2</th>\n",
       "      <td>1404</td>\n",
       "      <td>SO264-15-2_1348  560.0mm  10s  10kV 150uA No-F...</td>\n",
       "      <td>46.358370</td>\n",
       "      <td>5.824017</td>\n",
       "    </tr>\n",
       "    <tr>\n",
       "      <th>3</th>\n",
       "      <td>350</td>\n",
       "      <td>SO264-15-2_0348   20.0mm  10s  10kV 150uA No-F...</td>\n",
       "      <td>53.129747</td>\n",
       "      <td>6.639450</td>\n",
       "    </tr>\n",
       "    <tr>\n",
       "      <th>4</th>\n",
       "      <td>41</td>\n",
       "      <td>SO264-15-2_0000  410.0mm  10s  10kV 150uA No-F...</td>\n",
       "      <td>46.268140</td>\n",
       "      <td>5.822396</td>\n",
       "    </tr>\n",
       "  </tbody>\n",
       "</table>\n",
       "</div>"
      ]
     },
     "metadata": {},
     "execution_count": 221
    }
   ],
   "metadata": {}
  },
  {
   "cell_type": "markdown",
   "source": [
    "### Export prediction"
   ],
   "metadata": {}
  },
  {
   "cell_type": "code",
   "execution_count": 224,
   "source": [
    "prediction_df.to_csv('prediction_tc+ca.csv', index = False)"
   ],
   "outputs": [],
   "metadata": {}
  }
 ],
 "metadata": {
  "kernelspec": {
   "display_name": "Python 3",
   "language": "python",
   "name": "python3"
  },
  "language_info": {
   "codemirror_mode": {
    "name": "ipython",
    "version": 3
   },
   "file_extension": ".py",
   "mimetype": "text/x-python",
   "name": "python",
   "nbconvert_exporter": "python",
   "pygments_lexer": "ipython3",
   "version": "3.7.7"
  }
 },
 "nbformat": 4,
 "nbformat_minor": 4
}