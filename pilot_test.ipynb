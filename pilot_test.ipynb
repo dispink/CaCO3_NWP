{
 "cells": [
  {
   "cell_type": "code",
   "execution_count": 2,
   "source": [
    "import numpy as np \n",
    "import pandas as pd\n",
    "import glob\n",
    "import matplotlib as mpl\n",
    "import matplotlib.pyplot as plt\n",
    "\n",
    "#plt.style.use('ggplot')\n",
    "plt.style.use('seaborn-colorblind')\n",
    "plt.style.use('dark_background')\n",
    "#mpl.rcParams['xtick.labelsize'] = 8\n",
    "\n",
    "plt.rcParams['axes.facecolor'] = '333333'\n",
    "plt.rcParams['figure.dpi'] = 300\n",
    "plt.rcParams['savefig.dpi'] = 300\n",
    "plt.rcParams['savefig.bbox'] = 'tight'\n",
    "plt.rcParams[\"savefig.facecolor\"] = '333333'\n",
    "\n",
    "%matplotlib inline\n",
    "\n",
    "import datetime\n",
    "date = datetime.datetime.now().strftime('%Y%m%d')"
   ],
   "outputs": [],
   "metadata": {}
  },
  {
   "cell_type": "markdown",
   "source": [
    "# Read and build spectral dataset"
   ],
   "metadata": {}
  },
  {
   "cell_type": "code",
   "execution_count": 2,
   "source": [
    "spe_dir = glob.glob('data/SO264-15-2/Run 1 at  10kV/*.spe')"
   ],
   "outputs": [],
   "metadata": {}
  },
  {
   "cell_type": "code",
   "execution_count": 3,
   "source": [
    "spe_all = []\n",
    "depth_all = []\n",
    "cps_all = []\n",
    "file_name = []\n",
    "\n",
    "for spe in spe_dir:\n",
    "    start_depth = int(spe.split()[3].split('_')[-1])\n",
    "    file_name.append(spe.split('/')[-1])\n",
    "    with open(spe, 'r') as f:\n",
    "        content = []\n",
    "        lines = f.readlines()\n",
    "        for line in lines[49:]:\n",
    "            content = np.hstack((content, line.split()))\n",
    "\n",
    "        spe_all.append(content.astype(int))\n",
    "        # the depth read from the xrf depth is in mm, but the composite depth is in cm\n",
    "        # also I check the depth is always starts from 0.0 and in 10.0 mm resulotion\n",
    "        # so I use this trick to make it to cm  e.g. '1000.0\\n'\n",
    "        depth_all.append(int(lines[13][:-4]) + start_depth)\n",
    "        cps_all.append(int(lines[28]))"
   ],
   "outputs": [],
   "metadata": {}
  },
  {
   "cell_type": "code",
   "execution_count": 4,
   "source": [
    "# just to check if all depth can be store in integer\n",
    "np.where((np.array(depth_all).round() == depth_all) == False)\n",
    "# the answer is positive so I use a trick to store them in integer to save space"
   ],
   "outputs": [
    {
     "output_type": "execute_result",
     "data": {
      "text/plain": [
       "(array([], dtype=int64),)"
      ]
     },
     "metadata": {},
     "execution_count": 4
    }
   ],
   "metadata": {}
  },
  {
   "cell_type": "code",
   "execution_count": 5,
   "source": [
    "data_df = pd.DataFrame(spe_all)\n",
    "data_df['composite_depth_cm'] = depth_all\n",
    "data_df['cps'] = cps_all\n",
    "data_df['file_name'] = file_name\n",
    "data_df.head()"
   ],
   "outputs": [
    {
     "output_type": "execute_result",
     "data": {
      "text/plain": [
       "   0  1  2  3  4  5  6  7  8  9  ...  2041  2042  2043  2044  2045  2046  \\\n",
       "0  0  0  0  0  0  0  0  0  0  0  ...     0     0     0     0     0     0   \n",
       "1  0  0  0  0  0  0  0  0  0  0  ...     0     0     0     0     0     0   \n",
       "2  0  0  0  0  0  0  0  0  0  0  ...     0     0     0     0     0     0   \n",
       "3  0  0  0  0  0  0  0  0  0  0  ...     0     0     0     0     0     0   \n",
       "4  0  0  0  0  0  0  0  0  0  0  ...     0     0     0     0     0     0   \n",
       "\n",
       "   2047  composite_depth_cm     cps  \\\n",
       "0     0                 888  169212   \n",
       "1     0                1437   56052   \n",
       "2     0                  27  106123   \n",
       "3     0                 982  147405   \n",
       "4     0                1106  216119   \n",
       "\n",
       "                                           file_name  \n",
       "0  SO264-15-2_0848  400.0mm  10s  10kV 150uA No-F...  \n",
       "1  SO264-15-2_1348  890.0mm  10s  10kV 150uA No-F...  \n",
       "2  SO264-15-2_0000  270.0mm  10s  10kV 150uA No-F...  \n",
       "3  SO264-15-2_0948  340.0mm  10s  10kV 150uA No-F...  \n",
       "4  SO264-15-2_1048  580.0mm  10s  10kV 150uA No-F...  \n",
       "\n",
       "[5 rows x 2051 columns]"
      ],
      "text/html": [
       "<div>\n",
       "<style scoped>\n",
       "    .dataframe tbody tr th:only-of-type {\n",
       "        vertical-align: middle;\n",
       "    }\n",
       "\n",
       "    .dataframe tbody tr th {\n",
       "        vertical-align: top;\n",
       "    }\n",
       "\n",
       "    .dataframe thead th {\n",
       "        text-align: right;\n",
       "    }\n",
       "</style>\n",
       "<table border=\"1\" class=\"dataframe\">\n",
       "  <thead>\n",
       "    <tr style=\"text-align: right;\">\n",
       "      <th></th>\n",
       "      <th>0</th>\n",
       "      <th>1</th>\n",
       "      <th>2</th>\n",
       "      <th>3</th>\n",
       "      <th>4</th>\n",
       "      <th>5</th>\n",
       "      <th>6</th>\n",
       "      <th>7</th>\n",
       "      <th>8</th>\n",
       "      <th>9</th>\n",
       "      <th>...</th>\n",
       "      <th>2041</th>\n",
       "      <th>2042</th>\n",
       "      <th>2043</th>\n",
       "      <th>2044</th>\n",
       "      <th>2045</th>\n",
       "      <th>2046</th>\n",
       "      <th>2047</th>\n",
       "      <th>composite_depth_cm</th>\n",
       "      <th>cps</th>\n",
       "      <th>file_name</th>\n",
       "    </tr>\n",
       "  </thead>\n",
       "  <tbody>\n",
       "    <tr>\n",
       "      <th>0</th>\n",
       "      <td>0</td>\n",
       "      <td>0</td>\n",
       "      <td>0</td>\n",
       "      <td>0</td>\n",
       "      <td>0</td>\n",
       "      <td>0</td>\n",
       "      <td>0</td>\n",
       "      <td>0</td>\n",
       "      <td>0</td>\n",
       "      <td>0</td>\n",
       "      <td>...</td>\n",
       "      <td>0</td>\n",
       "      <td>0</td>\n",
       "      <td>0</td>\n",
       "      <td>0</td>\n",
       "      <td>0</td>\n",
       "      <td>0</td>\n",
       "      <td>0</td>\n",
       "      <td>888</td>\n",
       "      <td>169212</td>\n",
       "      <td>SO264-15-2_0848  400.0mm  10s  10kV 150uA No-F...</td>\n",
       "    </tr>\n",
       "    <tr>\n",
       "      <th>1</th>\n",
       "      <td>0</td>\n",
       "      <td>0</td>\n",
       "      <td>0</td>\n",
       "      <td>0</td>\n",
       "      <td>0</td>\n",
       "      <td>0</td>\n",
       "      <td>0</td>\n",
       "      <td>0</td>\n",
       "      <td>0</td>\n",
       "      <td>0</td>\n",
       "      <td>...</td>\n",
       "      <td>0</td>\n",
       "      <td>0</td>\n",
       "      <td>0</td>\n",
       "      <td>0</td>\n",
       "      <td>0</td>\n",
       "      <td>0</td>\n",
       "      <td>0</td>\n",
       "      <td>1437</td>\n",
       "      <td>56052</td>\n",
       "      <td>SO264-15-2_1348  890.0mm  10s  10kV 150uA No-F...</td>\n",
       "    </tr>\n",
       "    <tr>\n",
       "      <th>2</th>\n",
       "      <td>0</td>\n",
       "      <td>0</td>\n",
       "      <td>0</td>\n",
       "      <td>0</td>\n",
       "      <td>0</td>\n",
       "      <td>0</td>\n",
       "      <td>0</td>\n",
       "      <td>0</td>\n",
       "      <td>0</td>\n",
       "      <td>0</td>\n",
       "      <td>...</td>\n",
       "      <td>0</td>\n",
       "      <td>0</td>\n",
       "      <td>0</td>\n",
       "      <td>0</td>\n",
       "      <td>0</td>\n",
       "      <td>0</td>\n",
       "      <td>0</td>\n",
       "      <td>27</td>\n",
       "      <td>106123</td>\n",
       "      <td>SO264-15-2_0000  270.0mm  10s  10kV 150uA No-F...</td>\n",
       "    </tr>\n",
       "    <tr>\n",
       "      <th>3</th>\n",
       "      <td>0</td>\n",
       "      <td>0</td>\n",
       "      <td>0</td>\n",
       "      <td>0</td>\n",
       "      <td>0</td>\n",
       "      <td>0</td>\n",
       "      <td>0</td>\n",
       "      <td>0</td>\n",
       "      <td>0</td>\n",
       "      <td>0</td>\n",
       "      <td>...</td>\n",
       "      <td>0</td>\n",
       "      <td>0</td>\n",
       "      <td>0</td>\n",
       "      <td>0</td>\n",
       "      <td>0</td>\n",
       "      <td>0</td>\n",
       "      <td>0</td>\n",
       "      <td>982</td>\n",
       "      <td>147405</td>\n",
       "      <td>SO264-15-2_0948  340.0mm  10s  10kV 150uA No-F...</td>\n",
       "    </tr>\n",
       "    <tr>\n",
       "      <th>4</th>\n",
       "      <td>0</td>\n",
       "      <td>0</td>\n",
       "      <td>0</td>\n",
       "      <td>0</td>\n",
       "      <td>0</td>\n",
       "      <td>0</td>\n",
       "      <td>0</td>\n",
       "      <td>0</td>\n",
       "      <td>0</td>\n",
       "      <td>0</td>\n",
       "      <td>...</td>\n",
       "      <td>0</td>\n",
       "      <td>0</td>\n",
       "      <td>0</td>\n",
       "      <td>0</td>\n",
       "      <td>0</td>\n",
       "      <td>0</td>\n",
       "      <td>0</td>\n",
       "      <td>1106</td>\n",
       "      <td>216119</td>\n",
       "      <td>SO264-15-2_1048  580.0mm  10s  10kV 150uA No-F...</td>\n",
       "    </tr>\n",
       "  </tbody>\n",
       "</table>\n",
       "<p>5 rows × 2051 columns</p>\n",
       "</div>"
      ]
     },
     "metadata": {},
     "execution_count": 5
    }
   ],
   "metadata": {}
  },
  {
   "cell_type": "code",
   "execution_count": 6,
   "source": [
    "data_df.shape"
   ],
   "outputs": [
    {
     "output_type": "execute_result",
     "data": {
      "text/plain": [
       "(1442, 2051)"
      ]
     },
     "metadata": {},
     "execution_count": 6
    }
   ],
   "metadata": {}
  },
  {
   "cell_type": "markdown",
   "source": [
    "## Check duplicates"
   ],
   "metadata": {}
  },
  {
   "cell_type": "code",
   "execution_count": 7,
   "source": [
    "data_df.loc[data_df.composite_depth_cm.duplicated(keep = False), ['file_name', 'composite_depth_cm']].to_csv('results/duplicates.csv')"
   ],
   "outputs": [],
   "metadata": {}
  },
  {
   "cell_type": "code",
   "execution_count": 8,
   "source": [
    "data_df.loc[data_df.composite_depth_cm.duplicated(), ['file_name', 'composite_depth_cm']]"
   ],
   "outputs": [
    {
     "output_type": "execute_result",
     "data": {
      "text/plain": [
       "                                              file_name  composite_depth_cm\n",
       "193   SO264-15-2_048   20.0mm  10s  10kV 150uA No-Fi...                  50\n",
       "363   SO264-15-2_048  330.0mm  10s  10kV 150uA No-Fi...                  81\n",
       "372   SO264-15-2_0048  100.0mm  10s  10kV 150uA No-F...                  58\n",
       "373   SO264-15-2_0048   60.0mm  10s  10kV 150uA No-F...                  54\n",
       "396   SO264-15-2_048  220.0mm  10s  10kV 150uA No-Fi...                  70\n",
       "...                                                 ...                 ...\n",
       "1401  SO264-15-2_0048  200.0mm  10s  10kV 150uA No-F...                  68\n",
       "1409  SO264-15-2_048  210.0mm  10s  10kV 150uA No-Fi...                  69\n",
       "1425  SO264-15-2_0048   50.0mm  10s  10kV 150uA No-F...                  53\n",
       "1426  SO264-15-2_0048  130.0mm  10s  10kV 150uA No-F...                  61\n",
       "1440  SO264-15-2_048  300.0mm  10s  10kV 150uA No-Fi...                  78\n",
       "\n",
       "[102 rows x 2 columns]"
      ],
      "text/html": [
       "<div>\n",
       "<style scoped>\n",
       "    .dataframe tbody tr th:only-of-type {\n",
       "        vertical-align: middle;\n",
       "    }\n",
       "\n",
       "    .dataframe tbody tr th {\n",
       "        vertical-align: top;\n",
       "    }\n",
       "\n",
       "    .dataframe thead th {\n",
       "        text-align: right;\n",
       "    }\n",
       "</style>\n",
       "<table border=\"1\" class=\"dataframe\">\n",
       "  <thead>\n",
       "    <tr style=\"text-align: right;\">\n",
       "      <th></th>\n",
       "      <th>file_name</th>\n",
       "      <th>composite_depth_cm</th>\n",
       "    </tr>\n",
       "  </thead>\n",
       "  <tbody>\n",
       "    <tr>\n",
       "      <th>193</th>\n",
       "      <td>SO264-15-2_048   20.0mm  10s  10kV 150uA No-Fi...</td>\n",
       "      <td>50</td>\n",
       "    </tr>\n",
       "    <tr>\n",
       "      <th>363</th>\n",
       "      <td>SO264-15-2_048  330.0mm  10s  10kV 150uA No-Fi...</td>\n",
       "      <td>81</td>\n",
       "    </tr>\n",
       "    <tr>\n",
       "      <th>372</th>\n",
       "      <td>SO264-15-2_0048  100.0mm  10s  10kV 150uA No-F...</td>\n",
       "      <td>58</td>\n",
       "    </tr>\n",
       "    <tr>\n",
       "      <th>373</th>\n",
       "      <td>SO264-15-2_0048   60.0mm  10s  10kV 150uA No-F...</td>\n",
       "      <td>54</td>\n",
       "    </tr>\n",
       "    <tr>\n",
       "      <th>396</th>\n",
       "      <td>SO264-15-2_048  220.0mm  10s  10kV 150uA No-Fi...</td>\n",
       "      <td>70</td>\n",
       "    </tr>\n",
       "    <tr>\n",
       "      <th>...</th>\n",
       "      <td>...</td>\n",
       "      <td>...</td>\n",
       "    </tr>\n",
       "    <tr>\n",
       "      <th>1401</th>\n",
       "      <td>SO264-15-2_0048  200.0mm  10s  10kV 150uA No-F...</td>\n",
       "      <td>68</td>\n",
       "    </tr>\n",
       "    <tr>\n",
       "      <th>1409</th>\n",
       "      <td>SO264-15-2_048  210.0mm  10s  10kV 150uA No-Fi...</td>\n",
       "      <td>69</td>\n",
       "    </tr>\n",
       "    <tr>\n",
       "      <th>1425</th>\n",
       "      <td>SO264-15-2_0048   50.0mm  10s  10kV 150uA No-F...</td>\n",
       "      <td>53</td>\n",
       "    </tr>\n",
       "    <tr>\n",
       "      <th>1426</th>\n",
       "      <td>SO264-15-2_0048  130.0mm  10s  10kV 150uA No-F...</td>\n",
       "      <td>61</td>\n",
       "    </tr>\n",
       "    <tr>\n",
       "      <th>1440</th>\n",
       "      <td>SO264-15-2_048  300.0mm  10s  10kV 150uA No-Fi...</td>\n",
       "      <td>78</td>\n",
       "    </tr>\n",
       "  </tbody>\n",
       "</table>\n",
       "<p>102 rows × 2 columns</p>\n",
       "</div>"
      ]
     },
     "metadata": {},
     "execution_count": 8
    }
   ],
   "metadata": {}
  },
  {
   "cell_type": "code",
   "execution_count": 9,
   "source": [
    "data_df.loc[data_df.composite_depth_cm == 50, ['file_name', 'composite_depth_cm']]"
   ],
   "outputs": [
    {
     "output_type": "execute_result",
     "data": {
      "text/plain": [
       "                                             file_name  composite_depth_cm\n",
       "118  SO264-15-2_0000  500.0mm  10s  10kV 150uA No-F...                  50\n",
       "193  SO264-15-2_048   20.0mm  10s  10kV 150uA No-Fi...                  50\n",
       "692  SO264-15-2_0048   20.0mm  10s  10kV 150uA No-F...                  50"
      ],
      "text/html": [
       "<div>\n",
       "<style scoped>\n",
       "    .dataframe tbody tr th:only-of-type {\n",
       "        vertical-align: middle;\n",
       "    }\n",
       "\n",
       "    .dataframe tbody tr th {\n",
       "        vertical-align: top;\n",
       "    }\n",
       "\n",
       "    .dataframe thead th {\n",
       "        text-align: right;\n",
       "    }\n",
       "</style>\n",
       "<table border=\"1\" class=\"dataframe\">\n",
       "  <thead>\n",
       "    <tr style=\"text-align: right;\">\n",
       "      <th></th>\n",
       "      <th>file_name</th>\n",
       "      <th>composite_depth_cm</th>\n",
       "    </tr>\n",
       "  </thead>\n",
       "  <tbody>\n",
       "    <tr>\n",
       "      <th>118</th>\n",
       "      <td>SO264-15-2_0000  500.0mm  10s  10kV 150uA No-F...</td>\n",
       "      <td>50</td>\n",
       "    </tr>\n",
       "    <tr>\n",
       "      <th>193</th>\n",
       "      <td>SO264-15-2_048   20.0mm  10s  10kV 150uA No-Fi...</td>\n",
       "      <td>50</td>\n",
       "    </tr>\n",
       "    <tr>\n",
       "      <th>692</th>\n",
       "      <td>SO264-15-2_0048   20.0mm  10s  10kV 150uA No-F...</td>\n",
       "      <td>50</td>\n",
       "    </tr>\n",
       "  </tbody>\n",
       "</table>\n",
       "</div>"
      ]
     },
     "metadata": {},
     "execution_count": 9
    }
   ],
   "metadata": {}
  },
  {
   "cell_type": "markdown",
   "source": [
    "It does have duplicates...I reckon it's caused by a mess duplicate scanning. I only preserve the first one (0048) because its naming is matched to others."
   ],
   "metadata": {}
  },
  {
   "cell_type": "code",
   "execution_count": 10,
   "source": [
    "clean_df = data_df[~data_df.composite_depth_cm.duplicated()]\n",
    "clean_df.shape"
   ],
   "outputs": [
    {
     "output_type": "execute_result",
     "data": {
      "text/plain": [
       "(1340, 2051)"
      ]
     },
     "metadata": {},
     "execution_count": 10
    }
   ],
   "metadata": {}
  },
  {
   "cell_type": "markdown",
   "source": [
    "## Export data"
   ],
   "metadata": {}
  },
  {
   "cell_type": "code",
   "execution_count": 11,
   "source": [
    "clean_df.to_csv('data/spe_SO264-15-2.csv')"
   ],
   "outputs": [],
   "metadata": {}
  },
  {
   "cell_type": "markdown",
   "source": [
    "# Merge with the bulk measurement by depth"
   ],
   "metadata": {}
  },
  {
   "cell_type": "code",
   "execution_count": 13,
   "source": [
    "#clean_df = pd.read_csv('data/spe_SO264-15-2.csv', index_col=0)\n",
    "print(clean_df.shape)\n",
    "print(clean_df.head())\n",
    "bulk_df = pd.read_excel('data/Bulk chem/SO264-15-2_bulk.xlsx', sheet_name = 'Sheet2')\n",
    "bulk_df.columns = ['mid_depth_cm', 'toc_percent', 'tc_percent', 'caco3_percent']\n",
    "print(bulk_df.shape)\n",
    "print(bulk_df.head())"
   ],
   "outputs": [
    {
     "output_type": "stream",
     "name": "stdout",
     "text": [
      "(1340, 2051)\n",
      "   0  1  2  3  4  5  6  7  8  9  ...  2041  2042  2043  2044  2045  2046  \\\n",
      "0  0  0  0  0  0  0  0  0  0  0  ...     0     0     0     0     0     0   \n",
      "1  0  0  0  0  0  0  0  0  0  0  ...     0     0     0     0     0     0   \n",
      "2  0  0  0  0  0  0  0  0  0  0  ...     0     0     0     0     0     0   \n",
      "3  0  0  0  0  0  0  0  0  0  0  ...     0     0     0     0     0     0   \n",
      "4  0  0  0  0  0  0  0  0  0  0  ...     0     0     0     0     0     0   \n",
      "\n",
      "   2047  composite_depth_cm     cps  \\\n",
      "0     0                 888  169212   \n",
      "1     0                1437   56052   \n",
      "2     0                  27  106123   \n",
      "3     0                 982  147405   \n",
      "4     0                1106  216119   \n",
      "\n",
      "                                           file_name  \n",
      "0  SO264-15-2_0848  400.0mm  10s  10kV 150uA No-F...  \n",
      "1  SO264-15-2_1348  890.0mm  10s  10kV 150uA No-F...  \n",
      "2  SO264-15-2_0000  270.0mm  10s  10kV 150uA No-F...  \n",
      "3  SO264-15-2_0948  340.0mm  10s  10kV 150uA No-F...  \n",
      "4  SO264-15-2_1048  580.0mm  10s  10kV 150uA No-F...  \n",
      "\n",
      "[5 rows x 2051 columns]\n",
      "(40, 4)\n",
      "   mid_depth_cm  toc_percent  tc_percent  caco3_percent\n",
      "0          10.5     0.181999    8.000254      65.149516\n",
      "1          20.5     0.298746    6.007120      47.567882\n",
      "2          46.5     0.288175    6.747430      53.824967\n",
      "3          68.5     0.299631    6.199101      49.160281\n",
      "4          88.5     0.240458    7.642422      61.680569\n"
     ]
    }
   ],
   "metadata": {}
  },
  {
   "cell_type": "code",
   "execution_count": 14,
   "source": [
    "# just check\n",
    "bulk_df[bulk_df.mid_depth_cm.duplicated()]"
   ],
   "outputs": [
    {
     "output_type": "execute_result",
     "data": {
      "text/plain": [
       "Empty DataFrame\n",
       "Columns: [mid_depth_cm, toc_percent, tc_percent, caco3_percent]\n",
       "Index: []"
      ],
      "text/html": [
       "<div>\n",
       "<style scoped>\n",
       "    .dataframe tbody tr th:only-of-type {\n",
       "        vertical-align: middle;\n",
       "    }\n",
       "\n",
       "    .dataframe tbody tr th {\n",
       "        vertical-align: top;\n",
       "    }\n",
       "\n",
       "    .dataframe thead th {\n",
       "        text-align: right;\n",
       "    }\n",
       "</style>\n",
       "<table border=\"1\" class=\"dataframe\">\n",
       "  <thead>\n",
       "    <tr style=\"text-align: right;\">\n",
       "      <th></th>\n",
       "      <th>mid_depth_cm</th>\n",
       "      <th>toc_percent</th>\n",
       "      <th>tc_percent</th>\n",
       "      <th>caco3_percent</th>\n",
       "    </tr>\n",
       "  </thead>\n",
       "  <tbody>\n",
       "  </tbody>\n",
       "</table>\n",
       "</div>"
      ]
     },
     "metadata": {},
     "execution_count": 14
    }
   ],
   "metadata": {}
  },
  {
   "cell_type": "code",
   "execution_count": 15,
   "source": [
    "mask_c = (clean_df.columns != 'file_name') & (clean_df.columns != 'composite_depth_cm')\n",
    "merge_df = pd.DataFrame()\n",
    "\n",
    "for row in bulk_df.iterrows():\n",
    "    mid = row[1][0]\n",
    "    mask_i = (clean_df.composite_depth_cm >= int(mid)) & (clean_df.composite_depth_cm <= int(mid)+1)\n",
    "    merge_df = pd.concat(\n",
    "        [merge_df, clean_df.loc[mask_i, mask_c].apply(np.mean, axis = 0).append(row[1])],\n",
    "        axis = 1\n",
    "    )\n",
    "    \n",
    "merge_df = merge_df.T.reset_index(drop = True)"
   ],
   "outputs": [],
   "metadata": {}
  },
  {
   "cell_type": "code",
   "execution_count": 16,
   "source": [
    "merge_df.shape"
   ],
   "outputs": [
    {
     "output_type": "execute_result",
     "data": {
      "text/plain": [
       "(40, 2053)"
      ]
     },
     "metadata": {},
     "execution_count": 16
    }
   ],
   "metadata": {}
  },
  {
   "cell_type": "code",
   "execution_count": 17,
   "source": [
    "merge_df.head()"
   ],
   "outputs": [
    {
     "output_type": "execute_result",
     "data": {
      "text/plain": [
       "     0    1    2    3    4    5    6    7    8    9  ...  2043  2044  2045  \\\n",
       "0  0.0  0.0  0.0  0.0  0.0  0.0  0.0  0.0  0.0  0.0  ...   0.0   0.0   0.0   \n",
       "1  0.0  0.0  0.0  0.0  0.0  0.0  0.0  0.0  0.0  0.0  ...   0.0   0.0   0.0   \n",
       "2  0.0  0.0  0.0  0.0  0.0  0.0  0.0  0.0  0.0  0.0  ...   0.0   0.0   0.0   \n",
       "3  0.0  0.0  0.0  0.0  0.0  0.0  0.0  0.0  0.0  0.0  ...   0.0   0.0   0.0   \n",
       "4  0.0  0.0  0.0  0.0  0.0  0.0  0.0  0.0  0.0  0.0  ...   0.0   0.0   0.0   \n",
       "\n",
       "   2046  2047       cps  mid_depth_cm  toc_percent  tc_percent  caco3_percent  \n",
       "0   0.0   0.0  153268.5          10.5     0.181999    8.000254      65.149516  \n",
       "1   0.0   0.0  122791.5          20.5     0.298746    6.007120      47.567882  \n",
       "2   0.0   0.0  133795.0          46.5     0.288175    6.747430      53.824967  \n",
       "3   0.0   0.0  152620.5          68.5     0.299631    6.199101      49.160281  \n",
       "4   0.0   0.0  160492.0          88.5     0.240458    7.642422      61.680569  \n",
       "\n",
       "[5 rows x 2053 columns]"
      ],
      "text/html": [
       "<div>\n",
       "<style scoped>\n",
       "    .dataframe tbody tr th:only-of-type {\n",
       "        vertical-align: middle;\n",
       "    }\n",
       "\n",
       "    .dataframe tbody tr th {\n",
       "        vertical-align: top;\n",
       "    }\n",
       "\n",
       "    .dataframe thead th {\n",
       "        text-align: right;\n",
       "    }\n",
       "</style>\n",
       "<table border=\"1\" class=\"dataframe\">\n",
       "  <thead>\n",
       "    <tr style=\"text-align: right;\">\n",
       "      <th></th>\n",
       "      <th>0</th>\n",
       "      <th>1</th>\n",
       "      <th>2</th>\n",
       "      <th>3</th>\n",
       "      <th>4</th>\n",
       "      <th>5</th>\n",
       "      <th>6</th>\n",
       "      <th>7</th>\n",
       "      <th>8</th>\n",
       "      <th>9</th>\n",
       "      <th>...</th>\n",
       "      <th>2043</th>\n",
       "      <th>2044</th>\n",
       "      <th>2045</th>\n",
       "      <th>2046</th>\n",
       "      <th>2047</th>\n",
       "      <th>cps</th>\n",
       "      <th>mid_depth_cm</th>\n",
       "      <th>toc_percent</th>\n",
       "      <th>tc_percent</th>\n",
       "      <th>caco3_percent</th>\n",
       "    </tr>\n",
       "  </thead>\n",
       "  <tbody>\n",
       "    <tr>\n",
       "      <th>0</th>\n",
       "      <td>0.0</td>\n",
       "      <td>0.0</td>\n",
       "      <td>0.0</td>\n",
       "      <td>0.0</td>\n",
       "      <td>0.0</td>\n",
       "      <td>0.0</td>\n",
       "      <td>0.0</td>\n",
       "      <td>0.0</td>\n",
       "      <td>0.0</td>\n",
       "      <td>0.0</td>\n",
       "      <td>...</td>\n",
       "      <td>0.0</td>\n",
       "      <td>0.0</td>\n",
       "      <td>0.0</td>\n",
       "      <td>0.0</td>\n",
       "      <td>0.0</td>\n",
       "      <td>153268.5</td>\n",
       "      <td>10.5</td>\n",
       "      <td>0.181999</td>\n",
       "      <td>8.000254</td>\n",
       "      <td>65.149516</td>\n",
       "    </tr>\n",
       "    <tr>\n",
       "      <th>1</th>\n",
       "      <td>0.0</td>\n",
       "      <td>0.0</td>\n",
       "      <td>0.0</td>\n",
       "      <td>0.0</td>\n",
       "      <td>0.0</td>\n",
       "      <td>0.0</td>\n",
       "      <td>0.0</td>\n",
       "      <td>0.0</td>\n",
       "      <td>0.0</td>\n",
       "      <td>0.0</td>\n",
       "      <td>...</td>\n",
       "      <td>0.0</td>\n",
       "      <td>0.0</td>\n",
       "      <td>0.0</td>\n",
       "      <td>0.0</td>\n",
       "      <td>0.0</td>\n",
       "      <td>122791.5</td>\n",
       "      <td>20.5</td>\n",
       "      <td>0.298746</td>\n",
       "      <td>6.007120</td>\n",
       "      <td>47.567882</td>\n",
       "    </tr>\n",
       "    <tr>\n",
       "      <th>2</th>\n",
       "      <td>0.0</td>\n",
       "      <td>0.0</td>\n",
       "      <td>0.0</td>\n",
       "      <td>0.0</td>\n",
       "      <td>0.0</td>\n",
       "      <td>0.0</td>\n",
       "      <td>0.0</td>\n",
       "      <td>0.0</td>\n",
       "      <td>0.0</td>\n",
       "      <td>0.0</td>\n",
       "      <td>...</td>\n",
       "      <td>0.0</td>\n",
       "      <td>0.0</td>\n",
       "      <td>0.0</td>\n",
       "      <td>0.0</td>\n",
       "      <td>0.0</td>\n",
       "      <td>133795.0</td>\n",
       "      <td>46.5</td>\n",
       "      <td>0.288175</td>\n",
       "      <td>6.747430</td>\n",
       "      <td>53.824967</td>\n",
       "    </tr>\n",
       "    <tr>\n",
       "      <th>3</th>\n",
       "      <td>0.0</td>\n",
       "      <td>0.0</td>\n",
       "      <td>0.0</td>\n",
       "      <td>0.0</td>\n",
       "      <td>0.0</td>\n",
       "      <td>0.0</td>\n",
       "      <td>0.0</td>\n",
       "      <td>0.0</td>\n",
       "      <td>0.0</td>\n",
       "      <td>0.0</td>\n",
       "      <td>...</td>\n",
       "      <td>0.0</td>\n",
       "      <td>0.0</td>\n",
       "      <td>0.0</td>\n",
       "      <td>0.0</td>\n",
       "      <td>0.0</td>\n",
       "      <td>152620.5</td>\n",
       "      <td>68.5</td>\n",
       "      <td>0.299631</td>\n",
       "      <td>6.199101</td>\n",
       "      <td>49.160281</td>\n",
       "    </tr>\n",
       "    <tr>\n",
       "      <th>4</th>\n",
       "      <td>0.0</td>\n",
       "      <td>0.0</td>\n",
       "      <td>0.0</td>\n",
       "      <td>0.0</td>\n",
       "      <td>0.0</td>\n",
       "      <td>0.0</td>\n",
       "      <td>0.0</td>\n",
       "      <td>0.0</td>\n",
       "      <td>0.0</td>\n",
       "      <td>0.0</td>\n",
       "      <td>...</td>\n",
       "      <td>0.0</td>\n",
       "      <td>0.0</td>\n",
       "      <td>0.0</td>\n",
       "      <td>0.0</td>\n",
       "      <td>0.0</td>\n",
       "      <td>160492.0</td>\n",
       "      <td>88.5</td>\n",
       "      <td>0.240458</td>\n",
       "      <td>7.642422</td>\n",
       "      <td>61.680569</td>\n",
       "    </tr>\n",
       "  </tbody>\n",
       "</table>\n",
       "<p>5 rows × 2053 columns</p>\n",
       "</div>"
      ]
     },
     "metadata": {},
     "execution_count": 17
    }
   ],
   "metadata": {}
  },
  {
   "cell_type": "code",
   "execution_count": 22,
   "source": [
    "merge_df.isna().any(axis=1)"
   ],
   "outputs": [
    {
     "output_type": "execute_result",
     "data": {
      "text/plain": [
       "0     False\n",
       "1     False\n",
       "2     False\n",
       "3     False\n",
       "4     False\n",
       "5     False\n",
       "6     False\n",
       "7     False\n",
       "8     False\n",
       "9     False\n",
       "10    False\n",
       "11    False\n",
       "12    False\n",
       "13    False\n",
       "14    False\n",
       "15    False\n",
       "16    False\n",
       "17    False\n",
       "18    False\n",
       "19    False\n",
       "20    False\n",
       "21     True\n",
       "22     True\n",
       "23    False\n",
       "24    False\n",
       "25    False\n",
       "26    False\n",
       "27    False\n",
       "28    False\n",
       "29    False\n",
       "30    False\n",
       "31    False\n",
       "32    False\n",
       "33    False\n",
       "34    False\n",
       "35    False\n",
       "36    False\n",
       "37    False\n",
       "38    False\n",
       "39    False\n",
       "dtype: bool"
      ]
     },
     "metadata": {},
     "execution_count": 22
    }
   ],
   "metadata": {}
  },
  {
   "cell_type": "code",
   "execution_count": 23,
   "source": [
    "bulk_df.isna().any(axis=1)"
   ],
   "outputs": [
    {
     "output_type": "execute_result",
     "data": {
      "text/plain": [
       "0     False\n",
       "1     False\n",
       "2     False\n",
       "3     False\n",
       "4     False\n",
       "5     False\n",
       "6     False\n",
       "7     False\n",
       "8     False\n",
       "9     False\n",
       "10    False\n",
       "11    False\n",
       "12    False\n",
       "13    False\n",
       "14    False\n",
       "15    False\n",
       "16    False\n",
       "17    False\n",
       "18    False\n",
       "19    False\n",
       "20    False\n",
       "21    False\n",
       "22    False\n",
       "23    False\n",
       "24    False\n",
       "25    False\n",
       "26    False\n",
       "27    False\n",
       "28    False\n",
       "29    False\n",
       "30    False\n",
       "31    False\n",
       "32    False\n",
       "33    False\n",
       "34    False\n",
       "35    False\n",
       "36    False\n",
       "37    False\n",
       "38    False\n",
       "39    False\n",
       "dtype: bool"
      ]
     },
     "metadata": {},
     "execution_count": 23
    }
   ],
   "metadata": {}
  },
  {
   "cell_type": "code",
   "execution_count": 24,
   "source": [
    "merge_df.iloc[21:23, :]"
   ],
   "outputs": [
    {
     "output_type": "execute_result",
     "data": {
      "text/plain": [
       "     0   1   2   3   4   5   6   7   8   9  ...  2043  2044  2045  2046  2047  \\\n",
       "21 NaN NaN NaN NaN NaN NaN NaN NaN NaN NaN  ...   NaN   NaN   NaN   NaN   NaN   \n",
       "22 NaN NaN NaN NaN NaN NaN NaN NaN NaN NaN  ...   NaN   NaN   NaN   NaN   NaN   \n",
       "\n",
       "    cps  mid_depth_cm  toc_percent  tc_percent  caco3_percent  \n",
       "21  NaN         780.5     0.123676    8.799115      72.292438  \n",
       "22  NaN         800.5     0.098591   10.975090      90.633864  \n",
       "\n",
       "[2 rows x 2053 columns]"
      ],
      "text/html": [
       "<div>\n",
       "<style scoped>\n",
       "    .dataframe tbody tr th:only-of-type {\n",
       "        vertical-align: middle;\n",
       "    }\n",
       "\n",
       "    .dataframe tbody tr th {\n",
       "        vertical-align: top;\n",
       "    }\n",
       "\n",
       "    .dataframe thead th {\n",
       "        text-align: right;\n",
       "    }\n",
       "</style>\n",
       "<table border=\"1\" class=\"dataframe\">\n",
       "  <thead>\n",
       "    <tr style=\"text-align: right;\">\n",
       "      <th></th>\n",
       "      <th>0</th>\n",
       "      <th>1</th>\n",
       "      <th>2</th>\n",
       "      <th>3</th>\n",
       "      <th>4</th>\n",
       "      <th>5</th>\n",
       "      <th>6</th>\n",
       "      <th>7</th>\n",
       "      <th>8</th>\n",
       "      <th>9</th>\n",
       "      <th>...</th>\n",
       "      <th>2043</th>\n",
       "      <th>2044</th>\n",
       "      <th>2045</th>\n",
       "      <th>2046</th>\n",
       "      <th>2047</th>\n",
       "      <th>cps</th>\n",
       "      <th>mid_depth_cm</th>\n",
       "      <th>toc_percent</th>\n",
       "      <th>tc_percent</th>\n",
       "      <th>caco3_percent</th>\n",
       "    </tr>\n",
       "  </thead>\n",
       "  <tbody>\n",
       "    <tr>\n",
       "      <th>21</th>\n",
       "      <td>NaN</td>\n",
       "      <td>NaN</td>\n",
       "      <td>NaN</td>\n",
       "      <td>NaN</td>\n",
       "      <td>NaN</td>\n",
       "      <td>NaN</td>\n",
       "      <td>NaN</td>\n",
       "      <td>NaN</td>\n",
       "      <td>NaN</td>\n",
       "      <td>NaN</td>\n",
       "      <td>...</td>\n",
       "      <td>NaN</td>\n",
       "      <td>NaN</td>\n",
       "      <td>NaN</td>\n",
       "      <td>NaN</td>\n",
       "      <td>NaN</td>\n",
       "      <td>NaN</td>\n",
       "      <td>780.5</td>\n",
       "      <td>0.123676</td>\n",
       "      <td>8.799115</td>\n",
       "      <td>72.292438</td>\n",
       "    </tr>\n",
       "    <tr>\n",
       "      <th>22</th>\n",
       "      <td>NaN</td>\n",
       "      <td>NaN</td>\n",
       "      <td>NaN</td>\n",
       "      <td>NaN</td>\n",
       "      <td>NaN</td>\n",
       "      <td>NaN</td>\n",
       "      <td>NaN</td>\n",
       "      <td>NaN</td>\n",
       "      <td>NaN</td>\n",
       "      <td>NaN</td>\n",
       "      <td>...</td>\n",
       "      <td>NaN</td>\n",
       "      <td>NaN</td>\n",
       "      <td>NaN</td>\n",
       "      <td>NaN</td>\n",
       "      <td>NaN</td>\n",
       "      <td>NaN</td>\n",
       "      <td>800.5</td>\n",
       "      <td>0.098591</td>\n",
       "      <td>10.975090</td>\n",
       "      <td>90.633864</td>\n",
       "    </tr>\n",
       "  </tbody>\n",
       "</table>\n",
       "<p>2 rows × 2053 columns</p>\n",
       "</div>"
      ]
     },
     "metadata": {},
     "execution_count": 24
    }
   ],
   "metadata": {}
  },
  {
   "cell_type": "code",
   "execution_count": 25,
   "source": [
    "clean_df[(clean_df.composite_depth_cm >= 750) & (clean_df.composite_depth_cm <= 840)]"
   ],
   "outputs": [
    {
     "output_type": "execute_result",
     "data": {
      "text/plain": [
       "Empty DataFrame\n",
       "Columns: [0, 1, 2, 3, 4, 5, 6, 7, 8, 9, 10, 11, 12, 13, 14, 15, 16, 17, 18, 19, 20, 21, 22, 23, 24, 25, 26, 27, 28, 29, 30, 31, 32, 33, 34, 35, 36, 37, 38, 39, 40, 41, 42, 43, 44, 45, 46, 47, 48, 49, 50, 51, 52, 53, 54, 55, 56, 57, 58, 59, 60, 61, 62, 63, 64, 65, 66, 67, 68, 69, 70, 71, 72, 73, 74, 75, 76, 77, 78, 79, 80, 81, 82, 83, 84, 85, 86, 87, 88, 89, 90, 91, 92, 93, 94, 95, 96, 97, 98, 99, ...]\n",
       "Index: []\n",
       "\n",
       "[0 rows x 2051 columns]"
      ],
      "text/html": [
       "<div>\n",
       "<style scoped>\n",
       "    .dataframe tbody tr th:only-of-type {\n",
       "        vertical-align: middle;\n",
       "    }\n",
       "\n",
       "    .dataframe tbody tr th {\n",
       "        vertical-align: top;\n",
       "    }\n",
       "\n",
       "    .dataframe thead th {\n",
       "        text-align: right;\n",
       "    }\n",
       "</style>\n",
       "<table border=\"1\" class=\"dataframe\">\n",
       "  <thead>\n",
       "    <tr style=\"text-align: right;\">\n",
       "      <th></th>\n",
       "      <th>0</th>\n",
       "      <th>1</th>\n",
       "      <th>2</th>\n",
       "      <th>3</th>\n",
       "      <th>4</th>\n",
       "      <th>5</th>\n",
       "      <th>6</th>\n",
       "      <th>7</th>\n",
       "      <th>8</th>\n",
       "      <th>9</th>\n",
       "      <th>...</th>\n",
       "      <th>2041</th>\n",
       "      <th>2042</th>\n",
       "      <th>2043</th>\n",
       "      <th>2044</th>\n",
       "      <th>2045</th>\n",
       "      <th>2046</th>\n",
       "      <th>2047</th>\n",
       "      <th>composite_depth_cm</th>\n",
       "      <th>cps</th>\n",
       "      <th>file_name</th>\n",
       "    </tr>\n",
       "  </thead>\n",
       "  <tbody>\n",
       "  </tbody>\n",
       "</table>\n",
       "<p>0 rows × 2051 columns</p>\n",
       "</div>"
      ]
     },
     "metadata": {},
     "execution_count": 25
    }
   ],
   "metadata": {}
  },
  {
   "cell_type": "markdown",
   "source": [
    "It means avvatech doesn't have XRF data in these two depths..."
   ],
   "metadata": {}
  },
  {
   "cell_type": "code",
   "execution_count": 26,
   "source": [
    "merge_df = merge_df.dropna()\n",
    "merge_df.shape"
   ],
   "outputs": [
    {
     "output_type": "execute_result",
     "data": {
      "text/plain": [
       "(38, 2053)"
      ]
     },
     "metadata": {},
     "execution_count": 26
    }
   ],
   "metadata": {}
  },
  {
   "cell_type": "markdown",
   "source": [
    "## Export data"
   ],
   "metadata": {}
  },
  {
   "cell_type": "code",
   "execution_count": 27,
   "source": [
    "merge_df.to_csv('data/spe+bulk_SO264-15-2.csv')"
   ],
   "outputs": [],
   "metadata": {}
  },
  {
   "cell_type": "markdown",
   "source": [
    "# Run regressions\n",
    "1. ridged linear regression\n",
    "2. kernel SVM(PCA or NMF)"
   ],
   "metadata": {}
  },
  {
   "cell_type": "code",
   "execution_count": 2,
   "source": [
    "merge_df = pd.read_csv('data/spe+bulk_SO264-15-2.csv', index_col=0)\n",
    "X = merge_df.iloc[:, : -5].values\n",
    "X = X / X.sum(axis = 1, keepdims = True)"
   ],
   "outputs": [],
   "metadata": {}
  },
  {
   "cell_type": "markdown",
   "source": [
    "## CaCO3\n",
    "First we use PCA to guess how many components there might be. And quickly try out the combination of algorithms."
   ],
   "metadata": {}
  },
  {
   "cell_type": "code",
   "execution_count": 3,
   "source": [
    "y = merge_df.caco3_percent.values"
   ],
   "outputs": [],
   "metadata": {}
  },
  {
   "cell_type": "code",
   "execution_count": 4,
   "source": [
    "%%time\n",
    "from sklearn.pipeline import make_pipeline\n",
    "from sklearn.preprocessing import StandardScaler\n",
    "from sklearn.decomposition import PCA\n",
    "\n",
    "pca = make_pipeline(StandardScaler(), PCA())\n",
    "pca.fit(X)"
   ],
   "outputs": [
    {
     "output_type": "stream",
     "name": "stdout",
     "text": [
      "CPU times: user 2.05 s, sys: 883 ms, total: 2.93 s\n",
      "Wall time: 4.91 s\n"
     ]
    },
    {
     "output_type": "execute_result",
     "data": {
      "text/plain": [
       "Pipeline(steps=[('standardscaler', StandardScaler()), ('pca', PCA())])"
      ]
     },
     "metadata": {},
     "execution_count": 4
    }
   ],
   "metadata": {}
  },
  {
   "cell_type": "code",
   "execution_count": 5,
   "source": [
    "len(pca.named_steps['pca'].explained_variance_ratio_)"
   ],
   "outputs": [
    {
     "output_type": "execute_result",
     "data": {
      "text/plain": [
       "38"
      ]
     },
     "metadata": {},
     "execution_count": 5
    }
   ],
   "metadata": {}
  },
  {
   "cell_type": "code",
   "execution_count": 6,
   "source": [
    "fig, ax = plt.subplots(1, 1, figsize=(3.54, 3))\n",
    "ax.bar([_ for _ in range(1, 31)], pca.named_steps['pca'].explained_variance_ratio_[:30]*100)\n",
    "ax.set_xlabel('PCs')\n",
    "ax.set_ylabel('Explained variance (%)')\n",
    "fig.savefig('results/screeplot_SO264-15-2.png')"
   ],
   "outputs": [
    {
     "output_type": "display_data",
     "data": {
      "text/plain": [
       "<Figure size 254.88x216 with 1 Axes>"
      ],
      "image/png": "[encoded data removed]"
     },
     "metadata": {
      "needs_background": "dark"
     }
    }
   ],
   "metadata": {}
  },
  {
   "cell_type": "markdown",
   "source": [
    "Based on the elbow concept, I choose 3 to 5 as the possible component amount."
   ],
   "metadata": {}
  },
  {
   "cell_type": "code",
   "execution_count": 7,
   "source": [
    "%%time\n",
    "from sklearn.preprocessing import StandardScaler\n",
    "from sklearn.decomposition import PCA\n",
    "from sklearn.linear_model import Ridge\n",
    "from sklearn.model_selection import train_test_split\n",
    "from sklearn.pipeline import make_pipeline\n",
    "\n",
    "X_train, X_test, y_train, y_test = train_test_split(X, y, random_state = 0)\n",
    "ridge = make_pipeline(StandardScaler(), PCA(whiten = True), Ridge())\n",
    "ridge.fit(X_train, y_train)\n",
    "\n",
    "print('Training set score: {:.2f}'.format(ridge.score(X_train, y_train)))\n",
    "print('Test set score: {:.2f}'.format(ridge.score(X_test, y_test)))"
   ],
   "outputs": [
    {
     "output_type": "stream",
     "name": "stdout",
     "text": [
      "Training set score: 1.00\n",
      "Test set score: 0.91\n",
      "CPU times: user 3.17 s, sys: 180 ms, total: 3.35 s\n",
      "Wall time: 233 ms\n"
     ]
    }
   ],
   "metadata": {}
  },
  {
   "cell_type": "code",
   "execution_count": 8,
   "source": [
    "%%time\n",
    "from sklearn.preprocessing import StandardScaler\n",
    "from sklearn.decomposition import PCA\n",
    "from sklearn.pipeline import make_pipeline\n",
    "from sklearn.svm import SVR\n",
    "\n",
    "svr = make_pipeline(StandardScaler(), PCA(whiten = True), SVR())\n",
    "svr.fit(X_train, y_train)\n",
    "\n",
    "print('Training set score: {:.2f}'.format(svr.score(X_train, y_train)))\n",
    "print('Test set score: {:.2f}'.format(svr.score(X_test, y_test)))"
   ],
   "outputs": [
    {
     "output_type": "stream",
     "name": "stdout",
     "text": [
      "Training set score: -0.07\n",
      "Test set score: -0.44\n",
      "CPU times: user 2.08 s, sys: 57.1 ms, total: 2.14 s\n",
      "Wall time: 133 ms\n"
     ]
    }
   ],
   "metadata": {}
  },
  {
   "cell_type": "code",
   "execution_count": 9,
   "source": [
    "%%time\n",
    "from sklearn.decomposition import NMF\n",
    "from sklearn.pipeline import make_pipeline\n",
    "from sklearn.svm import SVR\n",
    "\n",
    "\n",
    "svr = make_pipeline(NMF(n_components = 5, random_state = 24, max_iter=2000), SVR())\n",
    "svr.fit(X_train, y_train)\n",
    "\n",
    "print('Training set score: {:.2f}'.format(svr.score(X_train, y_train)))\n",
    "print('Test set score: {:.2f}'.format(svr.score(X_test, y_test)))"
   ],
   "outputs": [
    {
     "output_type": "stream",
     "name": "stdout",
     "text": [
      "Training set score: 0.20\n",
      "Test set score: 0.06\n",
      "CPU times: user 10.6 s, sys: 274 ms, total: 10.9 s\n",
      "Wall time: 364 ms\n"
     ]
    }
   ],
   "metadata": {}
  },
  {
   "cell_type": "markdown",
   "source": [
    "### GridsearchCV\n",
    "After playing arounf the algorithms, the proper grid search plan is set and carried out."
   ],
   "metadata": {}
  },
  {
   "cell_type": "markdown",
   "source": [
    "#### Base algorithm\n",
    "We use Ridge regrssion as a base algoritm. There are two scenarios. One is using PCA while the other one is using NMF as data representation. The script is grid_pilot_ridge.py, which is submitted by submit_pilot.sh. The job log is slurm-3964.txt. The result is exported as pilot_grid_svr_20210823.csv. The best validation score is 0.886, which is provided by the one using NMF."
   ],
   "metadata": {}
  },
  {
   "cell_type": "code",
   "execution_count": 3,
   "source": [
    "grid = pd.read_csv('results/pilot_grid_ridge_20210823.csv', index_col=0)\n",
    "grid"
   ],
   "outputs": [
    {
     "output_type": "execute_result",
     "data": {
      "text/plain": [
       "    mean_fit_time  std_fit_time  mean_score_time  std_score_time  \\\n",
       "0        0.053863      0.009030         0.001040        0.000075   \n",
       "1        0.062368      0.026792         0.001024        0.000122   \n",
       "2        0.052317      0.004162         0.000848        0.000144   \n",
       "3        0.064478      0.021062         0.000880        0.000067   \n",
       "4        0.071000      0.025036         0.000709        0.000106   \n",
       "5        0.067242      0.019647         0.000878        0.000127   \n",
       "6        0.063114      0.025060         0.000820        0.000151   \n",
       "7        0.068574      0.022019         0.000849        0.000128   \n",
       "8        0.051349      0.016371         0.000841        0.000045   \n",
       "9        0.067413      0.013560         0.000941        0.000330   \n",
       "10       0.780548      0.214508         0.002767        0.001071   \n",
       "11       0.810614      0.291238         0.002479        0.000945   \n",
       "12       0.770622      0.183519         0.002494        0.000959   \n",
       "13       0.759392      0.168356         0.002488        0.000954   \n",
       "14       0.805417      0.292538         0.002768        0.001076   \n",
       "15       0.824025      0.321393         0.002429        0.000957   \n",
       "16       0.706412      0.230531         0.002779        0.001066   \n",
       "17       0.825730      0.280311         0.002692        0.000987   \n",
       "18       0.791040      0.154383         0.002739        0.001035   \n",
       "19       0.819737      0.251556         0.002734        0.001096   \n",
       "\n",
       "                                  param_preprocessing  param_ridge__alpha  \\\n",
       "0                    PCA(n_components=5, whiten=True)        1.000000e-08   \n",
       "1                    PCA(n_components=5, whiten=True)        1.000000e-07   \n",
       "2                    PCA(n_components=5, whiten=True)        1.000000e-06   \n",
       "3                    PCA(n_components=5, whiten=True)        1.000000e-05   \n",
       "4                    PCA(n_components=5, whiten=True)        1.000000e-04   \n",
       "5                    PCA(n_components=5, whiten=True)        1.000000e-03   \n",
       "6                    PCA(n_components=5, whiten=True)        1.000000e-02   \n",
       "7                    PCA(n_components=5, whiten=True)        1.000000e-01   \n",
       "8                    PCA(n_components=5, whiten=True)        1.000000e+00   \n",
       "9                    PCA(n_components=5, whiten=True)        1.000000e+01   \n",
       "10  NMF(max_iter=4000, n_components=5, random_stat...        1.000000e-08   \n",
       "11  NMF(max_iter=4000, n_components=5, random_stat...        1.000000e-07   \n",
       "12  NMF(max_iter=4000, n_components=5, random_stat...        1.000000e-06   \n",
       "13  NMF(max_iter=4000, n_components=5, random_stat...        1.000000e-05   \n",
       "14  NMF(max_iter=4000, n_components=5, random_stat...        1.000000e-04   \n",
       "15  NMF(max_iter=4000, n_components=5, random_stat...        1.000000e-03   \n",
       "16  NMF(max_iter=4000, n_components=5, random_stat...        1.000000e-02   \n",
       "17  NMF(max_iter=4000, n_components=5, random_stat...        1.000000e-01   \n",
       "18  NMF(max_iter=4000, n_components=5, random_stat...        1.000000e+00   \n",
       "19  NMF(max_iter=4000, n_components=5, random_stat...        1.000000e+01   \n",
       "\n",
       "       param_scaling                                             params  \\\n",
       "0   StandardScaler()  {'preprocessing': PCA(n_components=5, whiten=T...   \n",
       "1   StandardScaler()  {'preprocessing': PCA(n_components=5, whiten=T...   \n",
       "2   StandardScaler()  {'preprocessing': PCA(n_components=5, whiten=T...   \n",
       "3   StandardScaler()  {'preprocessing': PCA(n_components=5, whiten=T...   \n",
       "4   StandardScaler()  {'preprocessing': PCA(n_components=5, whiten=T...   \n",
       "5   StandardScaler()  {'preprocessing': PCA(n_components=5, whiten=T...   \n",
       "6   StandardScaler()  {'preprocessing': PCA(n_components=5, whiten=T...   \n",
       "7   StandardScaler()  {'preprocessing': PCA(n_components=5, whiten=T...   \n",
       "8   StandardScaler()  {'preprocessing': PCA(n_components=5, whiten=T...   \n",
       "9   StandardScaler()  {'preprocessing': PCA(n_components=5, whiten=T...   \n",
       "10               NaN  {'preprocessing': NMF(max_iter=4000, n_compone...   \n",
       "11               NaN  {'preprocessing': NMF(max_iter=4000, n_compone...   \n",
       "12               NaN  {'preprocessing': NMF(max_iter=4000, n_compone...   \n",
       "13               NaN  {'preprocessing': NMF(max_iter=4000, n_compone...   \n",
       "14               NaN  {'preprocessing': NMF(max_iter=4000, n_compone...   \n",
       "15               NaN  {'preprocessing': NMF(max_iter=4000, n_compone...   \n",
       "16               NaN  {'preprocessing': NMF(max_iter=4000, n_compone...   \n",
       "17               NaN  {'preprocessing': NMF(max_iter=4000, n_compone...   \n",
       "18               NaN  {'preprocessing': NMF(max_iter=4000, n_compone...   \n",
       "19               NaN  {'preprocessing': NMF(max_iter=4000, n_compone...   \n",
       "\n",
       "    split0_test_score  split1_test_score  split2_test_score  \\\n",
       "0            0.652201           0.892698           0.965219   \n",
       "1            0.651427           0.893175           0.965061   \n",
       "2            0.652555           0.893606           0.965356   \n",
       "3            0.651391           0.893174           0.965683   \n",
       "4            0.653332           0.894518           0.965056   \n",
       "5            0.652109           0.891857           0.965392   \n",
       "6            0.652208           0.893441           0.965441   \n",
       "7            0.654338           0.892352           0.964883   \n",
       "8            0.660592           0.896954           0.960569   \n",
       "9            0.673060           0.788742           0.849444   \n",
       "10           0.753055           0.904532           0.967597   \n",
       "11           0.752828           0.904592           0.967518   \n",
       "12           0.750682           0.904464           0.966705   \n",
       "13           0.737223           0.893731           0.960485   \n",
       "14           0.718611           0.879391           0.956364   \n",
       "15           0.716315           0.888663           0.976192   \n",
       "16           0.716708           0.911739           0.911258   \n",
       "17           0.506874           0.552726           0.350169   \n",
       "18           0.099307          -0.597661          -0.353173   \n",
       "19           0.007999          -0.929673          -0.496395   \n",
       "\n",
       "    split3_test_score  split4_test_score  mean_test_score  std_test_score  \\\n",
       "0            0.815264           0.899440         0.844965        0.107468   \n",
       "1            0.810368           0.901064         0.844219        0.108209   \n",
       "2            0.817299           0.900371         0.845837        0.107436   \n",
       "3            0.815834           0.902556         0.845727        0.108194   \n",
       "4            0.810798           0.901028         0.844946        0.107620   \n",
       "5            0.816467           0.901471         0.845459        0.107609   \n",
       "6            0.817764           0.898941         0.845559        0.107397   \n",
       "7            0.809636           0.900129         0.844268        0.107008   \n",
       "8            0.766113           0.895783         0.836002        0.108129   \n",
       "9            0.216983           0.810271         0.667700        0.232888   \n",
       "10           0.866166           0.927286         0.883727        0.073141   \n",
       "11           0.866865           0.928398         0.884040        0.073308   \n",
       "12           0.872771           0.934655         0.885855        0.074441   \n",
       "13           0.893154           0.928865         0.882691        0.076911   \n",
       "14           0.899266           0.914153         0.873557        0.081496   \n",
       "15           0.840558           0.904790         0.865304        0.086268   \n",
       "16           0.377226           0.860252         0.755437        0.202109   \n",
       "17          -1.857446           0.495174         0.009500        0.935938   \n",
       "18          -4.081071           0.045045        -0.977511        1.572980   \n",
       "19          -4.488868          -0.043747        -1.190137        1.684071   \n",
       "\n",
       "    rank_test_score  \n",
       "0                11  \n",
       "1                14  \n",
       "2                 7  \n",
       "3                 8  \n",
       "4                12  \n",
       "5                10  \n",
       "6                 9  \n",
       "7                13  \n",
       "8                15  \n",
       "9                17  \n",
       "10                3  \n",
       "11                2  \n",
       "12                1  \n",
       "13                4  \n",
       "14                5  \n",
       "15                6  \n",
       "16               16  \n",
       "17               18  \n",
       "18               19  \n",
       "19               20  "
      ],
      "text/html": [
       "<div>\n",
       "<style scoped>\n",
       "    .dataframe tbody tr th:only-of-type {\n",
       "        vertical-align: middle;\n",
       "    }\n",
       "\n",
       "    .dataframe tbody tr th {\n",
       "        vertical-align: top;\n",
       "    }\n",
       "\n",
       "    .dataframe thead th {\n",
       "        text-align: right;\n",
       "    }\n",
       "</style>\n",
       "<table border=\"1\" class=\"dataframe\">\n",
       "  <thead>\n",
       "    <tr style=\"text-align: right;\">\n",
       "      <th></th>\n",
       "      <th>mean_fit_time</th>\n",
       "      <th>std_fit_time</th>\n",
       "      <th>mean_score_time</th>\n",
       "      <th>std_score_time</th>\n",
       "      <th>param_preprocessing</th>\n",
       "      <th>param_ridge__alpha</th>\n",
       "      <th>param_scaling</th>\n",
       "      <th>params</th>\n",
       "      <th>split0_test_score</th>\n",
       "      <th>split1_test_score</th>\n",
       "      <th>split2_test_score</th>\n",
       "      <th>split3_test_score</th>\n",
       "      <th>split4_test_score</th>\n",
       "      <th>mean_test_score</th>\n",
       "      <th>std_test_score</th>\n",
       "      <th>rank_test_score</th>\n",
       "    </tr>\n",
       "  </thead>\n",
       "  <tbody>\n",
       "    <tr>\n",
       "      <th>0</th>\n",
       "      <td>0.053863</td>\n",
       "      <td>0.009030</td>\n",
       "      <td>0.001040</td>\n",
       "      <td>0.000075</td>\n",
       "      <td>PCA(n_components=5, whiten=True)</td>\n",
       "      <td>1.000000e-08</td>\n",
       "      <td>StandardScaler()</td>\n",
       "      <td>{'preprocessing': PCA(n_components=5, whiten=T...</td>\n",
       "      <td>0.652201</td>\n",
       "      <td>0.892698</td>\n",
       "      <td>0.965219</td>\n",
       "      <td>0.815264</td>\n",
       "      <td>0.899440</td>\n",
       "      <td>0.844965</td>\n",
       "      <td>0.107468</td>\n",
       "      <td>11</td>\n",
       "    </tr>\n",
       "    <tr>\n",
       "      <th>1</th>\n",
       "      <td>0.062368</td>\n",
       "      <td>0.026792</td>\n",
       "      <td>0.001024</td>\n",
       "      <td>0.000122</td>\n",
       "      <td>PCA(n_components=5, whiten=True)</td>\n",
       "      <td>1.000000e-07</td>\n",
       "      <td>StandardScaler()</td>\n",
       "      <td>{'preprocessing': PCA(n_components=5, whiten=T...</td>\n",
       "      <td>0.651427</td>\n",
       "      <td>0.893175</td>\n",
       "      <td>0.965061</td>\n",
       "      <td>0.810368</td>\n",
       "      <td>0.901064</td>\n",
       "      <td>0.844219</td>\n",
       "      <td>0.108209</td>\n",
       "      <td>14</td>\n",
       "    </tr>\n",
       "    <tr>\n",
       "      <th>2</th>\n",
       "      <td>0.052317</td>\n",
       "      <td>0.004162</td>\n",
       "      <td>0.000848</td>\n",
       "      <td>0.000144</td>\n",
       "      <td>PCA(n_components=5, whiten=True)</td>\n",
       "      <td>1.000000e-06</td>\n",
       "      <td>StandardScaler()</td>\n",
       "      <td>{'preprocessing': PCA(n_components=5, whiten=T...</td>\n",
       "      <td>0.652555</td>\n",
       "      <td>0.893606</td>\n",
       "      <td>0.965356</td>\n",
       "      <td>0.817299</td>\n",
       "      <td>0.900371</td>\n",
       "      <td>0.845837</td>\n",
       "      <td>0.107436</td>\n",
       "      <td>7</td>\n",
       "    </tr>\n",
       "    <tr>\n",
       "      <th>3</th>\n",
       "      <td>0.064478</td>\n",
       "      <td>0.021062</td>\n",
       "      <td>0.000880</td>\n",
       "      <td>0.000067</td>\n",
       "      <td>PCA(n_components=5, whiten=True)</td>\n",
       "      <td>1.000000e-05</td>\n",
       "      <td>StandardScaler()</td>\n",
       "      <td>{'preprocessing': PCA(n_components=5, whiten=T...</td>\n",
       "      <td>0.651391</td>\n",
       "      <td>0.893174</td>\n",
       "      <td>0.965683</td>\n",
       "      <td>0.815834</td>\n",
       "      <td>0.902556</td>\n",
       "      <td>0.845727</td>\n",
       "      <td>0.108194</td>\n",
       "      <td>8</td>\n",
       "    </tr>\n",
       "    <tr>\n",
       "      <th>4</th>\n",
       "      <td>0.071000</td>\n",
       "      <td>0.025036</td>\n",
       "      <td>0.000709</td>\n",
       "      <td>0.000106</td>\n",
       "      <td>PCA(n_components=5, whiten=True)</td>\n",
       "      <td>1.000000e-04</td>\n",
       "      <td>StandardScaler()</td>\n",
       "      <td>{'preprocessing': PCA(n_components=5, whiten=T...</td>\n",
       "      <td>0.653332</td>\n",
       "      <td>0.894518</td>\n",
       "      <td>0.965056</td>\n",
       "      <td>0.810798</td>\n",
       "      <td>0.901028</td>\n",
       "      <td>0.844946</td>\n",
       "      <td>0.107620</td>\n",
       "      <td>12</td>\n",
       "    </tr>\n",
       "    <tr>\n",
       "      <th>5</th>\n",
       "      <td>0.067242</td>\n",
       "      <td>0.019647</td>\n",
       "      <td>0.000878</td>\n",
       "      <td>0.000127</td>\n",
       "      <td>PCA(n_components=5, whiten=True)</td>\n",
       "      <td>1.000000e-03</td>\n",
       "      <td>StandardScaler()</td>\n",
       "      <td>{'preprocessing': PCA(n_components=5, whiten=T...</td>\n",
       "      <td>0.652109</td>\n",
       "      <td>0.891857</td>\n",
       "      <td>0.965392</td>\n",
       "      <td>0.816467</td>\n",
       "      <td>0.901471</td>\n",
       "      <td>0.845459</td>\n",
       "      <td>0.107609</td>\n",
       "      <td>10</td>\n",
       "    </tr>\n",
       "    <tr>\n",
       "      <th>6</th>\n",
       "      <td>0.063114</td>\n",
       "      <td>0.025060</td>\n",
       "      <td>0.000820</td>\n",
       "      <td>0.000151</td>\n",
       "      <td>PCA(n_components=5, whiten=True)</td>\n",
       "      <td>1.000000e-02</td>\n",
       "      <td>StandardScaler()</td>\n",
       "      <td>{'preprocessing': PCA(n_components=5, whiten=T...</td>\n",
       "      <td>0.652208</td>\n",
       "      <td>0.893441</td>\n",
       "      <td>0.965441</td>\n",
       "      <td>0.817764</td>\n",
       "      <td>0.898941</td>\n",
       "      <td>0.845559</td>\n",
       "      <td>0.107397</td>\n",
       "      <td>9</td>\n",
       "    </tr>\n",
       "    <tr>\n",
       "      <th>7</th>\n",
       "      <td>0.068574</td>\n",
       "      <td>0.022019</td>\n",
       "      <td>0.000849</td>\n",
       "      <td>0.000128</td>\n",
       "      <td>PCA(n_components=5, whiten=True)</td>\n",
       "      <td>1.000000e-01</td>\n",
       "      <td>StandardScaler()</td>\n",
       "      <td>{'preprocessing': PCA(n_components=5, whiten=T...</td>\n",
       "      <td>0.654338</td>\n",
       "      <td>0.892352</td>\n",
       "      <td>0.964883</td>\n",
       "      <td>0.809636</td>\n",
       "      <td>0.900129</td>\n",
       "      <td>0.844268</td>\n",
       "      <td>0.107008</td>\n",
       "      <td>13</td>\n",
       "    </tr>\n",
       "    <tr>\n",
       "      <th>8</th>\n",
       "      <td>0.051349</td>\n",
       "      <td>0.016371</td>\n",
       "      <td>0.000841</td>\n",
       "      <td>0.000045</td>\n",
       "      <td>PCA(n_components=5, whiten=True)</td>\n",
       "      <td>1.000000e+00</td>\n",
       "      <td>StandardScaler()</td>\n",
       "      <td>{'preprocessing': PCA(n_components=5, whiten=T...</td>\n",
       "      <td>0.660592</td>\n",
       "      <td>0.896954</td>\n",
       "      <td>0.960569</td>\n",
       "      <td>0.766113</td>\n",
       "      <td>0.895783</td>\n",
       "      <td>0.836002</td>\n",
       "      <td>0.108129</td>\n",
       "      <td>15</td>\n",
       "    </tr>\n",
       "    <tr>\n",
       "      <th>9</th>\n",
       "      <td>0.067413</td>\n",
       "      <td>0.013560</td>\n",
       "      <td>0.000941</td>\n",
       "      <td>0.000330</td>\n",
       "      <td>PCA(n_components=5, whiten=True)</td>\n",
       "      <td>1.000000e+01</td>\n",
       "      <td>StandardScaler()</td>\n",
       "      <td>{'preprocessing': PCA(n_components=5, whiten=T...</td>\n",
       "      <td>0.673060</td>\n",
       "      <td>0.788742</td>\n",
       "      <td>0.849444</td>\n",
       "      <td>0.216983</td>\n",
       "      <td>0.810271</td>\n",
       "      <td>0.667700</td>\n",
       "      <td>0.232888</td>\n",
       "      <td>17</td>\n",
       "    </tr>\n",
       "    <tr>\n",
       "      <th>10</th>\n",
       "      <td>0.780548</td>\n",
       "      <td>0.214508</td>\n",
       "      <td>0.002767</td>\n",
       "      <td>0.001071</td>\n",
       "      <td>NMF(max_iter=4000, n_components=5, random_stat...</td>\n",
       "      <td>1.000000e-08</td>\n",
       "      <td>NaN</td>\n",
       "      <td>{'preprocessing': NMF(max_iter=4000, n_compone...</td>\n",
       "      <td>0.753055</td>\n",
       "      <td>0.904532</td>\n",
       "      <td>0.967597</td>\n",
       "      <td>0.866166</td>\n",
       "      <td>0.927286</td>\n",
       "      <td>0.883727</td>\n",
       "      <td>0.073141</td>\n",
       "      <td>3</td>\n",
       "    </tr>\n",
       "    <tr>\n",
       "      <th>11</th>\n",
       "      <td>0.810614</td>\n",
       "      <td>0.291238</td>\n",
       "      <td>0.002479</td>\n",
       "      <td>0.000945</td>\n",
       "      <td>NMF(max_iter=4000, n_components=5, random_stat...</td>\n",
       "      <td>1.000000e-07</td>\n",
       "      <td>NaN</td>\n",
       "      <td>{'preprocessing': NMF(max_iter=4000, n_compone...</td>\n",
       "      <td>0.752828</td>\n",
       "      <td>0.904592</td>\n",
       "      <td>0.967518</td>\n",
       "      <td>0.866865</td>\n",
       "      <td>0.928398</td>\n",
       "      <td>0.884040</td>\n",
       "      <td>0.073308</td>\n",
       "      <td>2</td>\n",
       "    </tr>\n",
       "    <tr>\n",
       "      <th>12</th>\n",
       "      <td>0.770622</td>\n",
       "      <td>0.183519</td>\n",
       "      <td>0.002494</td>\n",
       "      <td>0.000959</td>\n",
       "      <td>NMF(max_iter=4000, n_components=5, random_stat...</td>\n",
       "      <td>1.000000e-06</td>\n",
       "      <td>NaN</td>\n",
       "      <td>{'preprocessing': NMF(max_iter=4000, n_compone...</td>\n",
       "      <td>0.750682</td>\n",
       "      <td>0.904464</td>\n",
       "      <td>0.966705</td>\n",
       "      <td>0.872771</td>\n",
       "      <td>0.934655</td>\n",
       "      <td>0.885855</td>\n",
       "      <td>0.074441</td>\n",
       "      <td>1</td>\n",
       "    </tr>\n",
       "    <tr>\n",
       "      <th>13</th>\n",
       "      <td>0.759392</td>\n",
       "      <td>0.168356</td>\n",
       "      <td>0.002488</td>\n",
       "      <td>0.000954</td>\n",
       "      <td>NMF(max_iter=4000, n_components=5, random_stat...</td>\n",
       "      <td>1.000000e-05</td>\n",
       "      <td>NaN</td>\n",
       "      <td>{'preprocessing': NMF(max_iter=4000, n_compone...</td>\n",
       "      <td>0.737223</td>\n",
       "      <td>0.893731</td>\n",
       "      <td>0.960485</td>\n",
       "      <td>0.893154</td>\n",
       "      <td>0.928865</td>\n",
       "      <td>0.882691</td>\n",
       "      <td>0.076911</td>\n",
       "      <td>4</td>\n",
       "    </tr>\n",
       "    <tr>\n",
       "      <th>14</th>\n",
       "      <td>0.805417</td>\n",
       "      <td>0.292538</td>\n",
       "      <td>0.002768</td>\n",
       "      <td>0.001076</td>\n",
       "      <td>NMF(max_iter=4000, n_components=5, random_stat...</td>\n",
       "      <td>1.000000e-04</td>\n",
       "      <td>NaN</td>\n",
       "      <td>{'preprocessing': NMF(max_iter=4000, n_compone...</td>\n",
       "      <td>0.718611</td>\n",
       "      <td>0.879391</td>\n",
       "      <td>0.956364</td>\n",
       "      <td>0.899266</td>\n",
       "      <td>0.914153</td>\n",
       "      <td>0.873557</td>\n",
       "      <td>0.081496</td>\n",
       "      <td>5</td>\n",
       "    </tr>\n",
       "    <tr>\n",
       "      <th>15</th>\n",
       "      <td>0.824025</td>\n",
       "      <td>0.321393</td>\n",
       "      <td>0.002429</td>\n",
       "      <td>0.000957</td>\n",
       "      <td>NMF(max_iter=4000, n_components=5, random_stat...</td>\n",
       "      <td>1.000000e-03</td>\n",
       "      <td>NaN</td>\n",
       "      <td>{'preprocessing': NMF(max_iter=4000, n_compone...</td>\n",
       "      <td>0.716315</td>\n",
       "      <td>0.888663</td>\n",
       "      <td>0.976192</td>\n",
       "      <td>0.840558</td>\n",
       "      <td>0.904790</td>\n",
       "      <td>0.865304</td>\n",
       "      <td>0.086268</td>\n",
       "      <td>6</td>\n",
       "    </tr>\n",
       "    <tr>\n",
       "      <th>16</th>\n",
       "      <td>0.706412</td>\n",
       "      <td>0.230531</td>\n",
       "      <td>0.002779</td>\n",
       "      <td>0.001066</td>\n",
       "      <td>NMF(max_iter=4000, n_components=5, random_stat...</td>\n",
       "      <td>1.000000e-02</td>\n",
       "      <td>NaN</td>\n",
       "      <td>{'preprocessing': NMF(max_iter=4000, n_compone...</td>\n",
       "      <td>0.716708</td>\n",
       "      <td>0.911739</td>\n",
       "      <td>0.911258</td>\n",
       "      <td>0.377226</td>\n",
       "      <td>0.860252</td>\n",
       "      <td>0.755437</td>\n",
       "      <td>0.202109</td>\n",
       "      <td>16</td>\n",
       "    </tr>\n",
       "    <tr>\n",
       "      <th>17</th>\n",
       "      <td>0.825730</td>\n",
       "      <td>0.280311</td>\n",
       "      <td>0.002692</td>\n",
       "      <td>0.000987</td>\n",
       "      <td>NMF(max_iter=4000, n_components=5, random_stat...</td>\n",
       "      <td>1.000000e-01</td>\n",
       "      <td>NaN</td>\n",
       "      <td>{'preprocessing': NMF(max_iter=4000, n_compone...</td>\n",
       "      <td>0.506874</td>\n",
       "      <td>0.552726</td>\n",
       "      <td>0.350169</td>\n",
       "      <td>-1.857446</td>\n",
       "      <td>0.495174</td>\n",
       "      <td>0.009500</td>\n",
       "      <td>0.935938</td>\n",
       "      <td>18</td>\n",
       "    </tr>\n",
       "    <tr>\n",
       "      <th>18</th>\n",
       "      <td>0.791040</td>\n",
       "      <td>0.154383</td>\n",
       "      <td>0.002739</td>\n",
       "      <td>0.001035</td>\n",
       "      <td>NMF(max_iter=4000, n_components=5, random_stat...</td>\n",
       "      <td>1.000000e+00</td>\n",
       "      <td>NaN</td>\n",
       "      <td>{'preprocessing': NMF(max_iter=4000, n_compone...</td>\n",
       "      <td>0.099307</td>\n",
       "      <td>-0.597661</td>\n",
       "      <td>-0.353173</td>\n",
       "      <td>-4.081071</td>\n",
       "      <td>0.045045</td>\n",
       "      <td>-0.977511</td>\n",
       "      <td>1.572980</td>\n",
       "      <td>19</td>\n",
       "    </tr>\n",
       "    <tr>\n",
       "      <th>19</th>\n",
       "      <td>0.819737</td>\n",
       "      <td>0.251556</td>\n",
       "      <td>0.002734</td>\n",
       "      <td>0.001096</td>\n",
       "      <td>NMF(max_iter=4000, n_components=5, random_stat...</td>\n",
       "      <td>1.000000e+01</td>\n",
       "      <td>NaN</td>\n",
       "      <td>{'preprocessing': NMF(max_iter=4000, n_compone...</td>\n",
       "      <td>0.007999</td>\n",
       "      <td>-0.929673</td>\n",
       "      <td>-0.496395</td>\n",
       "      <td>-4.488868</td>\n",
       "      <td>-0.043747</td>\n",
       "      <td>-1.190137</td>\n",
       "      <td>1.684071</td>\n",
       "      <td>20</td>\n",
       "    </tr>\n",
       "  </tbody>\n",
       "</table>\n",
       "</div>"
      ]
     },
     "metadata": {},
     "execution_count": 3
    }
   ],
   "metadata": {}
  },
  {
   "cell_type": "code",
   "execution_count": 4,
   "source": [
    "plt.plot(grid.loc[grid.param_scaling.isna(), 'param_ridge__alpha'], \n",
    "         grid.loc[grid.param_scaling.isna(), 'mean_test_score'], marker = 'o')\n",
    "plt.xscale('log')\n",
    "plt.xlabel('alpha')\n",
    "plt.ylabel('mean test score')"
   ],
   "outputs": [
    {
     "output_type": "execute_result",
     "data": {
      "text/plain": [
       "Text(0, 0.5, 'mean test score')"
      ]
     },
     "metadata": {},
     "execution_count": 4
    },
    {
     "output_type": "display_data",
     "data": {
      "text/plain": [
       "<Figure size 432x288 with 1 Axes>"
      ],
      "image/svg+xml": "<?xml version=\"1.0\" encoding=\"utf-8\" standalone=\"no\"?>\n<!DOCTYPE svg PUBLIC \"-//W3C//DTD SVG 1.1//EN\"\n  \"http://www.w3.org/Graphics/SVG/1.1/DTD/svg11.dtd\">\n<!-- Created with matplotlib (https://matplotlib.org/) -->\n<svg height=\"262.19625pt\" version=\"1.1\" viewBox=\"0 0 394.160938 262.19625\" width=\"394.160938pt\" xmlns=\"http://www.w3.org/2000/svg\" xmlns:xlink=\"http://www.w3.org/1999/xlink\">\n <metadata>\n  <rdf:RDF xmlns:cc=\"http://creativecommons.org/ns#\" xmlns:dc=\"http://purl.org/dc/elements/1.1/\" xmlns:rdf=\"http://www.w3.org/1999/02/22-rdf-syntax-ns#\">\n   <cc:Work>\n    <dc:type rdf:resource=\"http://purl.org/dc/dcmitype/StillImage\"/>\n    <dc:date>2021-08-23T03:59:41.453909</dc:date>\n    <dc:format>image/svg+xml</dc:format>\n    <dc:creator>\n     <cc:Agent>\n      <dc:title>Matplotlib v3.3.1, https://matplotlib.org/</dc:title>\n     </cc:Agent>\n    </dc:creator>\n   </cc:Work>\n  </rdf:RDF>\n </metadata>\n <defs>\n  <style type=\"text/css\">*{stroke-linecap:butt;stroke-linejoin:round;}</style>\n </defs>\n <g id=\"figure_1\">\n  <g id=\"patch_1\">\n   <path d=\"M 0 262.19625 \nL 394.160938 262.19625 \nL 394.160938 0 \nL 0 0 \nz\n\" style=\"fill:none;\"/>\n  </g>\n  <g id=\"axes_1\">\n   <g id=\"patch_2\">\n    <path d=\"M 52.160938 224.64 \nL 386.960938 224.64 \nL 386.960938 7.2 \nL 52.160938 7.2 \nz\n\" style=\"fill:#333333;\"/>\n   </g>\n   <g id=\"matplotlib.axis_1\">\n    <g id=\"xtick_1\">\n     <g id=\"line2d_1\">\n      <defs>\n       <path d=\"M 0 0 \nL 0 3.5 \n\" id=\"mff1a3b497c\" style=\"stroke:#ffffff;stroke-width:0.8;\"/>\n      </defs>\n      <g>\n       <use style=\"fill:#ffffff;stroke:#ffffff;stroke-width:0.8;\" x=\"101.197301\" xlink:href=\"#mff1a3b497c\" y=\"224.64\"/>\n      </g>\n     </g>\n     <g id=\"text_1\">\n      <!-- $\\mathdefault{10^{-7}}$ -->\n      <g style=\"fill:#ffffff;\" transform=\"translate(89.447301 239.238437)scale(0.1 -0.1)\">\n       <defs>\n        <path d=\"M 12.40625 8.296875 \nL 28.515625 8.296875 \nL 28.515625 63.921875 \nL 10.984375 60.40625 \nL 10.984375 69.390625 \nL 28.421875 72.90625 \nL 38.28125 72.90625 \nL 38.28125 8.296875 \nL 54.390625 8.296875 \nL 54.390625 0 \nL 12.40625 0 \nz\n\" id=\"DejaVuSans-49\"/>\n        <path d=\"M 31.78125 66.40625 \nQ 24.171875 66.40625 20.328125 58.90625 \nQ 16.5 51.421875 16.5 36.375 \nQ 16.5 21.390625 20.328125 13.890625 \nQ 24.171875 6.390625 31.78125 6.390625 \nQ 39.453125 6.390625 43.28125 13.890625 \nQ 47.125 21.390625 47.125 36.375 \nQ 47.125 51.421875 43.28125 58.90625 \nQ 39.453125 66.40625 31.78125 66.40625 \nz\nM 31.78125 74.21875 \nQ 44.046875 74.21875 50.515625 64.515625 \nQ 56.984375 54.828125 56.984375 36.375 \nQ 56.984375 17.96875 50.515625 8.265625 \nQ 44.046875 -1.421875 31.78125 -1.421875 \nQ 19.53125 -1.421875 13.0625 8.265625 \nQ 6.59375 17.96875 6.59375 36.375 \nQ 6.59375 54.828125 13.0625 64.515625 \nQ 19.53125 74.21875 31.78125 74.21875 \nz\n\" id=\"DejaVuSans-48\"/>\n        <path d=\"M 10.59375 35.5 \nL 73.1875 35.5 \nL 73.1875 27.203125 \nL 10.59375 27.203125 \nz\n\" id=\"DejaVuSans-8722\"/>\n        <path d=\"M 8.203125 72.90625 \nL 55.078125 72.90625 \nL 55.078125 68.703125 \nL 28.609375 0 \nL 18.3125 0 \nL 43.21875 64.59375 \nL 8.203125 64.59375 \nz\n\" id=\"DejaVuSans-55\"/>\n       </defs>\n       <use transform=\"translate(0 0.684375)\" xlink:href=\"#DejaVuSans-49\"/>\n       <use transform=\"translate(63.623047 0.684375)\" xlink:href=\"#DejaVuSans-48\"/>\n       <use transform=\"translate(128.203125 38.965625)scale(0.7)\" xlink:href=\"#DejaVuSans-8722\"/>\n       <use transform=\"translate(186.855469 38.965625)scale(0.7)\" xlink:href=\"#DejaVuSans-55\"/>\n      </g>\n     </g>\n    </g>\n    <g id=\"xtick_2\">\n     <g id=\"line2d_2\">\n      <g>\n       <use style=\"fill:#ffffff;stroke:#ffffff;stroke-width:0.8;\" x=\"168.833665\" xlink:href=\"#mff1a3b497c\" y=\"224.64\"/>\n      </g>\n     </g>\n     <g id=\"text_2\">\n      <!-- $\\mathdefault{10^{-5}}$ -->\n      <g style=\"fill:#ffffff;\" transform=\"translate(157.083665 239.238437)scale(0.1 -0.1)\">\n       <defs>\n        <path d=\"M 10.796875 72.90625 \nL 49.515625 72.90625 \nL 49.515625 64.59375 \nL 19.828125 64.59375 \nL 19.828125 46.734375 \nQ 21.96875 47.46875 24.109375 47.828125 \nQ 26.265625 48.1875 28.421875 48.1875 \nQ 40.625 48.1875 47.75 41.5 \nQ 54.890625 34.8125 54.890625 23.390625 \nQ 54.890625 11.625 47.5625 5.09375 \nQ 40.234375 -1.421875 26.90625 -1.421875 \nQ 22.3125 -1.421875 17.546875 -0.640625 \nQ 12.796875 0.140625 7.71875 1.703125 \nL 7.71875 11.625 \nQ 12.109375 9.234375 16.796875 8.0625 \nQ 21.484375 6.890625 26.703125 6.890625 \nQ 35.15625 6.890625 40.078125 11.328125 \nQ 45.015625 15.765625 45.015625 23.390625 \nQ 45.015625 31 40.078125 35.4375 \nQ 35.15625 39.890625 26.703125 39.890625 \nQ 22.75 39.890625 18.8125 39.015625 \nQ 14.890625 38.140625 10.796875 36.28125 \nz\n\" id=\"DejaVuSans-53\"/>\n       </defs>\n       <use transform=\"translate(0 0.684375)\" xlink:href=\"#DejaVuSans-49\"/>\n       <use transform=\"translate(63.623047 0.684375)\" xlink:href=\"#DejaVuSans-48\"/>\n       <use transform=\"translate(128.203125 38.965625)scale(0.7)\" xlink:href=\"#DejaVuSans-8722\"/>\n       <use transform=\"translate(186.855469 38.965625)scale(0.7)\" xlink:href=\"#DejaVuSans-53\"/>\n      </g>\n     </g>\n    </g>\n    <g id=\"xtick_3\">\n     <g id=\"line2d_3\">\n      <g>\n       <use style=\"fill:#ffffff;stroke:#ffffff;stroke-width:0.8;\" x=\"236.470028\" xlink:href=\"#mff1a3b497c\" y=\"224.64\"/>\n      </g>\n     </g>\n     <g id=\"text_3\">\n      <!-- $\\mathdefault{10^{-3}}$ -->\n      <g style=\"fill:#ffffff;\" transform=\"translate(224.720028 239.238437)scale(0.1 -0.1)\">\n       <defs>\n        <path d=\"M 40.578125 39.3125 \nQ 47.65625 37.796875 51.625 33 \nQ 55.609375 28.21875 55.609375 21.1875 \nQ 55.609375 10.40625 48.1875 4.484375 \nQ 40.765625 -1.421875 27.09375 -1.421875 \nQ 22.515625 -1.421875 17.65625 -0.515625 \nQ 12.796875 0.390625 7.625 2.203125 \nL 7.625 11.71875 \nQ 11.71875 9.328125 16.59375 8.109375 \nQ 21.484375 6.890625 26.8125 6.890625 \nQ 36.078125 6.890625 40.9375 10.546875 \nQ 45.796875 14.203125 45.796875 21.1875 \nQ 45.796875 27.640625 41.28125 31.265625 \nQ 36.765625 34.90625 28.71875 34.90625 \nL 20.21875 34.90625 \nL 20.21875 43.015625 \nL 29.109375 43.015625 \nQ 36.375 43.015625 40.234375 45.921875 \nQ 44.09375 48.828125 44.09375 54.296875 \nQ 44.09375 59.90625 40.109375 62.90625 \nQ 36.140625 65.921875 28.71875 65.921875 \nQ 24.65625 65.921875 20.015625 65.03125 \nQ 15.375 64.15625 9.8125 62.3125 \nL 9.8125 71.09375 \nQ 15.4375 72.65625 20.34375 73.4375 \nQ 25.25 74.21875 29.59375 74.21875 \nQ 40.828125 74.21875 47.359375 69.109375 \nQ 53.90625 64.015625 53.90625 55.328125 \nQ 53.90625 49.265625 50.4375 45.09375 \nQ 46.96875 40.921875 40.578125 39.3125 \nz\n\" id=\"DejaVuSans-51\"/>\n       </defs>\n       <use transform=\"translate(0 0.765625)\" xlink:href=\"#DejaVuSans-49\"/>\n       <use transform=\"translate(63.623047 0.765625)\" xlink:href=\"#DejaVuSans-48\"/>\n       <use transform=\"translate(128.203125 39.046875)scale(0.7)\" xlink:href=\"#DejaVuSans-8722\"/>\n       <use transform=\"translate(186.855469 39.046875)scale(0.7)\" xlink:href=\"#DejaVuSans-51\"/>\n      </g>\n     </g>\n    </g>\n    <g id=\"xtick_4\">\n     <g id=\"line2d_4\">\n      <g>\n       <use style=\"fill:#ffffff;stroke:#ffffff;stroke-width:0.8;\" x=\"304.106392\" xlink:href=\"#mff1a3b497c\" y=\"224.64\"/>\n      </g>\n     </g>\n     <g id=\"text_4\">\n      <!-- $\\mathdefault{10^{-1}}$ -->\n      <g style=\"fill:#ffffff;\" transform=\"translate(292.356392 239.238437)scale(0.1 -0.1)\">\n       <use transform=\"translate(0 0.684375)\" xlink:href=\"#DejaVuSans-49\"/>\n       <use transform=\"translate(63.623047 0.684375)\" xlink:href=\"#DejaVuSans-48\"/>\n       <use transform=\"translate(128.203125 38.965625)scale(0.7)\" xlink:href=\"#DejaVuSans-8722\"/>\n       <use transform=\"translate(186.855469 38.965625)scale(0.7)\" xlink:href=\"#DejaVuSans-49\"/>\n      </g>\n     </g>\n    </g>\n    <g id=\"xtick_5\">\n     <g id=\"line2d_5\">\n      <g>\n       <use style=\"fill:#ffffff;stroke:#ffffff;stroke-width:0.8;\" x=\"371.742756\" xlink:href=\"#mff1a3b497c\" y=\"224.64\"/>\n      </g>\n     </g>\n     <g id=\"text_5\">\n      <!-- $\\mathdefault{10^{1}}$ -->\n      <g style=\"fill:#ffffff;\" transform=\"translate(362.942756 239.238437)scale(0.1 -0.1)\">\n       <use transform=\"translate(0 0.684375)\" xlink:href=\"#DejaVuSans-49\"/>\n       <use transform=\"translate(63.623047 0.684375)\" xlink:href=\"#DejaVuSans-48\"/>\n       <use transform=\"translate(128.203125 38.965625)scale(0.7)\" xlink:href=\"#DejaVuSans-49\"/>\n      </g>\n     </g>\n    </g>\n    <g id=\"text_6\">\n     <!-- alpha -->\n     <g style=\"fill:#ffffff;\" transform=\"translate(205.700781 252.916562)scale(0.1 -0.1)\">\n      <defs>\n       <path d=\"M 34.28125 27.484375 \nQ 23.390625 27.484375 19.1875 25 \nQ 14.984375 22.515625 14.984375 16.5 \nQ 14.984375 11.71875 18.140625 8.90625 \nQ 21.296875 6.109375 26.703125 6.109375 \nQ 34.1875 6.109375 38.703125 11.40625 \nQ 43.21875 16.703125 43.21875 25.484375 \nL 43.21875 27.484375 \nz\nM 52.203125 31.203125 \nL 52.203125 0 \nL 43.21875 0 \nL 43.21875 8.296875 \nQ 40.140625 3.328125 35.546875 0.953125 \nQ 30.953125 -1.421875 24.3125 -1.421875 \nQ 15.921875 -1.421875 10.953125 3.296875 \nQ 6 8.015625 6 15.921875 \nQ 6 25.140625 12.171875 29.828125 \nQ 18.359375 34.515625 30.609375 34.515625 \nL 43.21875 34.515625 \nL 43.21875 35.40625 \nQ 43.21875 41.609375 39.140625 45 \nQ 35.0625 48.390625 27.6875 48.390625 \nQ 23 48.390625 18.546875 47.265625 \nQ 14.109375 46.140625 10.015625 43.890625 \nL 10.015625 52.203125 \nQ 14.9375 54.109375 19.578125 55.046875 \nQ 24.21875 56 28.609375 56 \nQ 40.484375 56 46.34375 49.84375 \nQ 52.203125 43.703125 52.203125 31.203125 \nz\n\" id=\"DejaVuSans-97\"/>\n       <path d=\"M 9.421875 75.984375 \nL 18.40625 75.984375 \nL 18.40625 0 \nL 9.421875 0 \nz\n\" id=\"DejaVuSans-108\"/>\n       <path d=\"M 18.109375 8.203125 \nL 18.109375 -20.796875 \nL 9.078125 -20.796875 \nL 9.078125 54.6875 \nL 18.109375 54.6875 \nL 18.109375 46.390625 \nQ 20.953125 51.265625 25.265625 53.625 \nQ 29.59375 56 35.59375 56 \nQ 45.5625 56 51.78125 48.09375 \nQ 58.015625 40.1875 58.015625 27.296875 \nQ 58.015625 14.40625 51.78125 6.484375 \nQ 45.5625 -1.421875 35.59375 -1.421875 \nQ 29.59375 -1.421875 25.265625 0.953125 \nQ 20.953125 3.328125 18.109375 8.203125 \nz\nM 48.6875 27.296875 \nQ 48.6875 37.203125 44.609375 42.84375 \nQ 40.53125 48.484375 33.40625 48.484375 \nQ 26.265625 48.484375 22.1875 42.84375 \nQ 18.109375 37.203125 18.109375 27.296875 \nQ 18.109375 17.390625 22.1875 11.75 \nQ 26.265625 6.109375 33.40625 6.109375 \nQ 40.53125 6.109375 44.609375 11.75 \nQ 48.6875 17.390625 48.6875 27.296875 \nz\n\" id=\"DejaVuSans-112\"/>\n       <path d=\"M 54.890625 33.015625 \nL 54.890625 0 \nL 45.90625 0 \nL 45.90625 32.71875 \nQ 45.90625 40.484375 42.875 44.328125 \nQ 39.84375 48.1875 33.796875 48.1875 \nQ 26.515625 48.1875 22.3125 43.546875 \nQ 18.109375 38.921875 18.109375 30.90625 \nL 18.109375 0 \nL 9.078125 0 \nL 9.078125 75.984375 \nL 18.109375 75.984375 \nL 18.109375 46.1875 \nQ 21.34375 51.125 25.703125 53.5625 \nQ 30.078125 56 35.796875 56 \nQ 45.21875 56 50.046875 50.171875 \nQ 54.890625 44.34375 54.890625 33.015625 \nz\n\" id=\"DejaVuSans-104\"/>\n      </defs>\n      <use xlink:href=\"#DejaVuSans-97\"/>\n      <use x=\"61.279297\" xlink:href=\"#DejaVuSans-108\"/>\n      <use x=\"89.0625\" xlink:href=\"#DejaVuSans-112\"/>\n      <use x=\"152.539062\" xlink:href=\"#DejaVuSans-104\"/>\n      <use x=\"215.917969\" xlink:href=\"#DejaVuSans-97\"/>\n     </g>\n    </g>\n   </g>\n   <g id=\"matplotlib.axis_2\">\n    <g id=\"ytick_1\">\n     <g id=\"line2d_6\">\n      <defs>\n       <path d=\"M 0 0 \nL -3.5 0 \n\" id=\"mad24a21bd3\" style=\"stroke:#ffffff;stroke-width:0.8;\"/>\n      </defs>\n      <g>\n       <use style=\"fill:#ffffff;stroke:#ffffff;stroke-width:0.8;\" x=\"52.160938\" xlink:href=\"#mad24a21bd3\" y=\"196.651842\"/>\n      </g>\n     </g>\n     <g id=\"text_7\">\n      <!-- −1.0 -->\n      <g style=\"fill:#ffffff;\" transform=\"translate(20.878125 200.451061)scale(0.1 -0.1)\">\n       <defs>\n        <path d=\"M 10.6875 12.40625 \nL 21 12.40625 \nL 21 0 \nL 10.6875 0 \nz\n\" id=\"DejaVuSans-46\"/>\n       </defs>\n       <use xlink:href=\"#DejaVuSans-8722\"/>\n       <use x=\"83.789062\" xlink:href=\"#DejaVuSans-49\"/>\n       <use x=\"147.412109\" xlink:href=\"#DejaVuSans-46\"/>\n       <use x=\"179.199219\" xlink:href=\"#DejaVuSans-48\"/>\n      </g>\n     </g>\n    </g>\n    <g id=\"ytick_2\">\n     <g id=\"line2d_7\">\n      <g>\n       <use style=\"fill:#ffffff;stroke:#ffffff;stroke-width:0.8;\" x=\"52.160938\" xlink:href=\"#mad24a21bd3\" y=\"149.042621\"/>\n      </g>\n     </g>\n     <g id=\"text_8\">\n      <!-- −0.5 -->\n      <g style=\"fill:#ffffff;\" transform=\"translate(20.878125 152.841839)scale(0.1 -0.1)\">\n       <use xlink:href=\"#DejaVuSans-8722\"/>\n       <use x=\"83.789062\" xlink:href=\"#DejaVuSans-48\"/>\n       <use x=\"147.412109\" xlink:href=\"#DejaVuSans-46\"/>\n       <use x=\"179.199219\" xlink:href=\"#DejaVuSans-53\"/>\n      </g>\n     </g>\n    </g>\n    <g id=\"ytick_3\">\n     <g id=\"line2d_8\">\n      <g>\n       <use style=\"fill:#ffffff;stroke:#ffffff;stroke-width:0.8;\" x=\"52.160938\" xlink:href=\"#mad24a21bd3\" y=\"101.433399\"/>\n      </g>\n     </g>\n     <g id=\"text_9\">\n      <!-- 0.0 -->\n      <g style=\"fill:#ffffff;\" transform=\"translate(29.257812 105.232618)scale(0.1 -0.1)\">\n       <use xlink:href=\"#DejaVuSans-48\"/>\n       <use x=\"63.623047\" xlink:href=\"#DejaVuSans-46\"/>\n       <use x=\"95.410156\" xlink:href=\"#DejaVuSans-48\"/>\n      </g>\n     </g>\n    </g>\n    <g id=\"ytick_4\">\n     <g id=\"line2d_9\">\n      <g>\n       <use style=\"fill:#ffffff;stroke:#ffffff;stroke-width:0.8;\" x=\"52.160938\" xlink:href=\"#mad24a21bd3\" y=\"53.824177\"/>\n      </g>\n     </g>\n     <g id=\"text_10\">\n      <!-- 0.5 -->\n      <g style=\"fill:#ffffff;\" transform=\"translate(29.257812 57.623396)scale(0.1 -0.1)\">\n       <use xlink:href=\"#DejaVuSans-48\"/>\n       <use x=\"63.623047\" xlink:href=\"#DejaVuSans-46\"/>\n       <use x=\"95.410156\" xlink:href=\"#DejaVuSans-53\"/>\n      </g>\n     </g>\n    </g>\n    <g id=\"text_11\">\n     <!-- mean test score -->\n     <g style=\"fill:#ffffff;\" transform=\"translate(14.798437 156.312187)rotate(-90)scale(0.1 -0.1)\">\n      <defs>\n       <path d=\"M 52 44.1875 \nQ 55.375 50.25 60.0625 53.125 \nQ 64.75 56 71.09375 56 \nQ 79.640625 56 84.28125 50.015625 \nQ 88.921875 44.046875 88.921875 33.015625 \nL 88.921875 0 \nL 79.890625 0 \nL 79.890625 32.71875 \nQ 79.890625 40.578125 77.09375 44.375 \nQ 74.3125 48.1875 68.609375 48.1875 \nQ 61.625 48.1875 57.5625 43.546875 \nQ 53.515625 38.921875 53.515625 30.90625 \nL 53.515625 0 \nL 44.484375 0 \nL 44.484375 32.71875 \nQ 44.484375 40.625 41.703125 44.40625 \nQ 38.921875 48.1875 33.109375 48.1875 \nQ 26.21875 48.1875 22.15625 43.53125 \nQ 18.109375 38.875 18.109375 30.90625 \nL 18.109375 0 \nL 9.078125 0 \nL 9.078125 54.6875 \nL 18.109375 54.6875 \nL 18.109375 46.1875 \nQ 21.1875 51.21875 25.484375 53.609375 \nQ 29.78125 56 35.6875 56 \nQ 41.65625 56 45.828125 52.96875 \nQ 50 49.953125 52 44.1875 \nz\n\" id=\"DejaVuSans-109\"/>\n       <path d=\"M 56.203125 29.59375 \nL 56.203125 25.203125 \nL 14.890625 25.203125 \nQ 15.484375 15.921875 20.484375 11.0625 \nQ 25.484375 6.203125 34.421875 6.203125 \nQ 39.59375 6.203125 44.453125 7.46875 \nQ 49.3125 8.734375 54.109375 11.28125 \nL 54.109375 2.78125 \nQ 49.265625 0.734375 44.1875 -0.34375 \nQ 39.109375 -1.421875 33.890625 -1.421875 \nQ 20.796875 -1.421875 13.15625 6.1875 \nQ 5.515625 13.8125 5.515625 26.8125 \nQ 5.515625 40.234375 12.765625 48.109375 \nQ 20.015625 56 32.328125 56 \nQ 43.359375 56 49.78125 48.890625 \nQ 56.203125 41.796875 56.203125 29.59375 \nz\nM 47.21875 32.234375 \nQ 47.125 39.59375 43.09375 43.984375 \nQ 39.0625 48.390625 32.421875 48.390625 \nQ 24.90625 48.390625 20.390625 44.140625 \nQ 15.875 39.890625 15.1875 32.171875 \nz\n\" id=\"DejaVuSans-101\"/>\n       <path d=\"M 54.890625 33.015625 \nL 54.890625 0 \nL 45.90625 0 \nL 45.90625 32.71875 \nQ 45.90625 40.484375 42.875 44.328125 \nQ 39.84375 48.1875 33.796875 48.1875 \nQ 26.515625 48.1875 22.3125 43.546875 \nQ 18.109375 38.921875 18.109375 30.90625 \nL 18.109375 0 \nL 9.078125 0 \nL 9.078125 54.6875 \nL 18.109375 54.6875 \nL 18.109375 46.1875 \nQ 21.34375 51.125 25.703125 53.5625 \nQ 30.078125 56 35.796875 56 \nQ 45.21875 56 50.046875 50.171875 \nQ 54.890625 44.34375 54.890625 33.015625 \nz\n\" id=\"DejaVuSans-110\"/>\n       <path id=\"DejaVuSans-32\"/>\n       <path d=\"M 18.3125 70.21875 \nL 18.3125 54.6875 \nL 36.8125 54.6875 \nL 36.8125 47.703125 \nL 18.3125 47.703125 \nL 18.3125 18.015625 \nQ 18.3125 11.328125 20.140625 9.421875 \nQ 21.96875 7.515625 27.59375 7.515625 \nL 36.8125 7.515625 \nL 36.8125 0 \nL 27.59375 0 \nQ 17.1875 0 13.234375 3.875 \nQ 9.28125 7.765625 9.28125 18.015625 \nL 9.28125 47.703125 \nL 2.6875 47.703125 \nL 2.6875 54.6875 \nL 9.28125 54.6875 \nL 9.28125 70.21875 \nz\n\" id=\"DejaVuSans-116\"/>\n       <path d=\"M 44.28125 53.078125 \nL 44.28125 44.578125 \nQ 40.484375 46.53125 36.375 47.5 \nQ 32.28125 48.484375 27.875 48.484375 \nQ 21.1875 48.484375 17.84375 46.4375 \nQ 14.5 44.390625 14.5 40.28125 \nQ 14.5 37.15625 16.890625 35.375 \nQ 19.28125 33.59375 26.515625 31.984375 \nL 29.59375 31.296875 \nQ 39.15625 29.25 43.1875 25.515625 \nQ 47.21875 21.78125 47.21875 15.09375 \nQ 47.21875 7.46875 41.1875 3.015625 \nQ 35.15625 -1.421875 24.609375 -1.421875 \nQ 20.21875 -1.421875 15.453125 -0.5625 \nQ 10.6875 0.296875 5.421875 2 \nL 5.421875 11.28125 \nQ 10.40625 8.6875 15.234375 7.390625 \nQ 20.0625 6.109375 24.8125 6.109375 \nQ 31.15625 6.109375 34.5625 8.28125 \nQ 37.984375 10.453125 37.984375 14.40625 \nQ 37.984375 18.0625 35.515625 20.015625 \nQ 33.0625 21.96875 24.703125 23.78125 \nL 21.578125 24.515625 \nQ 13.234375 26.265625 9.515625 29.90625 \nQ 5.8125 33.546875 5.8125 39.890625 \nQ 5.8125 47.609375 11.28125 51.796875 \nQ 16.75 56 26.8125 56 \nQ 31.78125 56 36.171875 55.265625 \nQ 40.578125 54.546875 44.28125 53.078125 \nz\n\" id=\"DejaVuSans-115\"/>\n       <path d=\"M 48.78125 52.59375 \nL 48.78125 44.1875 \nQ 44.96875 46.296875 41.140625 47.34375 \nQ 37.3125 48.390625 33.40625 48.390625 \nQ 24.65625 48.390625 19.8125 42.84375 \nQ 14.984375 37.3125 14.984375 27.296875 \nQ 14.984375 17.28125 19.8125 11.734375 \nQ 24.65625 6.203125 33.40625 6.203125 \nQ 37.3125 6.203125 41.140625 7.25 \nQ 44.96875 8.296875 48.78125 10.40625 \nL 48.78125 2.09375 \nQ 45.015625 0.34375 40.984375 -0.53125 \nQ 36.96875 -1.421875 32.421875 -1.421875 \nQ 20.0625 -1.421875 12.78125 6.34375 \nQ 5.515625 14.109375 5.515625 27.296875 \nQ 5.515625 40.671875 12.859375 48.328125 \nQ 20.21875 56 33.015625 56 \nQ 37.15625 56 41.109375 55.140625 \nQ 45.0625 54.296875 48.78125 52.59375 \nz\n\" id=\"DejaVuSans-99\"/>\n       <path d=\"M 30.609375 48.390625 \nQ 23.390625 48.390625 19.1875 42.75 \nQ 14.984375 37.109375 14.984375 27.296875 \nQ 14.984375 17.484375 19.15625 11.84375 \nQ 23.34375 6.203125 30.609375 6.203125 \nQ 37.796875 6.203125 41.984375 11.859375 \nQ 46.1875 17.53125 46.1875 27.296875 \nQ 46.1875 37.015625 41.984375 42.703125 \nQ 37.796875 48.390625 30.609375 48.390625 \nz\nM 30.609375 56 \nQ 42.328125 56 49.015625 48.375 \nQ 55.71875 40.765625 55.71875 27.296875 \nQ 55.71875 13.875 49.015625 6.21875 \nQ 42.328125 -1.421875 30.609375 -1.421875 \nQ 18.84375 -1.421875 12.171875 6.21875 \nQ 5.515625 13.875 5.515625 27.296875 \nQ 5.515625 40.765625 12.171875 48.375 \nQ 18.84375 56 30.609375 56 \nz\n\" id=\"DejaVuSans-111\"/>\n       <path d=\"M 41.109375 46.296875 \nQ 39.59375 47.171875 37.8125 47.578125 \nQ 36.03125 48 33.890625 48 \nQ 26.265625 48 22.1875 43.046875 \nQ 18.109375 38.09375 18.109375 28.8125 \nL 18.109375 0 \nL 9.078125 0 \nL 9.078125 54.6875 \nL 18.109375 54.6875 \nL 18.109375 46.1875 \nQ 20.953125 51.171875 25.484375 53.578125 \nQ 30.03125 56 36.53125 56 \nQ 37.453125 56 38.578125 55.875 \nQ 39.703125 55.765625 41.0625 55.515625 \nz\n\" id=\"DejaVuSans-114\"/>\n      </defs>\n      <use xlink:href=\"#DejaVuSans-109\"/>\n      <use x=\"97.412109\" xlink:href=\"#DejaVuSans-101\"/>\n      <use x=\"158.935547\" xlink:href=\"#DejaVuSans-97\"/>\n      <use x=\"220.214844\" xlink:href=\"#DejaVuSans-110\"/>\n      <use x=\"283.59375\" xlink:href=\"#DejaVuSans-32\"/>\n      <use x=\"315.380859\" xlink:href=\"#DejaVuSans-116\"/>\n      <use x=\"354.589844\" xlink:href=\"#DejaVuSans-101\"/>\n      <use x=\"416.113281\" xlink:href=\"#DejaVuSans-115\"/>\n      <use x=\"468.212891\" xlink:href=\"#DejaVuSans-116\"/>\n      <use x=\"507.421875\" xlink:href=\"#DejaVuSans-32\"/>\n      <use x=\"539.208984\" xlink:href=\"#DejaVuSans-115\"/>\n      <use x=\"591.308594\" xlink:href=\"#DejaVuSans-99\"/>\n      <use x=\"646.289062\" xlink:href=\"#DejaVuSans-111\"/>\n      <use x=\"707.470703\" xlink:href=\"#DejaVuSans-114\"/>\n      <use x=\"746.333984\" xlink:href=\"#DejaVuSans-101\"/>\n     </g>\n    </g>\n   </g>\n   <g id=\"line2d_10\">\n    <path clip-path=\"url(#pa683e12984)\" d=\"M 67.379119 17.286284 \nL 101.197301 17.256453 \nL 135.015483 17.083636 \nL 168.833665 17.384904 \nL 202.651847 18.25466 \nL 236.470028 19.040539 \nL 270.28821 29.50191 \nL 304.106392 100.528869 \nL 337.924574 194.510456 \nL 371.742756 214.756364 \n\" style=\"fill:none;stroke:#8dd3c7;stroke-linecap:square;stroke-width:1.5;\"/>\n    <defs>\n     <path d=\"M 0 3 \nC 0.795609 3 1.55874 2.683901 2.12132 2.12132 \nC 2.683901 1.55874 3 0.795609 3 0 \nC 3 -0.795609 2.683901 -1.55874 2.12132 -2.12132 \nC 1.55874 -2.683901 0.795609 -3 0 -3 \nC -0.795609 -3 -1.55874 -2.683901 -2.12132 -2.12132 \nC -2.683901 -1.55874 -3 -0.795609 -3 0 \nC -3 0.795609 -2.683901 1.55874 -2.12132 2.12132 \nC -1.55874 2.683901 -0.795609 3 0 3 \nz\n\" id=\"m4a28edef9d\" style=\"stroke:#8dd3c7;\"/>\n    </defs>\n    <g clip-path=\"url(#pa683e12984)\">\n     <use style=\"fill:#8dd3c7;stroke:#8dd3c7;\" x=\"67.379119\" xlink:href=\"#m4a28edef9d\" y=\"17.286284\"/>\n     <use style=\"fill:#8dd3c7;stroke:#8dd3c7;\" x=\"101.197301\" xlink:href=\"#m4a28edef9d\" y=\"17.256453\"/>\n     <use style=\"fill:#8dd3c7;stroke:#8dd3c7;\" x=\"135.015483\" xlink:href=\"#m4a28edef9d\" y=\"17.083636\"/>\n     <use style=\"fill:#8dd3c7;stroke:#8dd3c7;\" x=\"168.833665\" xlink:href=\"#m4a28edef9d\" y=\"17.384904\"/>\n     <use style=\"fill:#8dd3c7;stroke:#8dd3c7;\" x=\"202.651847\" xlink:href=\"#m4a28edef9d\" y=\"18.25466\"/>\n     <use style=\"fill:#8dd3c7;stroke:#8dd3c7;\" x=\"236.470028\" xlink:href=\"#m4a28edef9d\" y=\"19.040539\"/>\n     <use style=\"fill:#8dd3c7;stroke:#8dd3c7;\" x=\"270.28821\" xlink:href=\"#m4a28edef9d\" y=\"29.50191\"/>\n     <use style=\"fill:#8dd3c7;stroke:#8dd3c7;\" x=\"304.106392\" xlink:href=\"#m4a28edef9d\" y=\"100.528869\"/>\n     <use style=\"fill:#8dd3c7;stroke:#8dd3c7;\" x=\"337.924574\" xlink:href=\"#m4a28edef9d\" y=\"194.510456\"/>\n     <use style=\"fill:#8dd3c7;stroke:#8dd3c7;\" x=\"371.742756\" xlink:href=\"#m4a28edef9d\" y=\"214.756364\"/>\n    </g>\n   </g>\n   <g id=\"patch_3\">\n    <path d=\"M 52.160938 224.64 \nL 52.160938 7.2 \n\" style=\"fill:none;stroke:#ffffff;stroke-linecap:square;stroke-linejoin:miter;stroke-width:0.8;\"/>\n   </g>\n   <g id=\"patch_4\">\n    <path d=\"M 386.960938 224.64 \nL 386.960938 7.2 \n\" style=\"fill:none;stroke:#ffffff;stroke-linecap:square;stroke-linejoin:miter;stroke-width:0.8;\"/>\n   </g>\n   <g id=\"patch_5\">\n    <path d=\"M 52.160938 224.64 \nL 386.960938 224.64 \n\" style=\"fill:none;stroke:#ffffff;stroke-linecap:square;stroke-linejoin:miter;stroke-width:0.8;\"/>\n   </g>\n   <g id=\"patch_6\">\n    <path d=\"M 52.160938 7.2 \nL 386.960938 7.2 \n\" style=\"fill:none;stroke:#ffffff;stroke-linecap:square;stroke-linejoin:miter;stroke-width:0.8;\"/>\n   </g>\n  </g>\n </g>\n <defs>\n  <clipPath id=\"pa683e12984\">\n   <rect height=\"217.44\" width=\"334.8\" x=\"52.160938\" y=\"7.2\"/>\n  </clipPath>\n </defs>\n</svg>\n",
      "image/png": "[encoded data removed]"
     },
     "metadata": {
      "needs_background": "dark"
     }
    }
   ],
   "metadata": {}
  },
  {
   "cell_type": "markdown",
   "source": [
    "#### SVR\n",
    "The same scenarios are applied to the application of SVR. One is using PCA while the other one is using NMF as data representation. The script is grid_pilot_svr.py, which is submitted by submit_pilot.sh. The job log is slurm-43509.txt. The result is exported as pilot_grid_svr_20210318.csv. The best validation score is 0.905, which provided by the one using NMF."
   ],
   "metadata": {}
  },
  {
   "cell_type": "markdown",
   "source": [
    "#### RF\n",
    "The same scenarios are applied to the application of RF. The script is grid_pilot_rf.py, which is submitted by submit_pilot.sh. The job log is slurm-3819.txt. The result is exported as pilot_grid_rf_20210822.csv. The best validation score is 0.716, which provided by the one using NMF."
   ],
   "metadata": {}
  },
  {
   "cell_type": "code",
   "execution_count": 6,
   "source": [
    "grid_df = pd.concat([pd.read_csv('results/pilot_grid_ridge_20210823.csv', index_col=0),\n",
    "                     pd.read_csv('results/pilot_grid_svr_20210318.csv', index_col=0),\n",
    "                     pd.read_csv('results/pilot_grid_rf_20210822.csv', index_col=0)],\n",
    "                    axis=0, join='outer')\n",
    "grid_df.info()"
   ],
   "outputs": [
    {
     "output_type": "stream",
     "name": "stdout",
     "text": [
      "<class 'pandas.core.frame.DataFrame'>\n",
      "Int64Index: 206 entries, 0 to 23\n",
      "Data columns (total 20 columns):\n",
      " #   Column                  Non-Null Count  Dtype  \n",
      "---  ------                  --------------  -----  \n",
      " 0   mean_fit_time           206 non-null    float64\n",
      " 1   std_fit_time            206 non-null    float64\n",
      " 2   mean_score_time         206 non-null    float64\n",
      " 3   std_score_time          206 non-null    float64\n",
      " 4   param_preprocessing     206 non-null    object \n",
      " 5   param_ridge__alpha      20 non-null     float64\n",
      " 6   param_scaling           103 non-null    object \n",
      " 7   params                  206 non-null    object \n",
      " 8   split0_test_score       206 non-null    float64\n",
      " 9   split1_test_score       206 non-null    float64\n",
      " 10  split2_test_score       206 non-null    float64\n",
      " 11  split3_test_score       206 non-null    float64\n",
      " 12  split4_test_score       206 non-null    float64\n",
      " 13  mean_test_score         206 non-null    float64\n",
      " 14  std_test_score          206 non-null    float64\n",
      " 15  rank_test_score         206 non-null    int64  \n",
      " 16  param_svr__C            162 non-null    float64\n",
      " 17  param_svr__gamma        162 non-null    float64\n",
      " 18  param_rf__max_depth     24 non-null     float64\n",
      " 19  param_rf__n_estimators  24 non-null     float64\n",
      "dtypes: float64(16), int64(1), object(3)\n",
      "memory usage: 33.8+ KB\n"
     ]
    }
   ],
   "metadata": {}
  },
  {
   "cell_type": "code",
   "execution_count": 24,
   "source": [
    "regrs = ['Ridge', 'SVR', 'RF']\n",
    "for mask_scale, color, repre in zip([grid_df.param_scaling.isna(), ~grid_df.param_scaling.isna()], \n",
    "                                    ['C0', 'C1'], ['NMF', 'PCA']):\n",
    "    scores = []\n",
    "    for mask_reg in [~grid_df.param_ridge__alpha.isna(), \n",
    "                     ~grid_df.param_svr__C.isna(), \n",
    "                     ~grid_df.param_rf__max_depth.isna()]:\n",
    "         scores.append(grid_df.loc[mask_scale & mask_reg, 'mean_test_score'].max())\n",
    "    plt.scatter(regrs, scores, c=color, label=repre)\n",
    "    for x, y in zip(regrs, scores):\n",
    "        plt.text(x=x, y=y, s='{:.2f}'.format(y))\n",
    "plt.legend()"
   ],
   "outputs": [
    {
     "output_type": "execute_result",
     "data": {
      "text/plain": [
       "<matplotlib.legend.Legend at 0x7f6829618f50>"
      ]
     },
     "metadata": {},
     "execution_count": 24
    },
    {
     "output_type": "display_data",
     "data": {
      "text/plain": [
       "<Figure size 432x288 with 1 Axes>"
      ],
      "image/svg+xml": "<?xml version=\"1.0\" encoding=\"utf-8\" standalone=\"no\"?>\n<!DOCTYPE svg PUBLIC \"-//W3C//DTD SVG 1.1//EN\"\n  \"http://www.w3.org/Graphics/SVG/1.1/DTD/svg11.dtd\">\n<!-- Created with matplotlib (https://matplotlib.org/) -->\n<svg height=\"248.518125pt\" version=\"1.1\" viewBox=\"0 0 385.513068 248.518125\" width=\"385.513068pt\" xmlns=\"http://www.w3.org/2000/svg\" xmlns:xlink=\"http://www.w3.org/1999/xlink\">\n <metadata>\n  <rdf:RDF xmlns:cc=\"http://creativecommons.org/ns#\" xmlns:dc=\"http://purl.org/dc/elements/1.1/\" xmlns:rdf=\"http://www.w3.org/1999/02/22-rdf-syntax-ns#\">\n   <cc:Work>\n    <dc:type rdf:resource=\"http://purl.org/dc/dcmitype/StillImage\"/>\n    <dc:date>2021-08-23T05:01:16.773397</dc:date>\n    <dc:format>image/svg+xml</dc:format>\n    <dc:creator>\n     <cc:Agent>\n      <dc:title>Matplotlib v3.3.1, https://matplotlib.org/</dc:title>\n     </cc:Agent>\n    </dc:creator>\n   </cc:Work>\n  </rdf:RDF>\n </metadata>\n <defs>\n  <style type=\"text/css\">*{stroke-linecap:butt;stroke-linejoin:round;}</style>\n </defs>\n <g id=\"figure_1\">\n  <g id=\"patch_1\">\n   <path d=\"M 0 248.518125 \nL 385.513068 248.518125 \nL 385.513068 0 \nL 0 0 \nz\n\" style=\"fill:none;\"/>\n  </g>\n  <g id=\"axes_1\">\n   <g id=\"patch_2\">\n    <path d=\"M 36.465625 224.64 \nL 371.265625 224.64 \nL 371.265625 7.2 \nL 36.465625 7.2 \nz\n\" style=\"fill:#333333;\"/>\n   </g>\n   <g id=\"PathCollection_1\">\n    <defs>\n     <path d=\"M 0 3 \nC 0.795609 3 1.55874 2.683901 2.12132 2.12132 \nC 2.683901 1.55874 3 0.795609 3 0 \nC 3 -0.795609 2.683901 -1.55874 2.12132 -2.12132 \nC 1.55874 -2.683901 0.795609 -3 0 -3 \nC -0.795609 -3 -1.55874 -2.683901 -2.12132 -2.12132 \nC -2.683901 -1.55874 -3 -0.795609 -3 0 \nC -3 0.795609 -2.683901 1.55874 -2.12132 2.12132 \nC -1.55874 2.683901 -0.795609 3 0 3 \nz\n\" id=\"m9e72d7f08a\" style=\"stroke:#8dd3c7;\"/>\n    </defs>\n    <g clip-path=\"url(#p7a349fdf33)\">\n     <use style=\"fill:#8dd3c7;stroke:#8dd3c7;\" x=\"51.683807\" xlink:href=\"#m9e72d7f08a\" y=\"33.447494\"/>\n     <use style=\"fill:#8dd3c7;stroke:#8dd3c7;\" x=\"203.865625\" xlink:href=\"#m9e72d7f08a\" y=\"17.083636\"/>\n     <use style=\"fill:#8dd3c7;stroke:#8dd3c7;\" x=\"356.047443\" xlink:href=\"#m9e72d7f08a\" y=\"176.63643\"/>\n    </g>\n   </g>\n   <g id=\"PathCollection_2\">\n    <defs>\n     <path d=\"M 0 3 \nC 0.795609 3 1.55874 2.683901 2.12132 2.12132 \nC 2.683901 1.55874 3 0.795609 3 0 \nC 3 -0.795609 2.683901 -1.55874 2.12132 -2.12132 \nC 1.55874 -2.683901 0.795609 -3 0 -3 \nC -0.795609 -3 -1.55874 -2.683901 -2.12132 -2.12132 \nC -2.683901 -1.55874 -3 -0.795609 -3 0 \nC -3 0.795609 -2.683901 1.55874 -2.12132 2.12132 \nC -1.55874 2.683901 -0.795609 3 0 3 \nz\n\" id=\"mb1b1bd911e\" style=\"stroke:#feffb3;\"/>\n    </defs>\n    <g clip-path=\"url(#p7a349fdf33)\">\n     <use style=\"fill:#feffb3;stroke:#feffb3;\" x=\"51.683807\" xlink:href=\"#mb1b1bd911e\" y=\"67.211553\"/>\n     <use style=\"fill:#feffb3;stroke:#feffb3;\" x=\"203.865625\" xlink:href=\"#mb1b1bd911e\" y=\"53.617003\"/>\n     <use style=\"fill:#feffb3;stroke:#feffb3;\" x=\"356.047443\" xlink:href=\"#mb1b1bd911e\" y=\"214.756364\"/>\n    </g>\n   </g>\n   <g id=\"matplotlib.axis_1\">\n    <g id=\"xtick_1\">\n     <g id=\"line2d_1\">\n      <defs>\n       <path d=\"M 0 0 \nL 0 3.5 \n\" id=\"m15d776b4f4\" style=\"stroke:#ffffff;stroke-width:0.8;\"/>\n      </defs>\n      <g>\n       <use style=\"fill:#ffffff;stroke:#ffffff;stroke-width:0.8;\" x=\"51.683807\" xlink:href=\"#m15d776b4f4\" y=\"224.64\"/>\n      </g>\n     </g>\n     <g id=\"text_1\">\n      <!-- Ridge -->\n      <g style=\"fill:#ffffff;\" transform=\"translate(37.395526 239.238438)scale(0.1 -0.1)\">\n       <defs>\n        <path d=\"M 44.390625 34.1875 \nQ 47.5625 33.109375 50.5625 29.59375 \nQ 53.5625 26.078125 56.59375 19.921875 \nL 66.609375 0 \nL 56 0 \nL 46.6875 18.703125 \nQ 43.0625 26.03125 39.671875 28.421875 \nQ 36.28125 30.8125 30.421875 30.8125 \nL 19.671875 30.8125 \nL 19.671875 0 \nL 9.8125 0 \nL 9.8125 72.90625 \nL 32.078125 72.90625 \nQ 44.578125 72.90625 50.734375 67.671875 \nQ 56.890625 62.453125 56.890625 51.90625 \nQ 56.890625 45.015625 53.6875 40.46875 \nQ 50.484375 35.9375 44.390625 34.1875 \nz\nM 19.671875 64.796875 \nL 19.671875 38.921875 \nL 32.078125 38.921875 \nQ 39.203125 38.921875 42.84375 42.21875 \nQ 46.484375 45.515625 46.484375 51.90625 \nQ 46.484375 58.296875 42.84375 61.546875 \nQ 39.203125 64.796875 32.078125 64.796875 \nz\n\" id=\"DejaVuSans-82\"/>\n        <path d=\"M 9.421875 54.6875 \nL 18.40625 54.6875 \nL 18.40625 0 \nL 9.421875 0 \nz\nM 9.421875 75.984375 \nL 18.40625 75.984375 \nL 18.40625 64.59375 \nL 9.421875 64.59375 \nz\n\" id=\"DejaVuSans-105\"/>\n        <path d=\"M 45.40625 46.390625 \nL 45.40625 75.984375 \nL 54.390625 75.984375 \nL 54.390625 0 \nL 45.40625 0 \nL 45.40625 8.203125 \nQ 42.578125 3.328125 38.25 0.953125 \nQ 33.9375 -1.421875 27.875 -1.421875 \nQ 17.96875 -1.421875 11.734375 6.484375 \nQ 5.515625 14.40625 5.515625 27.296875 \nQ 5.515625 40.1875 11.734375 48.09375 \nQ 17.96875 56 27.875 56 \nQ 33.9375 56 38.25 53.625 \nQ 42.578125 51.265625 45.40625 46.390625 \nz\nM 14.796875 27.296875 \nQ 14.796875 17.390625 18.875 11.75 \nQ 22.953125 6.109375 30.078125 6.109375 \nQ 37.203125 6.109375 41.296875 11.75 \nQ 45.40625 17.390625 45.40625 27.296875 \nQ 45.40625 37.203125 41.296875 42.84375 \nQ 37.203125 48.484375 30.078125 48.484375 \nQ 22.953125 48.484375 18.875 42.84375 \nQ 14.796875 37.203125 14.796875 27.296875 \nz\n\" id=\"DejaVuSans-100\"/>\n        <path d=\"M 45.40625 27.984375 \nQ 45.40625 37.75 41.375 43.109375 \nQ 37.359375 48.484375 30.078125 48.484375 \nQ 22.859375 48.484375 18.828125 43.109375 \nQ 14.796875 37.75 14.796875 27.984375 \nQ 14.796875 18.265625 18.828125 12.890625 \nQ 22.859375 7.515625 30.078125 7.515625 \nQ 37.359375 7.515625 41.375 12.890625 \nQ 45.40625 18.265625 45.40625 27.984375 \nz\nM 54.390625 6.78125 \nQ 54.390625 -7.171875 48.1875 -13.984375 \nQ 42 -20.796875 29.203125 -20.796875 \nQ 24.46875 -20.796875 20.265625 -20.09375 \nQ 16.0625 -19.390625 12.109375 -17.921875 \nL 12.109375 -9.1875 \nQ 16.0625 -11.328125 19.921875 -12.34375 \nQ 23.78125 -13.375 27.78125 -13.375 \nQ 36.625 -13.375 41.015625 -8.765625 \nQ 45.40625 -4.15625 45.40625 5.171875 \nL 45.40625 9.625 \nQ 42.625 4.78125 38.28125 2.390625 \nQ 33.9375 0 27.875 0 \nQ 17.828125 0 11.671875 7.65625 \nQ 5.515625 15.328125 5.515625 27.984375 \nQ 5.515625 40.671875 11.671875 48.328125 \nQ 17.828125 56 27.875 56 \nQ 33.9375 56 38.28125 53.609375 \nQ 42.625 51.21875 45.40625 46.390625 \nL 45.40625 54.6875 \nL 54.390625 54.6875 \nz\n\" id=\"DejaVuSans-103\"/>\n        <path d=\"M 56.203125 29.59375 \nL 56.203125 25.203125 \nL 14.890625 25.203125 \nQ 15.484375 15.921875 20.484375 11.0625 \nQ 25.484375 6.203125 34.421875 6.203125 \nQ 39.59375 6.203125 44.453125 7.46875 \nQ 49.3125 8.734375 54.109375 11.28125 \nL 54.109375 2.78125 \nQ 49.265625 0.734375 44.1875 -0.34375 \nQ 39.109375 -1.421875 33.890625 -1.421875 \nQ 20.796875 -1.421875 13.15625 6.1875 \nQ 5.515625 13.8125 5.515625 26.8125 \nQ 5.515625 40.234375 12.765625 48.109375 \nQ 20.015625 56 32.328125 56 \nQ 43.359375 56 49.78125 48.890625 \nQ 56.203125 41.796875 56.203125 29.59375 \nz\nM 47.21875 32.234375 \nQ 47.125 39.59375 43.09375 43.984375 \nQ 39.0625 48.390625 32.421875 48.390625 \nQ 24.90625 48.390625 20.390625 44.140625 \nQ 15.875 39.890625 15.1875 32.171875 \nz\n\" id=\"DejaVuSans-101\"/>\n       </defs>\n       <use xlink:href=\"#DejaVuSans-82\"/>\n       <use x=\"69.482422\" xlink:href=\"#DejaVuSans-105\"/>\n       <use x=\"97.265625\" xlink:href=\"#DejaVuSans-100\"/>\n       <use x=\"160.742188\" xlink:href=\"#DejaVuSans-103\"/>\n       <use x=\"224.21875\" xlink:href=\"#DejaVuSans-101\"/>\n      </g>\n     </g>\n    </g>\n    <g id=\"xtick_2\">\n     <g id=\"line2d_2\">\n      <g>\n       <use style=\"fill:#ffffff;stroke:#ffffff;stroke-width:0.8;\" x=\"203.865625\" xlink:href=\"#m15d776b4f4\" y=\"224.64\"/>\n      </g>\n     </g>\n     <g id=\"text_2\">\n      <!-- SVR -->\n      <g style=\"fill:#ffffff;\" transform=\"translate(193.796875 239.238438)scale(0.1 -0.1)\">\n       <defs>\n        <path d=\"M 53.515625 70.515625 \nL 53.515625 60.890625 \nQ 47.90625 63.578125 42.921875 64.890625 \nQ 37.9375 66.21875 33.296875 66.21875 \nQ 25.25 66.21875 20.875 63.09375 \nQ 16.5 59.96875 16.5 54.203125 \nQ 16.5 49.359375 19.40625 46.890625 \nQ 22.3125 44.4375 30.421875 42.921875 \nL 36.375 41.703125 \nQ 47.40625 39.59375 52.65625 34.296875 \nQ 57.90625 29 57.90625 20.125 \nQ 57.90625 9.515625 50.796875 4.046875 \nQ 43.703125 -1.421875 29.984375 -1.421875 \nQ 24.8125 -1.421875 18.96875 -0.25 \nQ 13.140625 0.921875 6.890625 3.21875 \nL 6.890625 13.375 \nQ 12.890625 10.015625 18.65625 8.296875 \nQ 24.421875 6.59375 29.984375 6.59375 \nQ 38.421875 6.59375 43.015625 9.90625 \nQ 47.609375 13.234375 47.609375 19.390625 \nQ 47.609375 24.75 44.3125 27.78125 \nQ 41.015625 30.8125 33.5 32.328125 \nL 27.484375 33.5 \nQ 16.453125 35.6875 11.515625 40.375 \nQ 6.59375 45.0625 6.59375 53.421875 \nQ 6.59375 63.09375 13.40625 68.65625 \nQ 20.21875 74.21875 32.171875 74.21875 \nQ 37.3125 74.21875 42.625 73.28125 \nQ 47.953125 72.359375 53.515625 70.515625 \nz\n\" id=\"DejaVuSans-83\"/>\n        <path d=\"M 28.609375 0 \nL 0.78125 72.90625 \nL 11.078125 72.90625 \nL 34.1875 11.53125 \nL 57.328125 72.90625 \nL 67.578125 72.90625 \nL 39.796875 0 \nz\n\" id=\"DejaVuSans-86\"/>\n       </defs>\n       <use xlink:href=\"#DejaVuSans-83\"/>\n       <use x=\"63.476562\" xlink:href=\"#DejaVuSans-86\"/>\n       <use x=\"131.884766\" xlink:href=\"#DejaVuSans-82\"/>\n      </g>\n     </g>\n    </g>\n    <g id=\"xtick_3\">\n     <g id=\"line2d_3\">\n      <g>\n       <use style=\"fill:#ffffff;stroke:#ffffff;stroke-width:0.8;\" x=\"356.047443\" xlink:href=\"#m15d776b4f4\" y=\"224.64\"/>\n      </g>\n     </g>\n     <g id=\"text_3\">\n      <!-- RF -->\n      <g style=\"fill:#ffffff;\" transform=\"translate(349.697443 239.238438)scale(0.1 -0.1)\">\n       <defs>\n        <path d=\"M 9.8125 72.90625 \nL 51.703125 72.90625 \nL 51.703125 64.59375 \nL 19.671875 64.59375 \nL 19.671875 43.109375 \nL 48.578125 43.109375 \nL 48.578125 34.8125 \nL 19.671875 34.8125 \nL 19.671875 0 \nL 9.8125 0 \nz\n\" id=\"DejaVuSans-70\"/>\n       </defs>\n       <use xlink:href=\"#DejaVuSans-82\"/>\n       <use x=\"69.482422\" xlink:href=\"#DejaVuSans-70\"/>\n      </g>\n     </g>\n    </g>\n   </g>\n   <g id=\"matplotlib.axis_2\">\n    <g id=\"ytick_1\">\n     <g id=\"line2d_4\">\n      <defs>\n       <path d=\"M 0 0 \nL -3.5 0 \n\" id=\"m8363bc1a62\" style=\"stroke:#ffffff;stroke-width:0.8;\"/>\n      </defs>\n      <g>\n       <use style=\"fill:#ffffff;stroke:#ffffff;stroke-width:0.8;\" x=\"36.465625\" xlink:href=\"#m8363bc1a62\" y=\"190.25821\"/>\n      </g>\n     </g>\n     <g id=\"text_4\">\n      <!-- 0.70 -->\n      <g style=\"fill:#ffffff;\" transform=\"translate(7.2 194.057429)scale(0.1 -0.1)\">\n       <defs>\n        <path d=\"M 31.78125 66.40625 \nQ 24.171875 66.40625 20.328125 58.90625 \nQ 16.5 51.421875 16.5 36.375 \nQ 16.5 21.390625 20.328125 13.890625 \nQ 24.171875 6.390625 31.78125 6.390625 \nQ 39.453125 6.390625 43.28125 13.890625 \nQ 47.125 21.390625 47.125 36.375 \nQ 47.125 51.421875 43.28125 58.90625 \nQ 39.453125 66.40625 31.78125 66.40625 \nz\nM 31.78125 74.21875 \nQ 44.046875 74.21875 50.515625 64.515625 \nQ 56.984375 54.828125 56.984375 36.375 \nQ 56.984375 17.96875 50.515625 8.265625 \nQ 44.046875 -1.421875 31.78125 -1.421875 \nQ 19.53125 -1.421875 13.0625 8.265625 \nQ 6.59375 17.96875 6.59375 36.375 \nQ 6.59375 54.828125 13.0625 64.515625 \nQ 19.53125 74.21875 31.78125 74.21875 \nz\n\" id=\"DejaVuSans-48\"/>\n        <path d=\"M 10.6875 12.40625 \nL 21 12.40625 \nL 21 0 \nL 10.6875 0 \nz\n\" id=\"DejaVuSans-46\"/>\n        <path d=\"M 8.203125 72.90625 \nL 55.078125 72.90625 \nL 55.078125 68.703125 \nL 28.609375 0 \nL 18.3125 0 \nL 43.21875 64.59375 \nL 8.203125 64.59375 \nz\n\" id=\"DejaVuSans-55\"/>\n       </defs>\n       <use xlink:href=\"#DejaVuSans-48\"/>\n       <use x=\"63.623047\" xlink:href=\"#DejaVuSans-46\"/>\n       <use x=\"95.410156\" xlink:href=\"#DejaVuSans-55\"/>\n       <use x=\"159.033203\" xlink:href=\"#DejaVuSans-48\"/>\n      </g>\n     </g>\n    </g>\n    <g id=\"ytick_2\">\n     <g id=\"line2d_5\">\n      <g>\n       <use style=\"fill:#ffffff;stroke:#ffffff;stroke-width:0.8;\" x=\"36.465625\" xlink:href=\"#m8363bc1a62\" y=\"148.071973\"/>\n      </g>\n     </g>\n     <g id=\"text_5\">\n      <!-- 0.75 -->\n      <g style=\"fill:#ffffff;\" transform=\"translate(7.2 151.871191)scale(0.1 -0.1)\">\n       <defs>\n        <path d=\"M 10.796875 72.90625 \nL 49.515625 72.90625 \nL 49.515625 64.59375 \nL 19.828125 64.59375 \nL 19.828125 46.734375 \nQ 21.96875 47.46875 24.109375 47.828125 \nQ 26.265625 48.1875 28.421875 48.1875 \nQ 40.625 48.1875 47.75 41.5 \nQ 54.890625 34.8125 54.890625 23.390625 \nQ 54.890625 11.625 47.5625 5.09375 \nQ 40.234375 -1.421875 26.90625 -1.421875 \nQ 22.3125 -1.421875 17.546875 -0.640625 \nQ 12.796875 0.140625 7.71875 1.703125 \nL 7.71875 11.625 \nQ 12.109375 9.234375 16.796875 8.0625 \nQ 21.484375 6.890625 26.703125 6.890625 \nQ 35.15625 6.890625 40.078125 11.328125 \nQ 45.015625 15.765625 45.015625 23.390625 \nQ 45.015625 31 40.078125 35.4375 \nQ 35.15625 39.890625 26.703125 39.890625 \nQ 22.75 39.890625 18.8125 39.015625 \nQ 14.890625 38.140625 10.796875 36.28125 \nz\n\" id=\"DejaVuSans-53\"/>\n       </defs>\n       <use xlink:href=\"#DejaVuSans-48\"/>\n       <use x=\"63.623047\" xlink:href=\"#DejaVuSans-46\"/>\n       <use x=\"95.410156\" xlink:href=\"#DejaVuSans-55\"/>\n       <use x=\"159.033203\" xlink:href=\"#DejaVuSans-53\"/>\n      </g>\n     </g>\n    </g>\n    <g id=\"ytick_3\">\n     <g id=\"line2d_6\">\n      <g>\n       <use style=\"fill:#ffffff;stroke:#ffffff;stroke-width:0.8;\" x=\"36.465625\" xlink:href=\"#m8363bc1a62\" y=\"105.885735\"/>\n      </g>\n     </g>\n     <g id=\"text_6\">\n      <!-- 0.80 -->\n      <g style=\"fill:#ffffff;\" transform=\"translate(7.2 109.684954)scale(0.1 -0.1)\">\n       <defs>\n        <path d=\"M 31.78125 34.625 \nQ 24.75 34.625 20.71875 30.859375 \nQ 16.703125 27.09375 16.703125 20.515625 \nQ 16.703125 13.921875 20.71875 10.15625 \nQ 24.75 6.390625 31.78125 6.390625 \nQ 38.8125 6.390625 42.859375 10.171875 \nQ 46.921875 13.96875 46.921875 20.515625 \nQ 46.921875 27.09375 42.890625 30.859375 \nQ 38.875 34.625 31.78125 34.625 \nz\nM 21.921875 38.8125 \nQ 15.578125 40.375 12.03125 44.71875 \nQ 8.5 49.078125 8.5 55.328125 \nQ 8.5 64.0625 14.71875 69.140625 \nQ 20.953125 74.21875 31.78125 74.21875 \nQ 42.671875 74.21875 48.875 69.140625 \nQ 55.078125 64.0625 55.078125 55.328125 \nQ 55.078125 49.078125 51.53125 44.71875 \nQ 48 40.375 41.703125 38.8125 \nQ 48.828125 37.15625 52.796875 32.3125 \nQ 56.78125 27.484375 56.78125 20.515625 \nQ 56.78125 9.90625 50.3125 4.234375 \nQ 43.84375 -1.421875 31.78125 -1.421875 \nQ 19.734375 -1.421875 13.25 4.234375 \nQ 6.78125 9.90625 6.78125 20.515625 \nQ 6.78125 27.484375 10.78125 32.3125 \nQ 14.796875 37.15625 21.921875 38.8125 \nz\nM 18.3125 54.390625 \nQ 18.3125 48.734375 21.84375 45.5625 \nQ 25.390625 42.390625 31.78125 42.390625 \nQ 38.140625 42.390625 41.71875 45.5625 \nQ 45.3125 48.734375 45.3125 54.390625 \nQ 45.3125 60.0625 41.71875 63.234375 \nQ 38.140625 66.40625 31.78125 66.40625 \nQ 25.390625 66.40625 21.84375 63.234375 \nQ 18.3125 60.0625 18.3125 54.390625 \nz\n\" id=\"DejaVuSans-56\"/>\n       </defs>\n       <use xlink:href=\"#DejaVuSans-48\"/>\n       <use x=\"63.623047\" xlink:href=\"#DejaVuSans-46\"/>\n       <use x=\"95.410156\" xlink:href=\"#DejaVuSans-56\"/>\n       <use x=\"159.033203\" xlink:href=\"#DejaVuSans-48\"/>\n      </g>\n     </g>\n    </g>\n    <g id=\"ytick_4\">\n     <g id=\"line2d_7\">\n      <g>\n       <use style=\"fill:#ffffff;stroke:#ffffff;stroke-width:0.8;\" x=\"36.465625\" xlink:href=\"#m8363bc1a62\" y=\"63.699498\"/>\n      </g>\n     </g>\n     <g id=\"text_7\">\n      <!-- 0.85 -->\n      <g style=\"fill:#ffffff;\" transform=\"translate(7.2 67.498717)scale(0.1 -0.1)\">\n       <use xlink:href=\"#DejaVuSans-48\"/>\n       <use x=\"63.623047\" xlink:href=\"#DejaVuSans-46\"/>\n       <use x=\"95.410156\" xlink:href=\"#DejaVuSans-56\"/>\n       <use x=\"159.033203\" xlink:href=\"#DejaVuSans-53\"/>\n      </g>\n     </g>\n    </g>\n    <g id=\"ytick_5\">\n     <g id=\"line2d_8\">\n      <g>\n       <use style=\"fill:#ffffff;stroke:#ffffff;stroke-width:0.8;\" x=\"36.465625\" xlink:href=\"#m8363bc1a62\" y=\"21.513261\"/>\n      </g>\n     </g>\n     <g id=\"text_8\">\n      <!-- 0.90 -->\n      <g style=\"fill:#ffffff;\" transform=\"translate(7.2 25.312479)scale(0.1 -0.1)\">\n       <defs>\n        <path d=\"M 10.984375 1.515625 \nL 10.984375 10.5 \nQ 14.703125 8.734375 18.5 7.8125 \nQ 22.3125 6.890625 25.984375 6.890625 \nQ 35.75 6.890625 40.890625 13.453125 \nQ 46.046875 20.015625 46.78125 33.40625 \nQ 43.953125 29.203125 39.59375 26.953125 \nQ 35.25 24.703125 29.984375 24.703125 \nQ 19.046875 24.703125 12.671875 31.3125 \nQ 6.296875 37.9375 6.296875 49.421875 \nQ 6.296875 60.640625 12.9375 67.421875 \nQ 19.578125 74.21875 30.609375 74.21875 \nQ 43.265625 74.21875 49.921875 64.515625 \nQ 56.59375 54.828125 56.59375 36.375 \nQ 56.59375 19.140625 48.40625 8.859375 \nQ 40.234375 -1.421875 26.421875 -1.421875 \nQ 22.703125 -1.421875 18.890625 -0.6875 \nQ 15.09375 0.046875 10.984375 1.515625 \nz\nM 30.609375 32.421875 \nQ 37.25 32.421875 41.125 36.953125 \nQ 45.015625 41.5 45.015625 49.421875 \nQ 45.015625 57.28125 41.125 61.84375 \nQ 37.25 66.40625 30.609375 66.40625 \nQ 23.96875 66.40625 20.09375 61.84375 \nQ 16.21875 57.28125 16.21875 49.421875 \nQ 16.21875 41.5 20.09375 36.953125 \nQ 23.96875 32.421875 30.609375 32.421875 \nz\n\" id=\"DejaVuSans-57\"/>\n       </defs>\n       <use xlink:href=\"#DejaVuSans-48\"/>\n       <use x=\"63.623047\" xlink:href=\"#DejaVuSans-46\"/>\n       <use x=\"95.410156\" xlink:href=\"#DejaVuSans-57\"/>\n       <use x=\"159.033203\" xlink:href=\"#DejaVuSans-48\"/>\n      </g>\n     </g>\n    </g>\n   </g>\n   <g id=\"patch_3\">\n    <path d=\"M 36.465625 224.64 \nL 36.465625 7.2 \n\" style=\"fill:none;stroke:#ffffff;stroke-linecap:square;stroke-linejoin:miter;stroke-width:0.8;\"/>\n   </g>\n   <g id=\"patch_4\">\n    <path d=\"M 371.265625 224.64 \nL 371.265625 7.2 \n\" style=\"fill:none;stroke:#ffffff;stroke-linecap:square;stroke-linejoin:miter;stroke-width:0.8;\"/>\n   </g>\n   <g id=\"patch_5\">\n    <path d=\"M 36.465625 224.64 \nL 371.265625 224.64 \n\" style=\"fill:none;stroke:#ffffff;stroke-linecap:square;stroke-linejoin:miter;stroke-width:0.8;\"/>\n   </g>\n   <g id=\"patch_6\">\n    <path d=\"M 36.465625 7.2 \nL 371.265625 7.2 \n\" style=\"fill:none;stroke:#ffffff;stroke-linecap:square;stroke-linejoin:miter;stroke-width:0.8;\"/>\n   </g>\n   <g id=\"text_9\">\n    <!-- 0.89 -->\n    <g style=\"fill:#ffffff;\" transform=\"translate(51.683807 33.447494)scale(0.1 -0.1)\">\n     <use xlink:href=\"#DejaVuSans-48\"/>\n     <use x=\"63.623047\" xlink:href=\"#DejaVuSans-46\"/>\n     <use x=\"95.410156\" xlink:href=\"#DejaVuSans-56\"/>\n     <use x=\"159.033203\" xlink:href=\"#DejaVuSans-57\"/>\n    </g>\n   </g>\n   <g id=\"text_10\">\n    <!-- 0.91 -->\n    <g style=\"fill:#ffffff;\" transform=\"translate(203.865625 17.083636)scale(0.1 -0.1)\">\n     <defs>\n      <path d=\"M 12.40625 8.296875 \nL 28.515625 8.296875 \nL 28.515625 63.921875 \nL 10.984375 60.40625 \nL 10.984375 69.390625 \nL 28.421875 72.90625 \nL 38.28125 72.90625 \nL 38.28125 8.296875 \nL 54.390625 8.296875 \nL 54.390625 0 \nL 12.40625 0 \nz\n\" id=\"DejaVuSans-49\"/>\n     </defs>\n     <use xlink:href=\"#DejaVuSans-48\"/>\n     <use x=\"63.623047\" xlink:href=\"#DejaVuSans-46\"/>\n     <use x=\"95.410156\" xlink:href=\"#DejaVuSans-57\"/>\n     <use x=\"159.033203\" xlink:href=\"#DejaVuSans-49\"/>\n    </g>\n   </g>\n   <g id=\"text_11\">\n    <!-- 0.72 -->\n    <g style=\"fill:#ffffff;\" transform=\"translate(356.047443 176.63643)scale(0.1 -0.1)\">\n     <defs>\n      <path d=\"M 19.1875 8.296875 \nL 53.609375 8.296875 \nL 53.609375 0 \nL 7.328125 0 \nL 7.328125 8.296875 \nQ 12.9375 14.109375 22.625 23.890625 \nQ 32.328125 33.6875 34.8125 36.53125 \nQ 39.546875 41.84375 41.421875 45.53125 \nQ 43.3125 49.21875 43.3125 52.78125 \nQ 43.3125 58.59375 39.234375 62.25 \nQ 35.15625 65.921875 28.609375 65.921875 \nQ 23.96875 65.921875 18.8125 64.3125 \nQ 13.671875 62.703125 7.8125 59.421875 \nL 7.8125 69.390625 \nQ 13.765625 71.78125 18.9375 73 \nQ 24.125 74.21875 28.421875 74.21875 \nQ 39.75 74.21875 46.484375 68.546875 \nQ 53.21875 62.890625 53.21875 53.421875 \nQ 53.21875 48.921875 51.53125 44.890625 \nQ 49.859375 40.875 45.40625 35.40625 \nQ 44.1875 33.984375 37.640625 27.21875 \nQ 31.109375 20.453125 19.1875 8.296875 \nz\n\" id=\"DejaVuSans-50\"/>\n     </defs>\n     <use xlink:href=\"#DejaVuSans-48\"/>\n     <use x=\"63.623047\" xlink:href=\"#DejaVuSans-46\"/>\n     <use x=\"95.410156\" xlink:href=\"#DejaVuSans-55\"/>\n     <use x=\"159.033203\" xlink:href=\"#DejaVuSans-50\"/>\n    </g>\n   </g>\n   <g id=\"text_12\">\n    <!-- 0.85 -->\n    <g style=\"fill:#ffffff;\" transform=\"translate(51.683807 67.211553)scale(0.1 -0.1)\">\n     <use xlink:href=\"#DejaVuSans-48\"/>\n     <use x=\"63.623047\" xlink:href=\"#DejaVuSans-46\"/>\n     <use x=\"95.410156\" xlink:href=\"#DejaVuSans-56\"/>\n     <use x=\"159.033203\" xlink:href=\"#DejaVuSans-53\"/>\n    </g>\n   </g>\n   <g id=\"text_13\">\n    <!-- 0.86 -->\n    <g style=\"fill:#ffffff;\" transform=\"translate(203.865625 53.617003)scale(0.1 -0.1)\">\n     <defs>\n      <path d=\"M 33.015625 40.375 \nQ 26.375 40.375 22.484375 35.828125 \nQ 18.609375 31.296875 18.609375 23.390625 \nQ 18.609375 15.53125 22.484375 10.953125 \nQ 26.375 6.390625 33.015625 6.390625 \nQ 39.65625 6.390625 43.53125 10.953125 \nQ 47.40625 15.53125 47.40625 23.390625 \nQ 47.40625 31.296875 43.53125 35.828125 \nQ 39.65625 40.375 33.015625 40.375 \nz\nM 52.59375 71.296875 \nL 52.59375 62.3125 \nQ 48.875 64.0625 45.09375 64.984375 \nQ 41.3125 65.921875 37.59375 65.921875 \nQ 27.828125 65.921875 22.671875 59.328125 \nQ 17.53125 52.734375 16.796875 39.40625 \nQ 19.671875 43.65625 24.015625 45.921875 \nQ 28.375 48.1875 33.59375 48.1875 \nQ 44.578125 48.1875 50.953125 41.515625 \nQ 57.328125 34.859375 57.328125 23.390625 \nQ 57.328125 12.15625 50.6875 5.359375 \nQ 44.046875 -1.421875 33.015625 -1.421875 \nQ 20.359375 -1.421875 13.671875 8.265625 \nQ 6.984375 17.96875 6.984375 36.375 \nQ 6.984375 53.65625 15.1875 63.9375 \nQ 23.390625 74.21875 37.203125 74.21875 \nQ 40.921875 74.21875 44.703125 73.484375 \nQ 48.484375 72.75 52.59375 71.296875 \nz\n\" id=\"DejaVuSans-54\"/>\n     </defs>\n     <use xlink:href=\"#DejaVuSans-48\"/>\n     <use x=\"63.623047\" xlink:href=\"#DejaVuSans-46\"/>\n     <use x=\"95.410156\" xlink:href=\"#DejaVuSans-56\"/>\n     <use x=\"159.033203\" xlink:href=\"#DejaVuSans-54\"/>\n    </g>\n   </g>\n   <g id=\"text_14\">\n    <!-- 0.67 -->\n    <g style=\"fill:#ffffff;\" transform=\"translate(356.047443 214.756364)scale(0.1 -0.1)\">\n     <use xlink:href=\"#DejaVuSans-48\"/>\n     <use x=\"63.623047\" xlink:href=\"#DejaVuSans-46\"/>\n     <use x=\"95.410156\" xlink:href=\"#DejaVuSans-54\"/>\n     <use x=\"159.033203\" xlink:href=\"#DejaVuSans-55\"/>\n    </g>\n   </g>\n   <g id=\"legend_1\">\n    <g id=\"patch_7\">\n     <path d=\"M 310.404687 44.55625 \nL 364.265625 44.55625 \nQ 366.265625 44.55625 366.265625 42.55625 \nL 366.265625 14.2 \nQ 366.265625 12.2 364.265625 12.2 \nL 310.404687 12.2 \nQ 308.404687 12.2 308.404687 14.2 \nL 308.404687 42.55625 \nQ 308.404687 44.55625 310.404687 44.55625 \nz\n\" style=\"fill:#333333;opacity:0.8;stroke:#cccccc;stroke-linejoin:miter;\"/>\n    </g>\n    <g id=\"PathCollection_3\">\n     <g>\n      <use style=\"fill:#8dd3c7;stroke:#8dd3c7;\" x=\"322.404687\" xlink:href=\"#m9e72d7f08a\" y=\"21.173438\"/>\n     </g>\n    </g>\n    <g id=\"text_15\">\n     <!-- NMF -->\n     <g style=\"fill:#ffffff;\" transform=\"translate(340.404687 23.798438)scale(0.1 -0.1)\">\n      <defs>\n       <path d=\"M 9.8125 72.90625 \nL 23.09375 72.90625 \nL 55.421875 11.921875 \nL 55.421875 72.90625 \nL 64.984375 72.90625 \nL 64.984375 0 \nL 51.703125 0 \nL 19.390625 60.984375 \nL 19.390625 0 \nL 9.8125 0 \nz\n\" id=\"DejaVuSans-78\"/>\n       <path d=\"M 9.8125 72.90625 \nL 24.515625 72.90625 \nL 43.109375 23.296875 \nL 61.8125 72.90625 \nL 76.515625 72.90625 \nL 76.515625 0 \nL 66.890625 0 \nL 66.890625 64.015625 \nL 48.09375 14.015625 \nL 38.1875 14.015625 \nL 19.390625 64.015625 \nL 19.390625 0 \nL 9.8125 0 \nz\n\" id=\"DejaVuSans-77\"/>\n      </defs>\n      <use xlink:href=\"#DejaVuSans-78\"/>\n      <use x=\"74.804688\" xlink:href=\"#DejaVuSans-77\"/>\n      <use x=\"161.083984\" xlink:href=\"#DejaVuSans-70\"/>\n     </g>\n    </g>\n    <g id=\"PathCollection_4\">\n     <g>\n      <use style=\"fill:#feffb3;stroke:#feffb3;\" x=\"322.404687\" xlink:href=\"#mb1b1bd911e\" y=\"35.851562\"/>\n     </g>\n    </g>\n    <g id=\"text_16\">\n     <!-- PCA -->\n     <g style=\"fill:#ffffff;\" transform=\"translate(340.404687 38.476562)scale(0.1 -0.1)\">\n      <defs>\n       <path d=\"M 19.671875 64.796875 \nL 19.671875 37.40625 \nL 32.078125 37.40625 \nQ 38.96875 37.40625 42.71875 40.96875 \nQ 46.484375 44.53125 46.484375 51.125 \nQ 46.484375 57.671875 42.71875 61.234375 \nQ 38.96875 64.796875 32.078125 64.796875 \nz\nM 9.8125 72.90625 \nL 32.078125 72.90625 \nQ 44.34375 72.90625 50.609375 67.359375 \nQ 56.890625 61.8125 56.890625 51.125 \nQ 56.890625 40.328125 50.609375 34.8125 \nQ 44.34375 29.296875 32.078125 29.296875 \nL 19.671875 29.296875 \nL 19.671875 0 \nL 9.8125 0 \nz\n\" id=\"DejaVuSans-80\"/>\n       <path d=\"M 64.40625 67.28125 \nL 64.40625 56.890625 \nQ 59.421875 61.53125 53.78125 63.8125 \nQ 48.140625 66.109375 41.796875 66.109375 \nQ 29.296875 66.109375 22.65625 58.46875 \nQ 16.015625 50.828125 16.015625 36.375 \nQ 16.015625 21.96875 22.65625 14.328125 \nQ 29.296875 6.6875 41.796875 6.6875 \nQ 48.140625 6.6875 53.78125 8.984375 \nQ 59.421875 11.28125 64.40625 15.921875 \nL 64.40625 5.609375 \nQ 59.234375 2.09375 53.4375 0.328125 \nQ 47.65625 -1.421875 41.21875 -1.421875 \nQ 24.65625 -1.421875 15.125 8.703125 \nQ 5.609375 18.84375 5.609375 36.375 \nQ 5.609375 53.953125 15.125 64.078125 \nQ 24.65625 74.21875 41.21875 74.21875 \nQ 47.75 74.21875 53.53125 72.484375 \nQ 59.328125 70.75 64.40625 67.28125 \nz\n\" id=\"DejaVuSans-67\"/>\n       <path d=\"M 34.1875 63.1875 \nL 20.796875 26.90625 \nL 47.609375 26.90625 \nz\nM 28.609375 72.90625 \nL 39.796875 72.90625 \nL 67.578125 0 \nL 57.328125 0 \nL 50.6875 18.703125 \nL 17.828125 18.703125 \nL 11.1875 0 \nL 0.78125 0 \nz\n\" id=\"DejaVuSans-65\"/>\n      </defs>\n      <use xlink:href=\"#DejaVuSans-80\"/>\n      <use x=\"60.302734\" xlink:href=\"#DejaVuSans-67\"/>\n      <use x=\"130.126953\" xlink:href=\"#DejaVuSans-65\"/>\n     </g>\n    </g>\n   </g>\n  </g>\n </g>\n <defs>\n  <clipPath id=\"p7a349fdf33\">\n   <rect height=\"217.44\" width=\"334.8\" x=\"36.465625\" y=\"7.2\"/>\n  </clipPath>\n </defs>\n</svg>\n",
      "image/png": "[encoded data removed]"
     },
     "metadata": {
      "needs_background": "dark"
     }
    }
   ],
   "metadata": {}
  },
  {
   "cell_type": "markdown",
   "source": [
    "# Summary\n",
    "NMF gives better performance in three different regressors than PCA (~5%) as a preprocessing step. The combination of NMF and SVR produces the best prediction in cross-validation while the ridge can also provide reasonable prediction. They are only in ca. 2% difference. The n_components is decided by the explained variance of PCA. Therefore, I'll focus on the application using NMF as the preprocessing later on. The workflow of building datasets is also set as a example.\n",
    "\n",
    "Below are the actual-continued pilot workflow but not necessary fits to our paper's flow."
   ],
   "metadata": {}
  },
  {
   "cell_type": "markdown",
   "source": [
    "## TOC"
   ],
   "metadata": {}
  },
  {
   "cell_type": "code",
   "execution_count": 149,
   "source": [
    "y = merge_df.toc_percent.values"
   ],
   "outputs": [],
   "metadata": {}
  },
  {
   "cell_type": "markdown",
   "source": [
    "## GridsearchCV"
   ],
   "metadata": {}
  },
  {
   "cell_type": "code",
   "execution_count": 134,
   "source": [
    "%%time\n",
    "from sklearn.model_selection import GridSearchCV\n",
    "from sklearn.preprocessing import StandardScaler\n",
    "from sklearn.decomposition import PCA\n",
    "from sklearn.linear_model import Ridge\n",
    "from sklearn.pipeline import make_pipeline\n",
    "\n",
    "ridge = make_pipeline(StandardScaler(), PCA(whiten = True), Ridge())\n",
    "params = {'ridge__alpha': np.logspace(-3, 3, 7)}\n",
    "grid = GridSearchCV(ridge, param_grid = params, cv = 5, n_jobs = -1)\n",
    "\n",
    "grid.fit(X, y)\n",
    "\n",
    "print('The best cv score: {:.2f}'.format(grid.best_score_))\n",
    "print('The best parameter: {}'.format(grid.best_params_))\n",
    "print(grid.best_estimator_)"
   ],
   "outputs": [
    {
     "output_type": "stream",
     "name": "stdout",
     "text": [
      "The best cv score: 0.02\n",
      "The best parameter: {'ridge__alpha': 0.001}\n",
      "Pipeline(memory=None,\n",
      "         steps=[('standardscaler',\n",
      "                 StandardScaler(copy=True, with_mean=True, with_std=True)),\n",
      "                ('pca',\n",
      "                 PCA(copy=True, iterated_power='auto', n_components=None,\n",
      "                     random_state=None, svd_solver='auto', tol=0.0,\n",
      "                     whiten=True)),\n",
      "                ('ridge',\n",
      "                 Ridge(alpha=0.001, copy_X=True, fit_intercept=True,\n",
      "                       max_iter=None, normalize=False, random_state=None,\n",
      "                       solver='auto', tol=0.001))],\n",
      "         verbose=False)\n",
      "CPU times: user 196 ms, sys: 67.6 ms, total: 263 ms\n",
      "Wall time: 1.84 s\n"
     ]
    }
   ],
   "metadata": {}
  },
  {
   "cell_type": "markdown",
   "source": [
    "### Transform y by TransformedTargetRegressor"
   ],
   "metadata": {}
  },
  {
   "cell_type": "code",
   "execution_count": 151,
   "source": [
    "%%time\n",
    "from sklearn.compose import TransformedTargetRegressor\n",
    "transformer = StandardScaler()\n",
    "regressor = make_pipeline(StandardScaler(), PCA(whiten = True), Ridge())\n",
    "regr = TransformedTargetRegressor(regressor=regressor,\n",
    "                                 transformer=transformer)\n",
    "params = {'regressor__ridge__alpha': np.logspace(-3, 3, 7)}\n",
    "grid = GridSearchCV(regr, param_grid = params, cv = 5, n_jobs = -1)\n",
    "\n",
    "grid.fit(X, y)\n",
    "\n",
    "print('The best cv score: {:.2f}'.format(grid.best_score_))\n",
    "print('The best parameter: {}'.format(grid.best_params_))\n",
    "print(grid.best_estimator_)"
   ],
   "outputs": [
    {
     "output_type": "stream",
     "name": "stdout",
     "text": [
      "The best cv score: 0.02\n",
      "The best parameter: {'regressor__ridge__alpha': 0.001}\n",
      "TransformedTargetRegressor(check_inverse=True, func=None, inverse_func=None,\n",
      "                           regressor=Pipeline(memory=None,\n",
      "                                              steps=[('standardscaler',\n",
      "                                                      StandardScaler(copy=True,\n",
      "                                                                     with_mean=True,\n",
      "                                                                     with_std=True)),\n",
      "                                                     ('pca',\n",
      "                                                      PCA(copy=True,\n",
      "                                                          iterated_power='auto',\n",
      "                                                          n_components=None,\n",
      "                                                          random_state=None,\n",
      "                                                          svd_solver='auto',\n",
      "                                                          tol=0.0,\n",
      "                                                          whiten=True)),\n",
      "                                                     ('ridge',\n",
      "                                                      Ridge(alpha=0.001,\n",
      "                                                            copy_X=True,\n",
      "                                                            fit_intercept=True,\n",
      "                                                            max_iter=None,\n",
      "                                                            normalize=False,\n",
      "                                                            random_state=None,\n",
      "                                                            solver='auto',\n",
      "                                                            tol=0.001))],\n",
      "                                              verbose=False),\n",
      "                           transformer=StandardScaler(copy=True, with_mean=True,\n",
      "                                                      with_std=True))\n",
      "CPU times: user 185 ms, sys: 17.2 ms, total: 202 ms\n",
      "Wall time: 422 ms\n"
     ]
    }
   ],
   "metadata": {}
  },
  {
   "cell_type": "code",
   "execution_count": 152,
   "source": [
    "%%time\n",
    "from sklearn.model_selection import GridSearchCV\n",
    "from sklearn.preprocessing import StandardScaler\n",
    "from sklearn.decomposition import PCA\n",
    "from sklearn.svm import SVR\n",
    "from sklearn.pipeline import make_pipeline\n",
    "from sklearn.compose import TransformedTargetRegressor\n",
    "\n",
    "pipe = make_pipeline(StandardScaler(), PCA(n_components = 5, whiten = True), SVR())\n",
    "regr = TransformedTargetRegressor(regressor = pipe,\n",
    "                                 transformer = StandardScaler())\n",
    "params = {\n",
    "    'regressor__svr__C': np.logspace(-3, 3, 7),\n",
    "    'regressor__svr__gamma': np.logspace(-3, 3, 7)\n",
    "}\n",
    "\n",
    "grid = GridSearchCV(regr, param_grid = params, cv = 5, n_jobs = -1)\n",
    "\n",
    "grid.fit(X, y)\n",
    "\n",
    "print('The best cv score: {:.2f}'.format(grid.best_score_))\n",
    "print('The best parameter: {}'.format(grid.best_params_))\n",
    "print(grid.best_estimator_)"
   ],
   "outputs": [
    {
     "output_type": "stream",
     "name": "stdout",
     "text": [
      "The best cv score: 0.08\n",
      "The best parameter: {'regressor__svr__C': 100.0, 'regressor__svr__gamma': 0.001}\n",
      "TransformedTargetRegressor(check_inverse=True, func=None, inverse_func=None,\n",
      "                           regressor=Pipeline(memory=None,\n",
      "                                              steps=[('standardscaler',\n",
      "                                                      StandardScaler(copy=True,\n",
      "                                                                     with_mean=True,\n",
      "                                                                     with_std=True)),\n",
      "                                                     ('pca',\n",
      "                                                      PCA(copy=True,\n",
      "                                                          iterated_power='auto',\n",
      "                                                          n_components=5,\n",
      "                                                          random_state=None,\n",
      "                                                          svd_solver='auto',\n",
      "                                                          tol=0.0,\n",
      "                                                          whiten=True)),\n",
      "                                                     ('svr',\n",
      "                                                      SVR(C=100.0,\n",
      "                                                          cache_size=200,\n",
      "                                                          coef0=0.0, degree=3,\n",
      "                                                          epsilon=0.1,\n",
      "                                                          gamma=0.001,\n",
      "                                                          kernel='rbf',\n",
      "                                                          max_iter=-1,\n",
      "                                                          shrinking=True,\n",
      "                                                          tol=0.001,\n",
      "                                                          verbose=False))],\n",
      "                                              verbose=False),\n",
      "                           transformer=StandardScaler(copy=True, with_mean=True,\n",
      "                                                      with_std=True))\n",
      "CPU times: user 765 ms, sys: 36.6 ms, total: 802 ms\n",
      "Wall time: 1.78 s\n"
     ]
    }
   ],
   "metadata": {}
  },
  {
   "cell_type": "code",
   "execution_count": 155,
   "source": [
    "%%time\n",
    "from sklearn.model_selection import GridSearchCV\n",
    "from sklearn.decomposition import NMF\n",
    "from sklearn.svm import SVR\n",
    "from sklearn.pipeline import make_pipeline\n",
    "from sklearn.compose import TransformedTargetRegressor\n",
    "\n",
    "pipe = make_pipeline(NMF(n_components = 5, random_state = 24), SVR())\n",
    "regr = TransformedTargetRegressor(regressor = pipe, transformer = StandardScaler())\n",
    "params = {\n",
    "    'regressor__svr__C': np.logspace(0, 7, 8),\n",
    "    'regressor__svr__gamma': np.logspace(-8, 1, 10)\n",
    "}\n",
    "grid = GridSearchCV(regr, param_grid = params, cv = 5, n_jobs = -1)\n",
    "\n",
    "grid.fit(X, y)\n",
    "\n",
    "print('The best cv score: {:.2f}'.format(grid.best_score_))\n",
    "print('The best parameter: {}'.format(grid.best_params_))\n",
    "print(grid.best_estimator_)"
   ],
   "outputs": [
    {
     "output_type": "stream",
     "name": "stdout",
     "text": [
      "The best cv score: 0.05\n",
      "The best parameter: {'regressor__svr__C': 1000.0, 'regressor__svr__gamma': 1e-08}\n",
      "TransformedTargetRegressor(check_inverse=True, func=None, inverse_func=None,\n",
      "                           regressor=Pipeline(memory=None,\n",
      "                                              steps=[('nmf',\n",
      "                                                      NMF(alpha=0.0,\n",
      "                                                          beta_loss='frobenius',\n",
      "                                                          init=None,\n",
      "                                                          l1_ratio=0.0,\n",
      "                                                          max_iter=200,\n",
      "                                                          n_components=5,\n",
      "                                                          random_state=24,\n",
      "                                                          shuffle=False,\n",
      "                                                          solver='cd',\n",
      "                                                          tol=0.0001,\n",
      "                                                          verbose=0)),\n",
      "                                                     ('svr',\n",
      "                                                      SVR(C=1000.0,\n",
      "                                                          cache_size=200,\n",
      "                                                          coef0=0.0, degree=3,\n",
      "                                                          epsilon=0.1,\n",
      "                                                          gamma=1e-08,\n",
      "                                                          kernel='rbf',\n",
      "                                                          max_iter=-1,\n",
      "                                                          shrinking=True,\n",
      "                                                          tol=0.001,\n",
      "                                                          verbose=False))],\n",
      "                                              verbose=False),\n",
      "                           transformer=StandardScaler(copy=True, with_mean=True,\n",
      "                                                      with_std=True))\n",
      "CPU times: user 1.61 s, sys: 86.9 ms, total: 1.7 s\n",
      "Wall time: 20.6 s\n"
     ]
    }
   ],
   "metadata": {}
  },
  {
   "cell_type": "code",
   "execution_count": 159,
   "source": [
    "result_df = pd.DataFrame(grid.cv_results_)\n",
    "result_df = result_df[result_df.mean_test_score > -1].reset_index(drop = True)"
   ],
   "outputs": [],
   "metadata": {}
  },
  {
   "cell_type": "code",
   "execution_count": 160,
   "source": [
    "from mpl_toolkits.mplot3d import Axes3D\n",
    "from matplotlib import cm\n",
    "\n",
    "fig = plt.figure(figsize = (7,5))\n",
    "ax = fig.gca(projection='3d')\n",
    "xx = result_df.param_regressor__svr__gamma.astype(float)\n",
    "yy = result_df.param_regressor__svr__C.astype(float)\n",
    "zz = result_df.mean_test_score.astype(float)\n",
    "max_index = np.argmax(zz)\n",
    "\n",
    "surf = ax.plot_trisurf(np.log10(xx), np.log10(yy), zz, cmap=cm.Greens, linewidth=0.1)\n",
    "ax.scatter3D(np.log10(xx), np.log10(yy), zz, c = 'orange', s = 5)\n",
    "# mark the best score\n",
    "ax.scatter3D(np.log10(xx), np.log10(yy), zz, c = 'w', s = 5, alpha = 1)\n",
    "text = '$\\gamma :{:.2e}, C:{:.2e}$,\\nscore:{:.2f}'.format(xx[max_index], yy[max_index], zz[max_index])\n",
    "ax.text(np.log10(xx[max_index]), np.log10(yy[max_index]), \n",
    "        zz[max_index],text,\n",
    "        fontsize=12)\n",
    "\n",
    "ax.set_xlabel('$log(\\gamma)$')\n",
    "ax.set_ylabel('log(C)')\n",
    "ax.set_zlabel('mean test score')\n",
    "fig.colorbar(surf, shrink=0.5, aspect=5)\n",
    "fig.savefig('toc_nmr+svr_toc_grid_scores_3D.png')"
   ],
   "outputs": [
    {
     "output_type": "display_data",
     "data": {
      "text/plain": [
       "<Figure size 504x360 with 2 Axes>"
      ],
      "image/png": "[encoded data removed]"
     },
     "metadata": {
      "needs_background": "light"
     }
    }
   ],
   "metadata": {}
  },
  {
   "cell_type": "markdown",
   "source": [
    "### Manualy transform y"
   ],
   "metadata": {}
  },
  {
   "cell_type": "code",
   "execution_count": 164,
   "source": [
    "%%time\n",
    "from sklearn.preprocessing import StandardScaler\n",
    "from sklearn.decomposition import PCA\n",
    "from sklearn.linear_model import Ridge\n",
    "from sklearn.model_selection import train_test_split\n",
    "from sklearn.pipeline import make_pipeline\n",
    "\n",
    "X_train, X_test, y_train, y_test = train_test_split(X, y, random_state = 0)\n",
    "scaler = StandardScaler()\n",
    "y_train_s = scaler.fit_transform(y_train.reshape(-1,1))\n",
    "y_test_s = scaler.transform(y_test.reshape(-1,1))\n",
    "ridge = make_pipeline(StandardScaler(), PCA(whiten = True), Ridge())\n",
    "ridge.fit(X_train, y_train_s)\n",
    "\n",
    "print('Training set score: {:.2f}'.format(ridge.score(X_train, y_train_s)))\n",
    "print('Test set score: {:.2f}'.format(ridge.score(X_test, y_test_s)))"
   ],
   "outputs": [
    {
     "output_type": "stream",
     "name": "stdout",
     "text": [
      "Training set score: 1.00\n",
      "Test set score: 0.37\n",
      "CPU times: user 21.2 ms, sys: 3.84 ms, total: 25 ms\n",
      "Wall time: 17.8 ms\n"
     ]
    }
   ],
   "metadata": {}
  },
  {
   "cell_type": "markdown",
   "source": [
    "## TC"
   ],
   "metadata": {}
  },
  {
   "cell_type": "code",
   "execution_count": 125,
   "source": [
    "y = merge_df.tc_percent.values"
   ],
   "outputs": [],
   "metadata": {}
  },
  {
   "cell_type": "markdown",
   "source": [
    "## GridsearchCV"
   ],
   "metadata": {}
  },
  {
   "cell_type": "code",
   "execution_count": 23,
   "source": [
    "%%time\n",
    "from sklearn.model_selection import GridSearchCV\n",
    "from sklearn.preprocessing import StandardScaler\n",
    "from sklearn.decomposition import PCA\n",
    "from sklearn.linear_model import Ridge\n",
    "from sklearn.pipeline import make_pipeline\n",
    "\n",
    "ridge = make_pipeline(StandardScaler(), PCA(whiten = True), Ridge())\n",
    "params = {'ridge__alpha': np.logspace(-3, 3, 7)}\n",
    "grid = GridSearchCV(ridge, param_grid = params, cv = 5, n_jobs = -1)\n",
    "\n",
    "grid.fit(X, y)\n",
    "\n",
    "print('The best cv score: {:.2f}'.format(grid.best_score_))\n",
    "print('The best parameter: {}'.format(grid.best_params_))\n",
    "print(grid.best_estimator_)"
   ],
   "outputs": [
    {
     "output_type": "stream",
     "name": "stdout",
     "text": [
      "The best cv score: 0.87\n",
      "The best parameter: {'ridge__alpha': 0.001}\n",
      "Pipeline(memory=None,\n",
      "         steps=[('standardscaler',\n",
      "                 StandardScaler(copy=True, with_mean=True, with_std=True)),\n",
      "                ('pca',\n",
      "                 PCA(copy=True, iterated_power='auto', n_components=None,\n",
      "                     random_state=None, svd_solver='auto', tol=0.0,\n",
      "                     whiten=True)),\n",
      "                ('ridge',\n",
      "                 Ridge(alpha=0.001, copy_X=True, fit_intercept=True,\n",
      "                       max_iter=None, normalize=False, random_state=None,\n",
      "                       solver='auto', tol=0.001))],\n",
      "         verbose=False)\n",
      "CPU times: user 139 ms, sys: 15 ms, total: 154 ms\n",
      "Wall time: 324 ms\n"
     ]
    }
   ],
   "metadata": {}
  },
  {
   "cell_type": "code",
   "execution_count": 24,
   "source": [
    "%%time\n",
    "from sklearn.model_selection import GridSearchCV\n",
    "from sklearn.preprocessing import StandardScaler\n",
    "from sklearn.decomposition import PCA\n",
    "from sklearn.svm import SVR\n",
    "from sklearn.pipeline import make_pipeline\n",
    "\n",
    "pipe = make_pipeline(StandardScaler(), PCA(n_components = 5, whiten = True), SVR())\n",
    "params = {\n",
    "    'svr__C': np.logspace(-3, 3, 7),\n",
    "    'svr__gamma': np.logspace(-3, 3, 7)\n",
    "}\n",
    "grid = GridSearchCV(pipe, param_grid = params, cv = 5, n_jobs = -1)\n",
    "\n",
    "grid.fit(X, y)\n",
    "\n",
    "print('The best cv score: {:.2f}'.format(grid.best_score_))\n",
    "print('The best parameter: {}'.format(grid.best_params_))\n",
    "print(grid.best_estimator_)"
   ],
   "outputs": [
    {
     "output_type": "stream",
     "name": "stdout",
     "text": [
      "The best cv score: 0.88\n",
      "The best parameter: {'svr__C': 100.0, 'svr__gamma': 0.01}\n",
      "Pipeline(memory=None,\n",
      "         steps=[('standardscaler',\n",
      "                 StandardScaler(copy=True, with_mean=True, with_std=True)),\n",
      "                ('pca',\n",
      "                 PCA(copy=True, iterated_power='auto', n_components=5,\n",
      "                     random_state=None, svd_solver='auto', tol=0.0,\n",
      "                     whiten=True)),\n",
      "                ('svr',\n",
      "                 SVR(C=100.0, cache_size=200, coef0=0.0, degree=3, epsilon=0.1,\n",
      "                     gamma=0.01, kernel='rbf', max_iter=-1, shrinking=True,\n",
      "                     tol=0.001, verbose=False))],\n",
      "         verbose=False)\n",
      "CPU times: user 642 ms, sys: 44.9 ms, total: 687 ms\n",
      "Wall time: 1.9 s\n"
     ]
    }
   ],
   "metadata": {}
  },
  {
   "cell_type": "code",
   "execution_count": 126,
   "source": [
    "%%time\n",
    "from sklearn.model_selection import GridSearchCV\n",
    "from sklearn.decomposition import NMF\n",
    "from sklearn.svm import SVR\n",
    "from sklearn.pipeline import make_pipeline\n",
    "\n",
    "pipe = make_pipeline(NMF(n_components = 5, random_state = 24), SVR())\n",
    "params = {\n",
    "    'svr__C': np.logspace(0, 7, 8),\n",
    "    'svr__gamma': np.logspace(-8, 1, 10)\n",
    "}\n",
    "grid = GridSearchCV(pipe, param_grid = params, cv = 5, n_jobs = -1)\n",
    "\n",
    "grid.fit(X, y)\n",
    "\n",
    "print('The best cv score: {:.2f}'.format(grid.best_score_))\n",
    "print('The best parameter: {}'.format(grid.best_params_))\n",
    "print(grid.best_estimator_)"
   ],
   "outputs": [
    {
     "output_type": "stream",
     "name": "stdout",
     "text": [
      "The best cv score: 0.91\n",
      "The best parameter: {'svr__C': 10000.0, 'svr__gamma': 1e-06}\n",
      "Pipeline(memory=None,\n",
      "         steps=[('nmf',\n",
      "                 NMF(alpha=0.0, beta_loss='frobenius', init=None, l1_ratio=0.0,\n",
      "                     max_iter=200, n_components=5, random_state=24,\n",
      "                     shuffle=False, solver='cd', tol=0.0001, verbose=0)),\n",
      "                ('svr',\n",
      "                 SVR(C=10000.0, cache_size=200, coef0=0.0, degree=3,\n",
      "                     epsilon=0.1, gamma=1e-06, kernel='rbf', max_iter=-1,\n",
      "                     shrinking=True, tol=0.001, verbose=False))],\n",
      "         verbose=False)\n",
      "CPU times: user 1.44 s, sys: 91.7 ms, total: 1.53 s\n",
      "Wall time: 25.7 s\n"
     ]
    }
   ],
   "metadata": {}
  },
  {
   "cell_type": "code",
   "execution_count": 131,
   "source": [
    "result_df = pd.DataFrame(grid.cv_results_)\n",
    "result_df = result_df[result_df.mean_test_score > -1].reset_index(drop = True)"
   ],
   "outputs": [],
   "metadata": {}
  },
  {
   "cell_type": "code",
   "execution_count": 132,
   "source": [
    "from mpl_toolkits.mplot3d import Axes3D\n",
    "from matplotlib import cm\n",
    "\n",
    "fig = plt.figure(figsize = (7,5))\n",
    "ax = fig.gca(projection='3d')\n",
    "xx = result_df.param_svr__gamma.astype(float)\n",
    "yy = result_df.param_svr__C.astype(float)\n",
    "zz = result_df.mean_test_score.astype(float)\n",
    "max_index = np.argmax(zz)\n",
    "\n",
    "surf = ax.plot_trisurf(np.log10(xx), np.log10(yy), zz, cmap=cm.Greens, linewidth=0.1)\n",
    "ax.scatter3D(np.log10(xx), np.log10(yy), zz, c = 'orange', s = 5)\n",
    "# mark the best score\n",
    "ax.scatter3D(np.log10(xx), np.log10(yy), zz, c = 'w', s = 5, alpha = 1)\n",
    "text = '$\\gamma :{:.2e}, C:{:.2e}$,\\nscore:{:.2f}'.format(xx[max_index], yy[max_index], zz[max_index])\n",
    "ax.text(np.log10(xx[max_index]), np.log10(yy[max_index]), \n",
    "        zz[max_index],text,\n",
    "        fontsize=12)\n",
    "\n",
    "ax.set_xlabel('$log(\\gamma)$')\n",
    "ax.set_ylabel('log(C)')\n",
    "ax.set_zlabel('mean test score')\n",
    "fig.colorbar(surf, shrink=0.5, aspect=5)\n",
    "fig.savefig('tc_nmr+svr_toc_grid_scores_3D.png')"
   ],
   "outputs": [
    {
     "output_type": "display_data",
     "data": {
      "text/plain": [
       "<Figure size 504x360 with 2 Axes>"
      ],
      "image/png": "[encoded data removed]"
     },
     "metadata": {
      "needs_background": "light"
     }
    }
   ],
   "metadata": {}
  },
  {
   "cell_type": "markdown",
   "source": [
    "# Visualize the prediction accuracy\n",
    "$CaCO_{3}$ and TC<br>\n",
    "The best model of NMF+SVR."
   ],
   "metadata": {}
  },
  {
   "cell_type": "code",
   "execution_count": 3,
   "source": [
    "y_ca = merge_df.caco3_percent.values\n",
    "y_tc = merge_df.tc_percent.values\n",
    "#y_toc = merge_df.toc_percent.values"
   ],
   "outputs": [],
   "metadata": {}
  },
  {
   "cell_type": "code",
   "execution_count": 5,
   "source": [
    "from sklearn.decomposition import NMF\n",
    "from sklearn.svm import SVR\n",
    "from sklearn.pipeline import make_pipeline\n",
    "\n",
    "ca_svr = make_pipeline(NMF(n_components = 5, random_state = 24), SVR(C = 1000000, gamma = 1e-07))\n",
    "ca_svr.fit(X,y_ca)\n",
    "tc_svr = make_pipeline(NMF(n_components = 5, random_state = 24), SVR(C = 10000, gamma = 1e-06))\n",
    "tc_svr.fit(X,y_tc)\n",
    "\n",
    "# The score of cross-validation is more robust than this score. \n",
    "# This one is just to see how the fitting goes.\n",
    "print('The score of the CaCO3: {:.2f}'.format(ca_svr.score(X, y_ca)))\n",
    "print('The score of the TC: {:.2f}'.format(tc_svr.score(X, y_tc)))"
   ],
   "outputs": [
    {
     "output_type": "stream",
     "name": "stdout",
     "text": [
      "The score of the CaCO3: 0.95\n",
      "The score of the TC: 0.96\n"
     ]
    }
   ],
   "metadata": {}
  },
  {
   "cell_type": "code",
   "execution_count": 21,
   "source": [
    "y_p = [ca_svr.predict(X), tc_svr.predict(X)]\n",
    "scores = [0.92, 0.91] # this is from the cross-validation results above\n",
    "\n",
    "fig, axes = plt.subplots(1, 2, figsize = (7, 5))\n",
    "\n",
    "for ax, y, prediction, title, score in zip(axes, [y_ca, y_tc], y_p, [r'$CaCO_{3}$ (%)', 'TC (%)'], scores):\n",
    "    ax.scatter(y, prediction)\n",
    "    ax.set_xlabel('True value')\n",
    "    ax.set_title(title)\n",
    "    ax.text(0.04, 0.92, 'N=38\\n5 folds cross-validation score:\\n{}={}'.format(r'$R^{2}$', score), \n",
    "            horizontalalignment='left', verticalalignment='center', transform=ax.transAxes)\n",
    "axes[0].set_ylabel('Prediction')\n",
    "fig.tight_layout()\n",
    "fig.savefig('truevalue_prediction.png')"
   ],
   "outputs": [
    {
     "output_type": "display_data",
     "data": {
      "text/plain": [
       "<Figure size 504x360 with 2 Axes>"
      ],
      "image/png": "[encoded data removed]"
     },
     "metadata": {
      "needs_background": "light"
     }
    }
   ],
   "metadata": {}
  },
  {
   "cell_type": "markdown",
   "source": [
    "# Summary\n",
    "After larger scale of grid search on the CaCO3 data, the combination of NMF+SVR actually can provide better performance, 0.92. Therefore, I use the combination of NMF+SVR for gridsearch on TOC and TC. TC provide similarily good performance, 0.91, while TOC is so bad. I can produce the TC and CaCO3 profiles of these two cores in the resolution of XRF when JC wishs.\n",
    "\n",
    "TOC-problem<br>\n",
    "Even with the help of transforming y (TOC) by StandardScaler(), the performance is only improved from negative to 0.05. But, I'm not sure if the way of using TransformedTargetRegressor() is right. I'll mannualy do the grid search if JC is interested in that."
   ],
   "metadata": {}
  },
  {
   "cell_type": "markdown",
   "source": [
    "# Produce TC and $CaCO_{3}$ profiles"
   ],
   "metadata": {}
  },
  {
   "cell_type": "markdown",
   "source": [
    "# Read and build spectral dataset of core SO264-14-1\n",
    "For the core SO264-15-2, I just need to read the dataset I prepared already."
   ],
   "metadata": {}
  },
  {
   "cell_type": "code",
   "execution_count": 201,
   "source": [
    "spe_dir = glob.glob('SO264-14-1/Run 1 at  10kV/*.spe')\n",
    "spe_all = []\n",
    "depth_all = []\n",
    "cps_all = []\n",
    "file_name = []\n",
    "\n",
    "for spe in spe_dir:\n",
    "    start_depth = int(spe.split()[3].split('_')[-1])\n",
    "    file_name.append(spe.split('/')[-1])\n",
    "    with open(spe, 'r') as f:\n",
    "        content = []\n",
    "        lines = f.readlines()\n",
    "        for line in lines[49:]:\n",
    "            content = np.hstack((content, line.split()))\n",
    "\n",
    "        spe_all.append(content.astype(int))\n",
    "        # the depth read from the xrf depth is in mm, but the composite depth is in cm\n",
    "        # also I check the depth is always starts from 0.0 and in 10.0 mm resulotion\n",
    "        # so I use this trick to make it to cm  e.g. '1000.0\\n'\n",
    "        depth_all.append(int(lines[13][:-4]) + start_depth)\n",
    "        cps_all.append(int(lines[28]))"
   ],
   "outputs": [],
   "metadata": {}
  },
  {
   "cell_type": "code",
   "execution_count": 203,
   "source": [
    "data_df = pd.DataFrame(spe_all)\n",
    "data_df['composite_depth_cm'] = depth_all\n",
    "data_df['cps'] = cps_all\n",
    "data_df['file_name'] = file_name"
   ],
   "outputs": [],
   "metadata": {}
  },
  {
   "cell_type": "code",
   "execution_count": 204,
   "source": [
    "data_df.head()"
   ],
   "outputs": [
    {
     "output_type": "execute_result",
     "data": {
      "text/plain": [
       "   0  1  2  3  4  5  6  7  8  9  ...  2041  2042  2043  2044  2045  2046  \\\n",
       "0  0  0  0  0  0  0  0  0  0  0  ...     0     0     0     0     0     0   \n",
       "1  0  0  0  0  0  0  0  0  0  0  ...     0     0     0     0     0     0   \n",
       "2  0  0  0  0  0  0  0  0  0  0  ...     0     0     0     0     0     0   \n",
       "3  0  0  0  0  0  0  0  0  0  0  ...     0     0     0     0     0     0   \n",
       "4  0  0  0  0  0  0  0  0  0  0  ...     0     0     0     0     0     0   \n",
       "\n",
       "   2047  composite_depth_cm     cps  \\\n",
       "0     0                1708  218346   \n",
       "1     0                1703  213920   \n",
       "2     0                1072  161034   \n",
       "3     0                1075  196662   \n",
       "4     0                 792  172075   \n",
       "\n",
       "                                           file_name  \n",
       "0  SO264-14-1_1641  670.0mm  10s  10kV 150uA No-F...  \n",
       "1  SO264-14-1_1641  620.0mm  10s  10kV 150uA No-F...  \n",
       "2  SO264-14-1_1041  310.0mm  10s  10kV 150uA No-F...  \n",
       "3  SO264-14-1_1041  340.0mm  10s  10kV 150uA No-F...  \n",
       "4  SO264-14-1_0741  510.0mm  10s  10kV 150uA No-F...  \n",
       "\n",
       "[5 rows x 2051 columns]"
      ],
      "text/html": [
       "<div>\n",
       "<style scoped>\n",
       "    .dataframe tbody tr th:only-of-type {\n",
       "        vertical-align: middle;\n",
       "    }\n",
       "\n",
       "    .dataframe tbody tr th {\n",
       "        vertical-align: top;\n",
       "    }\n",
       "\n",
       "    .dataframe thead th {\n",
       "        text-align: right;\n",
       "    }\n",
       "</style>\n",
       "<table border=\"1\" class=\"dataframe\">\n",
       "  <thead>\n",
       "    <tr style=\"text-align: right;\">\n",
       "      <th></th>\n",
       "      <th>0</th>\n",
       "      <th>1</th>\n",
       "      <th>2</th>\n",
       "      <th>3</th>\n",
       "      <th>4</th>\n",
       "      <th>5</th>\n",
       "      <th>6</th>\n",
       "      <th>7</th>\n",
       "      <th>8</th>\n",
       "      <th>9</th>\n",
       "      <th>...</th>\n",
       "      <th>2041</th>\n",
       "      <th>2042</th>\n",
       "      <th>2043</th>\n",
       "      <th>2044</th>\n",
       "      <th>2045</th>\n",
       "      <th>2046</th>\n",
       "      <th>2047</th>\n",
       "      <th>composite_depth_cm</th>\n",
       "      <th>cps</th>\n",
       "      <th>file_name</th>\n",
       "    </tr>\n",
       "  </thead>\n",
       "  <tbody>\n",
       "    <tr>\n",
       "      <th>0</th>\n",
       "      <td>0</td>\n",
       "      <td>0</td>\n",
       "      <td>0</td>\n",
       "      <td>0</td>\n",
       "      <td>0</td>\n",
       "      <td>0</td>\n",
       "      <td>0</td>\n",
       "      <td>0</td>\n",
       "      <td>0</td>\n",
       "      <td>0</td>\n",
       "      <td>...</td>\n",
       "      <td>0</td>\n",
       "      <td>0</td>\n",
       "      <td>0</td>\n",
       "      <td>0</td>\n",
       "      <td>0</td>\n",
       "      <td>0</td>\n",
       "      <td>0</td>\n",
       "      <td>1708</td>\n",
       "      <td>218346</td>\n",
       "      <td>SO264-14-1_1641  670.0mm  10s  10kV 150uA No-F...</td>\n",
       "    </tr>\n",
       "    <tr>\n",
       "      <th>1</th>\n",
       "      <td>0</td>\n",
       "      <td>0</td>\n",
       "      <td>0</td>\n",
       "      <td>0</td>\n",
       "      <td>0</td>\n",
       "      <td>0</td>\n",
       "      <td>0</td>\n",
       "      <td>0</td>\n",
       "      <td>0</td>\n",
       "      <td>0</td>\n",
       "      <td>...</td>\n",
       "      <td>0</td>\n",
       "      <td>0</td>\n",
       "      <td>0</td>\n",
       "      <td>0</td>\n",
       "      <td>0</td>\n",
       "      <td>0</td>\n",
       "      <td>0</td>\n",
       "      <td>1703</td>\n",
       "      <td>213920</td>\n",
       "      <td>SO264-14-1_1641  620.0mm  10s  10kV 150uA No-F...</td>\n",
       "    </tr>\n",
       "    <tr>\n",
       "      <th>2</th>\n",
       "      <td>0</td>\n",
       "      <td>0</td>\n",
       "      <td>0</td>\n",
       "      <td>0</td>\n",
       "      <td>0</td>\n",
       "      <td>0</td>\n",
       "      <td>0</td>\n",
       "      <td>0</td>\n",
       "      <td>0</td>\n",
       "      <td>0</td>\n",
       "      <td>...</td>\n",
       "      <td>0</td>\n",
       "      <td>0</td>\n",
       "      <td>0</td>\n",
       "      <td>0</td>\n",
       "      <td>0</td>\n",
       "      <td>0</td>\n",
       "      <td>0</td>\n",
       "      <td>1072</td>\n",
       "      <td>161034</td>\n",
       "      <td>SO264-14-1_1041  310.0mm  10s  10kV 150uA No-F...</td>\n",
       "    </tr>\n",
       "    <tr>\n",
       "      <th>3</th>\n",
       "      <td>0</td>\n",
       "      <td>0</td>\n",
       "      <td>0</td>\n",
       "      <td>0</td>\n",
       "      <td>0</td>\n",
       "      <td>0</td>\n",
       "      <td>0</td>\n",
       "      <td>0</td>\n",
       "      <td>0</td>\n",
       "      <td>0</td>\n",
       "      <td>...</td>\n",
       "      <td>0</td>\n",
       "      <td>0</td>\n",
       "      <td>0</td>\n",
       "      <td>0</td>\n",
       "      <td>0</td>\n",
       "      <td>0</td>\n",
       "      <td>0</td>\n",
       "      <td>1075</td>\n",
       "      <td>196662</td>\n",
       "      <td>SO264-14-1_1041  340.0mm  10s  10kV 150uA No-F...</td>\n",
       "    </tr>\n",
       "    <tr>\n",
       "      <th>4</th>\n",
       "      <td>0</td>\n",
       "      <td>0</td>\n",
       "      <td>0</td>\n",
       "      <td>0</td>\n",
       "      <td>0</td>\n",
       "      <td>0</td>\n",
       "      <td>0</td>\n",
       "      <td>0</td>\n",
       "      <td>0</td>\n",
       "      <td>0</td>\n",
       "      <td>...</td>\n",
       "      <td>0</td>\n",
       "      <td>0</td>\n",
       "      <td>0</td>\n",
       "      <td>0</td>\n",
       "      <td>0</td>\n",
       "      <td>0</td>\n",
       "      <td>0</td>\n",
       "      <td>792</td>\n",
       "      <td>172075</td>\n",
       "      <td>SO264-14-1_0741  510.0mm  10s  10kV 150uA No-F...</td>\n",
       "    </tr>\n",
       "  </tbody>\n",
       "</table>\n",
       "<p>5 rows × 2051 columns</p>\n",
       "</div>"
      ]
     },
     "metadata": {},
     "execution_count": 204
    }
   ],
   "metadata": {}
  },
  {
   "cell_type": "code",
   "execution_count": 205,
   "source": [
    "data_df.shape"
   ],
   "outputs": [
    {
     "output_type": "execute_result",
     "data": {
      "text/plain": [
       "(1828, 2051)"
      ]
     },
     "metadata": {},
     "execution_count": 205
    }
   ],
   "metadata": {}
  },
  {
   "cell_type": "markdown",
   "source": [
    "## Check duplicates"
   ],
   "metadata": {}
  },
  {
   "cell_type": "code",
   "execution_count": 206,
   "source": [
    "data_df.loc[data_df.composite_depth_cm.duplicated(keep = False), ['file_name', 'composite_depth_cm']]#.to_csv('duplicates.csv')"
   ],
   "outputs": [
    {
     "output_type": "execute_result",
     "data": {
      "text/plain": [
       "                                              file_name  composite_depth_cm\n",
       "1051  SO264-14-1_0000  420.0mm  10s  10kV 150uA No-F...                  42\n",
       "1530  SO264-14-1_0041   10.0mm  10s  10kV 150uA No-F...                  42"
      ],
      "text/html": [
       "<div>\n",
       "<style scoped>\n",
       "    .dataframe tbody tr th:only-of-type {\n",
       "        vertical-align: middle;\n",
       "    }\n",
       "\n",
       "    .dataframe tbody tr th {\n",
       "        vertical-align: top;\n",
       "    }\n",
       "\n",
       "    .dataframe thead th {\n",
       "        text-align: right;\n",
       "    }\n",
       "</style>\n",
       "<table border=\"1\" class=\"dataframe\">\n",
       "  <thead>\n",
       "    <tr style=\"text-align: right;\">\n",
       "      <th></th>\n",
       "      <th>file_name</th>\n",
       "      <th>composite_depth_cm</th>\n",
       "    </tr>\n",
       "  </thead>\n",
       "  <tbody>\n",
       "    <tr>\n",
       "      <th>1051</th>\n",
       "      <td>SO264-14-1_0000  420.0mm  10s  10kV 150uA No-F...</td>\n",
       "      <td>42</td>\n",
       "    </tr>\n",
       "    <tr>\n",
       "      <th>1530</th>\n",
       "      <td>SO264-14-1_0041   10.0mm  10s  10kV 150uA No-F...</td>\n",
       "      <td>42</td>\n",
       "    </tr>\n",
       "  </tbody>\n",
       "</table>\n",
       "</div>"
      ]
     },
     "metadata": {},
     "execution_count": 206
    }
   ],
   "metadata": {}
  },
  {
   "cell_type": "markdown",
   "source": [
    "Only one pair of duplicate so I simply keep the first one."
   ],
   "metadata": {}
  },
  {
   "cell_type": "code",
   "execution_count": 207,
   "source": [
    "clean_df = data_df[~data_df.composite_depth_cm.duplicated()]\n",
    "clean_df.shape"
   ],
   "outputs": [
    {
     "output_type": "execute_result",
     "data": {
      "text/plain": [
       "(1827, 2051)"
      ]
     },
     "metadata": {},
     "execution_count": 207
    }
   ],
   "metadata": {}
  },
  {
   "cell_type": "markdown",
   "source": [
    "## Expot data"
   ],
   "metadata": {}
  },
  {
   "cell_type": "code",
   "execution_count": 208,
   "source": [
    "clean_df.to_csv('clean_spe_SO264-14-1.csv', index = False)"
   ],
   "outputs": [],
   "metadata": {}
  },
  {
   "cell_type": "markdown",
   "source": [
    "## Combile two cores' data"
   ],
   "metadata": {}
  },
  {
   "cell_type": "code",
   "execution_count": 219,
   "source": [
    "core_152_df = pd.read_csv('clean_spe_SO264-15-2.csv')\n",
    "core_141_df = pd.read_csv('clean_spe_SO264-14-1.csv')\n",
    "clean_df = pd.concat([core_152_df, core_141_df], axis = 0)\n",
    "print(core_152_df.shape)\n",
    "print(core_141_df.shape)\n",
    "print(clean_df.shape)"
   ],
   "outputs": [
    {
     "output_type": "stream",
     "name": "stdout",
     "text": [
      "(1340, 2051)\n",
      "(1827, 2051)\n",
      "(3167, 2051)\n"
     ]
    }
   ],
   "metadata": {}
  },
  {
   "cell_type": "markdown",
   "source": [
    "## Predict them!"
   ],
   "metadata": {}
  },
  {
   "cell_type": "code",
   "execution_count": 220,
   "source": [
    "mask_c = (clean_df.columns != 'file_name') & (clean_df.columns != 'composite_depth_cm')\n",
    "X = clean_df.loc[:, mask_c].values\n",
    "\n",
    "prediction_df = clean_df.loc[:, ~mask_c].copy()\n",
    "prediction_df['caco3_percent'] = ca_svr.predict(X)\n",
    "prediction_df['tc_percent'] = tc_svr.predict(X)"
   ],
   "outputs": [],
   "metadata": {}
  },
  {
   "cell_type": "code",
   "execution_count": 221,
   "source": [
    "prediction_df.head()"
   ],
   "outputs": [
    {
     "output_type": "execute_result",
     "data": {
      "text/plain": [
       "   composite_depth_cm                                          file_name  \\\n",
       "0                1082  SO264-15-2_1048  340.0mm  10s  10kV 150uA No-F...   \n",
       "1                1079  SO264-15-2_1048  310.0mm  10s  10kV 150uA No-F...   \n",
       "2                1404  SO264-15-2_1348  560.0mm  10s  10kV 150uA No-F...   \n",
       "3                 350  SO264-15-2_0348   20.0mm  10s  10kV 150uA No-F...   \n",
       "4                  41  SO264-15-2_0000  410.0mm  10s  10kV 150uA No-F...   \n",
       "\n",
       "   caco3_percent  tc_percent  \n",
       "0      73.851006    8.960110  \n",
       "1      77.408529    9.328562  \n",
       "2      46.358370    5.824017  \n",
       "3      53.129747    6.639450  \n",
       "4      46.268140    5.822396  "
      ],
      "text/html": [
       "<div>\n",
       "<style scoped>\n",
       "    .dataframe tbody tr th:only-of-type {\n",
       "        vertical-align: middle;\n",
       "    }\n",
       "\n",
       "    .dataframe tbody tr th {\n",
       "        vertical-align: top;\n",
       "    }\n",
       "\n",
       "    .dataframe thead th {\n",
       "        text-align: right;\n",
       "    }\n",
       "</style>\n",
       "<table border=\"1\" class=\"dataframe\">\n",
       "  <thead>\n",
       "    <tr style=\"text-align: right;\">\n",
       "      <th></th>\n",
       "      <th>composite_depth_cm</th>\n",
       "      <th>file_name</th>\n",
       "      <th>caco3_percent</th>\n",
       "      <th>tc_percent</th>\n",
       "    </tr>\n",
       "  </thead>\n",
       "  <tbody>\n",
       "    <tr>\n",
       "      <th>0</th>\n",
       "      <td>1082</td>\n",
       "      <td>SO264-15-2_1048  340.0mm  10s  10kV 150uA No-F...</td>\n",
       "      <td>73.851006</td>\n",
       "      <td>8.960110</td>\n",
       "    </tr>\n",
       "    <tr>\n",
       "      <th>1</th>\n",
       "      <td>1079</td>\n",
       "      <td>SO264-15-2_1048  310.0mm  10s  10kV 150uA No-F...</td>\n",
       "      <td>77.408529</td>\n",
       "      <td>9.328562</td>\n",
       "    </tr>\n",
       "    <tr>\n",
       "      <th>2</th>\n",
       "      <td>1404</td>\n",
       "      <td>SO264-15-2_1348  560.0mm  10s  10kV 150uA No-F...</td>\n",
       "      <td>46.358370</td>\n",
       "      <td>5.824017</td>\n",
       "    </tr>\n",
       "    <tr>\n",
       "      <th>3</th>\n",
       "      <td>350</td>\n",
       "      <td>SO264-15-2_0348   20.0mm  10s  10kV 150uA No-F...</td>\n",
       "      <td>53.129747</td>\n",
       "      <td>6.639450</td>\n",
       "    </tr>\n",
       "    <tr>\n",
       "      <th>4</th>\n",
       "      <td>41</td>\n",
       "      <td>SO264-15-2_0000  410.0mm  10s  10kV 150uA No-F...</td>\n",
       "      <td>46.268140</td>\n",
       "      <td>5.822396</td>\n",
       "    </tr>\n",
       "  </tbody>\n",
       "</table>\n",
       "</div>"
      ]
     },
     "metadata": {},
     "execution_count": 221
    }
   ],
   "metadata": {}
  },
  {
   "cell_type": "markdown",
   "source": [
    "### Export prediction"
   ],
   "metadata": {}
  },
  {
   "cell_type": "code",
   "execution_count": 224,
   "source": [
    "prediction_df.to_csv('prediction_tc+ca.csv', index = False)"
   ],
   "outputs": [],
   "metadata": {}
  }
 ],
 "metadata": {
  "kernelspec": {
   "name": "python3",
   "display_name": "Python 3.7.7 64-bit ('caco3': conda)"
  },
  "language_info": {
   "codemirror_mode": {
    "name": "ipython",
    "version": 3
   },
   "file_extension": ".py",
   "mimetype": "text/x-python",
   "name": "python",
   "nbconvert_exporter": "python",
   "pygments_lexer": "ipython3",
   "version": "3.7.7"
  },
  "interpreter": {
   "hash": "80ca28aad481610d935c209b9b787f0743ad64ec5ac44e446d800cb9f28d4d7e"
  }
 },
 "nbformat": 4,
 "nbformat_minor": 4
}