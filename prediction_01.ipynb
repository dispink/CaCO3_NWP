{
 "cells": [
  {
   "cell_type": "markdown",
   "metadata": {},
   "source": [
    "Use the models to predict the bulk measurements into Avaatech resolution (10 mm)."
   ]
  },
  {
   "cell_type": "code",
   "execution_count": 1,
   "metadata": {},
   "outputs": [],
   "source": [
    "import numpy as np \n",
    "import pandas as pd\n",
    "import dask.dataframe as dd\n",
    "import matplotlib.pyplot as plt\n",
    "import seaborn as sns\n",
    "\n",
    "plt.style.use('ggplot')\n",
    "#plt.style.use('seaborn-whitegrid')\n",
    "plt.style.use('seaborn-colorblind')\n",
    "plt.rcParams['figure.dpi'] = 300\n",
    "plt.rcParams['savefig.dpi'] = 300\n",
    "plt.rcParams['savefig.bbox'] = 'tight'\n",
    "\n",
    "import datetime\n",
    "date = datetime.datetime.now().strftime('%Y%m%d')\n",
    "\n",
    "%matplotlib inline"
   ]
  },
  {
   "cell_type": "markdown",
   "metadata": {},
   "source": [
    "# Read spe dataset and models"
   ]
  },
  {
   "cell_type": "code",
   "execution_count": 18,
   "metadata": {},
   "outputs": [],
   "source": [
    "spe_df = pd.read_csv('data/spe_dataset_20201008.csv', index_col = 0)\n",
    "X = spe_df.iloc[:, :2048].values\n",
    "X = X / X.sum(axis = 1, keepdims = True)"
   ]
  },
  {
   "cell_type": "code",
   "execution_count": 21,
   "metadata": {},
   "outputs": [
    {
     "data": {
      "text/plain": [
       "Index(['core', 'composite_depth_mm', 'section_depth_mm', 'filename',\n",
       "       'section'],\n",
       "      dtype='object')"
      ]
     },
     "execution_count": 21,
     "metadata": {},
     "output_type": "execute_result"
    }
   ],
   "source": [
    "spe_df.columns[-5:]"
   ]
  },
  {
   "cell_type": "code",
   "execution_count": 10,
   "metadata": {},
   "outputs": [],
   "source": [
    "from joblib import load\n",
    "m_caco3 = load('models/caco3_nmf+svr_model_20201012.joblib')\n",
    "m_toc = load('models/toc_nmf+svr_model_20201012.joblib')\n",
    "m_tc = load('models/tc_nmf+svr_model_20201012.joblib')"
   ]
  },
  {
   "cell_type": "markdown",
   "metadata": {},
   "source": [
    "# Predict"
   ]
  },
  {
   "cell_type": "code",
   "execution_count": 19,
   "metadata": {},
   "outputs": [],
   "source": [
    "y_caco3 = m_caco3.predict(X)\n",
    "y_toc = m_toc.predict(X)\n",
    "y_tc = m_tc.predict(X)"
   ]
  },
  {
   "cell_type": "markdown",
   "metadata": {},
   "source": [
    "# Build dataset"
   ]
  },
  {
   "cell_type": "code",
   "execution_count": 22,
   "metadata": {},
   "outputs": [],
   "source": [
    "predict_df = spe_df.iloc[:, -5:].copy()\n",
    "predict_df['CaCO3 prediction (%)'] = y_caco3\n",
    "predict_df['TOC prediction (%)'] = y_toc\n",
    "predict_df['TC prediction (%)'] = y_tc"
   ]
  },
  {
   "cell_type": "code",
   "execution_count": 23,
   "metadata": {},
   "outputs": [
    {
     "data": {
      "text/html": [
       "<div>\n",
       "<style scoped>\n",
       "    .dataframe tbody tr th:only-of-type {\n",
       "        vertical-align: middle;\n",
       "    }\n",
       "\n",
       "    .dataframe tbody tr th {\n",
       "        vertical-align: top;\n",
       "    }\n",
       "\n",
       "    .dataframe thead th {\n",
       "        text-align: right;\n",
       "    }\n",
       "</style>\n",
       "<table border=\"1\" class=\"dataframe\">\n",
       "  <thead>\n",
       "    <tr style=\"text-align: right;\">\n",
       "      <th></th>\n",
       "      <th>core</th>\n",
       "      <th>composite_depth_mm</th>\n",
       "      <th>section_depth_mm</th>\n",
       "      <th>filename</th>\n",
       "      <th>section</th>\n",
       "      <th>CaCO3 prediction (%)</th>\n",
       "      <th>TOC prediction (%)</th>\n",
       "      <th>TC prediction (%)</th>\n",
       "    </tr>\n",
       "    <tr>\n",
       "      <th>composite_id</th>\n",
       "      <th></th>\n",
       "      <th></th>\n",
       "      <th></th>\n",
       "      <th></th>\n",
       "      <th></th>\n",
       "      <th></th>\n",
       "      <th></th>\n",
       "      <th></th>\n",
       "    </tr>\n",
       "  </thead>\n",
       "  <tbody>\n",
       "    <tr>\n",
       "      <th>SO264-09-2_00010</th>\n",
       "      <td>SO264-09-2</td>\n",
       "      <td>10</td>\n",
       "      <td>10</td>\n",
       "      <td>SO264-09-2_0000   10.0mm  10s  10kV 150uA No-F...</td>\n",
       "      <td>0</td>\n",
       "      <td>84.298726</td>\n",
       "      <td>0.346583</td>\n",
       "      <td>10.242122</td>\n",
       "    </tr>\n",
       "    <tr>\n",
       "      <th>SO264-09-2_00020</th>\n",
       "      <td>SO264-09-2</td>\n",
       "      <td>20</td>\n",
       "      <td>20</td>\n",
       "      <td>SO264-09-2_0000   20.0mm  10s  10kV 150uA No-F...</td>\n",
       "      <td>0</td>\n",
       "      <td>86.519613</td>\n",
       "      <td>0.320136</td>\n",
       "      <td>10.489510</td>\n",
       "    </tr>\n",
       "    <tr>\n",
       "      <th>SO264-09-2_00030</th>\n",
       "      <td>SO264-09-2</td>\n",
       "      <td>30</td>\n",
       "      <td>30</td>\n",
       "      <td>SO264-09-2_0000   30.0mm  10s  10kV 150uA No-F...</td>\n",
       "      <td>0</td>\n",
       "      <td>89.700659</td>\n",
       "      <td>0.278939</td>\n",
       "      <td>10.844421</td>\n",
       "    </tr>\n",
       "    <tr>\n",
       "      <th>SO264-09-2_00040</th>\n",
       "      <td>SO264-09-2</td>\n",
       "      <td>40</td>\n",
       "      <td>40</td>\n",
       "      <td>SO264-09-2_0000   40.0mm  10s  10kV 150uA No-F...</td>\n",
       "      <td>0</td>\n",
       "      <td>89.556269</td>\n",
       "      <td>0.276873</td>\n",
       "      <td>10.821880</td>\n",
       "    </tr>\n",
       "    <tr>\n",
       "      <th>SO264-09-2_00050</th>\n",
       "      <td>SO264-09-2</td>\n",
       "      <td>50</td>\n",
       "      <td>50</td>\n",
       "      <td>SO264-09-2_0000   50.0mm  10s  10kV 150uA No-F...</td>\n",
       "      <td>0</td>\n",
       "      <td>89.970072</td>\n",
       "      <td>0.279820</td>\n",
       "      <td>10.863366</td>\n",
       "    </tr>\n",
       "    <tr>\n",
       "      <th>...</th>\n",
       "      <td>...</td>\n",
       "      <td>...</td>\n",
       "      <td>...</td>\n",
       "      <td>...</td>\n",
       "      <td>...</td>\n",
       "      <td>...</td>\n",
       "      <td>...</td>\n",
       "      <td>...</td>\n",
       "    </tr>\n",
       "    <tr>\n",
       "      <th>SO264-76-1_04370</th>\n",
       "      <td>SO264-76-1</td>\n",
       "      <td>4370</td>\n",
       "      <td>1120</td>\n",
       "      <td>SO264-76-1_0325 1120.0mm  10s  10kV 150uA No-F...</td>\n",
       "      <td>3</td>\n",
       "      <td>1.797913</td>\n",
       "      <td>0.233742</td>\n",
       "      <td>0.326492</td>\n",
       "    </tr>\n",
       "    <tr>\n",
       "      <th>SO264-76-1_04380</th>\n",
       "      <td>SO264-76-1</td>\n",
       "      <td>4380</td>\n",
       "      <td>1130</td>\n",
       "      <td>SO264-76-1_0325 1130.0mm  10s  10kV 150uA No-F...</td>\n",
       "      <td>3</td>\n",
       "      <td>1.792156</td>\n",
       "      <td>0.212765</td>\n",
       "      <td>0.313516</td>\n",
       "    </tr>\n",
       "    <tr>\n",
       "      <th>SO264-76-1_04390</th>\n",
       "      <td>SO264-76-1</td>\n",
       "      <td>4390</td>\n",
       "      <td>1140</td>\n",
       "      <td>SO264-76-1_0325 1140.0mm  10s  10kV 150uA No-F...</td>\n",
       "      <td>3</td>\n",
       "      <td>0.017349</td>\n",
       "      <td>0.168813</td>\n",
       "      <td>0.114502</td>\n",
       "    </tr>\n",
       "    <tr>\n",
       "      <th>SO264-76-1_04400</th>\n",
       "      <td>SO264-76-1</td>\n",
       "      <td>4400</td>\n",
       "      <td>1150</td>\n",
       "      <td>SO264-76-1_0325 1150.0mm  10s  10kV 150uA No-F...</td>\n",
       "      <td>3</td>\n",
       "      <td>0.945594</td>\n",
       "      <td>0.196107</td>\n",
       "      <td>0.235153</td>\n",
       "    </tr>\n",
       "    <tr>\n",
       "      <th>SO264-76-1_04410</th>\n",
       "      <td>SO264-76-1</td>\n",
       "      <td>4410</td>\n",
       "      <td>1160</td>\n",
       "      <td>SO264-76-1_0325 1160.0mm  10s  10kV 150uA No-F...</td>\n",
       "      <td>3</td>\n",
       "      <td>-8.070426</td>\n",
       "      <td>-0.274094</td>\n",
       "      <td>-0.496562</td>\n",
       "    </tr>\n",
       "  </tbody>\n",
       "</table>\n",
       "<p>34322 rows × 8 columns</p>\n",
       "</div>"
      ],
      "text/plain": [
       "                        core  composite_depth_mm  section_depth_mm  \\\n",
       "composite_id                                                         \n",
       "SO264-09-2_00010  SO264-09-2                  10                10   \n",
       "SO264-09-2_00020  SO264-09-2                  20                20   \n",
       "SO264-09-2_00030  SO264-09-2                  30                30   \n",
       "SO264-09-2_00040  SO264-09-2                  40                40   \n",
       "SO264-09-2_00050  SO264-09-2                  50                50   \n",
       "...                      ...                 ...               ...   \n",
       "SO264-76-1_04370  SO264-76-1                4370              1120   \n",
       "SO264-76-1_04380  SO264-76-1                4380              1130   \n",
       "SO264-76-1_04390  SO264-76-1                4390              1140   \n",
       "SO264-76-1_04400  SO264-76-1                4400              1150   \n",
       "SO264-76-1_04410  SO264-76-1                4410              1160   \n",
       "\n",
       "                                                           filename  section  \\\n",
       "composite_id                                                                   \n",
       "SO264-09-2_00010  SO264-09-2_0000   10.0mm  10s  10kV 150uA No-F...        0   \n",
       "SO264-09-2_00020  SO264-09-2_0000   20.0mm  10s  10kV 150uA No-F...        0   \n",
       "SO264-09-2_00030  SO264-09-2_0000   30.0mm  10s  10kV 150uA No-F...        0   \n",
       "SO264-09-2_00040  SO264-09-2_0000   40.0mm  10s  10kV 150uA No-F...        0   \n",
       "SO264-09-2_00050  SO264-09-2_0000   50.0mm  10s  10kV 150uA No-F...        0   \n",
       "...                                                             ...      ...   \n",
       "SO264-76-1_04370  SO264-76-1_0325 1120.0mm  10s  10kV 150uA No-F...        3   \n",
       "SO264-76-1_04380  SO264-76-1_0325 1130.0mm  10s  10kV 150uA No-F...        3   \n",
       "SO264-76-1_04390  SO264-76-1_0325 1140.0mm  10s  10kV 150uA No-F...        3   \n",
       "SO264-76-1_04400  SO264-76-1_0325 1150.0mm  10s  10kV 150uA No-F...        3   \n",
       "SO264-76-1_04410  SO264-76-1_0325 1160.0mm  10s  10kV 150uA No-F...        3   \n",
       "\n",
       "                  CaCO3 prediction (%)  TOC prediction (%)  TC prediction (%)  \n",
       "composite_id                                                                   \n",
       "SO264-09-2_00010             84.298726            0.346583          10.242122  \n",
       "SO264-09-2_00020             86.519613            0.320136          10.489510  \n",
       "SO264-09-2_00030             89.700659            0.278939          10.844421  \n",
       "SO264-09-2_00040             89.556269            0.276873          10.821880  \n",
       "SO264-09-2_00050             89.970072            0.279820          10.863366  \n",
       "...                                ...                 ...                ...  \n",
       "SO264-76-1_04370              1.797913            0.233742           0.326492  \n",
       "SO264-76-1_04380              1.792156            0.212765           0.313516  \n",
       "SO264-76-1_04390              0.017349            0.168813           0.114502  \n",
       "SO264-76-1_04400              0.945594            0.196107           0.235153  \n",
       "SO264-76-1_04410             -8.070426           -0.274094          -0.496562  \n",
       "\n",
       "[34322 rows x 8 columns]"
      ]
     },
     "execution_count": 23,
     "metadata": {},
     "output_type": "execute_result"
    }
   ],
   "source": [
    "predict_df"
   ]
  },
  {
   "cell_type": "code",
   "execution_count": 25,
   "metadata": {},
   "outputs": [
    {
     "data": {
      "text/html": [
       "<div>\n",
       "<style scoped>\n",
       "    .dataframe tbody tr th:only-of-type {\n",
       "        vertical-align: middle;\n",
       "    }\n",
       "\n",
       "    .dataframe tbody tr th {\n",
       "        vertical-align: top;\n",
       "    }\n",
       "\n",
       "    .dataframe thead th {\n",
       "        text-align: right;\n",
       "    }\n",
       "</style>\n",
       "<table border=\"1\" class=\"dataframe\">\n",
       "  <thead>\n",
       "    <tr style=\"text-align: right;\">\n",
       "      <th></th>\n",
       "      <th>core</th>\n",
       "      <th>composite_depth_mm</th>\n",
       "      <th>section_depth_mm</th>\n",
       "      <th>filename</th>\n",
       "      <th>section</th>\n",
       "      <th>CaCO3 prediction (%)</th>\n",
       "      <th>TOC prediction (%)</th>\n",
       "      <th>TC prediction (%)</th>\n",
       "    </tr>\n",
       "    <tr>\n",
       "      <th>composite_id</th>\n",
       "      <th></th>\n",
       "      <th></th>\n",
       "      <th></th>\n",
       "      <th></th>\n",
       "      <th></th>\n",
       "      <th></th>\n",
       "      <th></th>\n",
       "      <th></th>\n",
       "    </tr>\n",
       "  </thead>\n",
       "  <tbody>\n",
       "    <tr>\n",
       "      <th>SO264-76-1_04370</th>\n",
       "      <td>SO264-76-1</td>\n",
       "      <td>4370</td>\n",
       "      <td>1120</td>\n",
       "      <td>SO264-76-1_0325 1120.0mm  10s  10kV 150uA No-F...</td>\n",
       "      <td>3</td>\n",
       "      <td>1.797913</td>\n",
       "      <td>0.233742</td>\n",
       "      <td>0.326492</td>\n",
       "    </tr>\n",
       "    <tr>\n",
       "      <th>SO264-76-1_04380</th>\n",
       "      <td>SO264-76-1</td>\n",
       "      <td>4380</td>\n",
       "      <td>1130</td>\n",
       "      <td>SO264-76-1_0325 1130.0mm  10s  10kV 150uA No-F...</td>\n",
       "      <td>3</td>\n",
       "      <td>1.792156</td>\n",
       "      <td>0.212765</td>\n",
       "      <td>0.313516</td>\n",
       "    </tr>\n",
       "    <tr>\n",
       "      <th>SO264-76-1_04390</th>\n",
       "      <td>SO264-76-1</td>\n",
       "      <td>4390</td>\n",
       "      <td>1140</td>\n",
       "      <td>SO264-76-1_0325 1140.0mm  10s  10kV 150uA No-F...</td>\n",
       "      <td>3</td>\n",
       "      <td>0.017349</td>\n",
       "      <td>0.168813</td>\n",
       "      <td>0.114502</td>\n",
       "    </tr>\n",
       "    <tr>\n",
       "      <th>SO264-76-1_04400</th>\n",
       "      <td>SO264-76-1</td>\n",
       "      <td>4400</td>\n",
       "      <td>1150</td>\n",
       "      <td>SO264-76-1_0325 1150.0mm  10s  10kV 150uA No-F...</td>\n",
       "      <td>3</td>\n",
       "      <td>0.945594</td>\n",
       "      <td>0.196107</td>\n",
       "      <td>0.235153</td>\n",
       "    </tr>\n",
       "    <tr>\n",
       "      <th>SO264-76-1_04410</th>\n",
       "      <td>SO264-76-1</td>\n",
       "      <td>4410</td>\n",
       "      <td>1160</td>\n",
       "      <td>SO264-76-1_0325 1160.0mm  10s  10kV 150uA No-F...</td>\n",
       "      <td>3</td>\n",
       "      <td>-8.070426</td>\n",
       "      <td>-0.274094</td>\n",
       "      <td>-0.496562</td>\n",
       "    </tr>\n",
       "  </tbody>\n",
       "</table>\n",
       "</div>"
      ],
      "text/plain": [
       "                        core  composite_depth_mm  section_depth_mm  \\\n",
       "composite_id                                                         \n",
       "SO264-76-1_04370  SO264-76-1                4370              1120   \n",
       "SO264-76-1_04380  SO264-76-1                4380              1130   \n",
       "SO264-76-1_04390  SO264-76-1                4390              1140   \n",
       "SO264-76-1_04400  SO264-76-1                4400              1150   \n",
       "SO264-76-1_04410  SO264-76-1                4410              1160   \n",
       "\n",
       "                                                           filename  section  \\\n",
       "composite_id                                                                   \n",
       "SO264-76-1_04370  SO264-76-1_0325 1120.0mm  10s  10kV 150uA No-F...        3   \n",
       "SO264-76-1_04380  SO264-76-1_0325 1130.0mm  10s  10kV 150uA No-F...        3   \n",
       "SO264-76-1_04390  SO264-76-1_0325 1140.0mm  10s  10kV 150uA No-F...        3   \n",
       "SO264-76-1_04400  SO264-76-1_0325 1150.0mm  10s  10kV 150uA No-F...        3   \n",
       "SO264-76-1_04410  SO264-76-1_0325 1160.0mm  10s  10kV 150uA No-F...        3   \n",
       "\n",
       "                  CaCO3 prediction (%)  TOC prediction (%)  TC prediction (%)  \n",
       "composite_id                                                                   \n",
       "SO264-76-1_04370              1.797913            0.233742           0.326492  \n",
       "SO264-76-1_04380              1.792156            0.212765           0.313516  \n",
       "SO264-76-1_04390              0.017349            0.168813           0.114502  \n",
       "SO264-76-1_04400              0.945594            0.196107           0.235153  \n",
       "SO264-76-1_04410             -8.070426           -0.274094          -0.496562  "
      ]
     },
     "execution_count": 25,
     "metadata": {},
     "output_type": "execute_result"
    }
   ],
   "source": [
    "predict_df.tail()"
   ]
  },
  {
   "cell_type": "markdown",
   "metadata": {},
   "source": [
    "# Problems\n",
    "There are predictions below 0 and over 100."
   ]
  },
  {
   "cell_type": "code",
   "execution_count": 26,
   "metadata": {},
   "outputs": [
    {
     "data": {
      "text/html": [
       "<div>\n",
       "<style scoped>\n",
       "    .dataframe tbody tr th:only-of-type {\n",
       "        vertical-align: middle;\n",
       "    }\n",
       "\n",
       "    .dataframe tbody tr th {\n",
       "        vertical-align: top;\n",
       "    }\n",
       "\n",
       "    .dataframe thead th {\n",
       "        text-align: right;\n",
       "    }\n",
       "</style>\n",
       "<table border=\"1\" class=\"dataframe\">\n",
       "  <thead>\n",
       "    <tr style=\"text-align: right;\">\n",
       "      <th></th>\n",
       "      <th>core</th>\n",
       "      <th>composite_depth_mm</th>\n",
       "      <th>section_depth_mm</th>\n",
       "      <th>filename</th>\n",
       "      <th>section</th>\n",
       "      <th>CaCO3 prediction (%)</th>\n",
       "      <th>TOC prediction (%)</th>\n",
       "      <th>TC prediction (%)</th>\n",
       "    </tr>\n",
       "    <tr>\n",
       "      <th>composite_id</th>\n",
       "      <th></th>\n",
       "      <th></th>\n",
       "      <th></th>\n",
       "      <th></th>\n",
       "      <th></th>\n",
       "      <th></th>\n",
       "      <th></th>\n",
       "      <th></th>\n",
       "    </tr>\n",
       "  </thead>\n",
       "  <tbody>\n",
       "    <tr>\n",
       "      <th>SO264-09-2_10690</th>\n",
       "      <td>SO264-09-2</td>\n",
       "      <td>10690</td>\n",
       "      <td>1000</td>\n",
       "      <td>SO264-09-2_0969 1000.0mm  10s  10kV 150uA No-F...</td>\n",
       "      <td>10</td>\n",
       "      <td>-12.025440</td>\n",
       "      <td>0.554944</td>\n",
       "      <td>-1.135402</td>\n",
       "    </tr>\n",
       "    <tr>\n",
       "      <th>SO264-19-2_00470</th>\n",
       "      <td>SO264-19-2</td>\n",
       "      <td>470</td>\n",
       "      <td>130</td>\n",
       "      <td>SO264-19-2_00340  130.0mm  10s  10kV 150uA No-...</td>\n",
       "      <td>1</td>\n",
       "      <td>-0.004799</td>\n",
       "      <td>0.207358</td>\n",
       "      <td>0.245297</td>\n",
       "    </tr>\n",
       "    <tr>\n",
       "      <th>SO264-19-2_02340</th>\n",
       "      <td>SO264-19-2</td>\n",
       "      <td>2340</td>\n",
       "      <td>1000</td>\n",
       "      <td>SO264-19-2_01340 1000.0mm  10s  10kV 150uA No-...</td>\n",
       "      <td>2</td>\n",
       "      <td>-0.130585</td>\n",
       "      <td>0.231295</td>\n",
       "      <td>0.164010</td>\n",
       "    </tr>\n",
       "    <tr>\n",
       "      <th>SO264-19-2_02460</th>\n",
       "      <td>SO264-19-2</td>\n",
       "      <td>2460</td>\n",
       "      <td>120</td>\n",
       "      <td>SO264-19-2_02340  120.0mm  10s  10kV 150uA No-...</td>\n",
       "      <td>3</td>\n",
       "      <td>-0.021384</td>\n",
       "      <td>0.216739</td>\n",
       "      <td>0.244950</td>\n",
       "    </tr>\n",
       "    <tr>\n",
       "      <th>SO264-19-2_02630</th>\n",
       "      <td>SO264-19-2</td>\n",
       "      <td>2630</td>\n",
       "      <td>290</td>\n",
       "      <td>SO264-19-2_02340  290.0mm  10s  10kV 150uA No-...</td>\n",
       "      <td>3</td>\n",
       "      <td>-0.805713</td>\n",
       "      <td>0.241535</td>\n",
       "      <td>0.321321</td>\n",
       "    </tr>\n",
       "    <tr>\n",
       "      <th>...</th>\n",
       "      <td>...</td>\n",
       "      <td>...</td>\n",
       "      <td>...</td>\n",
       "      <td>...</td>\n",
       "      <td>...</td>\n",
       "      <td>...</td>\n",
       "      <td>...</td>\n",
       "      <td>...</td>\n",
       "    </tr>\n",
       "    <tr>\n",
       "      <th>SO264-76-1_02930</th>\n",
       "      <td>SO264-76-1</td>\n",
       "      <td>2930</td>\n",
       "      <td>670</td>\n",
       "      <td>SO264-76-1_0226  670.0mm  10s  10kV 150uA No-F...</td>\n",
       "      <td>2</td>\n",
       "      <td>-2.574181</td>\n",
       "      <td>0.246851</td>\n",
       "      <td>0.248250</td>\n",
       "    </tr>\n",
       "    <tr>\n",
       "      <th>SO264-76-1_03420</th>\n",
       "      <td>SO264-76-1</td>\n",
       "      <td>3420</td>\n",
       "      <td>170</td>\n",
       "      <td>SO264-76-1_0325  170.0mm  10s  10kV 150uA No-F...</td>\n",
       "      <td>3</td>\n",
       "      <td>-18.285134</td>\n",
       "      <td>0.179241</td>\n",
       "      <td>-1.605852</td>\n",
       "    </tr>\n",
       "    <tr>\n",
       "      <th>SO264-76-1_04260</th>\n",
       "      <td>SO264-76-1</td>\n",
       "      <td>4260</td>\n",
       "      <td>1010</td>\n",
       "      <td>SO264-76-1_0325 1010.0mm  10s  10kV 150uA No-F...</td>\n",
       "      <td>3</td>\n",
       "      <td>-0.697318</td>\n",
       "      <td>0.279956</td>\n",
       "      <td>0.162939</td>\n",
       "    </tr>\n",
       "    <tr>\n",
       "      <th>SO264-76-1_04270</th>\n",
       "      <td>SO264-76-1</td>\n",
       "      <td>4270</td>\n",
       "      <td>1020</td>\n",
       "      <td>SO264-76-1_0325 1020.0mm  10s  10kV 150uA No-F...</td>\n",
       "      <td>3</td>\n",
       "      <td>-0.619650</td>\n",
       "      <td>0.250808</td>\n",
       "      <td>0.145826</td>\n",
       "    </tr>\n",
       "    <tr>\n",
       "      <th>SO264-76-1_04410</th>\n",
       "      <td>SO264-76-1</td>\n",
       "      <td>4410</td>\n",
       "      <td>1160</td>\n",
       "      <td>SO264-76-1_0325 1160.0mm  10s  10kV 150uA No-F...</td>\n",
       "      <td>3</td>\n",
       "      <td>-8.070426</td>\n",
       "      <td>-0.274094</td>\n",
       "      <td>-0.496562</td>\n",
       "    </tr>\n",
       "  </tbody>\n",
       "</table>\n",
       "<p>2485 rows × 8 columns</p>\n",
       "</div>"
      ],
      "text/plain": [
       "                        core  composite_depth_mm  section_depth_mm  \\\n",
       "composite_id                                                         \n",
       "SO264-09-2_10690  SO264-09-2               10690              1000   \n",
       "SO264-19-2_00470  SO264-19-2                 470               130   \n",
       "SO264-19-2_02340  SO264-19-2                2340              1000   \n",
       "SO264-19-2_02460  SO264-19-2                2460               120   \n",
       "SO264-19-2_02630  SO264-19-2                2630               290   \n",
       "...                      ...                 ...               ...   \n",
       "SO264-76-1_02930  SO264-76-1                2930               670   \n",
       "SO264-76-1_03420  SO264-76-1                3420               170   \n",
       "SO264-76-1_04260  SO264-76-1                4260              1010   \n",
       "SO264-76-1_04270  SO264-76-1                4270              1020   \n",
       "SO264-76-1_04410  SO264-76-1                4410              1160   \n",
       "\n",
       "                                                           filename  section  \\\n",
       "composite_id                                                                   \n",
       "SO264-09-2_10690  SO264-09-2_0969 1000.0mm  10s  10kV 150uA No-F...       10   \n",
       "SO264-19-2_00470  SO264-19-2_00340  130.0mm  10s  10kV 150uA No-...        1   \n",
       "SO264-19-2_02340  SO264-19-2_01340 1000.0mm  10s  10kV 150uA No-...        2   \n",
       "SO264-19-2_02460  SO264-19-2_02340  120.0mm  10s  10kV 150uA No-...        3   \n",
       "SO264-19-2_02630  SO264-19-2_02340  290.0mm  10s  10kV 150uA No-...        3   \n",
       "...                                                             ...      ...   \n",
       "SO264-76-1_02930  SO264-76-1_0226  670.0mm  10s  10kV 150uA No-F...        2   \n",
       "SO264-76-1_03420  SO264-76-1_0325  170.0mm  10s  10kV 150uA No-F...        3   \n",
       "SO264-76-1_04260  SO264-76-1_0325 1010.0mm  10s  10kV 150uA No-F...        3   \n",
       "SO264-76-1_04270  SO264-76-1_0325 1020.0mm  10s  10kV 150uA No-F...        3   \n",
       "SO264-76-1_04410  SO264-76-1_0325 1160.0mm  10s  10kV 150uA No-F...        3   \n",
       "\n",
       "                  CaCO3 prediction (%)  TOC prediction (%)  TC prediction (%)  \n",
       "composite_id                                                                   \n",
       "SO264-09-2_10690            -12.025440            0.554944          -1.135402  \n",
       "SO264-19-2_00470             -0.004799            0.207358           0.245297  \n",
       "SO264-19-2_02340             -0.130585            0.231295           0.164010  \n",
       "SO264-19-2_02460             -0.021384            0.216739           0.244950  \n",
       "SO264-19-2_02630             -0.805713            0.241535           0.321321  \n",
       "...                                ...                 ...                ...  \n",
       "SO264-76-1_02930             -2.574181            0.246851           0.248250  \n",
       "SO264-76-1_03420            -18.285134            0.179241          -1.605852  \n",
       "SO264-76-1_04260             -0.697318            0.279956           0.162939  \n",
       "SO264-76-1_04270             -0.619650            0.250808           0.145826  \n",
       "SO264-76-1_04410             -8.070426           -0.274094          -0.496562  \n",
       "\n",
       "[2485 rows x 8 columns]"
      ]
     },
     "execution_count": 26,
     "metadata": {},
     "output_type": "execute_result"
    }
   ],
   "source": [
    "predict_df[predict_df['CaCO3 prediction (%)'] < 0]"
   ]
  },
  {
   "cell_type": "code",
   "execution_count": 78,
   "metadata": {
    "scrolled": true
   },
   "outputs": [
    {
     "name": "stdout",
     "output_type": "stream",
     "text": [
      "There are 8.5 % of data having predictions below 0 or over 100.\n"
     ]
    }
   ],
   "source": [
    "mask = (predict_df['CaCO3 prediction (%)'] < 0) | (predict_df['TOC prediction (%)'] < 0) | (predict_df['TC prediction (%)'] < 0)|(predict_df['CaCO3 prediction (%)'] > 100) | (predict_df['TOC prediction (%)'] > 100) | (predict_df['TC prediction (%)'] > 100)\n",
    "\n",
    "print('There are {:.1f} % of data having predictions below 0 or over 100.'.format(len(predict_df[mask])/len(predict_df)*100))"
   ]
  },
  {
   "cell_type": "code",
   "execution_count": 79,
   "metadata": {
    "scrolled": true
   },
   "outputs": [
    {
     "name": "stdout",
     "output_type": "stream",
     "text": [
      "There are 7.7 % of data having predictions below 0.\n"
     ]
    }
   ],
   "source": [
    "mask = (predict_df['CaCO3 prediction (%)'] < 0) | (predict_df['TOC prediction (%)'] < 0) | (predict_df['TC prediction (%)'] < 0)\n",
    "\n",
    "print('There are {:.1f} % of data having predictions below 0.'.format(len(predict_df[mask])/len(predict_df)*100))"
   ]
  },
  {
   "cell_type": "code",
   "execution_count": 80,
   "metadata": {},
   "outputs": [
    {
     "name": "stdout",
     "output_type": "stream",
     "text": [
      "There are 0.8 % of data having predictions over 100.\n"
     ]
    }
   ],
   "source": [
    "mask = (predict_df['CaCO3 prediction (%)'] > 100) | (predict_df['TOC prediction (%)'] > 100) | (predict_df['TC prediction (%)'] > 100)\n",
    "\n",
    "print('There are {:.1f} % of data having predictions over 100.'.format(len(predict_df[mask])/len(predict_df)*100))"
   ]
  },
  {
   "cell_type": "code",
   "execution_count": 73,
   "metadata": {},
   "outputs": [
    {
     "data": {
      "image/png": "[encoded data removed]",
      "text/plain": [
       "<Figure size 432x288 with 1 Axes>"
      ]
     },
     "metadata": {
      "needs_background": "light"
     },
     "output_type": "display_data"
    }
   ],
   "source": [
    "plt.hist(predict_df.loc[predict_df['CaCO3 prediction (%)'] < 0, 'CaCO3 prediction (%)'], bins = 100)\n",
    "plt.text(-20, 480, '{} points have CaCO{} < 0'.format(len(predict_df[predict_df['CaCO3 prediction (%)'] < 0]), r'${_3}$'));\n",
    "plt.xlabel('CaCO${_3}$ concentration (%)');"
   ]
  },
  {
   "cell_type": "code",
   "execution_count": 70,
   "metadata": {},
   "outputs": [
    {
     "data": {
      "image/png": "[encoded data removed]",
      "text/plain": [
       "<Figure size 432x288 with 1 Axes>"
      ]
     },
     "metadata": {
      "needs_background": "light"
     },
     "output_type": "display_data"
    }
   ],
   "source": [
    "plt.hist(predict_df.loc[predict_df['CaCO3 prediction (%)'] > 100, 'CaCO3 prediction (%)'], bins = 100)\n",
    "plt.text(105, 8.5, '{} points have CaCO{} > 100'.format(len(predict_df[predict_df['CaCO3 prediction (%)'] > 100]), r'${_3}$'));\n",
    "plt.xlabel('concentration (%)');"
   ]
  },
  {
   "cell_type": "code",
   "execution_count": 61,
   "metadata": {},
   "outputs": [
    {
     "data": {
      "image/png": "[encoded data removed]",
      "text/plain": [
       "<Figure size 432x288 with 1 Axes>"
      ]
     },
     "metadata": {
      "needs_background": "light"
     },
     "output_type": "display_data"
    }
   ],
   "source": [
    "plt.hist(predict_df.loc[predict_df['TOC prediction (%)'] < 0, 'TOC prediction (%)'], bins = 50)\n",
    "plt.xlabel('Concentration (%)')\n",
    "plt.text(-.35, 8.5, '{} points have TOC < 0'.format(len(predict_df[predict_df['TOC prediction (%)'] < 0])));\n"
   ]
  },
  {
   "cell_type": "code",
   "execution_count": 57,
   "metadata": {},
   "outputs": [
    {
     "data": {
      "image/png": "[encoded data removed]",
      "text/plain": [
       "<Figure size 432x288 with 1 Axes>"
      ]
     },
     "metadata": {
      "needs_background": "light"
     },
     "output_type": "display_data"
    }
   ],
   "source": [
    "plt.hist(predict_df.loc[predict_df['TC prediction (%)'] < 0, 'TC prediction (%)'], bins = 50)\n",
    "plt.xlabel('Concentration (%)')\n",
    "plt.text(-2, 80, '{} points have TC < 0'.format(len(predict_df[predict_df['TC prediction (%)'] < 0])));"
   ]
  },
  {
   "cell_type": "markdown",
   "metadata": {},
   "source": [
    "# Export datset"
   ]
  },
  {
   "cell_type": "code",
   "execution_count": 24,
   "metadata": {},
   "outputs": [],
   "source": [
    "predict_df.to_csv('results/prediction_{}.csv'.format(date))"
   ]
  },
  {
   "cell_type": "markdown",
   "metadata": {},
   "source": [
    "# Summary\n",
    "Unfortunately, there are predictions below 0 and over 100. Although the models are built using non-linear algorithm, it's not guaranteed to predict values within 0 and 100. These unrealistic predictions account for 8.5 % of the whole dataset (34,322). Their true values are close to the [0, 100] edges, which might also stand for bad scanning quality. If JC think 8.5 % is acceptable, then we can simply delete them or make them to be 0 or 100. Otherwise, I might need to try Multi-layer Perceptron (i.e. Nueral network) using Keras. I'm not sure if Sklearn can achive the customization of the output (the last layer). <br>\n",
    "https://stackoverflow.com/questions/51683915/how-can-i-limit-regression-output-between-0-to-1-in-keras <br>\n",
    "https://stackabuse.com/introduction-to-neural-networks-with-scikit-learn/"
   ]
  }
 ],
 "metadata": {
  "kernelspec": {
   "display_name": "Python 3",
   "language": "python",
   "name": "python3"
  },
  "language_info": {
   "codemirror_mode": {
    "name": "ipython",
    "version": 3
   },
   "file_extension": ".py",
   "mimetype": "text/x-python",
   "name": "python",
   "nbconvert_exporter": "python",
   "pygments_lexer": "ipython3",
   "version": "3.7.7"
  }
 },
 "nbformat": 4,
 "nbformat_minor": 4
}
