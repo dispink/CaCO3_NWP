{
 "cells": [
  {
   "cell_type": "markdown",
   "metadata": {},
   "source": [
    "Calculate the confidence interval of the error by using t-distribution."
   ]
  },
  {
   "cell_type": "code",
   "execution_count": 1,
   "metadata": {},
   "outputs": [],
   "source": [
    "import numpy as np\n",
    "import pandas as pd\n",
    "\n",
    "import datetime\n",
    "date = datetime.datetime.now().strftime('%Y%m%d')"
   ]
  },
  {
   "cell_type": "markdown",
   "metadata": {},
   "source": [
    "# Case study"
   ]
  },
  {
   "cell_type": "code",
   "execution_count": 10,
   "metadata": {},
   "outputs": [
    {
     "name": "stdout",
     "output_type": "stream",
     "text": [
      "<class 'pandas.core.frame.DataFrame'>\n",
      "Int64Index: 103 entries, 0 to 102\n",
      "Data columns (total 6 columns):\n",
      " #   Column        Non-Null Count  Dtype  \n",
      "---  ------        --------------  -----  \n",
      " 0   core          103 non-null    object \n",
      " 1   mid_depth_mm  103 non-null    float64\n",
      " 2   CaCO3%        103 non-null    float64\n",
      " 3   CaCO3%_pred   103 non-null    float64\n",
      " 4   TOC%          103 non-null    float64\n",
      " 5   TOC%_pred     103 non-null    float64\n",
      "dtypes: float64(5), object(1)\n",
      "memory usage: 5.6+ KB\n"
     ]
    }
   ],
   "source": [
    "from joblib import load\n",
    "from  nwp_cali import PrepareData\n",
    "\n",
    "measurement = 'CaCO3%'\n",
    "model = load('models/{}_nmf+svr_model_20210823.joblib'.format(measurement[:-1].lower()))\n",
    "prepare = PrepareData(measurement=measurement)\n",
    "data_df = prepare.select_casestudy(case_cores = ['PS75-056-1'])\n",
    "X, y = prepare.produce_Xy(data_df)\n",
    "\n",
    "y_df = data_df[['core', 'mid_depth_mm']].copy()\n",
    "y_df[measurement] = y\n",
    "y_df['{}_pred'.format(measurement)] = np.exp(model.predict(X))\n",
    "\n",
    "measurement = 'TOC%'\n",
    "model = load('models/{}_nmf+svr_model_20210823.joblib'.format(measurement[:-1].lower()))\n",
    "prepare = PrepareData(measurement=measurement)\n",
    "data_df = prepare.select_casestudy(case_cores = ['PS75-056-1'])\n",
    "X, y = prepare.produce_Xy(data_df)\n",
    "\n",
    "y_df[measurement] = y\n",
    "y_df['{}_pred'.format(measurement)] = np.exp(model.predict(X))\n",
    "\n",
    "y_df.info()"
   ]
  },
  {
   "cell_type": "code",
   "execution_count": 11,
   "metadata": {},
   "outputs": [
    {
     "name": "stdout",
     "output_type": "stream",
     "text": [
      "RMSE CaCO3% 6.658810134456883\n",
      "RMSE TOC% 0.0562574184997256\n"
     ]
    }
   ],
   "source": [
    "from sklearn.metrics import mean_squared_error\n",
    "\n",
    "for measurement in ['CaCO3%', 'TOC%']:\n",
    "    print(\n",
    "        'RMSE', \n",
    "        measurement, \n",
    "        mean_squared_error(\n",
    "            y_df[measurement], \n",
    "            y_df['{}_pred'.format(measurement)],\n",
    "            squared=False)\n",
    "    )"
   ]
  },
  {
   "cell_type": "code",
   "execution_count": 5,
   "metadata": {},
   "outputs": [
    {
     "name": "stdout",
     "output_type": "stream",
     "text": [
      "CaCO3% (-12.932316583586628, 13.462202501609339)\n",
      "TOC% (-0.10662418268144226, 0.1158043820480197)\n"
     ]
    }
   ],
   "source": [
    "from scipy import stats\n",
    "\n",
    "confidence = 0.95\n",
    "\n",
    "for measurement in ['CaCO3%', 'TOC%']:\n",
    "    err = (y_df['{}_pred'.format(measurement)] - y_df[measurement]).values\n",
    "    mean, sigma = np.mean(err), np.std(err)\n",
    "    conf_int = stats.t.interval(confidence, df=len(err)-1, loc=mean, scale=sigma)\n",
    "    print(measurement, conf_int)\n"
   ]
  },
  {
   "cell_type": "code",
   "execution_count": 13,
   "metadata": {},
   "outputs": [
    {
     "data": {
      "text/plain": [
       "0.003858032613547529"
      ]
     },
     "execution_count": 13,
     "metadata": {},
     "output_type": "execute_result"
    }
   ],
   "source": [
    "np.var(y_df['TOC%_pred'])"
   ]
  },
  {
   "cell_type": "markdown",
   "metadata": {},
   "source": [
    "# Test set"
   ]
  },
  {
   "cell_type": "code",
   "execution_count": 14,
   "metadata": {},
   "outputs": [
    {
     "name": "stdout",
     "output_type": "stream",
     "text": [
      "<class 'pandas.core.frame.DataFrame'>\n",
      "Int64Index: 394 entries, 0 to 393\n",
      "Data columns (total 4 columns):\n",
      " #   Column       Non-Null Count  Dtype  \n",
      "---  ------       --------------  -----  \n",
      " 0   CaCO3%       372 non-null    float64\n",
      " 1   CaCO3%_pred  372 non-null    float64\n",
      " 2   TOC%         394 non-null    float64\n",
      " 3   TOC%_pred    394 non-null    float64\n",
      "dtypes: float64(4)\n",
      "memory usage: 15.4 KB\n"
     ]
    }
   ],
   "source": [
    "y_df = pd.read_csv('results/y_dev_preds_20210823.csv', index_col=0)\n",
    "y_df.info()"
   ]
  },
  {
   "cell_type": "code",
   "execution_count": 9,
   "metadata": {},
   "outputs": [
    {
     "name": "stdout",
     "output_type": "stream",
     "text": [
      "RMSE CaCO3% 3.5701037782558336\n",
      "RMSE TOC% 0.06579334866534074\n"
     ]
    }
   ],
   "source": [
    "from sklearn.metrics import mean_squared_error\n",
    "\n",
    "for measurement in ['CaCO3%', 'TOC%']:\n",
    "    print(\n",
    "        'RMSE',\n",
    "        measurement, \n",
    "        mean_squared_error(\n",
    "            y_df[measurement].dropna(), \n",
    "            y_df['{}_pred'.format(measurement)].dropna(),\n",
    "            squared=False)\n",
    "    )"
   ]
  },
  {
   "cell_type": "code",
   "execution_count": 13,
   "metadata": {},
   "outputs": [
    {
     "name": "stdout",
     "output_type": "stream",
     "text": [
      "CaCO3% (-7.0417460546035295, 6.998347385268411)\n",
      "TOC% (-0.12590889355885268, 0.132471106175832)\n"
     ]
    }
   ],
   "source": [
    "from scipy import stats\n",
    "\n",
    "confidence = 0.95\n",
    "\n",
    "for measurement in ['CaCO3%', 'TOC%']:\n",
    "\n",
    "    err = (y_df['{}_pred'.format(measurement)].dropna() - y_df[measurement].dropna()).values\n",
    "    mean, sigma = np.mean(err), np.std(err)\n",
    "    conf_int = stats.t.interval(confidence, df=len(err)-1, loc=mean, scale=sigma)\n",
    "    print(measurement, conf_int)\n"
   ]
  },
  {
   "cell_type": "code",
   "execution_count": 15,
   "metadata": {},
   "outputs": [
    {
     "data": {
      "text/plain": [
       "0.018987020498692025"
      ]
     },
     "execution_count": 15,
     "metadata": {},
     "output_type": "execute_result"
    }
   ],
   "source": [
    "np.var(y_df['TOC%_pred'])"
   ]
  }
 ],
 "metadata": {
  "interpreter": {
   "hash": "9e915fc59ecf037b6e36627379c70e6e1b40705641d620f2140f7001241416d5"
  },
  "kernelspec": {
   "display_name": "Python 3.7.7 ('caco3')",
   "language": "python",
   "name": "python3"
  },
  "language_info": {
   "codemirror_mode": {
    "name": "ipython",
    "version": 3
   },
   "file_extension": ".py",
   "mimetype": "text/x-python",
   "name": "python",
   "nbconvert_exporter": "python",
   "pygments_lexer": "ipython3",
   "version": "3.7.7"
  },
  "orig_nbformat": 4
 },
 "nbformat": 4,
 "nbformat_minor": 2
}
