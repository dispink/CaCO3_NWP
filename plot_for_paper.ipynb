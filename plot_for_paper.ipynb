{
 "cells": [
  {
   "cell_type": "markdown",
   "metadata": {},
   "source": [
    "Prepare and modify figures for paper."
   ]
  },
  {
   "cell_type": "code",
   "execution_count": 1,
   "metadata": {},
   "outputs": [],
   "source": [
    "import numpy as np \n",
    "import pandas as pd\n",
    "import matplotlib.pyplot as plt\n",
    "\n",
    "#plt.style.use('ggplot')\n",
    "plt.style.use('seaborn-colorblind')\n",
    "#plt.style.use('dark_background')\n",
    "plt.rcParams['figure.dpi'] = 300\n",
    "plt.rcParams['savefig.dpi'] = 300\n",
    "plt.rcParams['savefig.bbox'] = 'tight'\n",
    "plt.rcParams['savefig.transparent'] = True\n",
    "\n",
    "%matplotlib inline\n",
    "\n",
    "import datetime\n",
    "date = datetime.datetime.now().strftime('%Y%m%d')"
   ]
  },
  {
   "cell_type": "markdown",
   "metadata": {},
   "source": [
    "# Data distribution\n",
    "Adopted from build_models_07.ipynb."
   ]
  },
  {
   "cell_type": "code",
   "execution_count": 17,
   "metadata": {},
   "outputs": [
    {
     "data": {
      "image/png": "[encoded data removed]",
      "text/plain": [
       "<Figure size 540x504 with 6 Axes>"
      ]
     },
     "metadata": {
      "needs_background": "light"
     },
     "output_type": "display_data"
    }
   ],
   "source": [
    "from sklearn.model_selection import train_test_split\n",
    "\n",
    "fig, axes = plt.subplots(2, 3, sharex='row', sharey='row', figsize=(7.5, 7))\n",
    "merge_df = pd.read_csv('data/spe+bulk_dataset_20201215.csv', index_col=0)\n",
    "ca_df = merge_df[merge_df.core != 'SO178-12-3'] # This core doesn't have CaCO3 measurement\n",
    "\n",
    "toc_y_train, toc_y_test = train_test_split(merge_df['TOC%'].values, test_size = 0.2, shuffle = True, random_state = 24)\n",
    "ca_y_train, ca_y_test = train_test_split(ca_df['CaCO3%'].values, test_size = 0.2, shuffle = True, random_state = 24)\n",
    "\n",
    "\n",
    "    #ax.set_xlabel('wt (%)\\n{}'.format(label))\n",
    "    \n",
    "for ax, y, label in zip(axes[0, :], [merge_df['TOC%'], toc_y_train, toc_y_test], ['Whole dataset', 'Training set', 'Test set']):\n",
    "    ax.hist(y)\n",
    "    ax.text(0.5, 0.8, \"max.={:.1f}\\nmin.={:.2f}\\nN={}\".format(\n",
    "        np.max(y), np.min(y), len(y)), transform=ax.transAxes)\n",
    "    \n",
    "for ax, y, label in zip(axes[1, :], [ca_df['CaCO3%'], ca_y_train, ca_y_test], ['Whole dataset', 'Training set', 'Test set']):\n",
    "    ax.hist(y)\n",
    "    ax.text(0.5, 0.8, \"max.={:.1f}\\nmin.={:.2f}\\nN={}\".format(\n",
    "        np.max(y), np.min(y), len(y)), transform=ax.transAxes)\n",
    "    ax.set_xlabel('wt (%)\\n{}'.format(label))\n",
    "\n",
    "axes[0, 0].set_ylabel('Count for TOC')\n",
    "axes[1, 0].set_ylabel('Count for Carbonate')\n",
    "\n",
    "\n",
    "fig.subplots_adjust(wspace=.05, top=.92)\n",
    "fig.savefig('results/data_hist_{}.png'.format(date))"
   ]
  },
  {
   "cell_type": "code",
   "execution_count": 19,
   "metadata": {},
   "outputs": [
    {
     "data": {
      "text/plain": [
       "array(['LV28-44-3', 'LV29-114-3', 'SO178-12-3', 'SO264-13-2',\n",
       "       'SO264-15-2', 'SO264-28-2', 'SO264-55-1', 'SO264-56-2',\n",
       "       'SO264-64-1', 'SO264-66-2'], dtype=object)"
      ]
     },
     "execution_count": 19,
     "metadata": {},
     "output_type": "execute_result"
    }
   ],
   "source": [
    "np.unique(merge_df.core)"
   ]
  },
  {
   "cell_type": "code",
   "execution_count": 18,
   "metadata": {},
   "outputs": [
    {
     "data": {
      "text/html": [
       "<div>\n",
       "<style scoped>\n",
       "    .dataframe tbody tr th:only-of-type {\n",
       "        vertical-align: middle;\n",
       "    }\n",
       "\n",
       "    .dataframe tbody tr th {\n",
       "        vertical-align: top;\n",
       "    }\n",
       "\n",
       "    .dataframe thead th {\n",
       "        text-align: right;\n",
       "    }\n",
       "</style>\n",
       "<table border=\"1\" class=\"dataframe\">\n",
       "  <thead>\n",
       "    <tr style=\"text-align: right;\">\n",
       "      <th></th>\n",
       "      <th>0</th>\n",
       "      <th>1</th>\n",
       "      <th>2</th>\n",
       "      <th>3</th>\n",
       "      <th>4</th>\n",
       "      <th>5</th>\n",
       "      <th>6</th>\n",
       "      <th>7</th>\n",
       "      <th>8</th>\n",
       "      <th>9</th>\n",
       "      <th>...</th>\n",
       "      <th>2043</th>\n",
       "      <th>2044</th>\n",
       "      <th>2045</th>\n",
       "      <th>2046</th>\n",
       "      <th>2047</th>\n",
       "      <th>TC%</th>\n",
       "      <th>TOC%</th>\n",
       "      <th>CaCO3%</th>\n",
       "      <th>core</th>\n",
       "      <th>mid_depth_mm</th>\n",
       "    </tr>\n",
       "  </thead>\n",
       "  <tbody>\n",
       "    <tr>\n",
       "      <th>0</th>\n",
       "      <td>0.0</td>\n",
       "      <td>0.0</td>\n",
       "      <td>0.0</td>\n",
       "      <td>0.0</td>\n",
       "      <td>0.0</td>\n",
       "      <td>0.0</td>\n",
       "      <td>0.0</td>\n",
       "      <td>0.0</td>\n",
       "      <td>0.0</td>\n",
       "      <td>0.0</td>\n",
       "      <td>...</td>\n",
       "      <td>0.0</td>\n",
       "      <td>0.0</td>\n",
       "      <td>0.0</td>\n",
       "      <td>0.0</td>\n",
       "      <td>0.0</td>\n",
       "      <td>2.542079</td>\n",
       "      <td>0.394127</td>\n",
       "      <td>17.898887</td>\n",
       "      <td>SO264-64-1</td>\n",
       "      <td>115.0</td>\n",
       "    </tr>\n",
       "    <tr>\n",
       "      <th>1</th>\n",
       "      <td>0.0</td>\n",
       "      <td>0.0</td>\n",
       "      <td>0.0</td>\n",
       "      <td>0.0</td>\n",
       "      <td>0.0</td>\n",
       "      <td>0.0</td>\n",
       "      <td>0.0</td>\n",
       "      <td>0.0</td>\n",
       "      <td>0.0</td>\n",
       "      <td>0.0</td>\n",
       "      <td>...</td>\n",
       "      <td>0.0</td>\n",
       "      <td>0.0</td>\n",
       "      <td>0.0</td>\n",
       "      <td>0.0</td>\n",
       "      <td>0.0</td>\n",
       "      <td>2.247150</td>\n",
       "      <td>0.611208</td>\n",
       "      <td>13.632300</td>\n",
       "      <td>SO264-64-1</td>\n",
       "      <td>215.0</td>\n",
       "    </tr>\n",
       "    <tr>\n",
       "      <th>2</th>\n",
       "      <td>0.0</td>\n",
       "      <td>0.0</td>\n",
       "      <td>0.0</td>\n",
       "      <td>0.0</td>\n",
       "      <td>0.0</td>\n",
       "      <td>0.0</td>\n",
       "      <td>0.0</td>\n",
       "      <td>0.0</td>\n",
       "      <td>0.0</td>\n",
       "      <td>0.0</td>\n",
       "      <td>...</td>\n",
       "      <td>0.0</td>\n",
       "      <td>0.0</td>\n",
       "      <td>0.0</td>\n",
       "      <td>0.0</td>\n",
       "      <td>0.0</td>\n",
       "      <td>0.710588</td>\n",
       "      <td>0.523402</td>\n",
       "      <td>1.559822</td>\n",
       "      <td>SO264-64-1</td>\n",
       "      <td>305.0</td>\n",
       "    </tr>\n",
       "    <tr>\n",
       "      <th>3</th>\n",
       "      <td>0.0</td>\n",
       "      <td>0.0</td>\n",
       "      <td>0.0</td>\n",
       "      <td>0.0</td>\n",
       "      <td>0.0</td>\n",
       "      <td>0.0</td>\n",
       "      <td>0.0</td>\n",
       "      <td>0.0</td>\n",
       "      <td>0.0</td>\n",
       "      <td>0.0</td>\n",
       "      <td>...</td>\n",
       "      <td>0.0</td>\n",
       "      <td>0.0</td>\n",
       "      <td>0.0</td>\n",
       "      <td>0.0</td>\n",
       "      <td>0.0</td>\n",
       "      <td>0.562171</td>\n",
       "      <td>0.472551</td>\n",
       "      <td>0.746802</td>\n",
       "      <td>SO264-64-1</td>\n",
       "      <td>1015.0</td>\n",
       "    </tr>\n",
       "    <tr>\n",
       "      <th>4</th>\n",
       "      <td>0.0</td>\n",
       "      <td>0.0</td>\n",
       "      <td>0.0</td>\n",
       "      <td>0.0</td>\n",
       "      <td>0.0</td>\n",
       "      <td>0.0</td>\n",
       "      <td>0.0</td>\n",
       "      <td>0.0</td>\n",
       "      <td>0.0</td>\n",
       "      <td>0.0</td>\n",
       "      <td>...</td>\n",
       "      <td>0.0</td>\n",
       "      <td>0.0</td>\n",
       "      <td>0.0</td>\n",
       "      <td>0.0</td>\n",
       "      <td>0.0</td>\n",
       "      <td>0.578167</td>\n",
       "      <td>0.312852</td>\n",
       "      <td>2.210866</td>\n",
       "      <td>SO264-64-1</td>\n",
       "      <td>1815.0</td>\n",
       "    </tr>\n",
       "  </tbody>\n",
       "</table>\n",
       "<p>5 rows × 2053 columns</p>\n",
       "</div>"
      ],
      "text/plain": [
       "     0    1    2    3    4    5    6    7    8    9  ...  2043  2044  2045  \\\n",
       "0  0.0  0.0  0.0  0.0  0.0  0.0  0.0  0.0  0.0  0.0  ...   0.0   0.0   0.0   \n",
       "1  0.0  0.0  0.0  0.0  0.0  0.0  0.0  0.0  0.0  0.0  ...   0.0   0.0   0.0   \n",
       "2  0.0  0.0  0.0  0.0  0.0  0.0  0.0  0.0  0.0  0.0  ...   0.0   0.0   0.0   \n",
       "3  0.0  0.0  0.0  0.0  0.0  0.0  0.0  0.0  0.0  0.0  ...   0.0   0.0   0.0   \n",
       "4  0.0  0.0  0.0  0.0  0.0  0.0  0.0  0.0  0.0  0.0  ...   0.0   0.0   0.0   \n",
       "\n",
       "   2046  2047       TC%      TOC%     CaCO3%        core  mid_depth_mm  \n",
       "0   0.0   0.0  2.542079  0.394127  17.898887  SO264-64-1         115.0  \n",
       "1   0.0   0.0  2.247150  0.611208  13.632300  SO264-64-1         215.0  \n",
       "2   0.0   0.0  0.710588  0.523402   1.559822  SO264-64-1         305.0  \n",
       "3   0.0   0.0  0.562171  0.472551   0.746802  SO264-64-1        1015.0  \n",
       "4   0.0   0.0  0.578167  0.312852   2.210866  SO264-64-1        1815.0  \n",
       "\n",
       "[5 rows x 2053 columns]"
      ]
     },
     "execution_count": 18,
     "metadata": {},
     "output_type": "execute_result"
    }
   ],
   "source": [
    "merge_df.head()"
   ]
  },
  {
   "cell_type": "markdown",
   "metadata": {},
   "source": [
    "## Show data distribution of each step"
   ]
  },
  {
   "cell_type": "markdown",
   "metadata": {},
   "source": [
    "### Build datasets"
   ]
  },
  {
   "cell_type": "code",
   "execution_count": 7,
   "metadata": {},
   "outputs": [
    {
     "data": {
      "text/plain": [
       "array(['SO264-64-1', 'SO264-66-2', 'SO264-56-2', 'SO264-28-2',\n",
       "       'SO264-55-1', 'SO264-15-2', 'SO264-13-2', 'LV28-44-3',\n",
       "       'LV29-114-3', 'SO178-12-3'], dtype=object)"
      ]
     },
     "execution_count": 7,
     "metadata": {},
     "output_type": "execute_result"
    }
   ],
   "source": [
    "merge_df = pd.read_csv('data/spe+bulk_dataset_20201215.csv', index_col=0)\n",
    "merge_df.core.unique()"
   ]
  },
  {
   "cell_type": "code",
   "execution_count": 3,
   "metadata": {},
   "outputs": [],
   "source": [
    "from sklearn.model_selection import train_test_split\n",
    "\n",
    "#merge_df = pd.read_csv('data/spe+bulk_dataset_20201215.csv', index_col=0)\n",
    "SO264_core = merge_df.core.unique()[:-3]\n",
    "scale_1_df = merge_df[merge_df.core.isin(SO264_core)].copy()\n",
    "scale_2_ca = merge_df.loc[merge_df.core.isin(['LV28-44-3', 'LV29-114-3']), 'CaCO3%']\n",
    "scale_2_toc = merge_df.loc[merge_df.core.isin(['LV28-44-3', 'LV29-114-3', 'SO178-12-3']), 'TOC%']\n",
    "\n",
    "\n",
    "s1_toc_train, s1_toc_test, s1_ca_train, s1_ca_test = train_test_split(scale_1_df['TOC%'].values, scale_1_df['CaCO3%'].values, test_size = 0.2, shuffle = True, random_state = 24)\n",
    "s2_toc_train, s2_toc_test = train_test_split(scale_2_toc, test_size = 0.2, shuffle = True, random_state = 24)\n",
    "s2_ca_train, s2_ca_test = train_test_split(scale_2_ca, test_size = 0.2, shuffle = True, random_state = 24)"
   ]
  },
  {
   "cell_type": "code",
   "execution_count": 8,
   "metadata": {},
   "outputs": [
    {
     "data": {
      "image/png": "[encoded data removed]",
      "text/plain": [
       "<Figure size 540x504 with 6 Axes>"
      ]
     },
     "metadata": {
      "needs_background": "light"
     },
     "output_type": "display_data"
    }
   ],
   "source": [
    "fig, axes = plt.subplots(2, 3, sharex='row', sharey='row', figsize=(7.5, 7))\n",
    "\n",
    "# TOC    \n",
    "for ax, s1, s2 in zip(axes[0, :], [scale_1_df['TOC%'], s1_toc_train, s1_toc_test], \n",
    "                             [scale_2_toc, s2_toc_train, s2_toc_test]):\n",
    "    y = np.hstack((s1, s2))\n",
    "    ax.hist([s1, s2], stacked=True)\n",
    "    ax.text(0.5, 0.8, \"Max.={:.1f}\\nMin.={:.2f}\\nN={}\".format(\n",
    "        np.max(y), np.min(y), len(y)), transform=ax.transAxes)\n",
    "    \n",
    "#Carbonate\n",
    "for ax, s1, s2, label in zip(axes[1, :], [scale_1_df['CaCO3%'], s1_ca_train, s1_ca_test], \n",
    "                             [scale_2_ca, s2_ca_train, s2_ca_test], ['Whole dataset', 'Training set', 'Test set']):\n",
    "    y = np.hstack((s1, s2))\n",
    "    ax.hist([s1, s2], stacked=True, label=['1$^{st}$ scale up', '2$^{nd}$ scale up'])\n",
    "    ax.text(0.5, 0.8, \"Max.={:.1f}\\nMin.={:.2f}\\nN={}\".format(\n",
    "        np.max(y), np.min(y), len(y)), transform=ax.transAxes)\n",
    "    ax.set_xlabel('wt (%)\\n{}'.format(label))\n",
    "\n",
    "axes[0, 0].set_ylabel('Count for TOC')\n",
    "axes[1, 0].set_ylabel('Count for Carbonate')\n",
    "axes[1, 2].legend(loc='center right')\n",
    "\n",
    "fig.subplots_adjust(wspace=.05, top=.92)\n",
    "fig.savefig('results/data_hist_s1+2_{}.png'.format(date))"
   ]
  },
  {
   "cell_type": "code",
   "execution_count": 9,
   "metadata": {},
   "outputs": [],
   "source": [
    "s1_toc = {'max': [], 'min': [], 'N':[]}\n",
    "s1_ca = {'max': [], 'min': [], 'N':[]}\n",
    "s2_toc = {'max': [], 'min': [], 'N':[]}\n",
    "s2_ca = {'max': [], 'min': [], 'N':[]}\n",
    "\n",
    "cols = []\n",
    "\n",
    "for s, label, values in zip([s1_toc, s1_ca, s2_toc, s2_ca], ['s1_toc', 's1_ca', 's2_toc', 's2_ca'], [[scale_1_df['TOC%'], s1_toc_train, s1_toc_test], \n",
    "                                                                                                     [scale_1_df['CaCO3%'], s1_ca_train, s1_ca_test],\n",
    "                                                                                                     [scale_2_toc, s2_toc_train, s2_toc_test],\n",
    "                                                                                                     [scale_2_ca, s2_ca_train, s2_ca_test]]):\n",
    "    for value, dataset in zip(values, ['whole', 'train', 'test']):\n",
    "        s['max'].append(np.max(value))\n",
    "        s['min'].append(np.min(value))\n",
    "        s['N'].append(len(value))\n",
    "        cols.append('{}_{}'.format(label, dataset))"
   ]
  },
  {
   "cell_type": "code",
   "execution_count": 10,
   "metadata": {},
   "outputs": [
    {
     "data": {
      "text/html": [
       "<div>\n",
       "<style scoped>\n",
       "    .dataframe tbody tr th:only-of-type {\n",
       "        vertical-align: middle;\n",
       "    }\n",
       "\n",
       "    .dataframe tbody tr th {\n",
       "        vertical-align: top;\n",
       "    }\n",
       "\n",
       "    .dataframe thead th {\n",
       "        text-align: right;\n",
       "    }\n",
       "</style>\n",
       "<table border=\"1\" class=\"dataframe\">\n",
       "  <thead>\n",
       "    <tr style=\"text-align: right;\">\n",
       "      <th></th>\n",
       "      <th>s1_toc_whole</th>\n",
       "      <th>s1_toc_train</th>\n",
       "      <th>s1_toc_test</th>\n",
       "      <th>s1_ca_whole</th>\n",
       "      <th>s1_ca_train</th>\n",
       "      <th>s1_ca_test</th>\n",
       "      <th>s2_toc_whole</th>\n",
       "      <th>s2_toc_train</th>\n",
       "      <th>s2_toc_test</th>\n",
       "      <th>s2_ca_whole</th>\n",
       "      <th>s2_ca_train</th>\n",
       "      <th>s2_ca_test</th>\n",
       "    </tr>\n",
       "  </thead>\n",
       "  <tbody>\n",
       "    <tr>\n",
       "      <th>max</th>\n",
       "      <td>0.715612</td>\n",
       "      <td>0.715612</td>\n",
       "      <td>0.663723</td>\n",
       "      <td>94.487199</td>\n",
       "      <td>94.487199</td>\n",
       "      <td>87.822175</td>\n",
       "      <td>1.8085</td>\n",
       "      <td>1.8085</td>\n",
       "      <td>1.4635</td>\n",
       "      <td>7.77</td>\n",
       "      <td>7.77</td>\n",
       "      <td>4.49982</td>\n",
       "    </tr>\n",
       "    <tr>\n",
       "      <th>min</th>\n",
       "      <td>0.014449</td>\n",
       "      <td>0.014449</td>\n",
       "      <td>0.023633</td>\n",
       "      <td>0.009081</td>\n",
       "      <td>0.009081</td>\n",
       "      <td>0.090807</td>\n",
       "      <td>0.3130</td>\n",
       "      <td>0.3130</td>\n",
       "      <td>0.3425</td>\n",
       "      <td>0.00</td>\n",
       "      <td>0.00</td>\n",
       "      <td>0.00000</td>\n",
       "    </tr>\n",
       "    <tr>\n",
       "      <th>N</th>\n",
       "      <td>382.000000</td>\n",
       "      <td>305.000000</td>\n",
       "      <td>77.000000</td>\n",
       "      <td>382.000000</td>\n",
       "      <td>305.000000</td>\n",
       "      <td>77.000000</td>\n",
       "      <td>317.0000</td>\n",
       "      <td>253.0000</td>\n",
       "      <td>64.0000</td>\n",
       "      <td>286.00</td>\n",
       "      <td>228.00</td>\n",
       "      <td>58.00000</td>\n",
       "    </tr>\n",
       "  </tbody>\n",
       "</table>\n",
       "</div>"
      ],
      "text/plain": [
       "     s1_toc_whole  s1_toc_train  s1_toc_test  s1_ca_whole  s1_ca_train  \\\n",
       "max      0.715612      0.715612     0.663723    94.487199    94.487199   \n",
       "min      0.014449      0.014449     0.023633     0.009081     0.009081   \n",
       "N      382.000000    305.000000    77.000000   382.000000   305.000000   \n",
       "\n",
       "     s1_ca_test  s2_toc_whole  s2_toc_train  s2_toc_test  s2_ca_whole  \\\n",
       "max   87.822175        1.8085        1.8085       1.4635         7.77   \n",
       "min    0.090807        0.3130        0.3130       0.3425         0.00   \n",
       "N     77.000000      317.0000      253.0000      64.0000       286.00   \n",
       "\n",
       "     s2_ca_train  s2_ca_test  \n",
       "max         7.77     4.49982  \n",
       "min         0.00     0.00000  \n",
       "N         228.00    58.00000  "
      ]
     },
     "execution_count": 10,
     "metadata": {},
     "output_type": "execute_result"
    }
   ],
   "source": [
    "data_info = pd.concat(\n",
    "    [pd.DataFrame(s1_toc).T, pd.DataFrame(s1_ca).T, pd.DataFrame(s2_toc).T, pd.DataFrame(s2_ca).T],\n",
    "     join='outer', axis=1\n",
    ")\n",
    "data_info.columns = cols\n",
    "data_info"
   ]
  },
  {
   "cell_type": "code",
   "execution_count": 23,
   "metadata": {},
   "outputs": [],
   "source": [
    "data_info.to_csv('results/data_distribution_{}.csv'.format(date))"
   ]
  },
  {
   "cell_type": "code",
   "execution_count": 12,
   "metadata": {},
   "outputs": [
    {
     "data": {
      "image/png": "[encoded data removed]",
      "text/plain": [
       "<Figure size 504x360 with 2 Axes>"
      ]
     },
     "metadata": {
      "needs_background": "light"
     },
     "output_type": "display_data"
    }
   ],
   "source": [
    "fig, axes =  plt.subplots(1, 2, figsize=(7, 5), sharey='row')\n",
    "\n",
    "for ax, analyte in zip(axes, ['TOC%', 'CaCO3%']):\n",
    "    y = merge_df.loc[merge_df.core == 'SO264-15-2', analyte]\n",
    "    ax.hist(y)\n",
    "    ax.text(0.67, 0.85, \"Max.={:.1f}\\nMin.={:.2f}\\nN={}\".format(\n",
    "        np.max(y), np.min(y), len(y)), transform=ax.transAxes)\n",
    "\n",
    "\n",
    "axes[0].set_xlabel('TOC wt (%)')\n",
    "axes[1].set_xlabel('CaCO$_{3}$ wt (%)')\n",
    "axes[0].set_ylabel('Count')\n",
    "fig.subplots_adjust(wspace=.05, top=.92)\n",
    "fig.savefig('results/data_hist_pilot_{}.png'.format(date))"
   ]
  }
 ],
 "metadata": {
  "kernelspec": {
   "display_name": "Python 3",
   "language": "python",
   "name": "python3"
  },
  "language_info": {
   "codemirror_mode": {
    "name": "ipython",
    "version": 3
   },
   "file_extension": ".py",
   "mimetype": "text/x-python",
   "name": "python",
   "nbconvert_exporter": "python",
   "pygments_lexer": "ipython3",
   "version": "3.7.7"
  }
 },
 "nbformat": 4,
 "nbformat_minor": 4
}
