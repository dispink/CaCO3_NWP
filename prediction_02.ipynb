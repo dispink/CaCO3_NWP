{
 "cells": [
  {
   "cell_type": "markdown",
   "metadata": {},
   "source": [
    "Use the models improved after build_models_04.ipynb to predict the bulk measurements into Avaatech resolution (10 mm)."
   ]
  },
  {
   "cell_type": "code",
   "execution_count": 1,
   "metadata": {},
   "outputs": [],
   "source": [
    "import numpy as np \n",
    "import pandas as pd\n",
    "import dask.dataframe as dd\n",
    "import matplotlib.pyplot as plt\n",
    "import seaborn as sns\n",
    "\n",
    "plt.style.use('ggplot')\n",
    "#plt.style.use('seaborn-whitegrid')\n",
    "plt.style.use('seaborn-colorblind')\n",
    "plt.rcParams['figure.dpi'] = 300\n",
    "plt.rcParams['savefig.dpi'] = 300\n",
    "plt.rcParams['savefig.bbox'] = 'tight'\n",
    "\n",
    "import datetime\n",
    "date = datetime.datetime.now().strftime('%Y%m%d')\n",
    "\n",
    "%matplotlib inline"
   ]
  },
  {
   "cell_type": "markdown",
   "metadata": {},
   "source": [
    "# Read spe dataset and models"
   ]
  },
  {
   "cell_type": "code",
   "execution_count": 2,
   "metadata": {},
   "outputs": [],
   "source": [
    "spe_df = pd.read_csv('data/spe_dataset_20201008.csv', index_col = 0)\n",
    "X = spe_df.iloc[:, :2048].values\n",
    "X = X / X.sum(axis = 1, keepdims = True)"
   ]
  },
  {
   "cell_type": "code",
   "execution_count": 3,
   "metadata": {},
   "outputs": [
    {
     "data": {
      "text/plain": [
       "Index(['core', 'composite_depth_mm', 'section_depth_mm', 'filename',\n",
       "       'section'],\n",
       "      dtype='object')"
      ]
     },
     "execution_count": 3,
     "metadata": {},
     "output_type": "execute_result"
    }
   ],
   "source": [
    "spe_df.columns[-5:]"
   ]
  },
  {
   "cell_type": "code",
   "execution_count": 4,
   "metadata": {},
   "outputs": [],
   "source": [
    "from joblib import load\n",
    "m_caco3 = load('models/caco3_nmf+svr_model_20201013.joblib')\n",
    "m_toc = load('models/toc_nmf+svr_model_20201013.joblib')\n",
    "m_tc = load('models/tc_nmf+svr_model_20201013.joblib')"
   ]
  },
  {
   "cell_type": "markdown",
   "metadata": {},
   "source": [
    "# Predict"
   ]
  },
  {
   "cell_type": "code",
   "execution_count": 5,
   "metadata": {},
   "outputs": [],
   "source": [
    "y_caco3 = np.exp(m_caco3.predict(X))\n",
    "y_toc = np.exp(m_toc.predict(X))\n",
    "y_tc = np.exp(m_tc.predict(X))"
   ]
  },
  {
   "cell_type": "markdown",
   "metadata": {},
   "source": [
    "# Build dataset"
   ]
  },
  {
   "cell_type": "code",
   "execution_count": 6,
   "metadata": {},
   "outputs": [],
   "source": [
    "predict_df = spe_df.iloc[:, -5:].copy()\n",
    "predict_df['CaCO3 prediction (%)'] = y_caco3\n",
    "predict_df['TOC prediction (%)'] = y_toc\n",
    "predict_df['TC prediction (%)'] = y_tc"
   ]
  },
  {
   "cell_type": "markdown",
   "metadata": {},
   "source": [
    "# Check"
   ]
  },
  {
   "cell_type": "code",
   "execution_count": 11,
   "metadata": {
    "scrolled": true
   },
   "outputs": [
    {
     "name": "stdout",
     "output_type": "stream",
     "text": [
      "There are 0 prediction having values below 0.\n"
     ]
    }
   ],
   "source": [
    "mask = (predict_df['CaCO3 prediction (%)'] < 0) | (predict_df['TOC prediction (%)'] < 0) | (predict_df['TC prediction (%)'] < 0)\n",
    "\n",
    "print('There are {} prediction having values below 0.'.format(len(predict_df[mask])))"
   ]
  },
  {
   "cell_type": "code",
   "execution_count": 12,
   "metadata": {},
   "outputs": [
    {
     "name": "stdout",
     "output_type": "stream",
     "text": [
      "There are 43 (0.1 %) predictions having values over 100.\n"
     ]
    }
   ],
   "source": [
    "mask = (predict_df['CaCO3 prediction (%)'] > 100) | (predict_df['TOC prediction (%)'] > 100) | (predict_df['TC prediction (%)'] > 100)\n",
    "\n",
    "print('There are {} ({:.1f} %) predictions having values over 100.'.format(len(predict_df[mask]), len(predict_df[mask])/len(predict_df)*100))"
   ]
  },
  {
   "cell_type": "code",
   "execution_count": 16,
   "metadata": {},
   "outputs": [
    {
     "data": {
      "image/png": "[encoded data removed]",
      "text/plain": [
       "<Figure size 432x288 with 1 Axes>"
      ]
     },
     "metadata": {
      "needs_background": "light"
     },
     "output_type": "display_data"
    }
   ],
   "source": [
    "plt.hist(predict_df.loc[predict_df['CaCO3 prediction (%)'] > 100, 'CaCO3 prediction (%)'])\n",
    "plt.text(200, 5, '{} points have CaCO{} > 100'.format(len(predict_df[predict_df['CaCO3 prediction (%)'] > 100]), r'${_3}$'));\n",
    "plt.xlabel('concentration (%)');"
   ]
  },
  {
   "cell_type": "markdown",
   "metadata": {},
   "source": [
    "The amount of unrealistic predeictions drops significantly after applying nature logrithm to the ys. Overall, the R-squared values are also better. I would simply delet the unrealistic data since they aren't too many."
   ]
  },
  {
   "cell_type": "markdown",
   "metadata": {},
   "source": [
    "# Export datset"
   ]
  },
  {
   "cell_type": "code",
   "execution_count": 24,
   "metadata": {},
   "outputs": [
    {
     "name": "stdout",
     "output_type": "stream",
     "text": [
      "The remaining portion of the data: 99.9 %\n"
     ]
    }
   ],
   "source": [
    "mask = (predict_df['CaCO3 prediction (%)'] < 100) & (predict_df['TOC prediction (%)'] < 100) & (predict_df['TC prediction (%)'] < 100)\n",
    "print('The remaining portion of the data: {:.1f} %'.format(len(predict_df[mask])/len(predict_df)*100))\n",
    "predict_df.to_csv('results/prediction_{}.csv'.format(date))"
   ]
  }
 ],
 "metadata": {
  "kernelspec": {
   "display_name": "Python 3",
   "language": "python",
   "name": "python3"
  },
  "language_info": {
   "codemirror_mode": {
    "name": "ipython",
    "version": 3
   },
   "file_extension": ".py",
   "mimetype": "text/x-python",
   "name": "python",
   "nbconvert_exporter": "python",
   "pygments_lexer": "ipython3",
   "version": "3.7.7"
  }
 },
 "nbformat": 4,
 "nbformat_minor": 4
}
