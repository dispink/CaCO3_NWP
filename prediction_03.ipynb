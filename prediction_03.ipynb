{
 "cells": [
  {
   "cell_type": "markdown",
   "metadata": {},
   "source": [
    "Predict the CaCO3 and TOC using both new models and previous models (trained without new data) on the whole spetra."
   ]
  },
  {
   "cell_type": "code",
   "execution_count": 1,
   "metadata": {},
   "outputs": [],
   "source": [
    "import numpy as np \n",
    "import pandas as pd\n",
    "import matplotlib.pyplot as plt\n",
    "\n",
    "#plt.style.use('ggplot')\n",
    "plt.style.use('seaborn-colorblind')\n",
    "plt.style.use('dark_background')\n",
    "plt.rcParams['figure.dpi'] = 300\n",
    "plt.rcParams['savefig.dpi'] = 300\n",
    "plt.rcParams['savefig.bbox'] = 'tight'\n",
    "plt.rcParams['savefig.transparent'] = True\n",
    "\n",
    "%matplotlib inline\n",
    "\n",
    "import datetime\n",
    "date = datetime.datetime.now().strftime('%Y%m%d')"
   ]
  },
  {
   "cell_type": "markdown",
   "metadata": {},
   "source": [
    "# Read spe dataset and models"
   ]
  },
  {
   "cell_type": "code",
   "execution_count": 2,
   "metadata": {},
   "outputs": [
    {
     "data": {
      "text/html": [
       "<div>\n",
       "<style scoped>\n",
       "    .dataframe tbody tr th:only-of-type {\n",
       "        vertical-align: middle;\n",
       "    }\n",
       "\n",
       "    .dataframe tbody tr th {\n",
       "        vertical-align: top;\n",
       "    }\n",
       "\n",
       "    .dataframe thead th {\n",
       "        text-align: right;\n",
       "    }\n",
       "</style>\n",
       "<table border=\"1\" class=\"dataframe\">\n",
       "  <thead>\n",
       "    <tr style=\"text-align: right;\">\n",
       "      <th></th>\n",
       "      <th>0</th>\n",
       "      <th>1</th>\n",
       "      <th>2</th>\n",
       "      <th>3</th>\n",
       "      <th>4</th>\n",
       "      <th>5</th>\n",
       "      <th>6</th>\n",
       "      <th>7</th>\n",
       "      <th>8</th>\n",
       "      <th>9</th>\n",
       "      <th>...</th>\n",
       "      <th>2044</th>\n",
       "      <th>2045</th>\n",
       "      <th>2046</th>\n",
       "      <th>2047</th>\n",
       "      <th>cps</th>\n",
       "      <th>core</th>\n",
       "      <th>composite_depth_mm</th>\n",
       "      <th>section_depth_mm</th>\n",
       "      <th>filename</th>\n",
       "      <th>section</th>\n",
       "    </tr>\n",
       "    <tr>\n",
       "      <th>composite_id</th>\n",
       "      <th></th>\n",
       "      <th></th>\n",
       "      <th></th>\n",
       "      <th></th>\n",
       "      <th></th>\n",
       "      <th></th>\n",
       "      <th></th>\n",
       "      <th></th>\n",
       "      <th></th>\n",
       "      <th></th>\n",
       "      <th></th>\n",
       "      <th></th>\n",
       "      <th></th>\n",
       "      <th></th>\n",
       "      <th></th>\n",
       "      <th></th>\n",
       "      <th></th>\n",
       "      <th></th>\n",
       "      <th></th>\n",
       "      <th></th>\n",
       "      <th></th>\n",
       "    </tr>\n",
       "  </thead>\n",
       "  <tbody>\n",
       "    <tr>\n",
       "      <th>LV28-44-3_00010</th>\n",
       "      <td>0</td>\n",
       "      <td>0</td>\n",
       "      <td>0</td>\n",
       "      <td>0</td>\n",
       "      <td>0</td>\n",
       "      <td>0</td>\n",
       "      <td>0</td>\n",
       "      <td>0</td>\n",
       "      <td>0</td>\n",
       "      <td>0</td>\n",
       "      <td>...</td>\n",
       "      <td>0</td>\n",
       "      <td>0</td>\n",
       "      <td>0</td>\n",
       "      <td>0</td>\n",
       "      <td>0</td>\n",
       "      <td>LV28-44-3</td>\n",
       "      <td>10</td>\n",
       "      <td>10</td>\n",
       "      <td>LV28-44-3_0000   10.0mm  12s  10kV 1200uA F1.spe</td>\n",
       "      <td>0</td>\n",
       "    </tr>\n",
       "    <tr>\n",
       "      <th>LV28-44-3_00020</th>\n",
       "      <td>0</td>\n",
       "      <td>0</td>\n",
       "      <td>0</td>\n",
       "      <td>0</td>\n",
       "      <td>0</td>\n",
       "      <td>0</td>\n",
       "      <td>0</td>\n",
       "      <td>0</td>\n",
       "      <td>0</td>\n",
       "      <td>0</td>\n",
       "      <td>...</td>\n",
       "      <td>0</td>\n",
       "      <td>0</td>\n",
       "      <td>0</td>\n",
       "      <td>0</td>\n",
       "      <td>0</td>\n",
       "      <td>LV28-44-3</td>\n",
       "      <td>20</td>\n",
       "      <td>20</td>\n",
       "      <td>LV28-44-3_0000   20.0mm  12s  10kV 1200uA F1.spe</td>\n",
       "      <td>0</td>\n",
       "    </tr>\n",
       "    <tr>\n",
       "      <th>LV28-44-3_00030</th>\n",
       "      <td>0</td>\n",
       "      <td>0</td>\n",
       "      <td>0</td>\n",
       "      <td>0</td>\n",
       "      <td>0</td>\n",
       "      <td>0</td>\n",
       "      <td>0</td>\n",
       "      <td>0</td>\n",
       "      <td>0</td>\n",
       "      <td>0</td>\n",
       "      <td>...</td>\n",
       "      <td>0</td>\n",
       "      <td>0</td>\n",
       "      <td>0</td>\n",
       "      <td>0</td>\n",
       "      <td>0</td>\n",
       "      <td>LV28-44-3</td>\n",
       "      <td>30</td>\n",
       "      <td>30</td>\n",
       "      <td>LV28-44-3_0000   30.0mm  12s  10kV 1200uA F1.spe</td>\n",
       "      <td>0</td>\n",
       "    </tr>\n",
       "    <tr>\n",
       "      <th>LV28-44-3_00040</th>\n",
       "      <td>0</td>\n",
       "      <td>0</td>\n",
       "      <td>0</td>\n",
       "      <td>0</td>\n",
       "      <td>0</td>\n",
       "      <td>0</td>\n",
       "      <td>0</td>\n",
       "      <td>0</td>\n",
       "      <td>0</td>\n",
       "      <td>0</td>\n",
       "      <td>...</td>\n",
       "      <td>0</td>\n",
       "      <td>0</td>\n",
       "      <td>0</td>\n",
       "      <td>0</td>\n",
       "      <td>0</td>\n",
       "      <td>LV28-44-3</td>\n",
       "      <td>40</td>\n",
       "      <td>40</td>\n",
       "      <td>LV28-44-3_0000   40.0mm  12s  10kV 1200uA F1.spe</td>\n",
       "      <td>0</td>\n",
       "    </tr>\n",
       "    <tr>\n",
       "      <th>LV28-44-3_00050</th>\n",
       "      <td>0</td>\n",
       "      <td>0</td>\n",
       "      <td>0</td>\n",
       "      <td>0</td>\n",
       "      <td>0</td>\n",
       "      <td>0</td>\n",
       "      <td>0</td>\n",
       "      <td>0</td>\n",
       "      <td>0</td>\n",
       "      <td>0</td>\n",
       "      <td>...</td>\n",
       "      <td>0</td>\n",
       "      <td>0</td>\n",
       "      <td>0</td>\n",
       "      <td>0</td>\n",
       "      <td>0</td>\n",
       "      <td>LV28-44-3</td>\n",
       "      <td>50</td>\n",
       "      <td>50</td>\n",
       "      <td>LV28-44-3_0000   50.0mm  12s  10kV 1200uA F1.spe</td>\n",
       "      <td>0</td>\n",
       "    </tr>\n",
       "    <tr>\n",
       "      <th>...</th>\n",
       "      <td>...</td>\n",
       "      <td>...</td>\n",
       "      <td>...</td>\n",
       "      <td>...</td>\n",
       "      <td>...</td>\n",
       "      <td>...</td>\n",
       "      <td>...</td>\n",
       "      <td>...</td>\n",
       "      <td>...</td>\n",
       "      <td>...</td>\n",
       "      <td>...</td>\n",
       "      <td>...</td>\n",
       "      <td>...</td>\n",
       "      <td>...</td>\n",
       "      <td>...</td>\n",
       "      <td>...</td>\n",
       "      <td>...</td>\n",
       "      <td>...</td>\n",
       "      <td>...</td>\n",
       "      <td>...</td>\n",
       "      <td>...</td>\n",
       "    </tr>\n",
       "    <tr>\n",
       "      <th>SO264-76-1_04370</th>\n",
       "      <td>0</td>\n",
       "      <td>0</td>\n",
       "      <td>0</td>\n",
       "      <td>0</td>\n",
       "      <td>0</td>\n",
       "      <td>0</td>\n",
       "      <td>0</td>\n",
       "      <td>0</td>\n",
       "      <td>0</td>\n",
       "      <td>0</td>\n",
       "      <td>...</td>\n",
       "      <td>0</td>\n",
       "      <td>0</td>\n",
       "      <td>0</td>\n",
       "      <td>0</td>\n",
       "      <td>58656</td>\n",
       "      <td>SO264-76-1</td>\n",
       "      <td>4370</td>\n",
       "      <td>1120</td>\n",
       "      <td>SO264-76-1_0325 1120.0mm  10s  10kV 150uA No-F...</td>\n",
       "      <td>3</td>\n",
       "    </tr>\n",
       "    <tr>\n",
       "      <th>SO264-76-1_04380</th>\n",
       "      <td>0</td>\n",
       "      <td>0</td>\n",
       "      <td>0</td>\n",
       "      <td>0</td>\n",
       "      <td>0</td>\n",
       "      <td>0</td>\n",
       "      <td>0</td>\n",
       "      <td>0</td>\n",
       "      <td>0</td>\n",
       "      <td>0</td>\n",
       "      <td>...</td>\n",
       "      <td>0</td>\n",
       "      <td>0</td>\n",
       "      <td>0</td>\n",
       "      <td>0</td>\n",
       "      <td>54854</td>\n",
       "      <td>SO264-76-1</td>\n",
       "      <td>4380</td>\n",
       "      <td>1130</td>\n",
       "      <td>SO264-76-1_0325 1130.0mm  10s  10kV 150uA No-F...</td>\n",
       "      <td>3</td>\n",
       "    </tr>\n",
       "    <tr>\n",
       "      <th>SO264-76-1_04390</th>\n",
       "      <td>0</td>\n",
       "      <td>0</td>\n",
       "      <td>0</td>\n",
       "      <td>0</td>\n",
       "      <td>0</td>\n",
       "      <td>0</td>\n",
       "      <td>0</td>\n",
       "      <td>0</td>\n",
       "      <td>0</td>\n",
       "      <td>0</td>\n",
       "      <td>...</td>\n",
       "      <td>0</td>\n",
       "      <td>0</td>\n",
       "      <td>0</td>\n",
       "      <td>0</td>\n",
       "      <td>57354</td>\n",
       "      <td>SO264-76-1</td>\n",
       "      <td>4390</td>\n",
       "      <td>1140</td>\n",
       "      <td>SO264-76-1_0325 1140.0mm  10s  10kV 150uA No-F...</td>\n",
       "      <td>3</td>\n",
       "    </tr>\n",
       "    <tr>\n",
       "      <th>SO264-76-1_04400</th>\n",
       "      <td>0</td>\n",
       "      <td>0</td>\n",
       "      <td>0</td>\n",
       "      <td>0</td>\n",
       "      <td>0</td>\n",
       "      <td>0</td>\n",
       "      <td>0</td>\n",
       "      <td>0</td>\n",
       "      <td>0</td>\n",
       "      <td>0</td>\n",
       "      <td>...</td>\n",
       "      <td>0</td>\n",
       "      <td>0</td>\n",
       "      <td>0</td>\n",
       "      <td>0</td>\n",
       "      <td>55669</td>\n",
       "      <td>SO264-76-1</td>\n",
       "      <td>4400</td>\n",
       "      <td>1150</td>\n",
       "      <td>SO264-76-1_0325 1150.0mm  10s  10kV 150uA No-F...</td>\n",
       "      <td>3</td>\n",
       "    </tr>\n",
       "    <tr>\n",
       "      <th>SO264-76-1_04410</th>\n",
       "      <td>0</td>\n",
       "      <td>0</td>\n",
       "      <td>0</td>\n",
       "      <td>0</td>\n",
       "      <td>0</td>\n",
       "      <td>0</td>\n",
       "      <td>0</td>\n",
       "      <td>0</td>\n",
       "      <td>0</td>\n",
       "      <td>0</td>\n",
       "      <td>...</td>\n",
       "      <td>0</td>\n",
       "      <td>0</td>\n",
       "      <td>0</td>\n",
       "      <td>0</td>\n",
       "      <td>53914</td>\n",
       "      <td>SO264-76-1</td>\n",
       "      <td>4410</td>\n",
       "      <td>1160</td>\n",
       "      <td>SO264-76-1_0325 1160.0mm  10s  10kV 150uA No-F...</td>\n",
       "      <td>3</td>\n",
       "    </tr>\n",
       "  </tbody>\n",
       "</table>\n",
       "<p>37823 rows × 2054 columns</p>\n",
       "</div>"
      ],
      "text/plain": [
       "                  0  1  2  3  4  5  6  7  8  9  ...  2044  2045  2046  2047  \\\n",
       "composite_id                                    ...                           \n",
       "LV28-44-3_00010   0  0  0  0  0  0  0  0  0  0  ...     0     0     0     0   \n",
       "LV28-44-3_00020   0  0  0  0  0  0  0  0  0  0  ...     0     0     0     0   \n",
       "LV28-44-3_00030   0  0  0  0  0  0  0  0  0  0  ...     0     0     0     0   \n",
       "LV28-44-3_00040   0  0  0  0  0  0  0  0  0  0  ...     0     0     0     0   \n",
       "LV28-44-3_00050   0  0  0  0  0  0  0  0  0  0  ...     0     0     0     0   \n",
       "...              .. .. .. .. .. .. .. .. .. ..  ...   ...   ...   ...   ...   \n",
       "SO264-76-1_04370  0  0  0  0  0  0  0  0  0  0  ...     0     0     0     0   \n",
       "SO264-76-1_04380  0  0  0  0  0  0  0  0  0  0  ...     0     0     0     0   \n",
       "SO264-76-1_04390  0  0  0  0  0  0  0  0  0  0  ...     0     0     0     0   \n",
       "SO264-76-1_04400  0  0  0  0  0  0  0  0  0  0  ...     0     0     0     0   \n",
       "SO264-76-1_04410  0  0  0  0  0  0  0  0  0  0  ...     0     0     0     0   \n",
       "\n",
       "                    cps        core  composite_depth_mm  section_depth_mm  \\\n",
       "composite_id                                                                \n",
       "LV28-44-3_00010       0   LV28-44-3                  10                10   \n",
       "LV28-44-3_00020       0   LV28-44-3                  20                20   \n",
       "LV28-44-3_00030       0   LV28-44-3                  30                30   \n",
       "LV28-44-3_00040       0   LV28-44-3                  40                40   \n",
       "LV28-44-3_00050       0   LV28-44-3                  50                50   \n",
       "...                 ...         ...                 ...               ...   \n",
       "SO264-76-1_04370  58656  SO264-76-1                4370              1120   \n",
       "SO264-76-1_04380  54854  SO264-76-1                4380              1130   \n",
       "SO264-76-1_04390  57354  SO264-76-1                4390              1140   \n",
       "SO264-76-1_04400  55669  SO264-76-1                4400              1150   \n",
       "SO264-76-1_04410  53914  SO264-76-1                4410              1160   \n",
       "\n",
       "                                                           filename  section  \n",
       "composite_id                                                                  \n",
       "LV28-44-3_00010    LV28-44-3_0000   10.0mm  12s  10kV 1200uA F1.spe        0  \n",
       "LV28-44-3_00020    LV28-44-3_0000   20.0mm  12s  10kV 1200uA F1.spe        0  \n",
       "LV28-44-3_00030    LV28-44-3_0000   30.0mm  12s  10kV 1200uA F1.spe        0  \n",
       "LV28-44-3_00040    LV28-44-3_0000   40.0mm  12s  10kV 1200uA F1.spe        0  \n",
       "LV28-44-3_00050    LV28-44-3_0000   50.0mm  12s  10kV 1200uA F1.spe        0  \n",
       "...                                                             ...      ...  \n",
       "SO264-76-1_04370  SO264-76-1_0325 1120.0mm  10s  10kV 150uA No-F...        3  \n",
       "SO264-76-1_04380  SO264-76-1_0325 1130.0mm  10s  10kV 150uA No-F...        3  \n",
       "SO264-76-1_04390  SO264-76-1_0325 1140.0mm  10s  10kV 150uA No-F...        3  \n",
       "SO264-76-1_04400  SO264-76-1_0325 1150.0mm  10s  10kV 150uA No-F...        3  \n",
       "SO264-76-1_04410  SO264-76-1_0325 1160.0mm  10s  10kV 150uA No-F...        3  \n",
       "\n",
       "[37823 rows x 2054 columns]"
      ]
     },
     "execution_count": 2,
     "metadata": {},
     "output_type": "execute_result"
    }
   ],
   "source": [
    "spe_df = pd.concat([pd.read_csv('data/spe_dataset_20201215.csv', index_col=0),\n",
    "                      pd.read_csv('data/spe_dataset_20201008.csv', index_col=0)],\n",
    "                     axis=0, join='inner')\n",
    "spe_df"
   ]
  },
  {
   "cell_type": "code",
   "execution_count": 3,
   "metadata": {},
   "outputs": [],
   "source": [
    "X = spe_df.iloc[:, :2048].values\n",
    "X = X / X.sum(axis = 1, keepdims = True)"
   ]
  },
  {
   "cell_type": "code",
   "execution_count": 4,
   "metadata": {},
   "outputs": [
    {
     "data": {
      "text/plain": [
       "Index(['core', 'composite_depth_mm', 'section_depth_mm', 'filename',\n",
       "       'section'],\n",
       "      dtype='object')"
      ]
     },
     "execution_count": 4,
     "metadata": {},
     "output_type": "execute_result"
    }
   ],
   "source": [
    "spe_df.columns[-5:]"
   ]
  },
  {
   "cell_type": "code",
   "execution_count": 5,
   "metadata": {},
   "outputs": [],
   "source": [
    "from joblib import load\n",
    "m_caco3 = load('models/caco3_nmf+svr_model_20201216.joblib')\n",
    "m_toc_rf = load('models/toc_nmf+rf_model_20201216.joblib')\n",
    "m_toc_svr = load('models/toc_nmf+svr_model_20201215.joblib')"
   ]
  },
  {
   "cell_type": "markdown",
   "metadata": {},
   "source": [
    "# Predict"
   ]
  },
  {
   "cell_type": "code",
   "execution_count": 7,
   "metadata": {},
   "outputs": [],
   "source": [
    "y_caco3 = np.exp(m_caco3.predict(X))\n",
    "y_toc_rf = np.exp(m_toc_rf.predict(X))\n",
    "y_toc_svr = np.exp(m_toc_svr.predict(X))"
   ]
  },
  {
   "cell_type": "markdown",
   "metadata": {},
   "source": [
    "# Build dataset"
   ]
  },
  {
   "cell_type": "code",
   "execution_count": 8,
   "metadata": {},
   "outputs": [],
   "source": [
    "predict_df = spe_df.iloc[:, -5:].copy()\n",
    "predict_df['CaCO3 prediction (%)'] = y_caco3\n",
    "predict_df['TOC-rf prediction (%)'] = y_toc_rf\n",
    "predict_df['TOC-svr prediction (%)'] = y_toc_svr"
   ]
  },
  {
   "cell_type": "markdown",
   "metadata": {},
   "source": [
    "# Check"
   ]
  },
  {
   "cell_type": "code",
   "execution_count": 12,
   "metadata": {},
   "outputs": [
    {
     "name": "stdout",
     "output_type": "stream",
     "text": [
      "There are 16 (0.04 %) predictions having values over 100.\n"
     ]
    }
   ],
   "source": [
    "mask = (predict_df['CaCO3 prediction (%)'] > 100) | (predict_df['TOC-rf prediction (%)'] > 100) | (predict_df['TOC-svr prediction (%)'] > 100)\n",
    "\n",
    "print('There are {} ({:.2f} %) predictions having values over 100.'.format(len(predict_df[mask]), len(predict_df[mask])/len(predict_df)*100))"
   ]
  },
  {
   "cell_type": "code",
   "execution_count": 11,
   "metadata": {},
   "outputs": [
    {
     "data": {
      "image/png": "[encoded data removed]",
      "text/plain": [
       "<Figure size 432x288 with 1 Axes>"
      ]
     },
     "metadata": {
      "needs_background": "dark"
     },
     "output_type": "display_data"
    }
   ],
   "source": [
    "plt.hist(predict_df.loc[predict_df['CaCO3 prediction (%)'] > 100, 'CaCO3 prediction (%)'])\n",
    "plt.text(200, 5, '{} points have CaCO{} > 100'.format(len(predict_df[predict_df['CaCO3 prediction (%)'] > 100]), r'${_3}$'));\n",
    "plt.xlabel('concentration (%)');"
   ]
  },
  {
   "cell_type": "code",
   "execution_count": 13,
   "metadata": {},
   "outputs": [],
   "source": [
    "predict_df.to_csv('results/predict_{}.csv'.format(date))"
   ]
  },
  {
   "cell_type": "markdown",
   "metadata": {},
   "source": [
    "# Ues previous models to predict new cores\n",
    "Just test the performance of the models trained without new data on new data. It's not good as expected because of extrapolation."
   ]
  },
  {
   "cell_type": "code",
   "execution_count": 9,
   "metadata": {},
   "outputs": [],
   "source": [
    "merge_df = pd.read_csv('data/spe+bulk_dataset_20201215.csv', index_col=0)\n",
    "# All data points contain TOC\n",
    "X = merge_df.iloc[:, : -5].values\n",
    "X = X / X.sum(axis = 1, keepdims = True)\n",
    "y = merge_df['TOC%'].values"
   ]
  },
  {
   "cell_type": "code",
   "execution_count": 3,
   "metadata": {},
   "outputs": [
    {
     "data": {
      "text/plain": [
       "Index(['core', 'composite_depth_mm', 'section_depth_mm', 'filename',\n",
       "       'section'],\n",
       "      dtype='object')"
      ]
     },
     "execution_count": 3,
     "metadata": {},
     "output_type": "execute_result"
    }
   ],
   "source": [
    "spe_df.columns[-5:]"
   ]
  },
  {
   "cell_type": "code",
   "execution_count": 3,
   "metadata": {},
   "outputs": [],
   "source": [
    "from joblib import load\n",
    "m_caco3 = load('models/caco3_nmf+svr_model_20201013.joblib')\n",
    "m_toc = load('models/toc_nmf+svr_model_20201013.joblib')\n",
    "m_tc = load('models/tc_nmf+svr_model_20201013.joblib')"
   ]
  },
  {
   "cell_type": "code",
   "execution_count": 4,
   "metadata": {},
   "outputs": [],
   "source": [
    "y_toc = np.exp(m_toc.predict(X))\n",
    "y_tc = np.exp(m_tc.predict(X))"
   ]
  },
  {
   "cell_type": "code",
   "execution_count": 5,
   "metadata": {},
   "outputs": [
    {
     "name": "stdout",
     "output_type": "stream",
     "text": [
      "Scores in the test set:\n",
      "R2 = 0.194 .\n",
      "The mean absolute error is 0.212 (%, concetration).\n",
      "The max. residual error is 1.199 (%, concetration).\n"
     ]
    }
   ],
   "source": [
    "from sklearn.metrics import r2_score\n",
    "from sklearn.metrics import mean_absolute_error\n",
    "from sklearn.metrics import max_error\n",
    "\n",
    "print('Scores in the test set:')\n",
    "print('R2 = {:.3f} .'.format(r2_score(y, y_toc)))\n",
    "print('The mean absolute error is {:.3f} (%, concetration).'.format(mean_absolute_error(y, y_toc)))\n",
    "print('The max. residual error is {:.3f} (%, concetration).'.format(max_error(y, y_toc)))"
   ]
  },
  {
   "cell_type": "code",
   "execution_count": 6,
   "metadata": {},
   "outputs": [
    {
     "data": {
      "image/png": "[encoded data removed]",
      "text/plain": [
       "<Figure size 540x288 with 1 Axes>"
      ]
     },
     "metadata": {
      "needs_background": "dark"
     },
     "output_type": "display_data"
    }
   ],
   "source": [
    "plt.figure(figsize=(7.5, 4))\n",
    "plt.plot(range(len(y)), y, alpha=0.6, label='Measurement')\n",
    "plt.plot(range(len(y_toc)), y_toc, label='Prediction (R$^2$={:.2f})'.format(r2_score(y, y_toc)))\n",
    "plt.ylabel('TOC concentration (%)')\n",
    "plt.xlabel('Sample no.')\n",
    "plt.legend(loc = 'upper right')\n",
    "plt.savefig('results/toc_check_nmr+svr_{}.png'.format(date))"
   ]
  },
  {
   "cell_type": "code",
   "execution_count": 12,
   "metadata": {},
   "outputs": [],
   "source": [
    "merge_df = pd.read_csv('data/spe+bulk_dataset_20201215.csv', index_col=0)\n",
    "merge_df = merge_df[merge_df.core != 'SO178-12-3']\n",
    "X = merge_df.iloc[:, : -5].values\n",
    "X = X / X.sum(axis = 1, keepdims = True)\n",
    "y = merge_df['CaCO3%'].replace(0, 0.01).values\n",
    "y_caco3 = np.exp(m_caco3.predict(X))"
   ]
  },
  {
   "cell_type": "code",
   "execution_count": 13,
   "metadata": {},
   "outputs": [
    {
     "name": "stdout",
     "output_type": "stream",
     "text": [
      "Scores in the test set:\n",
      "R2 = 0.911 .\n",
      "The mean absolute error is 4.839 (%, concetration).\n",
      "The max. residual error is 50.121 (%, concetration).\n"
     ]
    }
   ],
   "source": [
    "from sklearn.metrics import r2_score\n",
    "from sklearn.metrics import mean_absolute_error\n",
    "from sklearn.metrics import max_error\n",
    "\n",
    "print('Scores in the test set:')\n",
    "print('R2 = {:.3f} .'.format(r2_score(y, y_caco3)))\n",
    "print('The mean absolute error is {:.3f} (%, concetration).'.format(mean_absolute_error(y, y_caco3)))\n",
    "print('The max. residual error is {:.3f} (%, concetration).'.format(max_error(y, y_caco3)))"
   ]
  },
  {
   "cell_type": "code",
   "execution_count": 14,
   "metadata": {},
   "outputs": [
    {
     "data": {
      "image/png": "[encoded data removed]",
      "text/plain": [
       "<Figure size 540x288 with 1 Axes>"
      ]
     },
     "metadata": {
      "needs_background": "dark"
     },
     "output_type": "display_data"
    }
   ],
   "source": [
    "plt.figure(figsize=(7.5, 4))\n",
    "plt.plot(range(len(y)), y, alpha=0.6, label='Measurement')\n",
    "plt.plot(range(len(y_caco3)), y_caco3, label='Prediction (R$^2$={:.2f})'.format(r2_score(y, y_caco3)))\n",
    "plt.ylabel('CaCO3 concentration (%)')\n",
    "plt.xlabel('Sample no.')\n",
    "plt.legend(loc = 'upper right')\n",
    "plt.savefig('results/caco3_check_nmr+svr_{}.png'.format(date))"
   ]
  }
 ],
 "metadata": {
  "kernelspec": {
   "display_name": "Python 3",
   "language": "python",
   "name": "python3"
  },
  "language_info": {
   "codemirror_mode": {
    "name": "ipython",
    "version": 3
   },
   "file_extension": ".py",
   "mimetype": "text/x-python",
   "name": "python",
   "nbconvert_exporter": "python",
   "pygments_lexer": "ipython3",
   "version": "3.7.7"
  }
 },
 "nbformat": 4,
 "nbformat_minor": 4
}
